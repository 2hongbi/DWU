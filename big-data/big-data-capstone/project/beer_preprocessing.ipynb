{
 "nbformat": 4,
 "nbformat_minor": 0,
 "metadata": {
  "colab": {
   "provenance": []
  },
  "kernelspec": {
   "name": "python3",
   "display_name": "Python 3"
  },
  "language_info": {
   "name": "python"
  }
 },
 "cells": [
  {
   "cell_type": "markdown",
   "source": [
    "## 데이터 병합"
   ],
   "metadata": {
    "id": "WpZpQTnN4oAH"
   }
  },
  {
   "cell_type": "code",
   "execution_count": 17,
   "metadata": {
    "id": "0gMpB9YH4lA6",
    "executionInfo": {
     "status": "ok",
     "timestamp": 1665538389045,
     "user_tz": -540,
     "elapsed": 3,
     "user": {
      "displayName": "So Yeon Lee",
      "userId": "01771365654963141477"
     }
    }
   },
   "outputs": [],
   "source": [
    "import pandas as pd"
   ]
  },
  {
   "cell_type": "code",
   "source": [
    "# from google.colab import drive\n",
    "\n",
    "# drive.mount('/content/drive/')"
   ],
   "metadata": {
    "colab": {
     "base_uri": "https://localhost:8080/"
    },
    "id": "mqGDOalw4ula",
    "executionInfo": {
     "status": "ok",
     "timestamp": 1665538430296,
     "user_tz": -540,
     "elapsed": 20720,
     "user": {
      "displayName": "So Yeon Lee",
      "userId": "01771365654963141477"
     }
    },
    "outputId": "96160957-6c5f-43d2-d22f-bbc44b576dd8"
   },
   "execution_count": 18,
   "outputs": []
  },
  {
   "cell_type": "code",
   "source": [
    "data = pd.DataFrame(data=[], columns=['맥주정보',\t'검색이름',\t'맥주이름',\t'맥주회사',\t'맥주원산지',\t'맥주종류',\t'맥주도수',\t'맥주IBU',\t'맥주평점',\t'맥주설명',\t'맥주칼로리'])"
   ],
   "metadata": {
    "id": "3T53yKtR0bAO",
    "executionInfo": {
     "status": "ok",
     "timestamp": 1665538430297,
     "user_tz": -540,
     "elapsed": 9,
     "user": {
      "displayName": "So Yeon Lee",
      "userId": "01771365654963141477"
     }
    }
   },
   "execution_count": 19,
   "outputs": []
  },
  {
   "cell_type": "code",
   "source": [
    "import os\n",
    "\n",
    "# data_dir = '/content/drive/MyDrive/data'\n",
    "data_dir = './data'\n",
    "file_ex = r'.csv'\n",
    "beer_csv_list = [file for file in os.listdir(data_dir) if file.endswith(file_ex)]\n",
    "beer_csv_list"
   ],
   "metadata": {
    "colab": {
     "base_uri": "https://localhost:8080/"
    },
    "id": "jCDOgyHz2abO",
    "executionInfo": {
     "status": "ok",
     "timestamp": 1665539014717,
     "user_tz": -540,
     "elapsed": 5,
     "user": {
      "displayName": "So Yeon Lee",
      "userId": "01771365654963141477"
     }
    },
    "outputId": "0e26f122-f277-4313-cb6a-6f789e7375b9"
   },
   "execution_count": 20,
   "outputs": [
    {
     "data": {
      "text/plain": "['beer_n_Weissbier Naturtrub.csv',\n 'beer_n_Jeju Seongsan Ilchulbong Ale.csv',\n 'beer_n_Cass Fresh.csv',\n 'beer_n_Blue Moon Belgian White.csv',\n 'beer_n_Egger Märzenbier.csv',\n 'beer_n_Magners Juicy Apple.csv',\n 'beer_n_Heretic Evil Twin.csv',\n \"beer_n_Suntory The Premium Malt's.csv\",\n 'beer_n_Tiger Radler Lemon.csv',\n 'beer_n_Tsingtao Wheat Beer.csv',\n 'beer_n_Lapin Kulta IV A.csv',\n 'beer_n_Kloud Fitz Super Clear.csv',\n 'beer_n_Stephans Bräu Premium Lager.csv',\n 'beer_n_Kronenbourg 1664 Blanc.csv',\n 'beer_n_Jeju Baengnokdam Ale.csv',\n 'beer_n_Terra.csv',\n 'beer_n_Carlsberg Pilsner.csv',\n 'beer_n_Desperados Lime.csv',\n 'beer_n_Amazing First Love.csv',\n 'beer_n_Sapporo Yebisu.csv',\n 'beer_n_Reeper B. Blondes Weissbier.csv',\n 'beer_n_Asahi Super Dry.csv',\n 'beer_n_Desperados Mojito.csv',\n 'beer_n_Erdinger Weissbier.csv',\n 'beer_n_Peroni Nastro Azzurro.csv',\n 'beer_n_Kozel Černý (Dark) 10°.csv',\n 'beer_n_Grimbergen Cuvée Blanche.csv',\n 'beer_n_ARK Seoulite Ale.csv',\n 'beer_n_Hoegaarden Cherry.csv',\n 'beer_n_Guinness Original.csv',\n 'beer_n_Platinum White Ale.csv',\n 'beer_n_Jeju Wit Ale.csv',\n 'beer_n_Krombacher Weizen.csv',\n 'beer_n_Grolsch Premium Lager.csv',\n 'beer_n_Somersby Pear Cider.csv',\n 'beer_n_Hite Extra Cold.csv',\n 'beer_n_Erdinger Weissbier Dunkel.csv',\n 'beer_n_Miller Genuine Draft (MGD).csv',\n 'beer_n_Kabrew Hoptandu IPA.csv',\n 'beer_n_Desperados.csv',\n 'beer_n_Kabrew Kumiho Relax Beer.csv',\n 'beer_n_Paulaner Hefe-Weissbier.csv',\n 'beer_n_Kona Big Wave Golden Ale.csv',\n 'beer_n_Squeeze Malpyo Green Grape Ale.csv',\n 'beer_n_North Coast Old Rasputin Russian Imperial Stout.csv',\n 'beer_n_ARK Brown.csv',\n 'beer_n_Pilsner Urquell.csv',\n 'beer_n_Amazing Shocking Stout.csv',\n 'beer_n_Castlemaine XXXX Gold Lager.csv',\n 'beer_n_ARK Cony.csv',\n 'beer_n_Kabrew Kumiho Peach Ale.csv',\n 'beer_n_Somersby Apple Cider.csv',\n 'beer_n_Kabrew Namsan Mountain Premium Citra Ale.csv',\n 'beer_n_ARK Yeosu Night Ale.csv',\n 'beer_n_Apple Fox.csv',\n 'beer_n_Harbin Beer.csv',\n 'beer_n_Hoegaarden Rosée.csv',\n 'beer_n_Stephans Bräu Hefe-Weizen Naturtrüb.csv',\n 'beer_n_Volfas Engelman Grünberger Hefeweizen.csv',\n 'beer_n_Hollandia.csv',\n 'beer_n_Préaris Citra Sauvignon Session Ale.csv',\n 'beer_n_Stella Artois.csv',\n 'beer_n_Schneider Weisse Tap 05 - Hopfenweisse Weizendoppelbock.csv',\n 'beer_n_ARK Black Swan.csv',\n 'beer_n_Asahi Super Dry Black.csv',\n 'beer_n_Kloud Original Gravity.csv',\n 'beer_n_Edelweiss Cherry & Lavender.csv',\n 'beer_n_Guinness Draught.csv',\n 'beer_n_Kabrew Kumiho India Pale Ale.csv',\n 'beer_n_Holsten Premium Bier.csv',\n 'beer_n_Goose Island Goose IPA.csv',\n 'beer_n_Budweiser.csv',\n 'beer_n_Heineken.csv',\n 'beer_n_Squeeze Malpyo Dark Beer.csv',\n 'beer_n_Jeju Barrel Series-Imperial Stout Edition - Highland Park.csv',\n 'beer_n_ARK Cosmic Dancer.csv',\n 'beer_n_Warsteiner Premium Verum.csv',\n 'beer_n_Stephans Bräu Premium Pilsener.csv',\n 'beer_n_Cass Lemon.csv',\n 'beer_n_Tsingtao.csv',\n 'beer_n_Platinum Pale Ale.csv',\n 'beer_n_Heineken Dark Lager.csv',\n 'beer_n_OB Golden Lager.csv',\n 'beer_n_The Hand and Malt Slow IPA.csv',\n 'beer_n_Edelweiss Weissbier Snowfresh.csv',\n 'beer_n_Lagunitas India Pale Ale (IPA).csv',\n 'beer_n_San Miguel.csv',\n 'beer_n_Desperados Red.csv',\n 'beer_n_7Bräu Gompyo Wheatbeer.csv',\n 'beer_n_Hite Prime Max.csv',\n 'beer_n_HiteJinro Filite Fresh Cool & Clear.csv',\n \"beer_n_Queen's Ale Blonde Type.csv\",\n 'beer_n_Red Rock.csv',\n 'beer_n_7Bräu Korea Pale Ale.csv',\n 'beer_n_Goose Island 312 Urban Wheat Ale.csv',\n 'beer_n_Löwenbräu Original (4.2%).csv',\n 'beer_n_Kirin Ichiban.csv',\n 'beer_n_OB Premier Pilsner.csv',\n 'beer_n_Jeju Pellong Ale.csv',\n 'beer_n_Ballast Point Sculpin IPA.csv',\n 'beer_n_Tiger Beer.csv',\n 'beer_n_ARK Hug Me.csv',\n 'beer_n_Hoegaarden.csv',\n 'beer_n_Victoria Bitter.csv',\n 'beer_n_Hop House 13 Lager.csv',\n 'beer_n_Blue Girl (5.0%).csv',\n 'beer_n_ARK Classic.csv',\n 'beer_n_Bright Leaf Peeper Red IPA.csv',\n 'beer_n_Kabrew Golden Ale.csv',\n 'beer_n_FiLite.csv',\n 'beer_n_Berliner Kindl Jubiläums Pilsener Premium.csv',\n 'beer_n_ARK Be High IPA.csv',\n 'beer_n_Cass Light.csv',\n 'beer_n_Samuel Adams Irish Red Ale.csv',\n 'beer_n_Kabrew Gyeongbokgung Royal Pride IPA.csv',\n \"beer_n_Beck's.csv\",\n 'beer_n_Bintang Pilsener.csv',\n 'beer_n_Gambrinus Originál 10° (Desítka).csv']"
     },
     "execution_count": 20,
     "metadata": {},
     "output_type": "execute_result"
    }
   ]
  },
  {
   "cell_type": "code",
   "source": [
    "# tmp = pd.read_csv('/content/drive/MyDrive/data/' + beer_csv_list[0], index_col=0)\n",
    "tmp = pd.read_csv('./data/' + beer_csv_list[0], index_col=0)\n",
    "tmp"
   ],
   "metadata": {
    "colab": {
     "base_uri": "https://localhost:8080/",
     "height": 659
    },
    "id": "VzKl8ny63ps-",
    "executionInfo": {
     "status": "ok",
     "timestamp": 1665539225095,
     "user_tz": -540,
     "elapsed": 544,
     "user": {
      "displayName": "So Yeon Lee",
      "userId": "01771365654963141477"
     }
    },
    "outputId": "e9fecd17-1875-478a-e908-6713835239d2"
   },
   "execution_count": 21,
   "outputs": [
    {
     "data": {
      "text/plain": "                                                  맥주정보                 검색이름  \\\n0    Misek93(36)\\nBelgrade\\n3.0October 15, 2022\\nPo...  weissbier naturtrub   \n1    reidyboy(1,002)\\n🇬🇧Shrewsbury, England\\n3.6Oct...  weissbier naturtrub   \n2    micia600(303)\\n🇵🇱Warsaw, Poland\\n3.8September ...  weissbier naturtrub   \n3    DraftLove69(1)\\n🇬🇷Greece\\n4.1September 4, 2022...  weissbier naturtrub   \n4    Derbeth(2,051)\\n🇵🇱Kraków, Poland\\n3.4September...  weissbier naturtrub   \n..                                                 ...                  ...   \n580  meggark(9)\\n3.8June 3, 2016\\nPours dark orange...  weissbier naturtrub   \n581  Fafnoscie(486)\\n🇵🇱Poland\\n4.4June 1, 2016\\nPiw...  weissbier naturtrub   \n582  Jury(288)\\n🇷🇺Russia\\n3.7May 31, 2016\\nХорошее ...  weissbier naturtrub   \n583  jflopsu(1,862)\\n🇺🇸Somerset, United States\\n3.8...  weissbier naturtrub   \n584  UFleku(55)\\n🇰🇷South Korea\\n4.3May 28, 2016\\nAr...  weissbier naturtrub   \n\n                                                  맥주이름  \\\n0    Franziskaner Hefe-Weissbier / Weissbier Naturtrub   \n1    Franziskaner Hefe-Weissbier / Weissbier Naturtrub   \n2    Franziskaner Hefe-Weissbier / Weissbier Naturtrub   \n3    Franziskaner Hefe-Weissbier / Weissbier Naturtrub   \n4    Franziskaner Hefe-Weissbier / Weissbier Naturtrub   \n..                                                 ...   \n580  Franziskaner Hefe-Weissbier / Weissbier Naturtrub   \n581  Franziskaner Hefe-Weissbier / Weissbier Naturtrub   \n582  Franziskaner Hefe-Weissbier / Weissbier Naturtrub   \n583  Franziskaner Hefe-Weissbier / Weissbier Naturtrub   \n584  Franziskaner Hefe-Weissbier / Weissbier Naturtrub   \n\n                         맥주회사                         맥주원산지  \\\n0    Spaten-Franziskaner-Bräu  🇩🇪 München, Bavaria, Germany   \n1    Spaten-Franziskaner-Bräu  🇩🇪 München, Bavaria, Germany   \n2    Spaten-Franziskaner-Bräu  🇩🇪 München, Bavaria, Germany   \n3    Spaten-Franziskaner-Bräu  🇩🇪 München, Bavaria, Germany   \n4    Spaten-Franziskaner-Bräu  🇩🇪 München, Bavaria, Germany   \n..                        ...                           ...   \n580  Spaten-Franziskaner-Bräu  🇩🇪 München, Bavaria, Germany   \n581  Spaten-Franziskaner-Bräu  🇩🇪 München, Bavaria, Germany   \n582  Spaten-Franziskaner-Bräu  🇩🇪 München, Bavaria, Germany   \n583  Spaten-Franziskaner-Bräu  🇩🇪 München, Bavaria, Germany   \n584  Spaten-Franziskaner-Bräu  🇩🇪 München, Bavaria, Germany   \n\n                       맥주종류  맥주도수  맥주IBU  맥주평점                 맥주설명  \\\n0    Weissbier - Hefeweizen  5.0%    NaN  3.73  Bottle: Unfiltered…   \n1    Weissbier - Hefeweizen  5.0%    NaN  3.73  Bottle: Unfiltered…   \n2    Weissbier - Hefeweizen  5.0%    NaN  3.73  Bottle: Unfiltered…   \n3    Weissbier - Hefeweizen  5.0%    NaN  3.73  Bottle: Unfiltered…   \n4    Weissbier - Hefeweizen  5.0%    NaN  3.73  Bottle: Unfiltered…   \n..                      ...   ...    ...   ...                  ...   \n580  Weissbier - Hefeweizen  5.0%    NaN  3.73  Bottle: Unfiltered…   \n581  Weissbier - Hefeweizen  5.0%    NaN  3.73  Bottle: Unfiltered…   \n582  Weissbier - Hefeweizen  5.0%    NaN  3.73  Bottle: Unfiltered…   \n583  Weissbier - Hefeweizen  5.0%    NaN  3.73  Bottle: Unfiltered…   \n584  Weissbier - Hefeweizen  5.0%    NaN  3.73  Bottle: Unfiltered…   \n\n                 맥주칼로리  \n0    150 cal per 355ml  \n1    150 cal per 355ml  \n2    150 cal per 355ml  \n3    150 cal per 355ml  \n4    150 cal per 355ml  \n..                 ...  \n580  150 cal per 355ml  \n581  150 cal per 355ml  \n582  150 cal per 355ml  \n583  150 cal per 355ml  \n584  150 cal per 355ml  \n\n[585 rows x 11 columns]",
      "text/html": "<div>\n<style scoped>\n    .dataframe tbody tr th:only-of-type {\n        vertical-align: middle;\n    }\n\n    .dataframe tbody tr th {\n        vertical-align: top;\n    }\n\n    .dataframe thead th {\n        text-align: right;\n    }\n</style>\n<table border=\"1\" class=\"dataframe\">\n  <thead>\n    <tr style=\"text-align: right;\">\n      <th></th>\n      <th>맥주정보</th>\n      <th>검색이름</th>\n      <th>맥주이름</th>\n      <th>맥주회사</th>\n      <th>맥주원산지</th>\n      <th>맥주종류</th>\n      <th>맥주도수</th>\n      <th>맥주IBU</th>\n      <th>맥주평점</th>\n      <th>맥주설명</th>\n      <th>맥주칼로리</th>\n    </tr>\n  </thead>\n  <tbody>\n    <tr>\n      <th>0</th>\n      <td>Misek93(36)\\nBelgrade\\n3.0October 15, 2022\\nPo...</td>\n      <td>weissbier naturtrub</td>\n      <td>Franziskaner Hefe-Weissbier / Weissbier Naturtrub</td>\n      <td>Spaten-Franziskaner-Bräu</td>\n      <td>🇩🇪 München, Bavaria, Germany</td>\n      <td>Weissbier - Hefeweizen</td>\n      <td>5.0%</td>\n      <td>NaN</td>\n      <td>3.73</td>\n      <td>Bottle: Unfiltered…</td>\n      <td>150 cal per 355ml</td>\n    </tr>\n    <tr>\n      <th>1</th>\n      <td>reidyboy(1,002)\\n🇬🇧Shrewsbury, England\\n3.6Oct...</td>\n      <td>weissbier naturtrub</td>\n      <td>Franziskaner Hefe-Weissbier / Weissbier Naturtrub</td>\n      <td>Spaten-Franziskaner-Bräu</td>\n      <td>🇩🇪 München, Bavaria, Germany</td>\n      <td>Weissbier - Hefeweizen</td>\n      <td>5.0%</td>\n      <td>NaN</td>\n      <td>3.73</td>\n      <td>Bottle: Unfiltered…</td>\n      <td>150 cal per 355ml</td>\n    </tr>\n    <tr>\n      <th>2</th>\n      <td>micia600(303)\\n🇵🇱Warsaw, Poland\\n3.8September ...</td>\n      <td>weissbier naturtrub</td>\n      <td>Franziskaner Hefe-Weissbier / Weissbier Naturtrub</td>\n      <td>Spaten-Franziskaner-Bräu</td>\n      <td>🇩🇪 München, Bavaria, Germany</td>\n      <td>Weissbier - Hefeweizen</td>\n      <td>5.0%</td>\n      <td>NaN</td>\n      <td>3.73</td>\n      <td>Bottle: Unfiltered…</td>\n      <td>150 cal per 355ml</td>\n    </tr>\n    <tr>\n      <th>3</th>\n      <td>DraftLove69(1)\\n🇬🇷Greece\\n4.1September 4, 2022...</td>\n      <td>weissbier naturtrub</td>\n      <td>Franziskaner Hefe-Weissbier / Weissbier Naturtrub</td>\n      <td>Spaten-Franziskaner-Bräu</td>\n      <td>🇩🇪 München, Bavaria, Germany</td>\n      <td>Weissbier - Hefeweizen</td>\n      <td>5.0%</td>\n      <td>NaN</td>\n      <td>3.73</td>\n      <td>Bottle: Unfiltered…</td>\n      <td>150 cal per 355ml</td>\n    </tr>\n    <tr>\n      <th>4</th>\n      <td>Derbeth(2,051)\\n🇵🇱Kraków, Poland\\n3.4September...</td>\n      <td>weissbier naturtrub</td>\n      <td>Franziskaner Hefe-Weissbier / Weissbier Naturtrub</td>\n      <td>Spaten-Franziskaner-Bräu</td>\n      <td>🇩🇪 München, Bavaria, Germany</td>\n      <td>Weissbier - Hefeweizen</td>\n      <td>5.0%</td>\n      <td>NaN</td>\n      <td>3.73</td>\n      <td>Bottle: Unfiltered…</td>\n      <td>150 cal per 355ml</td>\n    </tr>\n    <tr>\n      <th>...</th>\n      <td>...</td>\n      <td>...</td>\n      <td>...</td>\n      <td>...</td>\n      <td>...</td>\n      <td>...</td>\n      <td>...</td>\n      <td>...</td>\n      <td>...</td>\n      <td>...</td>\n      <td>...</td>\n    </tr>\n    <tr>\n      <th>580</th>\n      <td>meggark(9)\\n3.8June 3, 2016\\nPours dark orange...</td>\n      <td>weissbier naturtrub</td>\n      <td>Franziskaner Hefe-Weissbier / Weissbier Naturtrub</td>\n      <td>Spaten-Franziskaner-Bräu</td>\n      <td>🇩🇪 München, Bavaria, Germany</td>\n      <td>Weissbier - Hefeweizen</td>\n      <td>5.0%</td>\n      <td>NaN</td>\n      <td>3.73</td>\n      <td>Bottle: Unfiltered…</td>\n      <td>150 cal per 355ml</td>\n    </tr>\n    <tr>\n      <th>581</th>\n      <td>Fafnoscie(486)\\n🇵🇱Poland\\n4.4June 1, 2016\\nPiw...</td>\n      <td>weissbier naturtrub</td>\n      <td>Franziskaner Hefe-Weissbier / Weissbier Naturtrub</td>\n      <td>Spaten-Franziskaner-Bräu</td>\n      <td>🇩🇪 München, Bavaria, Germany</td>\n      <td>Weissbier - Hefeweizen</td>\n      <td>5.0%</td>\n      <td>NaN</td>\n      <td>3.73</td>\n      <td>Bottle: Unfiltered…</td>\n      <td>150 cal per 355ml</td>\n    </tr>\n    <tr>\n      <th>582</th>\n      <td>Jury(288)\\n🇷🇺Russia\\n3.7May 31, 2016\\nХорошее ...</td>\n      <td>weissbier naturtrub</td>\n      <td>Franziskaner Hefe-Weissbier / Weissbier Naturtrub</td>\n      <td>Spaten-Franziskaner-Bräu</td>\n      <td>🇩🇪 München, Bavaria, Germany</td>\n      <td>Weissbier - Hefeweizen</td>\n      <td>5.0%</td>\n      <td>NaN</td>\n      <td>3.73</td>\n      <td>Bottle: Unfiltered…</td>\n      <td>150 cal per 355ml</td>\n    </tr>\n    <tr>\n      <th>583</th>\n      <td>jflopsu(1,862)\\n🇺🇸Somerset, United States\\n3.8...</td>\n      <td>weissbier naturtrub</td>\n      <td>Franziskaner Hefe-Weissbier / Weissbier Naturtrub</td>\n      <td>Spaten-Franziskaner-Bräu</td>\n      <td>🇩🇪 München, Bavaria, Germany</td>\n      <td>Weissbier - Hefeweizen</td>\n      <td>5.0%</td>\n      <td>NaN</td>\n      <td>3.73</td>\n      <td>Bottle: Unfiltered…</td>\n      <td>150 cal per 355ml</td>\n    </tr>\n    <tr>\n      <th>584</th>\n      <td>UFleku(55)\\n🇰🇷South Korea\\n4.3May 28, 2016\\nAr...</td>\n      <td>weissbier naturtrub</td>\n      <td>Franziskaner Hefe-Weissbier / Weissbier Naturtrub</td>\n      <td>Spaten-Franziskaner-Bräu</td>\n      <td>🇩🇪 München, Bavaria, Germany</td>\n      <td>Weissbier - Hefeweizen</td>\n      <td>5.0%</td>\n      <td>NaN</td>\n      <td>3.73</td>\n      <td>Bottle: Unfiltered…</td>\n      <td>150 cal per 355ml</td>\n    </tr>\n  </tbody>\n</table>\n<p>585 rows × 11 columns</p>\n</div>"
     },
     "execution_count": 21,
     "metadata": {},
     "output_type": "execute_result"
    }
   ]
  },
  {
   "cell_type": "code",
   "source": [
    "# 병합 작업\n",
    "for i in range(len(beer_csv_list)):\n",
    "  try:\n",
    "    # tmp = pd.read_csv('/content/drive/MyDrive/data/' + beer_csv_list[i], index_col=0)\n",
    "    tmp = pd.read_csv('./data/' + beer_csv_list[i], index_col=0)\n",
    "    data = pd.concat([data, tmp])\n",
    "  except:\n",
    "    # 오류 발 시 넘어가기\n",
    "    print(i, '번재에서 오류가 발생했음. 다음 파일로 넘어감.')"
   ],
   "metadata": {
    "id": "xqcOKNBG2l59",
    "executionInfo": {
     "status": "ok",
     "timestamp": 1665539274578,
     "user_tz": -540,
     "elapsed": 27448,
     "user": {
      "displayName": "So Yeon Lee",
      "userId": "01771365654963141477"
     }
    }
   },
   "execution_count": 22,
   "outputs": []
  },
  {
   "cell_type": "code",
   "source": [
    "data.shape"
   ],
   "metadata": {
    "colab": {
     "base_uri": "https://localhost:8080/"
    },
    "id": "Va5ow63W4I8_",
    "executionInfo": {
     "status": "ok",
     "timestamp": 1665539296046,
     "user_tz": -540,
     "elapsed": 7,
     "user": {
      "displayName": "So Yeon Lee",
      "userId": "01771365654963141477"
     }
    },
    "outputId": "f395d2b1-749b-4c13-8b44-d3f05c718c01"
   },
   "execution_count": 23,
   "outputs": [
    {
     "data": {
      "text/plain": "(87946, 11)"
     },
     "execution_count": 23,
     "metadata": {},
     "output_type": "execute_result"
    }
   ]
  },
  {
   "cell_type": "code",
   "source": [
    "# 합친 데이터 저장하기\n",
    "data.to_csv('맥주전처리데이터.csv', encoding='utf-8')"
   ],
   "metadata": {
    "id": "7_ziW9cy3oOZ",
    "executionInfo": {
     "status": "ok",
     "timestamp": 1665539335965,
     "user_tz": -540,
     "elapsed": 1527,
     "user": {
      "displayName": "So Yeon Lee",
      "userId": "01771365654963141477"
     }
    }
   },
   "execution_count": 24,
   "outputs": []
  },
  {
   "cell_type": "code",
   "source": [
    "# 맥주 전처리 데이터 확인\n",
    "data = pd.read_csv('./맥주전처리데이터.csv')\n",
    "data.head()"
   ],
   "metadata": {
    "colab": {
     "base_uri": "https://localhost:8080/",
     "height": 354
    },
    "id": "tbWz0Csx4Sd4",
    "executionInfo": {
     "status": "ok",
     "timestamp": 1665539504794,
     "user_tz": -540,
     "elapsed": 873,
     "user": {
      "displayName": "So Yeon Lee",
      "userId": "01771365654963141477"
     }
    },
    "outputId": "ad45b274-80ac-4b90-df6b-887ccbbc60ee"
   },
   "execution_count": 25,
   "outputs": [
    {
     "data": {
      "text/plain": "   Unnamed: 0                                               맥주정보  \\\n0           0  Misek93(36)\\nBelgrade\\n3.0October 15, 2022\\nPo...   \n1           1  reidyboy(1,002)\\n🇬🇧Shrewsbury, England\\n3.6Oct...   \n2           2  micia600(303)\\n🇵🇱Warsaw, Poland\\n3.8September ...   \n3           3  DraftLove69(1)\\n🇬🇷Greece\\n4.1September 4, 2022...   \n4           4  Derbeth(2,051)\\n🇵🇱Kraków, Poland\\n3.4September...   \n\n                  검색이름                                               맥주이름  \\\n0  weissbier naturtrub  Franziskaner Hefe-Weissbier / Weissbier Naturtrub   \n1  weissbier naturtrub  Franziskaner Hefe-Weissbier / Weissbier Naturtrub   \n2  weissbier naturtrub  Franziskaner Hefe-Weissbier / Weissbier Naturtrub   \n3  weissbier naturtrub  Franziskaner Hefe-Weissbier / Weissbier Naturtrub   \n4  weissbier naturtrub  Franziskaner Hefe-Weissbier / Weissbier Naturtrub   \n\n                       맥주회사                         맥주원산지  \\\n0  Spaten-Franziskaner-Bräu  🇩🇪 München, Bavaria, Germany   \n1  Spaten-Franziskaner-Bräu  🇩🇪 München, Bavaria, Germany   \n2  Spaten-Franziskaner-Bräu  🇩🇪 München, Bavaria, Germany   \n3  Spaten-Franziskaner-Bräu  🇩🇪 München, Bavaria, Germany   \n4  Spaten-Franziskaner-Bräu  🇩🇪 München, Bavaria, Germany   \n\n                     맥주종류  맥주도수 맥주IBU  맥주평점                 맥주설명  \\\n0  Weissbier - Hefeweizen  5.0%   NaN  3.73  Bottle: Unfiltered…   \n1  Weissbier - Hefeweizen  5.0%   NaN  3.73  Bottle: Unfiltered…   \n2  Weissbier - Hefeweizen  5.0%   NaN  3.73  Bottle: Unfiltered…   \n3  Weissbier - Hefeweizen  5.0%   NaN  3.73  Bottle: Unfiltered…   \n4  Weissbier - Hefeweizen  5.0%   NaN  3.73  Bottle: Unfiltered…   \n\n               맥주칼로리  \n0  150 cal per 355ml  \n1  150 cal per 355ml  \n2  150 cal per 355ml  \n3  150 cal per 355ml  \n4  150 cal per 355ml  ",
      "text/html": "<div>\n<style scoped>\n    .dataframe tbody tr th:only-of-type {\n        vertical-align: middle;\n    }\n\n    .dataframe tbody tr th {\n        vertical-align: top;\n    }\n\n    .dataframe thead th {\n        text-align: right;\n    }\n</style>\n<table border=\"1\" class=\"dataframe\">\n  <thead>\n    <tr style=\"text-align: right;\">\n      <th></th>\n      <th>Unnamed: 0</th>\n      <th>맥주정보</th>\n      <th>검색이름</th>\n      <th>맥주이름</th>\n      <th>맥주회사</th>\n      <th>맥주원산지</th>\n      <th>맥주종류</th>\n      <th>맥주도수</th>\n      <th>맥주IBU</th>\n      <th>맥주평점</th>\n      <th>맥주설명</th>\n      <th>맥주칼로리</th>\n    </tr>\n  </thead>\n  <tbody>\n    <tr>\n      <th>0</th>\n      <td>0</td>\n      <td>Misek93(36)\\nBelgrade\\n3.0October 15, 2022\\nPo...</td>\n      <td>weissbier naturtrub</td>\n      <td>Franziskaner Hefe-Weissbier / Weissbier Naturtrub</td>\n      <td>Spaten-Franziskaner-Bräu</td>\n      <td>🇩🇪 München, Bavaria, Germany</td>\n      <td>Weissbier - Hefeweizen</td>\n      <td>5.0%</td>\n      <td>NaN</td>\n      <td>3.73</td>\n      <td>Bottle: Unfiltered…</td>\n      <td>150 cal per 355ml</td>\n    </tr>\n    <tr>\n      <th>1</th>\n      <td>1</td>\n      <td>reidyboy(1,002)\\n🇬🇧Shrewsbury, England\\n3.6Oct...</td>\n      <td>weissbier naturtrub</td>\n      <td>Franziskaner Hefe-Weissbier / Weissbier Naturtrub</td>\n      <td>Spaten-Franziskaner-Bräu</td>\n      <td>🇩🇪 München, Bavaria, Germany</td>\n      <td>Weissbier - Hefeweizen</td>\n      <td>5.0%</td>\n      <td>NaN</td>\n      <td>3.73</td>\n      <td>Bottle: Unfiltered…</td>\n      <td>150 cal per 355ml</td>\n    </tr>\n    <tr>\n      <th>2</th>\n      <td>2</td>\n      <td>micia600(303)\\n🇵🇱Warsaw, Poland\\n3.8September ...</td>\n      <td>weissbier naturtrub</td>\n      <td>Franziskaner Hefe-Weissbier / Weissbier Naturtrub</td>\n      <td>Spaten-Franziskaner-Bräu</td>\n      <td>🇩🇪 München, Bavaria, Germany</td>\n      <td>Weissbier - Hefeweizen</td>\n      <td>5.0%</td>\n      <td>NaN</td>\n      <td>3.73</td>\n      <td>Bottle: Unfiltered…</td>\n      <td>150 cal per 355ml</td>\n    </tr>\n    <tr>\n      <th>3</th>\n      <td>3</td>\n      <td>DraftLove69(1)\\n🇬🇷Greece\\n4.1September 4, 2022...</td>\n      <td>weissbier naturtrub</td>\n      <td>Franziskaner Hefe-Weissbier / Weissbier Naturtrub</td>\n      <td>Spaten-Franziskaner-Bräu</td>\n      <td>🇩🇪 München, Bavaria, Germany</td>\n      <td>Weissbier - Hefeweizen</td>\n      <td>5.0%</td>\n      <td>NaN</td>\n      <td>3.73</td>\n      <td>Bottle: Unfiltered…</td>\n      <td>150 cal per 355ml</td>\n    </tr>\n    <tr>\n      <th>4</th>\n      <td>4</td>\n      <td>Derbeth(2,051)\\n🇵🇱Kraków, Poland\\n3.4September...</td>\n      <td>weissbier naturtrub</td>\n      <td>Franziskaner Hefe-Weissbier / Weissbier Naturtrub</td>\n      <td>Spaten-Franziskaner-Bräu</td>\n      <td>🇩🇪 München, Bavaria, Germany</td>\n      <td>Weissbier - Hefeweizen</td>\n      <td>5.0%</td>\n      <td>NaN</td>\n      <td>3.73</td>\n      <td>Bottle: Unfiltered…</td>\n      <td>150 cal per 355ml</td>\n    </tr>\n  </tbody>\n</table>\n</div>"
     },
     "execution_count": 25,
     "metadata": {},
     "output_type": "execute_result"
    }
   ]
  },
  {
   "cell_type": "code",
   "source": [
    "data.info()"
   ],
   "metadata": {
    "colab": {
     "base_uri": "https://localhost:8080/"
    },
    "id": "wyg2bXGc4_AG",
    "executionInfo": {
     "status": "ok",
     "timestamp": 1665539515282,
     "user_tz": -540,
     "elapsed": 341,
     "user": {
      "displayName": "So Yeon Lee",
      "userId": "01771365654963141477"
     }
    },
    "outputId": "a0cd31cf-9839-4c27-fe3f-9c0e444df003"
   },
   "execution_count": 26,
   "outputs": [
    {
     "name": "stdout",
     "output_type": "stream",
     "text": [
      "<class 'pandas.core.frame.DataFrame'>\n",
      "RangeIndex: 87946 entries, 0 to 87945\n",
      "Data columns (total 12 columns):\n",
      " #   Column      Non-Null Count  Dtype  \n",
      "---  ------      --------------  -----  \n",
      " 0   Unnamed: 0  87946 non-null  int64  \n",
      " 1   맥주정보        87946 non-null  object \n",
      " 2   검색이름        87946 non-null  object \n",
      " 3   맥주이름        87946 non-null  object \n",
      " 4   맥주회사        87946 non-null  object \n",
      " 5   맥주원산지       87946 non-null  object \n",
      " 6   맥주종류        87946 non-null  object \n",
      " 7   맥주도수        87946 non-null  object \n",
      " 8   맥주IBU       27523 non-null  object \n",
      " 9   맥주평점        87946 non-null  float64\n",
      " 10  맥주설명        86693 non-null  object \n",
      " 11  맥주칼로리       86764 non-null  object \n",
      "dtypes: float64(1), int64(1), object(10)\n",
      "memory usage: 8.1+ MB\n"
     ]
    }
   ]
  },
  {
   "cell_type": "markdown",
   "source": [
    "# 전처리 작업"
   ],
   "metadata": {
    "id": "CdVHqPNY5DgG"
   }
  },
  {
   "cell_type": "code",
   "source": [
    "import pandas as pd"
   ],
   "metadata": {
    "id": "zEEtnq4q5B_o",
    "executionInfo": {
     "status": "ok",
     "timestamp": 1665539548105,
     "user_tz": -540,
     "elapsed": 2,
     "user": {
      "displayName": "So Yeon Lee",
      "userId": "01771365654963141477"
     }
    }
   },
   "execution_count": 27,
   "outputs": []
  },
  {
   "cell_type": "code",
   "source": [
    "data = pd.read_csv('./맥주전처리데이터.csv', encoding='utf-8', index_col=0)\n",
    "# data = pd.read_csv('/content/drive/MyDrive/맥주전처리데이터.csv', encoding='utf-8', index_col=0)"
   ],
   "metadata": {
    "id": "R_RDKDZo5J-0",
    "executionInfo": {
     "status": "ok",
     "timestamp": 1665539674655,
     "user_tz": -540,
     "elapsed": 1999,
     "user": {
      "displayName": "So Yeon Lee",
      "userId": "01771365654963141477"
     }
    }
   },
   "execution_count": 28,
   "outputs": []
  },
  {
   "cell_type": "code",
   "source": [
    "data"
   ],
   "metadata": {
    "colab": {
     "base_uri": "https://localhost:8080/",
     "height": 659
    },
    "id": "fl6iOGii5och",
    "executionInfo": {
     "status": "ok",
     "timestamp": 1665539678376,
     "user_tz": -540,
     "elapsed": 12,
     "user": {
      "displayName": "So Yeon Lee",
      "userId": "01771365654963141477"
     }
    },
    "outputId": "9809ab5e-5290-49af-fcd5-40eb66d74d61"
   },
   "execution_count": 29,
   "outputs": [
    {
     "data": {
      "text/plain": "                                                  맥주정보                 검색이름  \\\n0    Misek93(36)\\nBelgrade\\n3.0October 15, 2022\\nPo...  weissbier naturtrub   \n1    reidyboy(1,002)\\n🇬🇧Shrewsbury, England\\n3.6Oct...  weissbier naturtrub   \n2    micia600(303)\\n🇵🇱Warsaw, Poland\\n3.8September ...  weissbier naturtrub   \n3    DraftLove69(1)\\n🇬🇷Greece\\n4.1September 4, 2022...  weissbier naturtrub   \n4    Derbeth(2,051)\\n🇵🇱Kraków, Poland\\n3.4September...  weissbier naturtrub   \n..                                                 ...                  ...   \n440  caesar(7,642)\\n🇳🇱Bunnik, Netherlands\\n1.9Augus...   Gambrinus Original   \n441  Boystout(1,000)\\n🇲🇩Chisinau, Moldova\\n3.2Augus...   Gambrinus Original   \n442  foduck(330)\\n🇺🇸Seattle, United States\\n2.3Marc...   Gambrinus Original   \n443  motelpogo(7,696)\\n🇨🇿Plzen, Czech Republic\\n2.7...   Gambrinus Original   \n444  eczematic(1,332)\\n🇦🇺Adelaide, Australia\\n2.6Oc...   Gambrinus Original   \n\n                                                  맥주이름  \\\n0    Franziskaner Hefe-Weissbier / Weissbier Naturtrub   \n1    Franziskaner Hefe-Weissbier / Weissbier Naturtrub   \n2    Franziskaner Hefe-Weissbier / Weissbier Naturtrub   \n3    Franziskaner Hefe-Weissbier / Weissbier Naturtrub   \n4    Franziskaner Hefe-Weissbier / Weissbier Naturtrub   \n..                                                 ...   \n440                   Gambrinus Originál 10° (Desítka)   \n441                   Gambrinus Originál 10° (Desítka)   \n442                   Gambrinus Originál 10° (Desítka)   \n443                   Gambrinus Originál 10° (Desítka)   \n444                   Gambrinus Originál 10° (Desítka)   \n\n                          맥주회사                                    맥주원산지  \\\n0     Spaten-Franziskaner-Bräu             🇩🇪 München, Bavaria, Germany   \n1     Spaten-Franziskaner-Bräu             🇩🇪 München, Bavaria, Germany   \n2     Spaten-Franziskaner-Bräu             🇩🇪 München, Bavaria, Germany   \n3     Spaten-Franziskaner-Bräu             🇩🇪 München, Bavaria, Germany   \n4     Spaten-Franziskaner-Bräu             🇩🇪 München, Bavaria, Germany   \n..                         ...                                      ...   \n440  Plzeňský Prazdroj (Asahi)  🇨🇿 Pilsen, Plzen Region, Czech Republic   \n441  Plzeňský Prazdroj (Asahi)  🇨🇿 Pilsen, Plzen Region, Czech Republic   \n442  Plzeňský Prazdroj (Asahi)  🇨🇿 Pilsen, Plzen Region, Czech Republic   \n443  Plzeňský Prazdroj (Asahi)  🇨🇿 Pilsen, Plzen Region, Czech Republic   \n444  Plzeňský Prazdroj (Asahi)  🇨🇿 Pilsen, Plzen Region, Czech Republic   \n\n                            맥주종류  맥주도수 맥주IBU  맥주평점  \\\n0         Weissbier - Hefeweizen  5.0%   NaN  3.73   \n1         Weissbier - Hefeweizen  5.0%   NaN  3.73   \n2         Weissbier - Hefeweizen  5.0%   NaN  3.73   \n3         Weissbier - Hefeweizen  5.0%   NaN  3.73   \n4         Weissbier - Hefeweizen  5.0%   NaN  3.73   \n..                           ...   ...   ...   ...   \n440  Pilsener - Bohemian / Czech  4.3%   NaN  2.60   \n441  Pilsener - Bohemian / Czech  4.3%   NaN  2.60   \n442  Pilsener - Bohemian / Czech  4.3%   NaN  2.60   \n443  Pilsener - Bohemian / Czech  4.3%   NaN  2.60   \n444  Pilsener - Bohemian / Czech  4.3%   NaN  2.60   \n\n                                                  맥주설명              맥주칼로리  \n0                                  Bottle: Unfiltered…  150 cal per 355ml  \n1                                  Bottle: Unfiltered…  150 cal per 355ml  \n2                                  Bottle: Unfiltered…  150 cal per 355ml  \n3                                  Bottle: Unfiltered…  150 cal per 355ml  \n4                                  Bottle: Unfiltered…  150 cal per 355ml  \n..                                                 ...                ...  \n440  I mimo hospodu naše desítka spolehlivě osvěží....  129 cal per 355ml  \n441  I mimo hospodu naše desítka spolehlivě osvěží....  129 cal per 355ml  \n442  I mimo hospodu naše desítka spolehlivě osvěží....  129 cal per 355ml  \n443  I mimo hospodu naše desítka spolehlivě osvěží....  129 cal per 355ml  \n444  I mimo hospodu naše desítka spolehlivě osvěží....  129 cal per 355ml  \n\n[87946 rows x 11 columns]",
      "text/html": "<div>\n<style scoped>\n    .dataframe tbody tr th:only-of-type {\n        vertical-align: middle;\n    }\n\n    .dataframe tbody tr th {\n        vertical-align: top;\n    }\n\n    .dataframe thead th {\n        text-align: right;\n    }\n</style>\n<table border=\"1\" class=\"dataframe\">\n  <thead>\n    <tr style=\"text-align: right;\">\n      <th></th>\n      <th>맥주정보</th>\n      <th>검색이름</th>\n      <th>맥주이름</th>\n      <th>맥주회사</th>\n      <th>맥주원산지</th>\n      <th>맥주종류</th>\n      <th>맥주도수</th>\n      <th>맥주IBU</th>\n      <th>맥주평점</th>\n      <th>맥주설명</th>\n      <th>맥주칼로리</th>\n    </tr>\n  </thead>\n  <tbody>\n    <tr>\n      <th>0</th>\n      <td>Misek93(36)\\nBelgrade\\n3.0October 15, 2022\\nPo...</td>\n      <td>weissbier naturtrub</td>\n      <td>Franziskaner Hefe-Weissbier / Weissbier Naturtrub</td>\n      <td>Spaten-Franziskaner-Bräu</td>\n      <td>🇩🇪 München, Bavaria, Germany</td>\n      <td>Weissbier - Hefeweizen</td>\n      <td>5.0%</td>\n      <td>NaN</td>\n      <td>3.73</td>\n      <td>Bottle: Unfiltered…</td>\n      <td>150 cal per 355ml</td>\n    </tr>\n    <tr>\n      <th>1</th>\n      <td>reidyboy(1,002)\\n🇬🇧Shrewsbury, England\\n3.6Oct...</td>\n      <td>weissbier naturtrub</td>\n      <td>Franziskaner Hefe-Weissbier / Weissbier Naturtrub</td>\n      <td>Spaten-Franziskaner-Bräu</td>\n      <td>🇩🇪 München, Bavaria, Germany</td>\n      <td>Weissbier - Hefeweizen</td>\n      <td>5.0%</td>\n      <td>NaN</td>\n      <td>3.73</td>\n      <td>Bottle: Unfiltered…</td>\n      <td>150 cal per 355ml</td>\n    </tr>\n    <tr>\n      <th>2</th>\n      <td>micia600(303)\\n🇵🇱Warsaw, Poland\\n3.8September ...</td>\n      <td>weissbier naturtrub</td>\n      <td>Franziskaner Hefe-Weissbier / Weissbier Naturtrub</td>\n      <td>Spaten-Franziskaner-Bräu</td>\n      <td>🇩🇪 München, Bavaria, Germany</td>\n      <td>Weissbier - Hefeweizen</td>\n      <td>5.0%</td>\n      <td>NaN</td>\n      <td>3.73</td>\n      <td>Bottle: Unfiltered…</td>\n      <td>150 cal per 355ml</td>\n    </tr>\n    <tr>\n      <th>3</th>\n      <td>DraftLove69(1)\\n🇬🇷Greece\\n4.1September 4, 2022...</td>\n      <td>weissbier naturtrub</td>\n      <td>Franziskaner Hefe-Weissbier / Weissbier Naturtrub</td>\n      <td>Spaten-Franziskaner-Bräu</td>\n      <td>🇩🇪 München, Bavaria, Germany</td>\n      <td>Weissbier - Hefeweizen</td>\n      <td>5.0%</td>\n      <td>NaN</td>\n      <td>3.73</td>\n      <td>Bottle: Unfiltered…</td>\n      <td>150 cal per 355ml</td>\n    </tr>\n    <tr>\n      <th>4</th>\n      <td>Derbeth(2,051)\\n🇵🇱Kraków, Poland\\n3.4September...</td>\n      <td>weissbier naturtrub</td>\n      <td>Franziskaner Hefe-Weissbier / Weissbier Naturtrub</td>\n      <td>Spaten-Franziskaner-Bräu</td>\n      <td>🇩🇪 München, Bavaria, Germany</td>\n      <td>Weissbier - Hefeweizen</td>\n      <td>5.0%</td>\n      <td>NaN</td>\n      <td>3.73</td>\n      <td>Bottle: Unfiltered…</td>\n      <td>150 cal per 355ml</td>\n    </tr>\n    <tr>\n      <th>...</th>\n      <td>...</td>\n      <td>...</td>\n      <td>...</td>\n      <td>...</td>\n      <td>...</td>\n      <td>...</td>\n      <td>...</td>\n      <td>...</td>\n      <td>...</td>\n      <td>...</td>\n      <td>...</td>\n    </tr>\n    <tr>\n      <th>440</th>\n      <td>caesar(7,642)\\n🇳🇱Bunnik, Netherlands\\n1.9Augus...</td>\n      <td>Gambrinus Original</td>\n      <td>Gambrinus Originál 10° (Desítka)</td>\n      <td>Plzeňský Prazdroj (Asahi)</td>\n      <td>🇨🇿 Pilsen, Plzen Region, Czech Republic</td>\n      <td>Pilsener - Bohemian / Czech</td>\n      <td>4.3%</td>\n      <td>NaN</td>\n      <td>2.60</td>\n      <td>I mimo hospodu naše desítka spolehlivě osvěží....</td>\n      <td>129 cal per 355ml</td>\n    </tr>\n    <tr>\n      <th>441</th>\n      <td>Boystout(1,000)\\n🇲🇩Chisinau, Moldova\\n3.2Augus...</td>\n      <td>Gambrinus Original</td>\n      <td>Gambrinus Originál 10° (Desítka)</td>\n      <td>Plzeňský Prazdroj (Asahi)</td>\n      <td>🇨🇿 Pilsen, Plzen Region, Czech Republic</td>\n      <td>Pilsener - Bohemian / Czech</td>\n      <td>4.3%</td>\n      <td>NaN</td>\n      <td>2.60</td>\n      <td>I mimo hospodu naše desítka spolehlivě osvěží....</td>\n      <td>129 cal per 355ml</td>\n    </tr>\n    <tr>\n      <th>442</th>\n      <td>foduck(330)\\n🇺🇸Seattle, United States\\n2.3Marc...</td>\n      <td>Gambrinus Original</td>\n      <td>Gambrinus Originál 10° (Desítka)</td>\n      <td>Plzeňský Prazdroj (Asahi)</td>\n      <td>🇨🇿 Pilsen, Plzen Region, Czech Republic</td>\n      <td>Pilsener - Bohemian / Czech</td>\n      <td>4.3%</td>\n      <td>NaN</td>\n      <td>2.60</td>\n      <td>I mimo hospodu naše desítka spolehlivě osvěží....</td>\n      <td>129 cal per 355ml</td>\n    </tr>\n    <tr>\n      <th>443</th>\n      <td>motelpogo(7,696)\\n🇨🇿Plzen, Czech Republic\\n2.7...</td>\n      <td>Gambrinus Original</td>\n      <td>Gambrinus Originál 10° (Desítka)</td>\n      <td>Plzeňský Prazdroj (Asahi)</td>\n      <td>🇨🇿 Pilsen, Plzen Region, Czech Republic</td>\n      <td>Pilsener - Bohemian / Czech</td>\n      <td>4.3%</td>\n      <td>NaN</td>\n      <td>2.60</td>\n      <td>I mimo hospodu naše desítka spolehlivě osvěží....</td>\n      <td>129 cal per 355ml</td>\n    </tr>\n    <tr>\n      <th>444</th>\n      <td>eczematic(1,332)\\n🇦🇺Adelaide, Australia\\n2.6Oc...</td>\n      <td>Gambrinus Original</td>\n      <td>Gambrinus Originál 10° (Desítka)</td>\n      <td>Plzeňský Prazdroj (Asahi)</td>\n      <td>🇨🇿 Pilsen, Plzen Region, Czech Republic</td>\n      <td>Pilsener - Bohemian / Czech</td>\n      <td>4.3%</td>\n      <td>NaN</td>\n      <td>2.60</td>\n      <td>I mimo hospodu naše desítka spolehlivě osvěží....</td>\n      <td>129 cal per 355ml</td>\n    </tr>\n  </tbody>\n</table>\n<p>87946 rows × 11 columns</p>\n</div>"
     },
     "execution_count": 29,
     "metadata": {},
     "output_type": "execute_result"
    }
   ]
  },
  {
   "cell_type": "code",
   "source": [
    "# raw 맥주정보\n",
    "data['맥주정보'].iloc[0]"
   ],
   "metadata": {
    "colab": {
     "base_uri": "https://localhost:8080/",
     "height": 54
    },
    "id": "YA3vkVUv5ptY",
    "executionInfo": {
     "status": "ok",
     "timestamp": 1665539774805,
     "user_tz": -540,
     "elapsed": 4,
     "user": {
      "displayName": "So Yeon Lee",
      "userId": "01771365654963141477"
     }
    },
    "outputId": "e1075fbf-231c-49fd-d56f-70d144becdba"
   },
   "execution_count": 30,
   "outputs": [
    {
     "data": {
      "text/plain": "'Misek93(36)\\nBelgrade\\n3.0October 15, 2022\\nPours hazy ember orange with thin white head. No carbonation.\\nAroma very bready, yeasty, and slightly sweet.\\nTaste overwhelmingly yeasty, with nice sweet aftertaste. Can…\\nShow more\\nBOTTLE\\nAroma\\n6\\nAppearance\\n2\\nFlavor\\n6\\nMouthfeel\\n3\\nOverall\\n13'"
     },
     "execution_count": 30,
     "metadata": {},
     "output_type": "execute_result"
    }
   ]
  },
  {
   "cell_type": "markdown",
   "source": [
    "## 1, 맥주정보 문자열 분리하기 ('\\n')"
   ],
   "metadata": {
    "id": "Kwn63uzV6FN-"
   }
  },
  {
   "cell_type": "code",
   "source": [
    "tmp = data.copy()"
   ],
   "metadata": {
    "id": "Tqaqdqcg6EuO",
    "executionInfo": {
     "status": "ok",
     "timestamp": 1665539814457,
     "user_tz": -540,
     "elapsed": 5,
     "user": {
      "displayName": "So Yeon Lee",
      "userId": "01771365654963141477"
     }
    }
   },
   "execution_count": 31,
   "outputs": []
  },
  {
   "cell_type": "code",
   "source": [
    "# 개행문자 기준으로 분리\n",
    "tmp['맥주정보'] = tmp['맥주정보'].str.split('\\n')\n",
    "tmp['맥주정보']"
   ],
   "metadata": {
    "colab": {
     "base_uri": "https://localhost:8080/"
    },
    "id": "5iFz1xgu6BUk",
    "executionInfo": {
     "status": "ok",
     "timestamp": 1665539851200,
     "user_tz": -540,
     "elapsed": 526,
     "user": {
      "displayName": "So Yeon Lee",
      "userId": "01771365654963141477"
     }
    },
    "outputId": "72efb7c6-909e-4291-92f5-553a166bc4d4"
   },
   "execution_count": 32,
   "outputs": [
    {
     "data": {
      "text/plain": "0      [Misek93(36), Belgrade, 3.0October 15, 2022, P...\n1      [reidyboy(1,002), 🇬🇧Shrewsbury, England, 3.6Oc...\n2      [micia600(303), 🇵🇱Warsaw, Poland, 3.8September...\n3      [DraftLove69(1), 🇬🇷Greece, 4.1September 4, 202...\n4      [Derbeth(2,051), 🇵🇱Kraków, Poland, 3.4Septembe...\n                             ...                        \n440    [caesar(7,642), 🇳🇱Bunnik, Netherlands, 1.9Augu...\n441    [Boystout(1,000), 🇲🇩Chisinau, Moldova, 3.2Augu...\n442    [foduck(330), 🇺🇸Seattle, United States, 2.3Mar...\n443    [motelpogo(7,696), 🇨🇿Plzen, Czech Republic, 2....\n444    [eczematic(1,332), 🇦🇺Adelaide, Australia, 2.6O...\nName: 맥주정보, Length: 87946, dtype: object"
     },
     "execution_count": 32,
     "metadata": {},
     "output_type": "execute_result"
    }
   ]
  },
  {
   "cell_type": "code",
   "source": [
    "# 분리된 스트링값들을 리스트로 변환된 것 확인\n",
    "tmp['맥주정보'].iloc[0]"
   ],
   "metadata": {
    "colab": {
     "base_uri": "https://localhost:8080/"
    },
    "id": "mI74-BBx6Tx3",
    "executionInfo": {
     "status": "ok",
     "timestamp": 1665539887923,
     "user_tz": -540,
     "elapsed": 2,
     "user": {
      "displayName": "So Yeon Lee",
      "userId": "01771365654963141477"
     }
    },
    "outputId": "7fb719ed-9b34-407e-8789-7ec724df5577"
   },
   "execution_count": 33,
   "outputs": [
    {
     "data": {
      "text/plain": "['Misek93(36)',\n 'Belgrade',\n '3.0October 15, 2022',\n 'Pours hazy ember orange with thin white head. No carbonation.',\n 'Aroma very bready, yeasty, and slightly sweet.',\n 'Taste overwhelmingly yeasty, with nice sweet aftertaste. Can…',\n 'Show more',\n 'BOTTLE',\n 'Aroma',\n '6',\n 'Appearance',\n '2',\n 'Flavor',\n '6',\n 'Mouthfeel',\n '3',\n 'Overall',\n '13']"
     },
     "execution_count": 33,
     "metadata": {},
     "output_type": "execute_result"
    }
   ]
  },
  {
   "cell_type": "markdown",
   "source": [
    "## 2. 좋아요 수 삭제하기\n",
    "\n",
    "- 맥주정보 데이터에서 필요한 데이터는 다음과 같음\n",
    "  - 아이디\n",
    "  - 평점|날짜\n",
    "  - Aroma\n",
    "  - Appearance\n",
    "  - Flavor\n",
    "  - Mouthfeel\n",
    "  - Overall\n",
    "- 위 데이터는 리스트 인덱스로, 앞에서 2개 뒤에서 10개는 꼭 필요\n",
    "- 패턴의 불규칙함\n",
    "  - 아이디, 평점|날짜순\n",
    "  - 아이디, 국적, 평점|날짜\n",
    "  - 아이디, 국적, (불필요값), 평점|날짜"
   ],
   "metadata": {
    "id": "j1lh33yd6epO"
   }
  },
  {
   "cell_type": "code",
   "source": [
    "tmp.shape"
   ],
   "metadata": {
    "colab": {
     "base_uri": "https://localhost:8080/"
    },
    "id": "hYB1ralK6ebf",
    "executionInfo": {
     "status": "ok",
     "timestamp": 1665540034997,
     "user_tz": -540,
     "elapsed": 6,
     "user": {
      "displayName": "So Yeon Lee",
      "userId": "01771365654963141477"
     }
    },
    "outputId": "8ef97975-649c-4a92-cd7a-c7e39962d8da"
   },
   "execution_count": 34,
   "outputs": [
    {
     "data": {
      "text/plain": "(87946, 11)"
     },
     "execution_count": 34,
     "metadata": {},
     "output_type": "execute_result"
    }
   ]
  },
  {
   "cell_type": "code",
   "source": [
    "for i in range(71140, 71143):\n",
    "  print(tmp['맥주정보'].iloc[i], '\\n')"
   ],
   "metadata": {
    "colab": {
     "base_uri": "https://localhost:8080/"
    },
    "id": "xxt5b-nQ6c6F",
    "executionInfo": {
     "status": "ok",
     "timestamp": 1665540093796,
     "user_tz": -540,
     "elapsed": 6,
     "user": {
      "displayName": "So Yeon Lee",
      "userId": "01771365654963141477"
     }
    },
    "outputId": "ee1b8e48-496d-4d6f-f89d-40d30c5b4609"
   },
   "execution_count": 35,
   "outputs": [
    {
     "name": "stdout",
     "output_type": "stream",
     "text": [
      "['neur0(1,573)', '🇩🇪Hannover, Germany', '2.2September 20, 2012', '(Flasche) Es hat eine goldgelbe Farbe, ist klar filtriert mit einer weißen Schaumkrone. Das Aroma ist süß, herb und leicht würzig. Der Geschmack ist sehr sehr schlank, wie feuchte…', 'Show more', 'Aroma', '7', 'Appearance', '4', 'Flavor', '3', 'Mouthfeel', '3', 'Overall', '5'] \n",
      "\n",
      "['McTapps(8,105)', '🇩🇪Reutlingen, Germany', '2.4September 14, 2012', 'Bottle shared with MichaelBruch. Typical lager beer with citrus flavour / aroma and hints of leaves. Nothing special, but drinkable.', 'Aroma', '3', 'Appearance', '3', 'Flavor', '5', 'Mouthfeel', '3', 'Overall', '10'] \n",
      "\n",
      "['MichaelAwesome(7,167)', '🇩🇪Wanne-Eickel, Germany', '2.4September 14, 2012', 'Bottle shared with McTapps. Pours in clear golden with a simple, small head.Aroma of a bit citrus and sweets. Tastes well drinkable and bit sour in the end. A simple and quite nice…', 'Show more', 'Aroma', '3', 'Appearance', '3', 'Flavor', '6', 'Mouthfeel', '3', 'Overall', '9'] \n",
      "\n"
     ]
    }
   ]
  },
  {
   "cell_type": "code",
   "source": [
    "# 새로운 데이터 ttmp 생성\n",
    "ttmp = tmp.copy()\n",
    "\n",
    "# 맥주 정보 리스트 출력 - 좋아요 수가 기록된 유저 정보\n",
    "# 맨 마지막 9는 좋아요 수임\n",
    "ttmp['맥주정보'].iloc[10]"
   ],
   "metadata": {
    "colab": {
     "base_uri": "https://localhost:8080/"
    },
    "id": "aQAb4PdU7MLZ",
    "executionInfo": {
     "status": "ok",
     "timestamp": 1665540167074,
     "user_tz": -540,
     "elapsed": 7,
     "user": {
      "displayName": "So Yeon Lee",
      "userId": "01771365654963141477"
     }
    },
    "outputId": "33264be8-e221-4396-e166-b77288b6f225"
   },
   "execution_count": 36,
   "outputs": [
    {
     "data": {
      "text/plain": "['jonathan_reviews(101)',\n '🇬🇧Preston, England',\n '4.2July 29, 2022',\n '500ml bottle @ 5% ABV from Waitrose',\n 'Colour is an orang hazy colour which is typical of a weissbier with a one finger white head. Aroma is banana, fruity, malty,…',\n 'Show more',\n 'BOTTLE',\n '@ Waitrose Supermarket (Various locations)',\n 'Aroma',\n '7',\n 'Appearance',\n '4',\n 'Flavor',\n '9',\n 'Mouthfeel',\n '4',\n 'Overall',\n '18']"
     },
     "execution_count": 36,
     "metadata": {},
     "output_type": "execute_result"
    }
   ]
  },
  {
   "cell_type": "markdown",
   "source": [
    "- 좋아요 수가 없는 경우 -> 뒤에서부터 10개의 값 가져와야함\n",
    "- 좋아요 수가 있는 경우 -> 제거한 뒤 10개의 값을 가져와야함"
   ],
   "metadata": {
    "id": "Uhf4Ebew7jNO"
   }
  },
  {
   "cell_type": "code",
   "source": [
    "# 전체 데이터프레임에서 좋아요가 1개인 것 찾아서 맨 뒤에 거 삭제\n",
    "ttmp['맥주정보'] = ttmp['맥주정보'].apply(lambda x: x if x[-2] == 'Overall' else x[:-1])"
   ],
   "metadata": {
    "id": "cbQaR1nI7bid",
    "executionInfo": {
     "status": "ok",
     "timestamp": 1665540263858,
     "user_tz": -540,
     "elapsed": 314,
     "user": {
      "displayName": "So Yeon Lee",
      "userId": "01771365654963141477"
     }
    }
   },
   "execution_count": 37,
   "outputs": []
  },
  {
   "cell_type": "code",
   "source": [
    "# 맥주정보에서 0, 1, 2, 3번째 리스트 요소와 뒤에서부터 10개의 리스트요소(평점값) 추출\n",
    "ttmp['맥주정보'] = ttmp['맥주정보'].apply(lambda x: x[:4] + x[:-11:-1])"
   ],
   "metadata": {
    "id": "-BPakSXL74tI",
    "executionInfo": {
     "status": "ok",
     "timestamp": 1665540311154,
     "user_tz": -540,
     "elapsed": 890,
     "user": {
      "displayName": "So Yeon Lee",
      "userId": "01771365654963141477"
     }
    }
   },
   "execution_count": 38,
   "outputs": []
  },
  {
   "cell_type": "code",
   "source": [
    "# 좋아요 수 정상적으로 삭제되었는지 확인\n",
    "ttmp['맥주정보'].iloc[10]"
   ],
   "metadata": {
    "colab": {
     "base_uri": "https://localhost:8080/"
    },
    "id": "DTrjE3bi8EGL",
    "executionInfo": {
     "status": "ok",
     "timestamp": 1665540395968,
     "user_tz": -540,
     "elapsed": 5,
     "user": {
      "displayName": "So Yeon Lee",
      "userId": "01771365654963141477"
     }
    },
    "outputId": "d66cdcd3-a095-47c4-97a3-55e31c23cdcc"
   },
   "execution_count": 39,
   "outputs": [
    {
     "data": {
      "text/plain": "['jonathan_reviews(101)',\n '🇬🇧Preston, England',\n '4.2July 29, 2022',\n '500ml bottle @ 5% ABV from Waitrose',\n '18',\n 'Overall',\n '4',\n 'Mouthfeel',\n '9',\n 'Flavor',\n '4',\n 'Appearance',\n '7',\n 'Aroma']"
     },
     "execution_count": 39,
     "metadata": {},
     "output_type": "execute_result"
    }
   ]
  },
  {
   "cell_type": "markdown",
   "source": [
    "## 3. 실제 컬럼으로 데이터 분리하기"
   ],
   "metadata": {
    "id": "s99zO8yT8dxo"
   }
  },
  {
   "cell_type": "code",
   "source": [
    "ttmp['ID'] = ttmp['맥주정보'].apply(lambda x: x[0])\n",
    "ttmp['Aroma'] = ttmp['맥주정보'].apply(lambda x: x[-2])\n",
    "ttmp['Appearance'] = ttmp['맥주정보'].apply(lambda x: x[-4])\n",
    "ttmp['Flavor'] = ttmp['맥주정보'].apply(lambda x: x[-6])\n",
    "ttmp['Mouthfeel'] = ttmp['맥주정보'].apply(lambda x: x[-8])\n",
    "ttmp['Overall'] = ttmp['맥주정보'].apply(lambda x: x[-10])"
   ],
   "metadata": {
    "id": "lv781aj08Y61",
    "executionInfo": {
     "status": "ok",
     "timestamp": 1665540514226,
     "user_tz": -540,
     "elapsed": 375,
     "user": {
      "displayName": "So Yeon Lee",
      "userId": "01771365654963141477"
     }
    }
   },
   "execution_count": 40,
   "outputs": []
  },
  {
   "cell_type": "code",
   "source": [
    "# 리스트의 1, 2, 3번쨰 요소(평점날짜 / 이상한 값) 뽑아오기\n",
    "ttmp['맥주정보'] = ttmp['맥주정보'].apply(lambda x: x[1:4])\n",
    "ttmp['길이'] = ttmp['맥주정보'].apply(lambda x: len(x))"
   ],
   "metadata": {
    "id": "bNZV8wrP81zu",
    "executionInfo": {
     "status": "ok",
     "timestamp": 1665540571836,
     "user_tz": -540,
     "elapsed": 329,
     "user": {
      "displayName": "So Yeon Lee",
      "userId": "01771365654963141477"
     }
    }
   },
   "execution_count": 41,
   "outputs": []
  },
  {
   "cell_type": "code",
   "source": [
    "# 결과확인\n",
    "ttmp.head(3)"
   ],
   "metadata": {
    "colab": {
     "base_uri": "https://localhost:8080/",
     "height": 309
    },
    "id": "uyh1v8mM86xC",
    "executionInfo": {
     "status": "ok",
     "timestamp": 1665540600258,
     "user_tz": -540,
     "elapsed": 6,
     "user": {
      "displayName": "So Yeon Lee",
      "userId": "01771365654963141477"
     }
    },
    "outputId": "857abd27-3e04-4f37-a7b5-324ddb869a76"
   },
   "execution_count": 42,
   "outputs": [
    {
     "data": {
      "text/plain": "                                                맥주정보                 검색이름  \\\n0  [Belgrade, 3.0October 15, 2022, Pours hazy emb...  weissbier naturtrub   \n1  [🇬🇧Shrewsbury, England, 3.6October 10, 2022, C...  weissbier naturtrub   \n2  [🇵🇱Warsaw, Poland, 3.8September 15, 2022, Ciem...  weissbier naturtrub   \n\n                                                맥주이름  \\\n0  Franziskaner Hefe-Weissbier / Weissbier Naturtrub   \n1  Franziskaner Hefe-Weissbier / Weissbier Naturtrub   \n2  Franziskaner Hefe-Weissbier / Weissbier Naturtrub   \n\n                       맥주회사                         맥주원산지  \\\n0  Spaten-Franziskaner-Bräu  🇩🇪 München, Bavaria, Germany   \n1  Spaten-Franziskaner-Bräu  🇩🇪 München, Bavaria, Germany   \n2  Spaten-Franziskaner-Bräu  🇩🇪 München, Bavaria, Germany   \n\n                     맥주종류  맥주도수 맥주IBU  맥주평점                 맥주설명  \\\n0  Weissbier - Hefeweizen  5.0%   NaN  3.73  Bottle: Unfiltered…   \n1  Weissbier - Hefeweizen  5.0%   NaN  3.73  Bottle: Unfiltered…   \n2  Weissbier - Hefeweizen  5.0%   NaN  3.73  Bottle: Unfiltered…   \n\n               맥주칼로리               ID Aroma Appearance Flavor Mouthfeel  \\\n0  150 cal per 355ml      Misek93(36)     6          2      6         3   \n1  150 cal per 355ml  reidyboy(1,002)     7          4      7         4   \n2  150 cal per 355ml    micia600(303)     8          4      7         4   \n\n  Overall  길이  \n0      13   3  \n1      14   3  \n2      15   3  ",
      "text/html": "<div>\n<style scoped>\n    .dataframe tbody tr th:only-of-type {\n        vertical-align: middle;\n    }\n\n    .dataframe tbody tr th {\n        vertical-align: top;\n    }\n\n    .dataframe thead th {\n        text-align: right;\n    }\n</style>\n<table border=\"1\" class=\"dataframe\">\n  <thead>\n    <tr style=\"text-align: right;\">\n      <th></th>\n      <th>맥주정보</th>\n      <th>검색이름</th>\n      <th>맥주이름</th>\n      <th>맥주회사</th>\n      <th>맥주원산지</th>\n      <th>맥주종류</th>\n      <th>맥주도수</th>\n      <th>맥주IBU</th>\n      <th>맥주평점</th>\n      <th>맥주설명</th>\n      <th>맥주칼로리</th>\n      <th>ID</th>\n      <th>Aroma</th>\n      <th>Appearance</th>\n      <th>Flavor</th>\n      <th>Mouthfeel</th>\n      <th>Overall</th>\n      <th>길이</th>\n    </tr>\n  </thead>\n  <tbody>\n    <tr>\n      <th>0</th>\n      <td>[Belgrade, 3.0October 15, 2022, Pours hazy emb...</td>\n      <td>weissbier naturtrub</td>\n      <td>Franziskaner Hefe-Weissbier / Weissbier Naturtrub</td>\n      <td>Spaten-Franziskaner-Bräu</td>\n      <td>🇩🇪 München, Bavaria, Germany</td>\n      <td>Weissbier - Hefeweizen</td>\n      <td>5.0%</td>\n      <td>NaN</td>\n      <td>3.73</td>\n      <td>Bottle: Unfiltered…</td>\n      <td>150 cal per 355ml</td>\n      <td>Misek93(36)</td>\n      <td>6</td>\n      <td>2</td>\n      <td>6</td>\n      <td>3</td>\n      <td>13</td>\n      <td>3</td>\n    </tr>\n    <tr>\n      <th>1</th>\n      <td>[🇬🇧Shrewsbury, England, 3.6October 10, 2022, C...</td>\n      <td>weissbier naturtrub</td>\n      <td>Franziskaner Hefe-Weissbier / Weissbier Naturtrub</td>\n      <td>Spaten-Franziskaner-Bräu</td>\n      <td>🇩🇪 München, Bavaria, Germany</td>\n      <td>Weissbier - Hefeweizen</td>\n      <td>5.0%</td>\n      <td>NaN</td>\n      <td>3.73</td>\n      <td>Bottle: Unfiltered…</td>\n      <td>150 cal per 355ml</td>\n      <td>reidyboy(1,002)</td>\n      <td>7</td>\n      <td>4</td>\n      <td>7</td>\n      <td>4</td>\n      <td>14</td>\n      <td>3</td>\n    </tr>\n    <tr>\n      <th>2</th>\n      <td>[🇵🇱Warsaw, Poland, 3.8September 15, 2022, Ciem...</td>\n      <td>weissbier naturtrub</td>\n      <td>Franziskaner Hefe-Weissbier / Weissbier Naturtrub</td>\n      <td>Spaten-Franziskaner-Bräu</td>\n      <td>🇩🇪 München, Bavaria, Germany</td>\n      <td>Weissbier - Hefeweizen</td>\n      <td>5.0%</td>\n      <td>NaN</td>\n      <td>3.73</td>\n      <td>Bottle: Unfiltered…</td>\n      <td>150 cal per 355ml</td>\n      <td>micia600(303)</td>\n      <td>8</td>\n      <td>4</td>\n      <td>7</td>\n      <td>4</td>\n      <td>15</td>\n      <td>3</td>\n    </tr>\n  </tbody>\n</table>\n</div>"
     },
     "execution_count": 42,
     "metadata": {},
     "output_type": "execute_result"
    }
   ]
  },
  {
   "cell_type": "markdown",
   "source": [
    "## 4. 평점 | 날짜 데이터 골라내기"
   ],
   "metadata": {
    "id": "PVIoUeQ19Lj_"
   }
  },
  {
   "cell_type": "markdown",
   "source": [
    "- 문제 -> 평점, 날짜가 있는 리스트의 인덱스가 그때그때 다름 (규칙적이지 않음)\n",
    "- 리스트에서 1번인지 2번 인덱스인지 알 수 없음\n",
    "- 하지만, 문자열 자체는 규칙적임\n",
    "  - 4.0December 9, 2007\n",
    "  - 평점 + 날짜 (즉, 숫자 + 문자열)"
   ],
   "metadata": {
    "id": "7buzBAyd9TMf"
   }
  },
  {
   "cell_type": "code",
   "source": [
    "for i in range(70000, 71000, 100):\n",
    "  print(ttmp['맥주정보'].iloc[i], '\\n\\n')"
   ],
   "metadata": {
    "colab": {
     "base_uri": "https://localhost:8080/"
    },
    "id": "jORn611X9E4s",
    "executionInfo": {
     "status": "ok",
     "timestamp": 1665540749098,
     "user_tz": -540,
     "elapsed": 7,
     "user": {
      "displayName": "So Yeon Lee",
      "userId": "01771365654963141477"
     }
    },
    "outputId": "beb19108-d707-474f-81bd-abaa2f940be6"
   },
   "execution_count": 43,
   "outputs": [
    {
     "name": "stdout",
     "output_type": "stream",
     "text": [
      "['🇺🇸Milwaukee, United States', '2.2March 24, 2008', 'A tasting at Three Cellars Milwaukee.  Pretty carbonated, and on the lighter side. Not much character here.'] \n",
      "\n",
      "\n",
      "['🇺🇸Washington, United States', '2.6May 8, 2007', 'Thin, gold, small white head. Very light aroma and mouthfeel. I prefer a Belgian Wit to an American Wheat style, but this is drinkable in a pinch.'] \n",
      "\n",
      "\n",
      "['🇺🇸Aurora, United States', '2.9July 22, 2006', 'Decent unfiltered wheat beer with somewhat weak hints of fruit and clove. Good Summertime beer.'] \n",
      "\n",
      "\n",
      "['🇺🇸Le Mars, United States', '2.2May 3, 2005', 'Aroma: at first it was citrusy and wheaty, but later became rancid (not skunky, but some other sour smell).  Appearance: cloudy straw, with a large head that lasts a couple minutes.…'] \n",
      "\n",
      "\n",
      "['🇯🇪Jersey', '2.7February 21, 2021', 'Old rating from 04-03-15 - 330ml bottle, pours clear golden with a small white foamy head. Aromas & tastes of corn, grain, herbal & sweet malt. Moderate body. Dry moderate bitter finish.'] \n",
      "\n",
      "\n",
      "['🇩🇪Germany', '2.2July 29, 2018', 'Flasche. Gold-gelber Körper, wenig Schaum. Aroma wie Geschmack: Malzsüße, Hopfen, Zitrus. Nichts bemerkenswertes.'] \n",
      "\n",
      "\n",
      "['🇮🇸Skagafjordur, Iceland', '2.6March 26, 2017', 'Yellow, clear. White foam that dosnt last. Mild sour aroma, toffee, hay. Sweet, hay, grain. Mild aftertaste. High in carbon.'] \n",
      "\n",
      "\n",
      "['🇭🇺Budapest, Hungary', '2.2December 13, 2015', 'Slight fruity aroma, clear, pale golden colour, sparkling, nearly no off-white head, light body, soft carbonation, sweet creamy malty taste, dry palate with alcoholic and vibrant hoppy notes.…'] \n",
      "\n",
      "\n",
      "['🇺🇸Foxboro, United States', '2.0December 23, 2014', 'Light straw grain aroma. Faint whiff of spice I can’t nail down. Crystal clear straw yellow body. Very little if any head to start or finish. Mild bitterness gives way to sweet corn finish. Finish is…'] \n",
      "\n",
      "\n",
      "['🇺🇸United States', '2.9April 14, 2014', 'Poured from 12 oz bottle into pint glass.…'] \n",
      "\n",
      "\n"
     ]
    }
   ]
  },
  {
   "cell_type": "code",
   "source": [
    "# 평점과 날짜를 뽑아오기 위해 정규식 사용\n",
    "import re\n",
    "\n",
    "# ex. 4.0December 9, 2007 뽑아오기\n",
    "reg = re.compile('[0-9]+.+[0-9]+[A-Za-z0-9]*')"
   ],
   "metadata": {
    "id": "XmzxfQt89hY9",
    "executionInfo": {
     "status": "ok",
     "timestamp": 1665540883627,
     "user_tz": -540,
     "elapsed": 346,
     "user": {
      "displayName": "So Yeon Lee",
      "userId": "01771365654963141477"
     }
    }
   },
   "execution_count": 44,
   "outputs": []
  },
  {
   "cell_type": "code",
   "source": [
    "# 정규표현식에 해당하는 문자열과 매칭되는 경우 해당 리스트 요소를 맥주정보에 저장\n",
    "# reg.match() -> re.comile()의 정규표현식과 일치하는 문자열 반환, 아니면 false 반환\n",
    "\n",
    "ttmp['맥주정보'] = ttmp['맥주정보'].apply(lambda x: x[0] if reg.match(x[0]) else (x[1] if reg.match(x[1]) else x[2]))"
   ],
   "metadata": {
    "id": "3CW5-8nF-P_k",
    "executionInfo": {
     "status": "ok",
     "timestamp": 1665541093786,
     "user_tz": -540,
     "elapsed": 338,
     "user": {
      "displayName": "So Yeon Lee",
      "userId": "01771365654963141477"
     }
    }
   },
   "execution_count": 45,
   "outputs": []
  },
  {
   "cell_type": "code",
   "source": [
    "# 결과 확인하기\n",
    "ttmp.head(3)"
   ],
   "metadata": {
    "colab": {
     "base_uri": "https://localhost:8080/",
     "height": 309
    },
    "id": "nmr3ahkz_DT1",
    "executionInfo": {
     "status": "ok",
     "timestamp": 1665541104586,
     "user_tz": -540,
     "elapsed": 5,
     "user": {
      "displayName": "So Yeon Lee",
      "userId": "01771365654963141477"
     }
    },
    "outputId": "1e211d21-d5c4-4c99-d9f1-317691d4522b"
   },
   "execution_count": 46,
   "outputs": [
    {
     "data": {
      "text/plain": "                    맥주정보                 검색이름  \\\n0    3.0October 15, 2022  weissbier naturtrub   \n1    3.6October 10, 2022  weissbier naturtrub   \n2  3.8September 15, 2022  weissbier naturtrub   \n\n                                                맥주이름  \\\n0  Franziskaner Hefe-Weissbier / Weissbier Naturtrub   \n1  Franziskaner Hefe-Weissbier / Weissbier Naturtrub   \n2  Franziskaner Hefe-Weissbier / Weissbier Naturtrub   \n\n                       맥주회사                         맥주원산지  \\\n0  Spaten-Franziskaner-Bräu  🇩🇪 München, Bavaria, Germany   \n1  Spaten-Franziskaner-Bräu  🇩🇪 München, Bavaria, Germany   \n2  Spaten-Franziskaner-Bräu  🇩🇪 München, Bavaria, Germany   \n\n                     맥주종류  맥주도수 맥주IBU  맥주평점                 맥주설명  \\\n0  Weissbier - Hefeweizen  5.0%   NaN  3.73  Bottle: Unfiltered…   \n1  Weissbier - Hefeweizen  5.0%   NaN  3.73  Bottle: Unfiltered…   \n2  Weissbier - Hefeweizen  5.0%   NaN  3.73  Bottle: Unfiltered…   \n\n               맥주칼로리               ID Aroma Appearance Flavor Mouthfeel  \\\n0  150 cal per 355ml      Misek93(36)     6          2      6         3   \n1  150 cal per 355ml  reidyboy(1,002)     7          4      7         4   \n2  150 cal per 355ml    micia600(303)     8          4      7         4   \n\n  Overall  길이  \n0      13   3  \n1      14   3  \n2      15   3  ",
      "text/html": "<div>\n<style scoped>\n    .dataframe tbody tr th:only-of-type {\n        vertical-align: middle;\n    }\n\n    .dataframe tbody tr th {\n        vertical-align: top;\n    }\n\n    .dataframe thead th {\n        text-align: right;\n    }\n</style>\n<table border=\"1\" class=\"dataframe\">\n  <thead>\n    <tr style=\"text-align: right;\">\n      <th></th>\n      <th>맥주정보</th>\n      <th>검색이름</th>\n      <th>맥주이름</th>\n      <th>맥주회사</th>\n      <th>맥주원산지</th>\n      <th>맥주종류</th>\n      <th>맥주도수</th>\n      <th>맥주IBU</th>\n      <th>맥주평점</th>\n      <th>맥주설명</th>\n      <th>맥주칼로리</th>\n      <th>ID</th>\n      <th>Aroma</th>\n      <th>Appearance</th>\n      <th>Flavor</th>\n      <th>Mouthfeel</th>\n      <th>Overall</th>\n      <th>길이</th>\n    </tr>\n  </thead>\n  <tbody>\n    <tr>\n      <th>0</th>\n      <td>3.0October 15, 2022</td>\n      <td>weissbier naturtrub</td>\n      <td>Franziskaner Hefe-Weissbier / Weissbier Naturtrub</td>\n      <td>Spaten-Franziskaner-Bräu</td>\n      <td>🇩🇪 München, Bavaria, Germany</td>\n      <td>Weissbier - Hefeweizen</td>\n      <td>5.0%</td>\n      <td>NaN</td>\n      <td>3.73</td>\n      <td>Bottle: Unfiltered…</td>\n      <td>150 cal per 355ml</td>\n      <td>Misek93(36)</td>\n      <td>6</td>\n      <td>2</td>\n      <td>6</td>\n      <td>3</td>\n      <td>13</td>\n      <td>3</td>\n    </tr>\n    <tr>\n      <th>1</th>\n      <td>3.6October 10, 2022</td>\n      <td>weissbier naturtrub</td>\n      <td>Franziskaner Hefe-Weissbier / Weissbier Naturtrub</td>\n      <td>Spaten-Franziskaner-Bräu</td>\n      <td>🇩🇪 München, Bavaria, Germany</td>\n      <td>Weissbier - Hefeweizen</td>\n      <td>5.0%</td>\n      <td>NaN</td>\n      <td>3.73</td>\n      <td>Bottle: Unfiltered…</td>\n      <td>150 cal per 355ml</td>\n      <td>reidyboy(1,002)</td>\n      <td>7</td>\n      <td>4</td>\n      <td>7</td>\n      <td>4</td>\n      <td>14</td>\n      <td>3</td>\n    </tr>\n    <tr>\n      <th>2</th>\n      <td>3.8September 15, 2022</td>\n      <td>weissbier naturtrub</td>\n      <td>Franziskaner Hefe-Weissbier / Weissbier Naturtrub</td>\n      <td>Spaten-Franziskaner-Bräu</td>\n      <td>🇩🇪 München, Bavaria, Germany</td>\n      <td>Weissbier - Hefeweizen</td>\n      <td>5.0%</td>\n      <td>NaN</td>\n      <td>3.73</td>\n      <td>Bottle: Unfiltered…</td>\n      <td>150 cal per 355ml</td>\n      <td>micia600(303)</td>\n      <td>8</td>\n      <td>4</td>\n      <td>7</td>\n      <td>4</td>\n      <td>15</td>\n      <td>3</td>\n    </tr>\n  </tbody>\n</table>\n</div>"
     },
     "execution_count": 46,
     "metadata": {},
     "output_type": "execute_result"
    }
   ]
  },
  {
   "cell_type": "markdown",
   "source": [
    "## 5. 평점과 날짜 데이터 분리하기"
   ],
   "metadata": {
    "id": "ZDKyJ5tR_LUw"
   }
  },
  {
   "cell_type": "code",
   "source": [
    "# 평점은 0~3번째, 날짜는 그 이후\n",
    "ttmp['평점'] = ttmp['맥주정보'].apply(lambda x: x[:3])\n",
    "ttmp['날짜'] = ttmp['맥주정보'].apply(lambda x: x[3:])"
   ],
   "metadata": {
    "id": "0NGKUuFx_GCy",
    "executionInfo": {
     "status": "ok",
     "timestamp": 1665541192485,
     "user_tz": -540,
     "elapsed": 5,
     "user": {
      "displayName": "So Yeon Lee",
      "userId": "01771365654963141477"
     }
    }
   },
   "execution_count": 47,
   "outputs": []
  },
  {
   "cell_type": "code",
   "source": [
    "ttmp.head(3)"
   ],
   "metadata": {
    "colab": {
     "base_uri": "https://localhost:8080/",
     "height": 413
    },
    "id": "egHe3tP__cjw",
    "executionInfo": {
     "status": "ok",
     "timestamp": 1665541200837,
     "user_tz": -540,
     "elapsed": 5,
     "user": {
      "displayName": "So Yeon Lee",
      "userId": "01771365654963141477"
     }
    },
    "outputId": "91ae6b4e-af86-4e85-9f69-82899a0f8e89"
   },
   "execution_count": 48,
   "outputs": [
    {
     "data": {
      "text/plain": "                    맥주정보                 검색이름  \\\n0    3.0October 15, 2022  weissbier naturtrub   \n1    3.6October 10, 2022  weissbier naturtrub   \n2  3.8September 15, 2022  weissbier naturtrub   \n\n                                                맥주이름  \\\n0  Franziskaner Hefe-Weissbier / Weissbier Naturtrub   \n1  Franziskaner Hefe-Weissbier / Weissbier Naturtrub   \n2  Franziskaner Hefe-Weissbier / Weissbier Naturtrub   \n\n                       맥주회사                         맥주원산지  \\\n0  Spaten-Franziskaner-Bräu  🇩🇪 München, Bavaria, Germany   \n1  Spaten-Franziskaner-Bräu  🇩🇪 München, Bavaria, Germany   \n2  Spaten-Franziskaner-Bräu  🇩🇪 München, Bavaria, Germany   \n\n                     맥주종류  맥주도수 맥주IBU  맥주평점                 맥주설명  \\\n0  Weissbier - Hefeweizen  5.0%   NaN  3.73  Bottle: Unfiltered…   \n1  Weissbier - Hefeweizen  5.0%   NaN  3.73  Bottle: Unfiltered…   \n2  Weissbier - Hefeweizen  5.0%   NaN  3.73  Bottle: Unfiltered…   \n\n               맥주칼로리               ID Aroma Appearance Flavor Mouthfeel  \\\n0  150 cal per 355ml      Misek93(36)     6          2      6         3   \n1  150 cal per 355ml  reidyboy(1,002)     7          4      7         4   \n2  150 cal per 355ml    micia600(303)     8          4      7         4   \n\n  Overall  길이   평점                  날짜  \n0      13   3  3.0    October 15, 2022  \n1      14   3  3.6    October 10, 2022  \n2      15   3  3.8  September 15, 2022  ",
      "text/html": "<div>\n<style scoped>\n    .dataframe tbody tr th:only-of-type {\n        vertical-align: middle;\n    }\n\n    .dataframe tbody tr th {\n        vertical-align: top;\n    }\n\n    .dataframe thead th {\n        text-align: right;\n    }\n</style>\n<table border=\"1\" class=\"dataframe\">\n  <thead>\n    <tr style=\"text-align: right;\">\n      <th></th>\n      <th>맥주정보</th>\n      <th>검색이름</th>\n      <th>맥주이름</th>\n      <th>맥주회사</th>\n      <th>맥주원산지</th>\n      <th>맥주종류</th>\n      <th>맥주도수</th>\n      <th>맥주IBU</th>\n      <th>맥주평점</th>\n      <th>맥주설명</th>\n      <th>맥주칼로리</th>\n      <th>ID</th>\n      <th>Aroma</th>\n      <th>Appearance</th>\n      <th>Flavor</th>\n      <th>Mouthfeel</th>\n      <th>Overall</th>\n      <th>길이</th>\n      <th>평점</th>\n      <th>날짜</th>\n    </tr>\n  </thead>\n  <tbody>\n    <tr>\n      <th>0</th>\n      <td>3.0October 15, 2022</td>\n      <td>weissbier naturtrub</td>\n      <td>Franziskaner Hefe-Weissbier / Weissbier Naturtrub</td>\n      <td>Spaten-Franziskaner-Bräu</td>\n      <td>🇩🇪 München, Bavaria, Germany</td>\n      <td>Weissbier - Hefeweizen</td>\n      <td>5.0%</td>\n      <td>NaN</td>\n      <td>3.73</td>\n      <td>Bottle: Unfiltered…</td>\n      <td>150 cal per 355ml</td>\n      <td>Misek93(36)</td>\n      <td>6</td>\n      <td>2</td>\n      <td>6</td>\n      <td>3</td>\n      <td>13</td>\n      <td>3</td>\n      <td>3.0</td>\n      <td>October 15, 2022</td>\n    </tr>\n    <tr>\n      <th>1</th>\n      <td>3.6October 10, 2022</td>\n      <td>weissbier naturtrub</td>\n      <td>Franziskaner Hefe-Weissbier / Weissbier Naturtrub</td>\n      <td>Spaten-Franziskaner-Bräu</td>\n      <td>🇩🇪 München, Bavaria, Germany</td>\n      <td>Weissbier - Hefeweizen</td>\n      <td>5.0%</td>\n      <td>NaN</td>\n      <td>3.73</td>\n      <td>Bottle: Unfiltered…</td>\n      <td>150 cal per 355ml</td>\n      <td>reidyboy(1,002)</td>\n      <td>7</td>\n      <td>4</td>\n      <td>7</td>\n      <td>4</td>\n      <td>14</td>\n      <td>3</td>\n      <td>3.6</td>\n      <td>October 10, 2022</td>\n    </tr>\n    <tr>\n      <th>2</th>\n      <td>3.8September 15, 2022</td>\n      <td>weissbier naturtrub</td>\n      <td>Franziskaner Hefe-Weissbier / Weissbier Naturtrub</td>\n      <td>Spaten-Franziskaner-Bräu</td>\n      <td>🇩🇪 München, Bavaria, Germany</td>\n      <td>Weissbier - Hefeweizen</td>\n      <td>5.0%</td>\n      <td>NaN</td>\n      <td>3.73</td>\n      <td>Bottle: Unfiltered…</td>\n      <td>150 cal per 355ml</td>\n      <td>micia600(303)</td>\n      <td>8</td>\n      <td>4</td>\n      <td>7</td>\n      <td>4</td>\n      <td>15</td>\n      <td>3</td>\n      <td>3.8</td>\n      <td>September 15, 2022</td>\n    </tr>\n  </tbody>\n</table>\n</div>"
     },
     "execution_count": 48,
     "metadata": {},
     "output_type": "execute_result"
    }
   ]
  },
  {
   "cell_type": "code",
   "source": [
    "ttmp.columns"
   ],
   "metadata": {
    "colab": {
     "base_uri": "https://localhost:8080/"
    },
    "id": "QsNiLS07_df8",
    "executionInfo": {
     "status": "ok",
     "timestamp": 1665541218201,
     "user_tz": -540,
     "elapsed": 2,
     "user": {
      "displayName": "So Yeon Lee",
      "userId": "01771365654963141477"
     }
    },
    "outputId": "dba5d995-cb4b-4ecc-8610-54a4a186b3c4"
   },
   "execution_count": 49,
   "outputs": [
    {
     "data": {
      "text/plain": "Index(['맥주정보', '검색이름', '맥주이름', '맥주회사', '맥주원산지', '맥주종류', '맥주도수', '맥주IBU',\n       '맥주평점', '맥주설명', '맥주칼로리', 'ID', 'Aroma', 'Appearance', 'Flavor',\n       'Mouthfeel', 'Overall', '길이', '평점', '날짜'],\n      dtype='object')"
     },
     "execution_count": 49,
     "metadata": {},
     "output_type": "execute_result"
    }
   ]
  },
  {
   "cell_type": "code",
   "source": [
    "# 컬럼명 변경하기\n",
    "ttmp.columns = ['맥주정보', '검색이름', '맥주', '맥주회사', '맥주원산지', '맥주종류', '맥주도수', '맥주IBU', '맥주평점', '맥주설명', '맥주칼로리', '아이디', 'Aroma', 'Appearance', 'Flavor', 'Mouthfeel', 'Overall', '길이', '평점', '날짜']"
   ],
   "metadata": {
    "id": "td5Ta9PV_hvy",
    "executionInfo": {
     "status": "ok",
     "timestamp": 1665541499651,
     "user_tz": -540,
     "elapsed": 4,
     "user": {
      "displayName": "So Yeon Lee",
      "userId": "01771365654963141477"
     }
    }
   },
   "execution_count": 50,
   "outputs": []
  },
  {
   "cell_type": "code",
   "source": [
    "# 필요한 컬럼 추출\n",
    "# temp = ttmp[['아이디', '맥주', '날짜', '평점', 'Aroma', 'Appearance', 'Flavor', 'Mouthfeel', 'Overall']]"
   ],
   "metadata": {
    "id": "_K_02ezHAPfG",
    "executionInfo": {
     "status": "ok",
     "timestamp": 1665541627870,
     "user_tz": -540,
     "elapsed": 5,
     "user": {
      "displayName": "So Yeon Lee",
      "userId": "01771365654963141477"
     }
    }
   },
   "execution_count": 125,
   "outputs": []
  },
  {
   "cell_type": "code",
   "source": [
    "ttmp.평점.unique()"
   ],
   "metadata": {
    "colab": {
     "base_uri": "https://localhost:8080/"
    },
    "id": "tJ-o8NEWAtW_",
    "executionInfo": {
     "status": "ok",
     "timestamp": 1665541775711,
     "user_tz": -540,
     "elapsed": 334,
     "user": {
      "displayName": "So Yeon Lee",
      "userId": "01771365654963141477"
     }
    },
    "outputId": "826d5392-b88e-4c77-8f5f-d145ffe024c8"
   },
   "execution_count": 51,
   "outputs": [
    {
     "data": {
      "text/plain": "array(['3.0', '3.6', '3.8', '4.1', '3.4', '4.0', '3.2', '3.7', '3.5',\n       '4.2', '3.3', '4.3', '3.9', '3.1', '2.6', '4.5', '2.8', '5.0',\n       '2.9', '4.4', '1.8', '4.7', '2.3', '2.5', '2.4', '1.1', '4.8',\n       '2.7', '4.9', '2.1', '4.6', '2.0', '2.2', '1.2', '1.6', '1.5',\n       '0.8', '1.4', '1.7', '0.5', '1.9', '1.3', '0.7', '0.9', '0.6',\n       '1.0', '0Ma', '0Se'], dtype=object)"
     },
     "execution_count": 51,
     "metadata": {},
     "output_type": "execute_result"
    }
   ]
  },
  {
   "cell_type": "code",
   "source": [
    "ttmp.Aroma.unique()"
   ],
   "metadata": {
    "colab": {
     "base_uri": "https://localhost:8080/"
    },
    "id": "NSKv8anTBJHW",
    "executionInfo": {
     "status": "ok",
     "timestamp": 1665541780510,
     "user_tz": -540,
     "elapsed": 2,
     "user": {
      "displayName": "So Yeon Lee",
      "userId": "01771365654963141477"
     }
    },
    "outputId": "73e3c3f6-debd-4b95-d4e4-24d01c7a0fc4"
   },
   "execution_count": 52,
   "outputs": [
    {
     "data": {
      "text/plain": "array(['6', '7', '8', '9', '5', '-', '10', '2', '4', '3', '1'],\n      dtype=object)"
     },
     "execution_count": 52,
     "metadata": {},
     "output_type": "execute_result"
    }
   ]
  },
  {
   "cell_type": "code",
   "source": [
    "ttmp. Overall.unique()"
   ],
   "metadata": {
    "colab": {
     "base_uri": "https://localhost:8080/"
    },
    "id": "s8jOvyOkCSho",
    "executionInfo": {
     "status": "ok",
     "timestamp": 1665541962322,
     "user_tz": -540,
     "elapsed": 281,
     "user": {
      "displayName": "So Yeon Lee",
      "userId": "01771365654963141477"
     }
    },
    "outputId": "f7be911a-6c51-4b64-a119-f7449b8e7047"
   },
   "execution_count": 53,
   "outputs": [
    {
     "data": {
      "text/plain": "array(['13', '14', '15', '16', '17', '-', '18', '12', '10', '19', '9',\n       '20', '11', '8', '1', '7', '5', '3', '6', '2', '4'], dtype=object)"
     },
     "execution_count": 53,
     "metadata": {},
     "output_type": "execute_result"
    }
   ]
  },
  {
   "cell_type": "code",
   "source": [
    "# - 값 삭제\n",
    "ttmp = ttmp[ttmp['평점'] != '0Ma']\n",
    "ttmp = ttmp[ttmp['Aroma'] != '-']\n",
    "ttmp = ttmp[ttmp['Appearance'] != '-']\n",
    "ttmp = ttmp[ttmp['Flavor'] != '-']\n",
    "ttmp = ttmp[ttmp['Mouthfeel'] != '-']\n",
    "ttmp = ttmp[ttmp['Overall'] != '-']\n",
    "\n",
    "ttmp[ttmp['Aroma'] == '-']"
   ],
   "metadata": {
    "colab": {
     "base_uri": "https://localhost:8080/",
     "height": 49
    },
    "id": "Jvj3f7ZNBOZ4",
    "executionInfo": {
     "status": "ok",
     "timestamp": 1665541869942,
     "user_tz": -540,
     "elapsed": 483,
     "user": {
      "displayName": "So Yeon Lee",
      "userId": "01771365654963141477"
     }
    },
    "outputId": "a15dd045-eda3-4dce-c875-873d853b57a4"
   },
   "execution_count": 54,
   "outputs": [
    {
     "data": {
      "text/plain": "Empty DataFrame\nColumns: [맥주정보, 검색이름, 맥주, 맥주회사, 맥주원산지, 맥주종류, 맥주도수, 맥주IBU, 맥주평점, 맥주설명, 맥주칼로리, 아이디, Aroma, Appearance, Flavor, Mouthfeel, Overall, 길이, 평점, 날짜]\nIndex: []",
      "text/html": "<div>\n<style scoped>\n    .dataframe tbody tr th:only-of-type {\n        vertical-align: middle;\n    }\n\n    .dataframe tbody tr th {\n        vertical-align: top;\n    }\n\n    .dataframe thead th {\n        text-align: right;\n    }\n</style>\n<table border=\"1\" class=\"dataframe\">\n  <thead>\n    <tr style=\"text-align: right;\">\n      <th></th>\n      <th>맥주정보</th>\n      <th>검색이름</th>\n      <th>맥주</th>\n      <th>맥주회사</th>\n      <th>맥주원산지</th>\n      <th>맥주종류</th>\n      <th>맥주도수</th>\n      <th>맥주IBU</th>\n      <th>맥주평점</th>\n      <th>맥주설명</th>\n      <th>맥주칼로리</th>\n      <th>아이디</th>\n      <th>Aroma</th>\n      <th>Appearance</th>\n      <th>Flavor</th>\n      <th>Mouthfeel</th>\n      <th>Overall</th>\n      <th>길이</th>\n      <th>평점</th>\n      <th>날짜</th>\n    </tr>\n  </thead>\n  <tbody>\n  </tbody>\n</table>\n</div>"
     },
     "execution_count": 54,
     "metadata": {},
     "output_type": "execute_result"
    }
   ]
  },
  {
   "cell_type": "code",
   "source": [
    "ttmp.info()"
   ],
   "metadata": {
    "colab": {
     "base_uri": "https://localhost:8080/"
    },
    "id": "MSH0lEYBCDNw",
    "executionInfo": {
     "status": "ok",
     "timestamp": 1665541884561,
     "user_tz": -540,
     "elapsed": 430,
     "user": {
      "displayName": "So Yeon Lee",
      "userId": "01771365654963141477"
     }
    },
    "outputId": "5d81690b-bfc2-482c-e9f6-007a43e7456f"
   },
   "execution_count": 55,
   "outputs": [
    {
     "name": "stdout",
     "output_type": "stream",
     "text": [
      "<class 'pandas.core.frame.DataFrame'>\n",
      "Int64Index: 86394 entries, 0 to 444\n",
      "Data columns (total 20 columns):\n",
      " #   Column      Non-Null Count  Dtype  \n",
      "---  ------      --------------  -----  \n",
      " 0   맥주정보        86394 non-null  object \n",
      " 1   검색이름        86394 non-null  object \n",
      " 2   맥주          86394 non-null  object \n",
      " 3   맥주회사        86394 non-null  object \n",
      " 4   맥주원산지       86394 non-null  object \n",
      " 5   맥주종류        86394 non-null  object \n",
      " 6   맥주도수        86394 non-null  object \n",
      " 7   맥주IBU       27061 non-null  object \n",
      " 8   맥주평점        86394 non-null  float64\n",
      " 9   맥주설명        85174 non-null  object \n",
      " 10  맥주칼로리       85244 non-null  object \n",
      " 11  아이디         86394 non-null  object \n",
      " 12  Aroma       86394 non-null  object \n",
      " 13  Appearance  86394 non-null  object \n",
      " 14  Flavor      86394 non-null  object \n",
      " 15  Mouthfeel   86394 non-null  object \n",
      " 16  Overall     86394 non-null  object \n",
      " 17  길이          86394 non-null  int64  \n",
      " 18  평점          86394 non-null  object \n",
      " 19  날짜          86394 non-null  object \n",
      "dtypes: float64(1), int64(1), object(18)\n",
      "memory usage: 13.8+ MB\n"
     ]
    }
   ]
  },
  {
   "cell_type": "markdown",
   "source": [
    "- 평점, Aroma, Appearance, Flavor, Mouthfeel, Overall값이 실수값이 아님\n",
    "- pd.to_numeric() 함수를 이용해 오브젝트 타입들을 실수로 변환"
   ],
   "metadata": {
    "id": "6gAQzSoyCF_A"
   }
  },
  {
   "cell_type": "code",
   "source": [
    "# 수치형 데이터 실수로 변환하기\n",
    "ttmp['평점'] = pd.to_numeric(ttmp['평점'])\n",
    "ttmp['Aroma'] = pd.to_numeric(ttmp['Aroma'])\n",
    "ttmp['Appearance'] = pd.to_numeric(ttmp['Appearance'])\n",
    "ttmp['Flavor'] = pd.to_numeric(ttmp['Flavor'])\n",
    "ttmp['Mouthfeel'] = pd.to_numeric(ttmp['Mouthfeel'])\n",
    "ttmp['Overall'] = pd.to_numeric(ttmp['Overall'])\n",
    "\n",
    "# 중복된 행들 제거하기\n",
    "ttmp.drop_duplicates(keep='first', inplace=True)"
   ],
   "metadata": {
    "id": "4f4hEnARCESG",
    "executionInfo": {
     "status": "ok",
     "timestamp": 1665542075313,
     "user_tz": -540,
     "elapsed": 437,
     "user": {
      "displayName": "So Yeon Lee",
      "userId": "01771365654963141477"
     }
    }
   },
   "execution_count": 56,
   "outputs": []
  },
  {
   "cell_type": "code",
   "source": [
    "ttmp.info()"
   ],
   "metadata": {
    "colab": {
     "base_uri": "https://localhost:8080/"
    },
    "id": "cARyv2eFCy7s",
    "executionInfo": {
     "status": "ok",
     "timestamp": 1665542081346,
     "user_tz": -540,
     "elapsed": 6,
     "user": {
      "displayName": "So Yeon Lee",
      "userId": "01771365654963141477"
     }
    },
    "outputId": "910b536e-4e41-4454-dc46-71f2ae77fc4f"
   },
   "execution_count": 57,
   "outputs": [
    {
     "name": "stdout",
     "output_type": "stream",
     "text": [
      "<class 'pandas.core.frame.DataFrame'>\n",
      "Int64Index: 86393 entries, 0 to 444\n",
      "Data columns (total 20 columns):\n",
      " #   Column      Non-Null Count  Dtype  \n",
      "---  ------      --------------  -----  \n",
      " 0   맥주정보        86393 non-null  object \n",
      " 1   검색이름        86393 non-null  object \n",
      " 2   맥주          86393 non-null  object \n",
      " 3   맥주회사        86393 non-null  object \n",
      " 4   맥주원산지       86393 non-null  object \n",
      " 5   맥주종류        86393 non-null  object \n",
      " 6   맥주도수        86393 non-null  object \n",
      " 7   맥주IBU       27061 non-null  object \n",
      " 8   맥주평점        86393 non-null  float64\n",
      " 9   맥주설명        85174 non-null  object \n",
      " 10  맥주칼로리       85243 non-null  object \n",
      " 11  아이디         86393 non-null  object \n",
      " 12  Aroma       86393 non-null  int64  \n",
      " 13  Appearance  86393 non-null  int64  \n",
      " 14  Flavor      86393 non-null  int64  \n",
      " 15  Mouthfeel   86393 non-null  int64  \n",
      " 16  Overall     86393 non-null  int64  \n",
      " 17  길이          86393 non-null  int64  \n",
      " 18  평점          86393 non-null  float64\n",
      " 19  날짜          86393 non-null  object \n",
      "dtypes: float64(2), int64(6), object(12)\n",
      "memory usage: 13.8+ MB\n"
     ]
    }
   ]
  },
  {
   "cell_type": "code",
   "source": [
    "# 최종 데이터 값 분포 확인하기\n",
    "ttmp.describe()"
   ],
   "metadata": {
    "colab": {
     "base_uri": "https://localhost:8080/",
     "height": 300
    },
    "id": "mpcgmFZgC0dS",
    "executionInfo": {
     "status": "ok",
     "timestamp": 1665542101655,
     "user_tz": -540,
     "elapsed": 6,
     "user": {
      "displayName": "So Yeon Lee",
      "userId": "01771365654963141477"
     }
    },
    "outputId": "493ed08e-f51b-482d-f099-11fc6d039eae"
   },
   "execution_count": 58,
   "outputs": [
    {
     "data": {
      "text/plain": "               맥주평점         Aroma    Appearance        Flavor     Mouthfeel  \\\ncount  86393.000000  86393.000000  86393.000000  86393.000000  86393.000000   \nmean       2.968988      5.351082      3.226280      5.622736      2.972370   \nstd        0.670120      2.085613      1.032459      2.046062      0.993142   \nmin        1.680000      1.000000      1.000000      1.000000      1.000000   \n25%        2.380000      4.000000      3.000000      4.000000      2.000000   \n50%        3.140000      6.000000      3.000000      6.000000      3.000000   \n75%        3.560000      7.000000      4.000000      7.000000      4.000000   \nmax        4.150000     10.000000      5.000000     10.000000      5.000000   \n\n            Overall       길이            평점  \ncount  86393.000000  86393.0  86393.000000  \nmean      11.357263      3.0      2.853025  \nstd        4.322596      0.0      0.956600  \nmin        1.000000      3.0      0.500000  \n25%        8.000000      3.0      2.200000  \n50%       12.000000      3.0      3.000000  \n75%       15.000000      3.0      3.600000  \nmax       20.000000      3.0      5.000000  ",
      "text/html": "<div>\n<style scoped>\n    .dataframe tbody tr th:only-of-type {\n        vertical-align: middle;\n    }\n\n    .dataframe tbody tr th {\n        vertical-align: top;\n    }\n\n    .dataframe thead th {\n        text-align: right;\n    }\n</style>\n<table border=\"1\" class=\"dataframe\">\n  <thead>\n    <tr style=\"text-align: right;\">\n      <th></th>\n      <th>맥주평점</th>\n      <th>Aroma</th>\n      <th>Appearance</th>\n      <th>Flavor</th>\n      <th>Mouthfeel</th>\n      <th>Overall</th>\n      <th>길이</th>\n      <th>평점</th>\n    </tr>\n  </thead>\n  <tbody>\n    <tr>\n      <th>count</th>\n      <td>86393.000000</td>\n      <td>86393.000000</td>\n      <td>86393.000000</td>\n      <td>86393.000000</td>\n      <td>86393.000000</td>\n      <td>86393.000000</td>\n      <td>86393.0</td>\n      <td>86393.000000</td>\n    </tr>\n    <tr>\n      <th>mean</th>\n      <td>2.968988</td>\n      <td>5.351082</td>\n      <td>3.226280</td>\n      <td>5.622736</td>\n      <td>2.972370</td>\n      <td>11.357263</td>\n      <td>3.0</td>\n      <td>2.853025</td>\n    </tr>\n    <tr>\n      <th>std</th>\n      <td>0.670120</td>\n      <td>2.085613</td>\n      <td>1.032459</td>\n      <td>2.046062</td>\n      <td>0.993142</td>\n      <td>4.322596</td>\n      <td>0.0</td>\n      <td>0.956600</td>\n    </tr>\n    <tr>\n      <th>min</th>\n      <td>1.680000</td>\n      <td>1.000000</td>\n      <td>1.000000</td>\n      <td>1.000000</td>\n      <td>1.000000</td>\n      <td>1.000000</td>\n      <td>3.0</td>\n      <td>0.500000</td>\n    </tr>\n    <tr>\n      <th>25%</th>\n      <td>2.380000</td>\n      <td>4.000000</td>\n      <td>3.000000</td>\n      <td>4.000000</td>\n      <td>2.000000</td>\n      <td>8.000000</td>\n      <td>3.0</td>\n      <td>2.200000</td>\n    </tr>\n    <tr>\n      <th>50%</th>\n      <td>3.140000</td>\n      <td>6.000000</td>\n      <td>3.000000</td>\n      <td>6.000000</td>\n      <td>3.000000</td>\n      <td>12.000000</td>\n      <td>3.0</td>\n      <td>3.000000</td>\n    </tr>\n    <tr>\n      <th>75%</th>\n      <td>3.560000</td>\n      <td>7.000000</td>\n      <td>4.000000</td>\n      <td>7.000000</td>\n      <td>4.000000</td>\n      <td>15.000000</td>\n      <td>3.0</td>\n      <td>3.600000</td>\n    </tr>\n    <tr>\n      <th>max</th>\n      <td>4.150000</td>\n      <td>10.000000</td>\n      <td>5.000000</td>\n      <td>10.000000</td>\n      <td>5.000000</td>\n      <td>20.000000</td>\n      <td>3.0</td>\n      <td>5.000000</td>\n    </tr>\n  </tbody>\n</table>\n</div>"
     },
     "execution_count": 58,
     "metadata": {},
     "output_type": "execute_result"
    }
   ]
  },
  {
   "cell_type": "code",
   "source": [
    "ttmp.to_csv('맥주전처리후데이터_전체.csv', encoding='utf-8')"
   ],
   "metadata": {
    "id": "gdpof0hCC5ap",
    "executionInfo": {
     "status": "ok",
     "timestamp": 1665542175195,
     "user_tz": -540,
     "elapsed": 1442,
     "user": {
      "displayName": "So Yeon Lee",
      "userId": "01771365654963141477"
     }
    }
   },
   "execution_count": 134,
   "outputs": []
  },
  {
   "cell_type": "code",
   "source": [
    "temp = ttmp[['아이디', '맥주', '날짜', '평점', 'Aroma', 'Appearance', 'Flavor', 'Mouthfeel', 'Overall']]\n",
    "\n",
    "temp.to_csv('맥주전처리후데이터.csv', encoding='utf-8')"
   ],
   "metadata": {
    "id": "d8C712BRDApP",
    "executionInfo": {
     "status": "ok",
     "timestamp": 1665542201155,
     "user_tz": -540,
     "elapsed": 751,
     "user": {
      "displayName": "So Yeon Lee",
      "userId": "01771365654963141477"
     }
    }
   },
   "execution_count": 135,
   "outputs": []
  },
  {
   "cell_type": "code",
   "execution_count": 2,
   "outputs": [],
   "source": [
    "temp = pd.read_csv('맥주전처리후데이터_전체.csv', encoding='utf-8')"
   ],
   "metadata": {
    "collapsed": false,
    "pycharm": {
     "name": "#%%\n"
    }
   }
  },
  {
   "cell_type": "code",
   "execution_count": 4,
   "outputs": [
    {
     "name": "stdout",
     "output_type": "stream",
     "text": [
      "<class 'pandas.core.frame.DataFrame'>\n",
      "RangeIndex: 86393 entries, 0 to 86392\n",
      "Data columns (total 21 columns):\n",
      " #   Column      Non-Null Count  Dtype  \n",
      "---  ------      --------------  -----  \n",
      " 0   Unnamed: 0  86393 non-null  int64  \n",
      " 1   맥주정보        86393 non-null  object \n",
      " 2   검색이름        86393 non-null  object \n",
      " 3   맥주          86393 non-null  object \n",
      " 4   맥주회사        86393 non-null  object \n",
      " 5   맥주원산지       86393 non-null  object \n",
      " 6   맥주종류        86393 non-null  object \n",
      " 7   맥주도수        86393 non-null  object \n",
      " 8   맥주IBU       27061 non-null  object \n",
      " 9   맥주평점        86393 non-null  float64\n",
      " 10  맥주설명        85174 non-null  object \n",
      " 11  맥주칼로리       85243 non-null  object \n",
      " 12  아이디         86393 non-null  object \n",
      " 13  Aroma       86393 non-null  int64  \n",
      " 14  Appearance  86393 non-null  int64  \n",
      " 15  Flavor      86393 non-null  int64  \n",
      " 16  Mouthfeel   86393 non-null  int64  \n",
      " 17  Overall     86393 non-null  int64  \n",
      " 18  길이          86393 non-null  int64  \n",
      " 19  평점          86393 non-null  float64\n",
      " 20  날짜          86393 non-null  object \n",
      "dtypes: float64(2), int64(7), object(12)\n",
      "memory usage: 13.8+ MB\n"
     ]
    }
   ],
   "source": [
    "temp.info()"
   ],
   "metadata": {
    "collapsed": false,
    "pycharm": {
     "name": "#%%\n"
    }
   }
  },
  {
   "cell_type": "code",
   "execution_count": 65,
   "outputs": [],
   "source": [
    "temp = temp[['아이디', '맥주', '날짜', '평점', 'Aroma', 'Appearance', 'Flavor', 'Mouthfeel', 'Overall', '맥주도수']]\n",
    "\n",
    "temp.to_csv('맥주전처리후데이터_도수.csv', encoding='utf-8')"
   ],
   "metadata": {
    "collapsed": false,
    "pycharm": {
     "name": "#%%\n"
    }
   }
  },
  {
   "cell_type": "code",
   "execution_count": 59,
   "outputs": [
    {
     "name": "stderr",
     "output_type": "stream",
     "text": [
      "/var/folders/_p/x_57820s1b15kl1dk8sw72kc0000gn/T/ipykernel_25507/4116043154.py:1: SettingWithCopyWarning: \n",
      "A value is trying to be set on a copy of a slice from a DataFrame.\n",
      "Try using .loc[row_indexer,col_indexer] = value instead\n",
      "\n",
      "See the caveats in the documentation: https://pandas.pydata.org/pandas-docs/stable/user_guide/indexing.html#returning-a-view-versus-a-copy\n",
      "  temp['맥주도수'] = temp['맥주도수'].apply(lambda x: x.replace('%', ''))\n"
     ]
    }
   ],
   "source": [
    "temp['맥주도수'] = temp['맥주도수'].apply(lambda x: x.replace('%', ''))"
   ],
   "metadata": {
    "collapsed": false,
    "pycharm": {
     "name": "#%%\n"
    }
   }
  },
  {
   "cell_type": "code",
   "execution_count": 62,
   "outputs": [
    {
     "name": "stderr",
     "output_type": "stream",
     "text": [
      "/var/folders/_p/x_57820s1b15kl1dk8sw72kc0000gn/T/ipykernel_25507/4134098434.py:1: SettingWithCopyWarning: \n",
      "A value is trying to be set on a copy of a slice from a DataFrame.\n",
      "Try using .loc[row_indexer,col_indexer] = value instead\n",
      "\n",
      "See the caveats in the documentation: https://pandas.pydata.org/pandas-docs/stable/user_guide/indexing.html#returning-a-view-versus-a-copy\n",
      "  temp['맥주도수'] = pd.to_numeric(temp['맥주도수'])\n"
     ]
    }
   ],
   "source": [
    "temp['맥주도수'] = pd.to_numeric(temp['맥주도수'])"
   ],
   "metadata": {
    "collapsed": false,
    "pycharm": {
     "name": "#%%\n"
    }
   }
  },
  {
   "cell_type": "code",
   "execution_count": 66,
   "outputs": [
    {
     "name": "stdout",
     "output_type": "stream",
     "text": [
      "<class 'pandas.core.frame.DataFrame'>\n",
      "RangeIndex: 86393 entries, 0 to 86392\n",
      "Data columns (total 10 columns):\n",
      " #   Column      Non-Null Count  Dtype  \n",
      "---  ------      --------------  -----  \n",
      " 0   아이디         86393 non-null  object \n",
      " 1   맥주          86393 non-null  object \n",
      " 2   날짜          86393 non-null  object \n",
      " 3   평점          86393 non-null  float64\n",
      " 4   Aroma       86393 non-null  int64  \n",
      " 5   Appearance  86393 non-null  int64  \n",
      " 6   Flavor      86393 non-null  int64  \n",
      " 7   Mouthfeel   86393 non-null  int64  \n",
      " 8   Overall     86393 non-null  int64  \n",
      " 9   맥주도수        86393 non-null  float64\n",
      "dtypes: float64(2), int64(5), object(3)\n",
      "memory usage: 6.6+ MB\n"
     ]
    }
   ],
   "source": [
    "temp.info()"
   ],
   "metadata": {
    "collapsed": false,
    "pycharm": {
     "name": "#%%\n"
    }
   }
  },
  {
   "cell_type": "code",
   "execution_count": null,
   "outputs": [],
   "source": [],
   "metadata": {
    "collapsed": false,
    "pycharm": {
     "name": "#%%\n"
    }
   }
  }
 ]
}