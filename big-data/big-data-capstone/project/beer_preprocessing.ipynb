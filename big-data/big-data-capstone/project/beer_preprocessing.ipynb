{
 "nbformat": 4,
 "nbformat_minor": 0,
 "metadata": {
  "colab": {
   "provenance": []
  },
  "kernelspec": {
   "name": "python3",
   "display_name": "Python 3"
  },
  "language_info": {
   "name": "python"
  }
 },
 "cells": [
  {
   "cell_type": "markdown",
   "source": [
    "## 데이터 병합"
   ],
   "metadata": {
    "id": "WpZpQTnN4oAH"
   }
  },
  {
   "cell_type": "code",
   "execution_count": 47,
   "metadata": {
    "id": "0gMpB9YH4lA6",
    "executionInfo": {
     "status": "ok",
     "timestamp": 1665538389045,
     "user_tz": -540,
     "elapsed": 3,
     "user": {
      "displayName": "So Yeon Lee",
      "userId": "01771365654963141477"
     }
    }
   },
   "outputs": [],
   "source": [
    "import pandas as pd"
   ]
  },
  {
   "cell_type": "code",
   "source": [
    "# from google.colab import drive\n",
    "\n",
    "# drive.mount('/content/drive/')"
   ],
   "metadata": {
    "colab": {
     "base_uri": "https://localhost:8080/"
    },
    "id": "mqGDOalw4ula",
    "executionInfo": {
     "status": "ok",
     "timestamp": 1665538430296,
     "user_tz": -540,
     "elapsed": 20720,
     "user": {
      "displayName": "So Yeon Lee",
      "userId": "01771365654963141477"
     }
    },
    "outputId": "96160957-6c5f-43d2-d22f-bbc44b576dd8"
   },
   "execution_count": 2,
   "outputs": []
  },
  {
   "cell_type": "code",
   "source": [
    "data = pd.DataFrame(data=[], columns=['맥주정보',\t'검색이름',\t'맥주이름',\t'맥주회사',\t'맥주원산지',\t'맥주종류',\t'맥주도수',\t'맥주IBU',\t'맥주평점',\t'맥주설명',\t'맥주칼로리'])"
   ],
   "metadata": {
    "id": "3T53yKtR0bAO",
    "executionInfo": {
     "status": "ok",
     "timestamp": 1665538430297,
     "user_tz": -540,
     "elapsed": 9,
     "user": {
      "displayName": "So Yeon Lee",
      "userId": "01771365654963141477"
     }
    }
   },
   "execution_count": 48,
   "outputs": []
  },
  {
   "cell_type": "code",
   "source": [
    "import os\n",
    "\n",
    "# data_dir = '/content/drive/MyDrive/data'\n",
    "data_dir = './data'\n",
    "file_ex = r'.csv'\n",
    "beer_csv_list = [file for file in os.listdir(data_dir) if file.endswith(file_ex)]\n",
    "beer_csv_list"
   ],
   "metadata": {
    "colab": {
     "base_uri": "https://localhost:8080/"
    },
    "id": "jCDOgyHz2abO",
    "executionInfo": {
     "status": "ok",
     "timestamp": 1665539014717,
     "user_tz": -540,
     "elapsed": 5,
     "user": {
      "displayName": "So Yeon Lee",
      "userId": "01771365654963141477"
     }
    },
    "outputId": "0e26f122-f277-4313-cb6a-6f789e7375b9"
   },
   "execution_count": 49,
   "outputs": [
    {
     "data": {
      "text/plain": "['beer_n_Weissbier Naturtrub.csv',\n 'beer_n_Jeju Seongsan Ilchulbong Ale.csv',\n 'beer_n_Cass Fresh.csv',\n 'beer_n_Blue Moon Belgian White.csv',\n 'beer_n_Egger Märzenbier.csv',\n 'beer_n_Magners Juicy Apple.csv',\n 'beer_n_Heretic Evil Twin.csv',\n \"beer_n_Suntory The Premium Malt's.csv\",\n 'beer_n_Tiger Radler Lemon.csv',\n 'beer_n_Tsingtao Wheat Beer.csv',\n 'beer_n_Lapin Kulta IV A.csv',\n 'beer_n_Kloud Fitz Super Clear.csv',\n 'beer_n_Stephans Bräu Premium Lager.csv',\n 'beer_n_Kronenbourg 1664 Blanc.csv',\n 'beer_n_Jeju Baengnokdam Ale.csv',\n 'beer_n_Carlsberg Pilsner.csv',\n 'beer_n_Desperados Lime.csv',\n 'beer_n_Amazing First Love.csv',\n 'beer_n_Sapporo Yebisu.csv',\n 'beer_n_Reeper B. Blondes Weissbier.csv',\n 'beer_n_Asahi Super Dry.csv',\n 'beer_n_Desperados Mojito.csv',\n 'beer_n_Erdinger Weissbier.csv',\n 'beer_n_Peroni Nastro Azzurro.csv',\n 'beer_n_Kozel Černý (Dark) 10°.csv',\n 'beer_n_Grimbergen Cuvée Blanche.csv',\n 'beer_n_ARK Seoulite Ale.csv',\n 'beer_n_Hoegaarden Cherry.csv',\n 'beer_n_Guinness Original.csv',\n 'beer_n_Platinum White Ale.csv',\n 'beer_n_Jeju Wit Ale.csv',\n 'beer_n_Krombacher Weizen.csv',\n 'beer_n_Grolsch Premium Lager.csv',\n 'beer_n_Somersby Pear Cider.csv',\n 'beer_n_Hite Extra Cold.csv',\n 'beer_n_Erdinger Weissbier Dunkel.csv',\n 'beer_n_Miller Genuine Draft (MGD).csv',\n 'beer_n_Kabrew Hoptandu IPA.csv',\n 'beer_n_Desperados.csv',\n 'beer_n_Kabrew Kumiho Relax Beer.csv',\n 'beer_n_Paulaner Hefe-Weissbier.csv',\n 'beer_n_Kona Big Wave Golden Ale.csv',\n 'beer_n_Squeeze Malpyo Green Grape Ale.csv',\n 'beer_n_North Coast Old Rasputin Russian Imperial Stout.csv',\n 'beer_n_ARK Brown.csv',\n 'beer_n_Pilsner Urquell.csv',\n 'beer_n_Amazing Shocking Stout.csv',\n 'beer_n_Castlemaine XXXX Gold Lager.csv',\n 'beer_n_ARK Cony.csv',\n 'beer_n_Kabrew Kumiho Peach Ale.csv',\n 'beer_n_Somersby Apple Cider.csv',\n 'beer_n_Kabrew Namsan Mountain Premium Citra Ale.csv',\n 'beer_n_ARK Yeosu Night Ale.csv',\n 'beer_n_Apple Fox.csv',\n 'beer_n_Harbin Beer.csv',\n 'beer_n_Hoegaarden Rosée.csv',\n 'beer_n_Stephans Bräu Hefe-Weizen Naturtrüb.csv',\n 'beer_n_Volfas Engelman Grünberger Hefeweizen.csv',\n 'beer_n_Hollandia.csv',\n 'beer_n_Préaris Citra Sauvignon Session Ale.csv',\n 'beer_n_Stella Artois.csv',\n 'beer_n_Schneider Weisse Tap 05 - Hopfenweisse Weizendoppelbock.csv',\n 'beer_n_ARK Black Swan.csv',\n 'beer_n_Asahi Super Dry Black.csv',\n 'beer_n_Kloud Original Gravity.csv',\n 'beer_n_Edelweiss Cherry & Lavender.csv',\n 'beer_n_Guinness Draught.csv',\n 'beer_n_Kabrew Kumiho India Pale Ale.csv',\n 'beer_n_Holsten Premium Bier.csv',\n 'beer_n_Goose Island Goose IPA.csv',\n 'beer_n_Budweiser.csv',\n 'beer_n_Heineken.csv',\n 'beer_n_Squeeze Malpyo Dark Beer.csv',\n 'beer_n_Jeju Barrel Series-Imperial Stout Edition - Highland Park.csv',\n 'beer_n_ARK Cosmic Dancer.csv',\n 'beer_n_Warsteiner Premium Verum.csv',\n 'beer_n_Stephans Bräu Premium Pilsener.csv',\n 'beer_n_Cass Lemon.csv',\n 'beer_n_Tsingtao.csv',\n 'beer_n_Platinum Pale Ale.csv',\n 'beer_n_Heineken Dark Lager.csv',\n 'beer_n_OB Golden Lager.csv',\n 'beer_n_The Hand and Malt Slow IPA.csv',\n 'beer_n_Edelweiss Weissbier Snowfresh.csv',\n 'beer_n_Lagunitas India Pale Ale (IPA).csv',\n 'beer_n_San Miguel.csv',\n 'beer_n_Desperados Red.csv',\n 'beer_n_7Bräu Gompyo Wheatbeer.csv',\n 'beer_n_Hite Prime Max.csv',\n 'beer_n_HiteJinro Filite Fresh Cool & Clear.csv',\n \"beer_n_Queen's Ale Blonde Type.csv\",\n 'beer_n_Red Rock.csv',\n 'beer_n_7Bräu Korea Pale Ale.csv',\n 'beer_n_Goose Island 312 Urban Wheat Ale.csv',\n 'beer_n_Löwenbräu Original (4.2%).csv',\n 'beer_n_Kirin Ichiban.csv',\n 'beer_n_OB Premier Pilsner.csv',\n 'beer_n_Jeju Pellong Ale.csv',\n 'beer_n_Ballast Point Sculpin IPA.csv',\n 'beer_n_Tiger Beer.csv',\n 'beer_n_ARK Hug Me.csv',\n 'beer_n_Hoegaarden.csv',\n 'beer_n_Victoria Bitter.csv',\n 'beer_n_Hop House 13 Lager.csv',\n 'beer_n_Blue Girl (5.0%).csv',\n 'beer_n_ARK Classic.csv',\n 'beer_n_Bright Leaf Peeper Red IPA.csv',\n 'beer_n_Kabrew Golden Ale.csv',\n 'beer_n_FiLite.csv',\n 'beer_n_Berliner Kindl Jubiläums Pilsener Premium.csv',\n 'beer_n_ARK Be High IPA.csv',\n 'beer_n_Cass Light.csv',\n 'beer_n_Samuel Adams Irish Red Ale.csv',\n 'beer_n_Kabrew Gyeongbokgung Royal Pride IPA.csv',\n \"beer_n_Beck's.csv\",\n 'beer_n_Bintang Pilsener.csv',\n 'beer_n_Gambrinus Originál 10° (Desítka).csv']"
     },
     "execution_count": 49,
     "metadata": {},
     "output_type": "execute_result"
    }
   ]
  },
  {
   "cell_type": "code",
   "source": [
    "# tmp = pd.read_csv('/content/drive/MyDrive/data/' + beer_csv_list[0], index_col=0)\n",
    "tmp = pd.read_csv('./data/' + beer_csv_list[0], index_col=0)\n",
    "tmp"
   ],
   "metadata": {
    "colab": {
     "base_uri": "https://localhost:8080/",
     "height": 659
    },
    "id": "VzKl8ny63ps-",
    "executionInfo": {
     "status": "ok",
     "timestamp": 1665539225095,
     "user_tz": -540,
     "elapsed": 544,
     "user": {
      "displayName": "So Yeon Lee",
      "userId": "01771365654963141477"
     }
    },
    "outputId": "e9fecd17-1875-478a-e908-6713835239d2"
   },
   "execution_count": 50,
   "outputs": [
    {
     "data": {
      "text/plain": "                                                  맥주정보                 검색이름  \\\n0    Misek93(36)\\nBelgrade\\n3.0October 15, 2022\\nPo...  weissbier naturtrub   \n1    reidyboy(1,002)\\n🇬🇧Shrewsbury, England\\n3.6Oct...  weissbier naturtrub   \n2    micia600(303)\\n🇵🇱Warsaw, Poland\\n3.8September ...  weissbier naturtrub   \n3    DraftLove69(1)\\n🇬🇷Greece\\n4.1September 4, 2022...  weissbier naturtrub   \n4    Derbeth(2,051)\\n🇵🇱Kraków, Poland\\n3.4September...  weissbier naturtrub   \n..                                                 ...                  ...   \n580  meggark(9)\\n3.8June 3, 2016\\nPours dark orange...  weissbier naturtrub   \n581  Fafnoscie(486)\\n🇵🇱Poland\\n4.4June 1, 2016\\nPiw...  weissbier naturtrub   \n582  Jury(288)\\n🇷🇺Russia\\n3.7May 31, 2016\\nХорошее ...  weissbier naturtrub   \n583  jflopsu(1,862)\\n🇺🇸Somerset, United States\\n3.8...  weissbier naturtrub   \n584  UFleku(55)\\n🇰🇷South Korea\\n4.3May 28, 2016\\nAr...  weissbier naturtrub   \n\n                                                  맥주이름  \\\n0    Franziskaner Hefe-Weissbier / Weissbier Naturtrub   \n1    Franziskaner Hefe-Weissbier / Weissbier Naturtrub   \n2    Franziskaner Hefe-Weissbier / Weissbier Naturtrub   \n3    Franziskaner Hefe-Weissbier / Weissbier Naturtrub   \n4    Franziskaner Hefe-Weissbier / Weissbier Naturtrub   \n..                                                 ...   \n580  Franziskaner Hefe-Weissbier / Weissbier Naturtrub   \n581  Franziskaner Hefe-Weissbier / Weissbier Naturtrub   \n582  Franziskaner Hefe-Weissbier / Weissbier Naturtrub   \n583  Franziskaner Hefe-Weissbier / Weissbier Naturtrub   \n584  Franziskaner Hefe-Weissbier / Weissbier Naturtrub   \n\n                         맥주회사                         맥주원산지  \\\n0    Spaten-Franziskaner-Bräu  🇩🇪 München, Bavaria, Germany   \n1    Spaten-Franziskaner-Bräu  🇩🇪 München, Bavaria, Germany   \n2    Spaten-Franziskaner-Bräu  🇩🇪 München, Bavaria, Germany   \n3    Spaten-Franziskaner-Bräu  🇩🇪 München, Bavaria, Germany   \n4    Spaten-Franziskaner-Bräu  🇩🇪 München, Bavaria, Germany   \n..                        ...                           ...   \n580  Spaten-Franziskaner-Bräu  🇩🇪 München, Bavaria, Germany   \n581  Spaten-Franziskaner-Bräu  🇩🇪 München, Bavaria, Germany   \n582  Spaten-Franziskaner-Bräu  🇩🇪 München, Bavaria, Germany   \n583  Spaten-Franziskaner-Bräu  🇩🇪 München, Bavaria, Germany   \n584  Spaten-Franziskaner-Bräu  🇩🇪 München, Bavaria, Germany   \n\n                       맥주종류  맥주도수  맥주IBU  맥주평점                 맥주설명  \\\n0    Weissbier - Hefeweizen  5.0%    NaN  3.73  Bottle: Unfiltered…   \n1    Weissbier - Hefeweizen  5.0%    NaN  3.73  Bottle: Unfiltered…   \n2    Weissbier - Hefeweizen  5.0%    NaN  3.73  Bottle: Unfiltered…   \n3    Weissbier - Hefeweizen  5.0%    NaN  3.73  Bottle: Unfiltered…   \n4    Weissbier - Hefeweizen  5.0%    NaN  3.73  Bottle: Unfiltered…   \n..                      ...   ...    ...   ...                  ...   \n580  Weissbier - Hefeweizen  5.0%    NaN  3.73  Bottle: Unfiltered…   \n581  Weissbier - Hefeweizen  5.0%    NaN  3.73  Bottle: Unfiltered…   \n582  Weissbier - Hefeweizen  5.0%    NaN  3.73  Bottle: Unfiltered…   \n583  Weissbier - Hefeweizen  5.0%    NaN  3.73  Bottle: Unfiltered…   \n584  Weissbier - Hefeweizen  5.0%    NaN  3.73  Bottle: Unfiltered…   \n\n                 맥주칼로리  \n0    150 cal per 355ml  \n1    150 cal per 355ml  \n2    150 cal per 355ml  \n3    150 cal per 355ml  \n4    150 cal per 355ml  \n..                 ...  \n580  150 cal per 355ml  \n581  150 cal per 355ml  \n582  150 cal per 355ml  \n583  150 cal per 355ml  \n584  150 cal per 355ml  \n\n[585 rows x 11 columns]",
      "text/html": "<div>\n<style scoped>\n    .dataframe tbody tr th:only-of-type {\n        vertical-align: middle;\n    }\n\n    .dataframe tbody tr th {\n        vertical-align: top;\n    }\n\n    .dataframe thead th {\n        text-align: right;\n    }\n</style>\n<table border=\"1\" class=\"dataframe\">\n  <thead>\n    <tr style=\"text-align: right;\">\n      <th></th>\n      <th>맥주정보</th>\n      <th>검색이름</th>\n      <th>맥주이름</th>\n      <th>맥주회사</th>\n      <th>맥주원산지</th>\n      <th>맥주종류</th>\n      <th>맥주도수</th>\n      <th>맥주IBU</th>\n      <th>맥주평점</th>\n      <th>맥주설명</th>\n      <th>맥주칼로리</th>\n    </tr>\n  </thead>\n  <tbody>\n    <tr>\n      <th>0</th>\n      <td>Misek93(36)\\nBelgrade\\n3.0October 15, 2022\\nPo...</td>\n      <td>weissbier naturtrub</td>\n      <td>Franziskaner Hefe-Weissbier / Weissbier Naturtrub</td>\n      <td>Spaten-Franziskaner-Bräu</td>\n      <td>🇩🇪 München, Bavaria, Germany</td>\n      <td>Weissbier - Hefeweizen</td>\n      <td>5.0%</td>\n      <td>NaN</td>\n      <td>3.73</td>\n      <td>Bottle: Unfiltered…</td>\n      <td>150 cal per 355ml</td>\n    </tr>\n    <tr>\n      <th>1</th>\n      <td>reidyboy(1,002)\\n🇬🇧Shrewsbury, England\\n3.6Oct...</td>\n      <td>weissbier naturtrub</td>\n      <td>Franziskaner Hefe-Weissbier / Weissbier Naturtrub</td>\n      <td>Spaten-Franziskaner-Bräu</td>\n      <td>🇩🇪 München, Bavaria, Germany</td>\n      <td>Weissbier - Hefeweizen</td>\n      <td>5.0%</td>\n      <td>NaN</td>\n      <td>3.73</td>\n      <td>Bottle: Unfiltered…</td>\n      <td>150 cal per 355ml</td>\n    </tr>\n    <tr>\n      <th>2</th>\n      <td>micia600(303)\\n🇵🇱Warsaw, Poland\\n3.8September ...</td>\n      <td>weissbier naturtrub</td>\n      <td>Franziskaner Hefe-Weissbier / Weissbier Naturtrub</td>\n      <td>Spaten-Franziskaner-Bräu</td>\n      <td>🇩🇪 München, Bavaria, Germany</td>\n      <td>Weissbier - Hefeweizen</td>\n      <td>5.0%</td>\n      <td>NaN</td>\n      <td>3.73</td>\n      <td>Bottle: Unfiltered…</td>\n      <td>150 cal per 355ml</td>\n    </tr>\n    <tr>\n      <th>3</th>\n      <td>DraftLove69(1)\\n🇬🇷Greece\\n4.1September 4, 2022...</td>\n      <td>weissbier naturtrub</td>\n      <td>Franziskaner Hefe-Weissbier / Weissbier Naturtrub</td>\n      <td>Spaten-Franziskaner-Bräu</td>\n      <td>🇩🇪 München, Bavaria, Germany</td>\n      <td>Weissbier - Hefeweizen</td>\n      <td>5.0%</td>\n      <td>NaN</td>\n      <td>3.73</td>\n      <td>Bottle: Unfiltered…</td>\n      <td>150 cal per 355ml</td>\n    </tr>\n    <tr>\n      <th>4</th>\n      <td>Derbeth(2,051)\\n🇵🇱Kraków, Poland\\n3.4September...</td>\n      <td>weissbier naturtrub</td>\n      <td>Franziskaner Hefe-Weissbier / Weissbier Naturtrub</td>\n      <td>Spaten-Franziskaner-Bräu</td>\n      <td>🇩🇪 München, Bavaria, Germany</td>\n      <td>Weissbier - Hefeweizen</td>\n      <td>5.0%</td>\n      <td>NaN</td>\n      <td>3.73</td>\n      <td>Bottle: Unfiltered…</td>\n      <td>150 cal per 355ml</td>\n    </tr>\n    <tr>\n      <th>...</th>\n      <td>...</td>\n      <td>...</td>\n      <td>...</td>\n      <td>...</td>\n      <td>...</td>\n      <td>...</td>\n      <td>...</td>\n      <td>...</td>\n      <td>...</td>\n      <td>...</td>\n      <td>...</td>\n    </tr>\n    <tr>\n      <th>580</th>\n      <td>meggark(9)\\n3.8June 3, 2016\\nPours dark orange...</td>\n      <td>weissbier naturtrub</td>\n      <td>Franziskaner Hefe-Weissbier / Weissbier Naturtrub</td>\n      <td>Spaten-Franziskaner-Bräu</td>\n      <td>🇩🇪 München, Bavaria, Germany</td>\n      <td>Weissbier - Hefeweizen</td>\n      <td>5.0%</td>\n      <td>NaN</td>\n      <td>3.73</td>\n      <td>Bottle: Unfiltered…</td>\n      <td>150 cal per 355ml</td>\n    </tr>\n    <tr>\n      <th>581</th>\n      <td>Fafnoscie(486)\\n🇵🇱Poland\\n4.4June 1, 2016\\nPiw...</td>\n      <td>weissbier naturtrub</td>\n      <td>Franziskaner Hefe-Weissbier / Weissbier Naturtrub</td>\n      <td>Spaten-Franziskaner-Bräu</td>\n      <td>🇩🇪 München, Bavaria, Germany</td>\n      <td>Weissbier - Hefeweizen</td>\n      <td>5.0%</td>\n      <td>NaN</td>\n      <td>3.73</td>\n      <td>Bottle: Unfiltered…</td>\n      <td>150 cal per 355ml</td>\n    </tr>\n    <tr>\n      <th>582</th>\n      <td>Jury(288)\\n🇷🇺Russia\\n3.7May 31, 2016\\nХорошее ...</td>\n      <td>weissbier naturtrub</td>\n      <td>Franziskaner Hefe-Weissbier / Weissbier Naturtrub</td>\n      <td>Spaten-Franziskaner-Bräu</td>\n      <td>🇩🇪 München, Bavaria, Germany</td>\n      <td>Weissbier - Hefeweizen</td>\n      <td>5.0%</td>\n      <td>NaN</td>\n      <td>3.73</td>\n      <td>Bottle: Unfiltered…</td>\n      <td>150 cal per 355ml</td>\n    </tr>\n    <tr>\n      <th>583</th>\n      <td>jflopsu(1,862)\\n🇺🇸Somerset, United States\\n3.8...</td>\n      <td>weissbier naturtrub</td>\n      <td>Franziskaner Hefe-Weissbier / Weissbier Naturtrub</td>\n      <td>Spaten-Franziskaner-Bräu</td>\n      <td>🇩🇪 München, Bavaria, Germany</td>\n      <td>Weissbier - Hefeweizen</td>\n      <td>5.0%</td>\n      <td>NaN</td>\n      <td>3.73</td>\n      <td>Bottle: Unfiltered…</td>\n      <td>150 cal per 355ml</td>\n    </tr>\n    <tr>\n      <th>584</th>\n      <td>UFleku(55)\\n🇰🇷South Korea\\n4.3May 28, 2016\\nAr...</td>\n      <td>weissbier naturtrub</td>\n      <td>Franziskaner Hefe-Weissbier / Weissbier Naturtrub</td>\n      <td>Spaten-Franziskaner-Bräu</td>\n      <td>🇩🇪 München, Bavaria, Germany</td>\n      <td>Weissbier - Hefeweizen</td>\n      <td>5.0%</td>\n      <td>NaN</td>\n      <td>3.73</td>\n      <td>Bottle: Unfiltered…</td>\n      <td>150 cal per 355ml</td>\n    </tr>\n  </tbody>\n</table>\n<p>585 rows × 11 columns</p>\n</div>"
     },
     "execution_count": 50,
     "metadata": {},
     "output_type": "execute_result"
    }
   ]
  },
  {
   "cell_type": "code",
   "source": [
    "# 병합 작업\n",
    "for i in range(len(beer_csv_list)):\n",
    "  try:\n",
    "    # tmp = pd.read_csv('/content/drive/MyDrive/data/' + beer_csv_list[i], index_col=0)\n",
    "    tmp = pd.read_csv('./data/' + beer_csv_list[i], index_col=0)\n",
    "    data = pd.concat([data, tmp])\n",
    "  except:\n",
    "    # 오류 발 시 넘어가기\n",
    "    print(i, '번재에서 오류가 발생했음. 다음 파일로 넘어감.')"
   ],
   "metadata": {
    "id": "xqcOKNBG2l59",
    "executionInfo": {
     "status": "ok",
     "timestamp": 1665539274578,
     "user_tz": -540,
     "elapsed": 27448,
     "user": {
      "displayName": "So Yeon Lee",
      "userId": "01771365654963141477"
     }
    }
   },
   "execution_count": 51,
   "outputs": []
  },
  {
   "cell_type": "code",
   "source": [
    "data.shape"
   ],
   "metadata": {
    "colab": {
     "base_uri": "https://localhost:8080/"
    },
    "id": "Va5ow63W4I8_",
    "executionInfo": {
     "status": "ok",
     "timestamp": 1665539296046,
     "user_tz": -540,
     "elapsed": 7,
     "user": {
      "displayName": "So Yeon Lee",
      "userId": "01771365654963141477"
     }
    },
    "outputId": "f395d2b1-749b-4c13-8b44-d3f05c718c01"
   },
   "execution_count": 52,
   "outputs": [
    {
     "data": {
      "text/plain": "(87915, 11)"
     },
     "execution_count": 52,
     "metadata": {},
     "output_type": "execute_result"
    }
   ]
  },
  {
   "cell_type": "code",
   "source": [
    "# 합친 데이터 저장하기\n",
    "data.to_csv('맥주전처리데이터.csv', encoding='utf-8')"
   ],
   "metadata": {
    "id": "7_ziW9cy3oOZ",
    "executionInfo": {
     "status": "ok",
     "timestamp": 1665539335965,
     "user_tz": -540,
     "elapsed": 1527,
     "user": {
      "displayName": "So Yeon Lee",
      "userId": "01771365654963141477"
     }
    }
   },
   "execution_count": 53,
   "outputs": []
  },
  {
   "cell_type": "code",
   "source": [
    "# 맥주 전처리 데이터 확인\n",
    "data = pd.read_csv('./맥주전처리데이터.csv')\n",
    "data.head()"
   ],
   "metadata": {
    "colab": {
     "base_uri": "https://localhost:8080/",
     "height": 354
    },
    "id": "tbWz0Csx4Sd4",
    "executionInfo": {
     "status": "ok",
     "timestamp": 1665539504794,
     "user_tz": -540,
     "elapsed": 873,
     "user": {
      "displayName": "So Yeon Lee",
      "userId": "01771365654963141477"
     }
    },
    "outputId": "ad45b274-80ac-4b90-df6b-887ccbbc60ee"
   },
   "execution_count": 54,
   "outputs": [
    {
     "data": {
      "text/plain": "   Unnamed: 0                                               맥주정보  \\\n0           0  Misek93(36)\\nBelgrade\\n3.0October 15, 2022\\nPo...   \n1           1  reidyboy(1,002)\\n🇬🇧Shrewsbury, England\\n3.6Oct...   \n2           2  micia600(303)\\n🇵🇱Warsaw, Poland\\n3.8September ...   \n3           3  DraftLove69(1)\\n🇬🇷Greece\\n4.1September 4, 2022...   \n4           4  Derbeth(2,051)\\n🇵🇱Kraków, Poland\\n3.4September...   \n\n                  검색이름                                               맥주이름  \\\n0  weissbier naturtrub  Franziskaner Hefe-Weissbier / Weissbier Naturtrub   \n1  weissbier naturtrub  Franziskaner Hefe-Weissbier / Weissbier Naturtrub   \n2  weissbier naturtrub  Franziskaner Hefe-Weissbier / Weissbier Naturtrub   \n3  weissbier naturtrub  Franziskaner Hefe-Weissbier / Weissbier Naturtrub   \n4  weissbier naturtrub  Franziskaner Hefe-Weissbier / Weissbier Naturtrub   \n\n                       맥주회사                         맥주원산지  \\\n0  Spaten-Franziskaner-Bräu  🇩🇪 München, Bavaria, Germany   \n1  Spaten-Franziskaner-Bräu  🇩🇪 München, Bavaria, Germany   \n2  Spaten-Franziskaner-Bräu  🇩🇪 München, Bavaria, Germany   \n3  Spaten-Franziskaner-Bräu  🇩🇪 München, Bavaria, Germany   \n4  Spaten-Franziskaner-Bräu  🇩🇪 München, Bavaria, Germany   \n\n                     맥주종류  맥주도수 맥주IBU  맥주평점                 맥주설명  \\\n0  Weissbier - Hefeweizen  5.0%   NaN  3.73  Bottle: Unfiltered…   \n1  Weissbier - Hefeweizen  5.0%   NaN  3.73  Bottle: Unfiltered…   \n2  Weissbier - Hefeweizen  5.0%   NaN  3.73  Bottle: Unfiltered…   \n3  Weissbier - Hefeweizen  5.0%   NaN  3.73  Bottle: Unfiltered…   \n4  Weissbier - Hefeweizen  5.0%   NaN  3.73  Bottle: Unfiltered…   \n\n               맥주칼로리  \n0  150 cal per 355ml  \n1  150 cal per 355ml  \n2  150 cal per 355ml  \n3  150 cal per 355ml  \n4  150 cal per 355ml  ",
      "text/html": "<div>\n<style scoped>\n    .dataframe tbody tr th:only-of-type {\n        vertical-align: middle;\n    }\n\n    .dataframe tbody tr th {\n        vertical-align: top;\n    }\n\n    .dataframe thead th {\n        text-align: right;\n    }\n</style>\n<table border=\"1\" class=\"dataframe\">\n  <thead>\n    <tr style=\"text-align: right;\">\n      <th></th>\n      <th>Unnamed: 0</th>\n      <th>맥주정보</th>\n      <th>검색이름</th>\n      <th>맥주이름</th>\n      <th>맥주회사</th>\n      <th>맥주원산지</th>\n      <th>맥주종류</th>\n      <th>맥주도수</th>\n      <th>맥주IBU</th>\n      <th>맥주평점</th>\n      <th>맥주설명</th>\n      <th>맥주칼로리</th>\n    </tr>\n  </thead>\n  <tbody>\n    <tr>\n      <th>0</th>\n      <td>0</td>\n      <td>Misek93(36)\\nBelgrade\\n3.0October 15, 2022\\nPo...</td>\n      <td>weissbier naturtrub</td>\n      <td>Franziskaner Hefe-Weissbier / Weissbier Naturtrub</td>\n      <td>Spaten-Franziskaner-Bräu</td>\n      <td>🇩🇪 München, Bavaria, Germany</td>\n      <td>Weissbier - Hefeweizen</td>\n      <td>5.0%</td>\n      <td>NaN</td>\n      <td>3.73</td>\n      <td>Bottle: Unfiltered…</td>\n      <td>150 cal per 355ml</td>\n    </tr>\n    <tr>\n      <th>1</th>\n      <td>1</td>\n      <td>reidyboy(1,002)\\n🇬🇧Shrewsbury, England\\n3.6Oct...</td>\n      <td>weissbier naturtrub</td>\n      <td>Franziskaner Hefe-Weissbier / Weissbier Naturtrub</td>\n      <td>Spaten-Franziskaner-Bräu</td>\n      <td>🇩🇪 München, Bavaria, Germany</td>\n      <td>Weissbier - Hefeweizen</td>\n      <td>5.0%</td>\n      <td>NaN</td>\n      <td>3.73</td>\n      <td>Bottle: Unfiltered…</td>\n      <td>150 cal per 355ml</td>\n    </tr>\n    <tr>\n      <th>2</th>\n      <td>2</td>\n      <td>micia600(303)\\n🇵🇱Warsaw, Poland\\n3.8September ...</td>\n      <td>weissbier naturtrub</td>\n      <td>Franziskaner Hefe-Weissbier / Weissbier Naturtrub</td>\n      <td>Spaten-Franziskaner-Bräu</td>\n      <td>🇩🇪 München, Bavaria, Germany</td>\n      <td>Weissbier - Hefeweizen</td>\n      <td>5.0%</td>\n      <td>NaN</td>\n      <td>3.73</td>\n      <td>Bottle: Unfiltered…</td>\n      <td>150 cal per 355ml</td>\n    </tr>\n    <tr>\n      <th>3</th>\n      <td>3</td>\n      <td>DraftLove69(1)\\n🇬🇷Greece\\n4.1September 4, 2022...</td>\n      <td>weissbier naturtrub</td>\n      <td>Franziskaner Hefe-Weissbier / Weissbier Naturtrub</td>\n      <td>Spaten-Franziskaner-Bräu</td>\n      <td>🇩🇪 München, Bavaria, Germany</td>\n      <td>Weissbier - Hefeweizen</td>\n      <td>5.0%</td>\n      <td>NaN</td>\n      <td>3.73</td>\n      <td>Bottle: Unfiltered…</td>\n      <td>150 cal per 355ml</td>\n    </tr>\n    <tr>\n      <th>4</th>\n      <td>4</td>\n      <td>Derbeth(2,051)\\n🇵🇱Kraków, Poland\\n3.4September...</td>\n      <td>weissbier naturtrub</td>\n      <td>Franziskaner Hefe-Weissbier / Weissbier Naturtrub</td>\n      <td>Spaten-Franziskaner-Bräu</td>\n      <td>🇩🇪 München, Bavaria, Germany</td>\n      <td>Weissbier - Hefeweizen</td>\n      <td>5.0%</td>\n      <td>NaN</td>\n      <td>3.73</td>\n      <td>Bottle: Unfiltered…</td>\n      <td>150 cal per 355ml</td>\n    </tr>\n  </tbody>\n</table>\n</div>"
     },
     "execution_count": 54,
     "metadata": {},
     "output_type": "execute_result"
    }
   ]
  },
  {
   "cell_type": "code",
   "source": [
    "data.info()"
   ],
   "metadata": {
    "colab": {
     "base_uri": "https://localhost:8080/"
    },
    "id": "wyg2bXGc4_AG",
    "executionInfo": {
     "status": "ok",
     "timestamp": 1665539515282,
     "user_tz": -540,
     "elapsed": 341,
     "user": {
      "displayName": "So Yeon Lee",
      "userId": "01771365654963141477"
     }
    },
    "outputId": "a0cd31cf-9839-4c27-fe3f-9c0e444df003"
   },
   "execution_count": 55,
   "outputs": [
    {
     "name": "stdout",
     "output_type": "stream",
     "text": [
      "<class 'pandas.core.frame.DataFrame'>\n",
      "RangeIndex: 87915 entries, 0 to 87914\n",
      "Data columns (total 12 columns):\n",
      " #   Column      Non-Null Count  Dtype  \n",
      "---  ------      --------------  -----  \n",
      " 0   Unnamed: 0  87915 non-null  int64  \n",
      " 1   맥주정보        87915 non-null  object \n",
      " 2   검색이름        87915 non-null  object \n",
      " 3   맥주이름        87915 non-null  object \n",
      " 4   맥주회사        87915 non-null  object \n",
      " 5   맥주원산지       87915 non-null  object \n",
      " 6   맥주종류        87915 non-null  object \n",
      " 7   맥주도수        87915 non-null  object \n",
      " 8   맥주IBU       27523 non-null  object \n",
      " 9   맥주평점        87915 non-null  float64\n",
      " 10  맥주설명        86662 non-null  object \n",
      " 11  맥주칼로리       86733 non-null  object \n",
      "dtypes: float64(1), int64(1), object(10)\n",
      "memory usage: 8.0+ MB\n"
     ]
    }
   ]
  },
  {
   "cell_type": "markdown",
   "source": [
    "# 전처리 작업"
   ],
   "metadata": {
    "id": "CdVHqPNY5DgG"
   }
  },
  {
   "cell_type": "code",
   "source": [
    "import pandas as pd"
   ],
   "metadata": {
    "id": "zEEtnq4q5B_o",
    "executionInfo": {
     "status": "ok",
     "timestamp": 1665539548105,
     "user_tz": -540,
     "elapsed": 2,
     "user": {
      "displayName": "So Yeon Lee",
      "userId": "01771365654963141477"
     }
    }
   },
   "execution_count": 56,
   "outputs": []
  },
  {
   "cell_type": "code",
   "source": [
    "data = pd.read_csv('./맥주전처리데이터.csv', encoding='utf-8', index_col=0)\n",
    "# data = pd.read_csv('/content/drive/MyDrive/맥주전처리데이터.csv', encoding='utf-8', index_col=0)"
   ],
   "metadata": {
    "id": "R_RDKDZo5J-0",
    "executionInfo": {
     "status": "ok",
     "timestamp": 1665539674655,
     "user_tz": -540,
     "elapsed": 1999,
     "user": {
      "displayName": "So Yeon Lee",
      "userId": "01771365654963141477"
     }
    }
   },
   "execution_count": 57,
   "outputs": []
  },
  {
   "cell_type": "code",
   "source": [
    "data"
   ],
   "metadata": {
    "colab": {
     "base_uri": "https://localhost:8080/",
     "height": 659
    },
    "id": "fl6iOGii5och",
    "executionInfo": {
     "status": "ok",
     "timestamp": 1665539678376,
     "user_tz": -540,
     "elapsed": 12,
     "user": {
      "displayName": "So Yeon Lee",
      "userId": "01771365654963141477"
     }
    },
    "outputId": "9809ab5e-5290-49af-fcd5-40eb66d74d61"
   },
   "execution_count": 58,
   "outputs": [
    {
     "data": {
      "text/plain": "                                                  맥주정보                 검색이름  \\\n0    Misek93(36)\\nBelgrade\\n3.0October 15, 2022\\nPo...  weissbier naturtrub   \n1    reidyboy(1,002)\\n🇬🇧Shrewsbury, England\\n3.6Oct...  weissbier naturtrub   \n2    micia600(303)\\n🇵🇱Warsaw, Poland\\n3.8September ...  weissbier naturtrub   \n3    DraftLove69(1)\\n🇬🇷Greece\\n4.1September 4, 2022...  weissbier naturtrub   \n4    Derbeth(2,051)\\n🇵🇱Kraków, Poland\\n3.4September...  weissbier naturtrub   \n..                                                 ...                  ...   \n440  caesar(7,642)\\n🇳🇱Bunnik, Netherlands\\n1.9Augus...   Gambrinus Original   \n441  Boystout(1,000)\\n🇲🇩Chisinau, Moldova\\n3.2Augus...   Gambrinus Original   \n442  foduck(330)\\n🇺🇸Seattle, United States\\n2.3Marc...   Gambrinus Original   \n443  motelpogo(7,696)\\n🇨🇿Plzen, Czech Republic\\n2.7...   Gambrinus Original   \n444  eczematic(1,332)\\n🇦🇺Adelaide, Australia\\n2.6Oc...   Gambrinus Original   \n\n                                                  맥주이름  \\\n0    Franziskaner Hefe-Weissbier / Weissbier Naturtrub   \n1    Franziskaner Hefe-Weissbier / Weissbier Naturtrub   \n2    Franziskaner Hefe-Weissbier / Weissbier Naturtrub   \n3    Franziskaner Hefe-Weissbier / Weissbier Naturtrub   \n4    Franziskaner Hefe-Weissbier / Weissbier Naturtrub   \n..                                                 ...   \n440                   Gambrinus Originál 10° (Desítka)   \n441                   Gambrinus Originál 10° (Desítka)   \n442                   Gambrinus Originál 10° (Desítka)   \n443                   Gambrinus Originál 10° (Desítka)   \n444                   Gambrinus Originál 10° (Desítka)   \n\n                          맥주회사                                    맥주원산지  \\\n0     Spaten-Franziskaner-Bräu             🇩🇪 München, Bavaria, Germany   \n1     Spaten-Franziskaner-Bräu             🇩🇪 München, Bavaria, Germany   \n2     Spaten-Franziskaner-Bräu             🇩🇪 München, Bavaria, Germany   \n3     Spaten-Franziskaner-Bräu             🇩🇪 München, Bavaria, Germany   \n4     Spaten-Franziskaner-Bräu             🇩🇪 München, Bavaria, Germany   \n..                         ...                                      ...   \n440  Plzeňský Prazdroj (Asahi)  🇨🇿 Pilsen, Plzen Region, Czech Republic   \n441  Plzeňský Prazdroj (Asahi)  🇨🇿 Pilsen, Plzen Region, Czech Republic   \n442  Plzeňský Prazdroj (Asahi)  🇨🇿 Pilsen, Plzen Region, Czech Republic   \n443  Plzeňský Prazdroj (Asahi)  🇨🇿 Pilsen, Plzen Region, Czech Republic   \n444  Plzeňský Prazdroj (Asahi)  🇨🇿 Pilsen, Plzen Region, Czech Republic   \n\n                            맥주종류  맥주도수 맥주IBU  맥주평점  \\\n0         Weissbier - Hefeweizen  5.0%   NaN  3.73   \n1         Weissbier - Hefeweizen  5.0%   NaN  3.73   \n2         Weissbier - Hefeweizen  5.0%   NaN  3.73   \n3         Weissbier - Hefeweizen  5.0%   NaN  3.73   \n4         Weissbier - Hefeweizen  5.0%   NaN  3.73   \n..                           ...   ...   ...   ...   \n440  Pilsener - Bohemian / Czech  4.3%   NaN  2.60   \n441  Pilsener - Bohemian / Czech  4.3%   NaN  2.60   \n442  Pilsener - Bohemian / Czech  4.3%   NaN  2.60   \n443  Pilsener - Bohemian / Czech  4.3%   NaN  2.60   \n444  Pilsener - Bohemian / Czech  4.3%   NaN  2.60   \n\n                                                  맥주설명              맥주칼로리  \n0                                  Bottle: Unfiltered…  150 cal per 355ml  \n1                                  Bottle: Unfiltered…  150 cal per 355ml  \n2                                  Bottle: Unfiltered…  150 cal per 355ml  \n3                                  Bottle: Unfiltered…  150 cal per 355ml  \n4                                  Bottle: Unfiltered…  150 cal per 355ml  \n..                                                 ...                ...  \n440  I mimo hospodu naše desítka spolehlivě osvěží....  129 cal per 355ml  \n441  I mimo hospodu naše desítka spolehlivě osvěží....  129 cal per 355ml  \n442  I mimo hospodu naše desítka spolehlivě osvěží....  129 cal per 355ml  \n443  I mimo hospodu naše desítka spolehlivě osvěží....  129 cal per 355ml  \n444  I mimo hospodu naše desítka spolehlivě osvěží....  129 cal per 355ml  \n\n[87915 rows x 11 columns]",
      "text/html": "<div>\n<style scoped>\n    .dataframe tbody tr th:only-of-type {\n        vertical-align: middle;\n    }\n\n    .dataframe tbody tr th {\n        vertical-align: top;\n    }\n\n    .dataframe thead th {\n        text-align: right;\n    }\n</style>\n<table border=\"1\" class=\"dataframe\">\n  <thead>\n    <tr style=\"text-align: right;\">\n      <th></th>\n      <th>맥주정보</th>\n      <th>검색이름</th>\n      <th>맥주이름</th>\n      <th>맥주회사</th>\n      <th>맥주원산지</th>\n      <th>맥주종류</th>\n      <th>맥주도수</th>\n      <th>맥주IBU</th>\n      <th>맥주평점</th>\n      <th>맥주설명</th>\n      <th>맥주칼로리</th>\n    </tr>\n  </thead>\n  <tbody>\n    <tr>\n      <th>0</th>\n      <td>Misek93(36)\\nBelgrade\\n3.0October 15, 2022\\nPo...</td>\n      <td>weissbier naturtrub</td>\n      <td>Franziskaner Hefe-Weissbier / Weissbier Naturtrub</td>\n      <td>Spaten-Franziskaner-Bräu</td>\n      <td>🇩🇪 München, Bavaria, Germany</td>\n      <td>Weissbier - Hefeweizen</td>\n      <td>5.0%</td>\n      <td>NaN</td>\n      <td>3.73</td>\n      <td>Bottle: Unfiltered…</td>\n      <td>150 cal per 355ml</td>\n    </tr>\n    <tr>\n      <th>1</th>\n      <td>reidyboy(1,002)\\n🇬🇧Shrewsbury, England\\n3.6Oct...</td>\n      <td>weissbier naturtrub</td>\n      <td>Franziskaner Hefe-Weissbier / Weissbier Naturtrub</td>\n      <td>Spaten-Franziskaner-Bräu</td>\n      <td>🇩🇪 München, Bavaria, Germany</td>\n      <td>Weissbier - Hefeweizen</td>\n      <td>5.0%</td>\n      <td>NaN</td>\n      <td>3.73</td>\n      <td>Bottle: Unfiltered…</td>\n      <td>150 cal per 355ml</td>\n    </tr>\n    <tr>\n      <th>2</th>\n      <td>micia600(303)\\n🇵🇱Warsaw, Poland\\n3.8September ...</td>\n      <td>weissbier naturtrub</td>\n      <td>Franziskaner Hefe-Weissbier / Weissbier Naturtrub</td>\n      <td>Spaten-Franziskaner-Bräu</td>\n      <td>🇩🇪 München, Bavaria, Germany</td>\n      <td>Weissbier - Hefeweizen</td>\n      <td>5.0%</td>\n      <td>NaN</td>\n      <td>3.73</td>\n      <td>Bottle: Unfiltered…</td>\n      <td>150 cal per 355ml</td>\n    </tr>\n    <tr>\n      <th>3</th>\n      <td>DraftLove69(1)\\n🇬🇷Greece\\n4.1September 4, 2022...</td>\n      <td>weissbier naturtrub</td>\n      <td>Franziskaner Hefe-Weissbier / Weissbier Naturtrub</td>\n      <td>Spaten-Franziskaner-Bräu</td>\n      <td>🇩🇪 München, Bavaria, Germany</td>\n      <td>Weissbier - Hefeweizen</td>\n      <td>5.0%</td>\n      <td>NaN</td>\n      <td>3.73</td>\n      <td>Bottle: Unfiltered…</td>\n      <td>150 cal per 355ml</td>\n    </tr>\n    <tr>\n      <th>4</th>\n      <td>Derbeth(2,051)\\n🇵🇱Kraków, Poland\\n3.4September...</td>\n      <td>weissbier naturtrub</td>\n      <td>Franziskaner Hefe-Weissbier / Weissbier Naturtrub</td>\n      <td>Spaten-Franziskaner-Bräu</td>\n      <td>🇩🇪 München, Bavaria, Germany</td>\n      <td>Weissbier - Hefeweizen</td>\n      <td>5.0%</td>\n      <td>NaN</td>\n      <td>3.73</td>\n      <td>Bottle: Unfiltered…</td>\n      <td>150 cal per 355ml</td>\n    </tr>\n    <tr>\n      <th>...</th>\n      <td>...</td>\n      <td>...</td>\n      <td>...</td>\n      <td>...</td>\n      <td>...</td>\n      <td>...</td>\n      <td>...</td>\n      <td>...</td>\n      <td>...</td>\n      <td>...</td>\n      <td>...</td>\n    </tr>\n    <tr>\n      <th>440</th>\n      <td>caesar(7,642)\\n🇳🇱Bunnik, Netherlands\\n1.9Augus...</td>\n      <td>Gambrinus Original</td>\n      <td>Gambrinus Originál 10° (Desítka)</td>\n      <td>Plzeňský Prazdroj (Asahi)</td>\n      <td>🇨🇿 Pilsen, Plzen Region, Czech Republic</td>\n      <td>Pilsener - Bohemian / Czech</td>\n      <td>4.3%</td>\n      <td>NaN</td>\n      <td>2.60</td>\n      <td>I mimo hospodu naše desítka spolehlivě osvěží....</td>\n      <td>129 cal per 355ml</td>\n    </tr>\n    <tr>\n      <th>441</th>\n      <td>Boystout(1,000)\\n🇲🇩Chisinau, Moldova\\n3.2Augus...</td>\n      <td>Gambrinus Original</td>\n      <td>Gambrinus Originál 10° (Desítka)</td>\n      <td>Plzeňský Prazdroj (Asahi)</td>\n      <td>🇨🇿 Pilsen, Plzen Region, Czech Republic</td>\n      <td>Pilsener - Bohemian / Czech</td>\n      <td>4.3%</td>\n      <td>NaN</td>\n      <td>2.60</td>\n      <td>I mimo hospodu naše desítka spolehlivě osvěží....</td>\n      <td>129 cal per 355ml</td>\n    </tr>\n    <tr>\n      <th>442</th>\n      <td>foduck(330)\\n🇺🇸Seattle, United States\\n2.3Marc...</td>\n      <td>Gambrinus Original</td>\n      <td>Gambrinus Originál 10° (Desítka)</td>\n      <td>Plzeňský Prazdroj (Asahi)</td>\n      <td>🇨🇿 Pilsen, Plzen Region, Czech Republic</td>\n      <td>Pilsener - Bohemian / Czech</td>\n      <td>4.3%</td>\n      <td>NaN</td>\n      <td>2.60</td>\n      <td>I mimo hospodu naše desítka spolehlivě osvěží....</td>\n      <td>129 cal per 355ml</td>\n    </tr>\n    <tr>\n      <th>443</th>\n      <td>motelpogo(7,696)\\n🇨🇿Plzen, Czech Republic\\n2.7...</td>\n      <td>Gambrinus Original</td>\n      <td>Gambrinus Originál 10° (Desítka)</td>\n      <td>Plzeňský Prazdroj (Asahi)</td>\n      <td>🇨🇿 Pilsen, Plzen Region, Czech Republic</td>\n      <td>Pilsener - Bohemian / Czech</td>\n      <td>4.3%</td>\n      <td>NaN</td>\n      <td>2.60</td>\n      <td>I mimo hospodu naše desítka spolehlivě osvěží....</td>\n      <td>129 cal per 355ml</td>\n    </tr>\n    <tr>\n      <th>444</th>\n      <td>eczematic(1,332)\\n🇦🇺Adelaide, Australia\\n2.6Oc...</td>\n      <td>Gambrinus Original</td>\n      <td>Gambrinus Originál 10° (Desítka)</td>\n      <td>Plzeňský Prazdroj (Asahi)</td>\n      <td>🇨🇿 Pilsen, Plzen Region, Czech Republic</td>\n      <td>Pilsener - Bohemian / Czech</td>\n      <td>4.3%</td>\n      <td>NaN</td>\n      <td>2.60</td>\n      <td>I mimo hospodu naše desítka spolehlivě osvěží....</td>\n      <td>129 cal per 355ml</td>\n    </tr>\n  </tbody>\n</table>\n<p>87915 rows × 11 columns</p>\n</div>"
     },
     "execution_count": 58,
     "metadata": {},
     "output_type": "execute_result"
    }
   ]
  },
  {
   "cell_type": "code",
   "source": [
    "# raw 맥주정보\n",
    "data['맥주정보'].iloc[0]"
   ],
   "metadata": {
    "colab": {
     "base_uri": "https://localhost:8080/",
     "height": 54
    },
    "id": "YA3vkVUv5ptY",
    "executionInfo": {
     "status": "ok",
     "timestamp": 1665539774805,
     "user_tz": -540,
     "elapsed": 4,
     "user": {
      "displayName": "So Yeon Lee",
      "userId": "01771365654963141477"
     }
    },
    "outputId": "e1075fbf-231c-49fd-d56f-70d144becdba"
   },
   "execution_count": 59,
   "outputs": [
    {
     "data": {
      "text/plain": "'Misek93(36)\\nBelgrade\\n3.0October 15, 2022\\nPours hazy ember orange with thin white head. No carbonation.\\nAroma very bready, yeasty, and slightly sweet.\\nTaste overwhelmingly yeasty, with nice sweet aftertaste. Can…\\nShow more\\nBOTTLE\\nAroma\\n6\\nAppearance\\n2\\nFlavor\\n6\\nMouthfeel\\n3\\nOverall\\n13'"
     },
     "execution_count": 59,
     "metadata": {},
     "output_type": "execute_result"
    }
   ]
  },
  {
   "cell_type": "markdown",
   "source": [
    "## 1, 맥주정보 문자열 분리하기 ('\\n')"
   ],
   "metadata": {
    "id": "Kwn63uzV6FN-"
   }
  },
  {
   "cell_type": "code",
   "source": [
    "tmp = data.copy()"
   ],
   "metadata": {
    "id": "Tqaqdqcg6EuO",
    "executionInfo": {
     "status": "ok",
     "timestamp": 1665539814457,
     "user_tz": -540,
     "elapsed": 5,
     "user": {
      "displayName": "So Yeon Lee",
      "userId": "01771365654963141477"
     }
    }
   },
   "execution_count": 60,
   "outputs": []
  },
  {
   "cell_type": "code",
   "source": [
    "# 개행문자 기준으로 분리\n",
    "tmp['맥주정보'] = tmp['맥주정보'].str.split('\\n')\n",
    "tmp['맥주정보']"
   ],
   "metadata": {
    "colab": {
     "base_uri": "https://localhost:8080/"
    },
    "id": "5iFz1xgu6BUk",
    "executionInfo": {
     "status": "ok",
     "timestamp": 1665539851200,
     "user_tz": -540,
     "elapsed": 526,
     "user": {
      "displayName": "So Yeon Lee",
      "userId": "01771365654963141477"
     }
    },
    "outputId": "72efb7c6-909e-4291-92f5-553a166bc4d4"
   },
   "execution_count": 61,
   "outputs": [
    {
     "data": {
      "text/plain": "0      [Misek93(36), Belgrade, 3.0October 15, 2022, P...\n1      [reidyboy(1,002), 🇬🇧Shrewsbury, England, 3.6Oc...\n2      [micia600(303), 🇵🇱Warsaw, Poland, 3.8September...\n3      [DraftLove69(1), 🇬🇷Greece, 4.1September 4, 202...\n4      [Derbeth(2,051), 🇵🇱Kraków, Poland, 3.4Septembe...\n                             ...                        \n440    [caesar(7,642), 🇳🇱Bunnik, Netherlands, 1.9Augu...\n441    [Boystout(1,000), 🇲🇩Chisinau, Moldova, 3.2Augu...\n442    [foduck(330), 🇺🇸Seattle, United States, 2.3Mar...\n443    [motelpogo(7,696), 🇨🇿Plzen, Czech Republic, 2....\n444    [eczematic(1,332), 🇦🇺Adelaide, Australia, 2.6O...\nName: 맥주정보, Length: 87915, dtype: object"
     },
     "execution_count": 61,
     "metadata": {},
     "output_type": "execute_result"
    }
   ]
  },
  {
   "cell_type": "code",
   "source": [
    "# 분리된 스트링값들을 리스트로 변환된 것 확인\n",
    "tmp['맥주정보'].iloc[0]"
   ],
   "metadata": {
    "colab": {
     "base_uri": "https://localhost:8080/"
    },
    "id": "mI74-BBx6Tx3",
    "executionInfo": {
     "status": "ok",
     "timestamp": 1665539887923,
     "user_tz": -540,
     "elapsed": 2,
     "user": {
      "displayName": "So Yeon Lee",
      "userId": "01771365654963141477"
     }
    },
    "outputId": "7fb719ed-9b34-407e-8789-7ec724df5577"
   },
   "execution_count": 62,
   "outputs": [
    {
     "data": {
      "text/plain": "['Misek93(36)',\n 'Belgrade',\n '3.0October 15, 2022',\n 'Pours hazy ember orange with thin white head. No carbonation.',\n 'Aroma very bready, yeasty, and slightly sweet.',\n 'Taste overwhelmingly yeasty, with nice sweet aftertaste. Can…',\n 'Show more',\n 'BOTTLE',\n 'Aroma',\n '6',\n 'Appearance',\n '2',\n 'Flavor',\n '6',\n 'Mouthfeel',\n '3',\n 'Overall',\n '13']"
     },
     "execution_count": 62,
     "metadata": {},
     "output_type": "execute_result"
    }
   ]
  },
  {
   "cell_type": "markdown",
   "source": [
    "## 2. 좋아요 수 삭제하기\n",
    "\n",
    "- 맥주정보 데이터에서 필요한 데이터는 다음과 같음\n",
    "  - 아이디\n",
    "  - 평점|날짜\n",
    "  - Aroma\n",
    "  - Appearance\n",
    "  - Flavor\n",
    "  - Mouthfeel\n",
    "  - Overall\n",
    "- 위 데이터는 리스트 인덱스로, 앞에서 2개 뒤에서 10개는 꼭 필요\n",
    "- 패턴의 불규칙함\n",
    "  - 아이디, 평점|날짜순\n",
    "  - 아이디, 국적, 평점|날짜\n",
    "  - 아이디, 국적, (불필요값), 평점|날짜"
   ],
   "metadata": {
    "id": "j1lh33yd6epO"
   }
  },
  {
   "cell_type": "code",
   "source": [
    "tmp.shape"
   ],
   "metadata": {
    "colab": {
     "base_uri": "https://localhost:8080/"
    },
    "id": "hYB1ralK6ebf",
    "executionInfo": {
     "status": "ok",
     "timestamp": 1665540034997,
     "user_tz": -540,
     "elapsed": 6,
     "user": {
      "displayName": "So Yeon Lee",
      "userId": "01771365654963141477"
     }
    },
    "outputId": "8ef97975-649c-4a92-cd7a-c7e39962d8da"
   },
   "execution_count": 63,
   "outputs": [
    {
     "data": {
      "text/plain": "(87915, 11)"
     },
     "execution_count": 63,
     "metadata": {},
     "output_type": "execute_result"
    }
   ]
  },
  {
   "cell_type": "code",
   "source": [
    "for i in range(71140, 71143):\n",
    "  print(tmp['맥주정보'].iloc[i], '\\n')"
   ],
   "metadata": {
    "colab": {
     "base_uri": "https://localhost:8080/"
    },
    "id": "xxt5b-nQ6c6F",
    "executionInfo": {
     "status": "ok",
     "timestamp": 1665540093796,
     "user_tz": -540,
     "elapsed": 6,
     "user": {
      "displayName": "So Yeon Lee",
      "userId": "01771365654963141477"
     }
    },
    "outputId": "ee1b8e48-496d-4d6f-f89d-40d30c5b4609"
   },
   "execution_count": 64,
   "outputs": [
    {
     "name": "stdout",
     "output_type": "stream",
     "text": [
      "['Thisis12ptfont(2,956)', '🇺🇸Los Angeles, CA, United States', '2.7July 22, 2012', 'Nuts and dough on the aroma. Pours a see through gold with barely any foam. Flavor is a subtle caramel and nutty malt with a wheat and slightly bitter hop finish. Overall, this is a cheap,…', 'Show more', 'Aroma', '5', 'Appearance', '2', 'Flavor', '5', 'Mouthfeel', '2', 'Overall', '13'] \n",
      "\n",
      "['MorganBaughman(144)', '🇺🇸Long Beach, United States', '3.5July 15, 2012', 'Of course, this beer is great to drink with an Asian dinner. It’s smooth, and we think it tastes similar to Coors Light.', 'Aroma', '6', 'Appearance', '4', 'Flavor', '7', 'Mouthfeel', '4', 'Overall', '14'] \n",
      "\n",
      "['Tricountybeer(167)', '🇺🇸Dillsburg, United States', '4.2July 14, 2012', 'Pours with a bright yellow color,  thin head,  medium level of carbonation. The taste is slightly bitter, crisp, dry except for some bitterness -- in the finish.  GOOD BEER', 'Aroma', '8', 'Appearance', '4', 'Flavor', '9', 'Mouthfeel', '5', 'Overall', '16'] \n",
      "\n"
     ]
    }
   ]
  },
  {
   "cell_type": "code",
   "source": [
    "# 새로운 데이터 ttmp 생성\n",
    "ttmp = tmp.copy()\n",
    "\n",
    "# 맥주 정보 리스트 출력 - 좋아요 수가 기록된 유저 정보\n",
    "# 맨 마지막 9는 좋아요 수임\n",
    "ttmp['맥주정보'].iloc[10]"
   ],
   "metadata": {
    "colab": {
     "base_uri": "https://localhost:8080/"
    },
    "id": "aQAb4PdU7MLZ",
    "executionInfo": {
     "status": "ok",
     "timestamp": 1665540167074,
     "user_tz": -540,
     "elapsed": 7,
     "user": {
      "displayName": "So Yeon Lee",
      "userId": "01771365654963141477"
     }
    },
    "outputId": "33264be8-e221-4396-e166-b77288b6f225"
   },
   "execution_count": 65,
   "outputs": [
    {
     "data": {
      "text/plain": "['jonathan_reviews(101)',\n '🇬🇧Preston, England',\n '4.2July 29, 2022',\n '500ml bottle @ 5% ABV from Waitrose',\n 'Colour is an orang hazy colour which is typical of a weissbier with a one finger white head. Aroma is banana, fruity, malty,…',\n 'Show more',\n 'BOTTLE',\n '@ Waitrose Supermarket (Various locations)',\n 'Aroma',\n '7',\n 'Appearance',\n '4',\n 'Flavor',\n '9',\n 'Mouthfeel',\n '4',\n 'Overall',\n '18']"
     },
     "execution_count": 65,
     "metadata": {},
     "output_type": "execute_result"
    }
   ]
  },
  {
   "cell_type": "markdown",
   "source": [
    "- 좋아요 수가 없는 경우 -> 뒤에서부터 10개의 값 가져와야함\n",
    "- 좋아요 수가 있는 경우 -> 제거한 뒤 10개의 값을 가져와야함"
   ],
   "metadata": {
    "id": "Uhf4Ebew7jNO"
   }
  },
  {
   "cell_type": "code",
   "source": [
    "# 전체 데이터프레임에서 좋아요가 1개인 것 찾아서 맨 뒤에 거 삭제\n",
    "ttmp['맥주정보'] = ttmp['맥주정보'].apply(lambda x: x if x[-2] == 'Overall' else x[:-1])"
   ],
   "metadata": {
    "id": "cbQaR1nI7bid",
    "executionInfo": {
     "status": "ok",
     "timestamp": 1665540263858,
     "user_tz": -540,
     "elapsed": 314,
     "user": {
      "displayName": "So Yeon Lee",
      "userId": "01771365654963141477"
     }
    }
   },
   "execution_count": 66,
   "outputs": []
  },
  {
   "cell_type": "code",
   "source": [
    "# 맥주정보에서 0, 1, 2, 3번째 리스트 요소와 뒤에서부터 10개의 리스트요소(평점값) 추출\n",
    "ttmp['맥주정보'] = ttmp['맥주정보'].apply(lambda x: x[:4] + x[:-11:-1])"
   ],
   "metadata": {
    "id": "-BPakSXL74tI",
    "executionInfo": {
     "status": "ok",
     "timestamp": 1665540311154,
     "user_tz": -540,
     "elapsed": 890,
     "user": {
      "displayName": "So Yeon Lee",
      "userId": "01771365654963141477"
     }
    }
   },
   "execution_count": 67,
   "outputs": []
  },
  {
   "cell_type": "code",
   "source": [
    "# 좋아요 수 정상적으로 삭제되었는지 확인\n",
    "ttmp['맥주정보'].iloc[10]"
   ],
   "metadata": {
    "colab": {
     "base_uri": "https://localhost:8080/"
    },
    "id": "DTrjE3bi8EGL",
    "executionInfo": {
     "status": "ok",
     "timestamp": 1665540395968,
     "user_tz": -540,
     "elapsed": 5,
     "user": {
      "displayName": "So Yeon Lee",
      "userId": "01771365654963141477"
     }
    },
    "outputId": "d66cdcd3-a095-47c4-97a3-55e31c23cdcc"
   },
   "execution_count": 68,
   "outputs": [
    {
     "data": {
      "text/plain": "['jonathan_reviews(101)',\n '🇬🇧Preston, England',\n '4.2July 29, 2022',\n '500ml bottle @ 5% ABV from Waitrose',\n '18',\n 'Overall',\n '4',\n 'Mouthfeel',\n '9',\n 'Flavor',\n '4',\n 'Appearance',\n '7',\n 'Aroma']"
     },
     "execution_count": 68,
     "metadata": {},
     "output_type": "execute_result"
    }
   ]
  },
  {
   "cell_type": "markdown",
   "source": [
    "## 3. 실제 컬럼으로 데이터 분리하기"
   ],
   "metadata": {
    "id": "s99zO8yT8dxo"
   }
  },
  {
   "cell_type": "code",
   "source": [
    "ttmp['ID'] = ttmp['맥주정보'].apply(lambda x: x[0])\n",
    "ttmp['Aroma'] = ttmp['맥주정보'].apply(lambda x: x[-2])\n",
    "ttmp['Appearance'] = ttmp['맥주정보'].apply(lambda x: x[-4])\n",
    "ttmp['Flavor'] = ttmp['맥주정보'].apply(lambda x: x[-6])\n",
    "ttmp['Mouthfeel'] = ttmp['맥주정보'].apply(lambda x: x[-8])\n",
    "ttmp['Overall'] = ttmp['맥주정보'].apply(lambda x: x[-10])"
   ],
   "metadata": {
    "id": "lv781aj08Y61",
    "executionInfo": {
     "status": "ok",
     "timestamp": 1665540514226,
     "user_tz": -540,
     "elapsed": 375,
     "user": {
      "displayName": "So Yeon Lee",
      "userId": "01771365654963141477"
     }
    }
   },
   "execution_count": 69,
   "outputs": []
  },
  {
   "cell_type": "code",
   "source": [
    "# 리스트의 1, 2, 3번쨰 요소(평점날짜 / 이상한 값) 뽑아오기\n",
    "ttmp['맥주정보'] = ttmp['맥주정보'].apply(lambda x: x[1:4])\n",
    "ttmp['길이'] = ttmp['맥주정보'].apply(lambda x: len(x))"
   ],
   "metadata": {
    "id": "bNZV8wrP81zu",
    "executionInfo": {
     "status": "ok",
     "timestamp": 1665540571836,
     "user_tz": -540,
     "elapsed": 329,
     "user": {
      "displayName": "So Yeon Lee",
      "userId": "01771365654963141477"
     }
    }
   },
   "execution_count": 70,
   "outputs": []
  },
  {
   "cell_type": "code",
   "source": [
    "# 결과확인\n",
    "ttmp.head(3)"
   ],
   "metadata": {
    "colab": {
     "base_uri": "https://localhost:8080/",
     "height": 309
    },
    "id": "uyh1v8mM86xC",
    "executionInfo": {
     "status": "ok",
     "timestamp": 1665540600258,
     "user_tz": -540,
     "elapsed": 6,
     "user": {
      "displayName": "So Yeon Lee",
      "userId": "01771365654963141477"
     }
    },
    "outputId": "857abd27-3e04-4f37-a7b5-324ddb869a76"
   },
   "execution_count": 71,
   "outputs": [
    {
     "data": {
      "text/plain": "                                                맥주정보                 검색이름  \\\n0  [Belgrade, 3.0October 15, 2022, Pours hazy emb...  weissbier naturtrub   \n1  [🇬🇧Shrewsbury, England, 3.6October 10, 2022, C...  weissbier naturtrub   \n2  [🇵🇱Warsaw, Poland, 3.8September 15, 2022, Ciem...  weissbier naturtrub   \n\n                                                맥주이름  \\\n0  Franziskaner Hefe-Weissbier / Weissbier Naturtrub   \n1  Franziskaner Hefe-Weissbier / Weissbier Naturtrub   \n2  Franziskaner Hefe-Weissbier / Weissbier Naturtrub   \n\n                       맥주회사                         맥주원산지  \\\n0  Spaten-Franziskaner-Bräu  🇩🇪 München, Bavaria, Germany   \n1  Spaten-Franziskaner-Bräu  🇩🇪 München, Bavaria, Germany   \n2  Spaten-Franziskaner-Bräu  🇩🇪 München, Bavaria, Germany   \n\n                     맥주종류  맥주도수 맥주IBU  맥주평점                 맥주설명  \\\n0  Weissbier - Hefeweizen  5.0%   NaN  3.73  Bottle: Unfiltered…   \n1  Weissbier - Hefeweizen  5.0%   NaN  3.73  Bottle: Unfiltered…   \n2  Weissbier - Hefeweizen  5.0%   NaN  3.73  Bottle: Unfiltered…   \n\n               맥주칼로리               ID Aroma Appearance Flavor Mouthfeel  \\\n0  150 cal per 355ml      Misek93(36)     6          2      6         3   \n1  150 cal per 355ml  reidyboy(1,002)     7          4      7         4   \n2  150 cal per 355ml    micia600(303)     8          4      7         4   \n\n  Overall  길이  \n0      13   3  \n1      14   3  \n2      15   3  ",
      "text/html": "<div>\n<style scoped>\n    .dataframe tbody tr th:only-of-type {\n        vertical-align: middle;\n    }\n\n    .dataframe tbody tr th {\n        vertical-align: top;\n    }\n\n    .dataframe thead th {\n        text-align: right;\n    }\n</style>\n<table border=\"1\" class=\"dataframe\">\n  <thead>\n    <tr style=\"text-align: right;\">\n      <th></th>\n      <th>맥주정보</th>\n      <th>검색이름</th>\n      <th>맥주이름</th>\n      <th>맥주회사</th>\n      <th>맥주원산지</th>\n      <th>맥주종류</th>\n      <th>맥주도수</th>\n      <th>맥주IBU</th>\n      <th>맥주평점</th>\n      <th>맥주설명</th>\n      <th>맥주칼로리</th>\n      <th>ID</th>\n      <th>Aroma</th>\n      <th>Appearance</th>\n      <th>Flavor</th>\n      <th>Mouthfeel</th>\n      <th>Overall</th>\n      <th>길이</th>\n    </tr>\n  </thead>\n  <tbody>\n    <tr>\n      <th>0</th>\n      <td>[Belgrade, 3.0October 15, 2022, Pours hazy emb...</td>\n      <td>weissbier naturtrub</td>\n      <td>Franziskaner Hefe-Weissbier / Weissbier Naturtrub</td>\n      <td>Spaten-Franziskaner-Bräu</td>\n      <td>🇩🇪 München, Bavaria, Germany</td>\n      <td>Weissbier - Hefeweizen</td>\n      <td>5.0%</td>\n      <td>NaN</td>\n      <td>3.73</td>\n      <td>Bottle: Unfiltered…</td>\n      <td>150 cal per 355ml</td>\n      <td>Misek93(36)</td>\n      <td>6</td>\n      <td>2</td>\n      <td>6</td>\n      <td>3</td>\n      <td>13</td>\n      <td>3</td>\n    </tr>\n    <tr>\n      <th>1</th>\n      <td>[🇬🇧Shrewsbury, England, 3.6October 10, 2022, C...</td>\n      <td>weissbier naturtrub</td>\n      <td>Franziskaner Hefe-Weissbier / Weissbier Naturtrub</td>\n      <td>Spaten-Franziskaner-Bräu</td>\n      <td>🇩🇪 München, Bavaria, Germany</td>\n      <td>Weissbier - Hefeweizen</td>\n      <td>5.0%</td>\n      <td>NaN</td>\n      <td>3.73</td>\n      <td>Bottle: Unfiltered…</td>\n      <td>150 cal per 355ml</td>\n      <td>reidyboy(1,002)</td>\n      <td>7</td>\n      <td>4</td>\n      <td>7</td>\n      <td>4</td>\n      <td>14</td>\n      <td>3</td>\n    </tr>\n    <tr>\n      <th>2</th>\n      <td>[🇵🇱Warsaw, Poland, 3.8September 15, 2022, Ciem...</td>\n      <td>weissbier naturtrub</td>\n      <td>Franziskaner Hefe-Weissbier / Weissbier Naturtrub</td>\n      <td>Spaten-Franziskaner-Bräu</td>\n      <td>🇩🇪 München, Bavaria, Germany</td>\n      <td>Weissbier - Hefeweizen</td>\n      <td>5.0%</td>\n      <td>NaN</td>\n      <td>3.73</td>\n      <td>Bottle: Unfiltered…</td>\n      <td>150 cal per 355ml</td>\n      <td>micia600(303)</td>\n      <td>8</td>\n      <td>4</td>\n      <td>7</td>\n      <td>4</td>\n      <td>15</td>\n      <td>3</td>\n    </tr>\n  </tbody>\n</table>\n</div>"
     },
     "execution_count": 71,
     "metadata": {},
     "output_type": "execute_result"
    }
   ]
  },
  {
   "cell_type": "markdown",
   "source": [
    "## 4. 평점 | 날짜 데이터 골라내기"
   ],
   "metadata": {
    "id": "PVIoUeQ19Lj_"
   }
  },
  {
   "cell_type": "markdown",
   "source": [
    "- 문제 -> 평점, 날짜가 있는 리스트의 인덱스가 그때그때 다름 (규칙적이지 않음)\n",
    "- 리스트에서 1번인지 2번 인덱스인지 알 수 없음\n",
    "- 하지만, 문자열 자체는 규칙적임\n",
    "  - 4.0December 9, 2007\n",
    "  - 평점 + 날짜 (즉, 숫자 + 문자열)"
   ],
   "metadata": {
    "id": "7buzBAyd9TMf"
   }
  },
  {
   "cell_type": "code",
   "source": [
    "for i in range(70000, 71000, 100):\n",
    "  print(ttmp['맥주정보'].iloc[i], '\\n\\n')"
   ],
   "metadata": {
    "colab": {
     "base_uri": "https://localhost:8080/"
    },
    "id": "jORn611X9E4s",
    "executionInfo": {
     "status": "ok",
     "timestamp": 1665540749098,
     "user_tz": -540,
     "elapsed": 7,
     "user": {
      "displayName": "So Yeon Lee",
      "userId": "01771365654963141477"
     }
    },
    "outputId": "beb19108-d707-474f-81bd-abaa2f940be6"
   },
   "execution_count": 72,
   "outputs": [
    {
     "name": "stdout",
     "output_type": "stream",
     "text": [
      "['🇺🇸Crestwood, United States', '2.8December 7, 2007', 'There is a lot of hype about this beer, since I’m next to the 312 area code, but there isn’t too much to back it up for me.  It is slightly too light, slightly too muddled, slightly complex and no…'] \n",
      "\n",
      "\n",
      "['🇺🇸Madison, United States', '2.5February 17, 2007', '12 oz bottle…'] \n",
      "\n",
      "\n",
      "['🇺🇸Chicago, United States', '2.7March 31, 2006', 'Poured a nice hazy gold colr with a tight golden head and some fizzy bubbles in it’s own weizen style glass.  A small yeasty nose.  Fairly bland wheat flavor, but really decent mouthfeel.…'] \n",
      "\n",
      "\n",
      "['🇺🇸Denver, United States', '2.7May 24, 2004', 'Pilsnery color, light golden, hazy.  Not much carbonation.  Fuzzy mouthfeel.  Light hoppiness.  Malt apparent.  Fairly unimpressive.'] \n",
      "\n",
      "\n",
      "['🇭🇺Budapest, Hungary', '1.0November 20, 2019', 'Bottle - Clear golden colour, small white head, poor retention. Grainy aromas with some yeasty note. Taste is weak malty with some corny and metallic aftetrtaste. Thin body, high…'] \n",
      "\n",
      "\n",
      "['1.6March 9, 2018', '330ml from can in an ANA flight. Not the best of the Japanese lagers, simple and extremely light.', 'Aroma'] \n",
      "\n",
      "\n",
      "['🇰🇷South Korea', '3.3October 18, 2016', 'Appearance : golden yellow average white foam'] \n",
      "\n",
      "\n",
      "['🇺🇸Durham, United States', '2.3August 13, 2015', 'Can. Aroma of corn, metal, malt. Taste of caramel, malts, some hops. Another macro lager.'] \n",
      "\n",
      "\n",
      "['🇺🇸Fort Collins, United States', '2.1September 22, 2014', 'Bottle. Appearance: 1 finger white head, clear, straw yellow color. Aroma: floral, biscuits, light caramel. Palate: light body, average carbonation, thin texture. Taste: sweet malt…'] \n",
      "\n",
      "\n",
      "['🇪🇸Spain', '1.8February 10, 2014', 'Not bad, but nothing special either. A regular lager. Some extra points because of the nice bottle.'] \n",
      "\n",
      "\n"
     ]
    }
   ]
  },
  {
   "cell_type": "code",
   "source": [
    "# 평점과 날짜를 뽑아오기 위해 정규식 사용\n",
    "import re\n",
    "\n",
    "# ex. 4.0December 9, 2007 뽑아오기\n",
    "reg = re.compile('[0-9]+.+[0-9]+[A-Za-z0-9]*')"
   ],
   "metadata": {
    "id": "XmzxfQt89hY9",
    "executionInfo": {
     "status": "ok",
     "timestamp": 1665540883627,
     "user_tz": -540,
     "elapsed": 346,
     "user": {
      "displayName": "So Yeon Lee",
      "userId": "01771365654963141477"
     }
    }
   },
   "execution_count": 73,
   "outputs": []
  },
  {
   "cell_type": "code",
   "source": [
    "# 정규표현식에 해당하는 문자열과 매칭되는 경우 해당 리스트 요소를 맥주정보에 저장\n",
    "# reg.match() -> re.comile()의 정규표현식과 일치하는 문자열 반환, 아니면 false 반환\n",
    "\n",
    "ttmp['맥주정보'] = ttmp['맥주정보'].apply(lambda x: x[0] if reg.match(x[0]) else (x[1] if reg.match(x[1]) else x[2]))"
   ],
   "metadata": {
    "id": "3CW5-8nF-P_k",
    "executionInfo": {
     "status": "ok",
     "timestamp": 1665541093786,
     "user_tz": -540,
     "elapsed": 338,
     "user": {
      "displayName": "So Yeon Lee",
      "userId": "01771365654963141477"
     }
    }
   },
   "execution_count": 74,
   "outputs": []
  },
  {
   "cell_type": "code",
   "source": [
    "# 결과 확인하기\n",
    "ttmp.head(3)"
   ],
   "metadata": {
    "colab": {
     "base_uri": "https://localhost:8080/",
     "height": 309
    },
    "id": "nmr3ahkz_DT1",
    "executionInfo": {
     "status": "ok",
     "timestamp": 1665541104586,
     "user_tz": -540,
     "elapsed": 5,
     "user": {
      "displayName": "So Yeon Lee",
      "userId": "01771365654963141477"
     }
    },
    "outputId": "1e211d21-d5c4-4c99-d9f1-317691d4522b"
   },
   "execution_count": 75,
   "outputs": [
    {
     "data": {
      "text/plain": "                    맥주정보                 검색이름  \\\n0    3.0October 15, 2022  weissbier naturtrub   \n1    3.6October 10, 2022  weissbier naturtrub   \n2  3.8September 15, 2022  weissbier naturtrub   \n\n                                                맥주이름  \\\n0  Franziskaner Hefe-Weissbier / Weissbier Naturtrub   \n1  Franziskaner Hefe-Weissbier / Weissbier Naturtrub   \n2  Franziskaner Hefe-Weissbier / Weissbier Naturtrub   \n\n                       맥주회사                         맥주원산지  \\\n0  Spaten-Franziskaner-Bräu  🇩🇪 München, Bavaria, Germany   \n1  Spaten-Franziskaner-Bräu  🇩🇪 München, Bavaria, Germany   \n2  Spaten-Franziskaner-Bräu  🇩🇪 München, Bavaria, Germany   \n\n                     맥주종류  맥주도수 맥주IBU  맥주평점                 맥주설명  \\\n0  Weissbier - Hefeweizen  5.0%   NaN  3.73  Bottle: Unfiltered…   \n1  Weissbier - Hefeweizen  5.0%   NaN  3.73  Bottle: Unfiltered…   \n2  Weissbier - Hefeweizen  5.0%   NaN  3.73  Bottle: Unfiltered…   \n\n               맥주칼로리               ID Aroma Appearance Flavor Mouthfeel  \\\n0  150 cal per 355ml      Misek93(36)     6          2      6         3   \n1  150 cal per 355ml  reidyboy(1,002)     7          4      7         4   \n2  150 cal per 355ml    micia600(303)     8          4      7         4   \n\n  Overall  길이  \n0      13   3  \n1      14   3  \n2      15   3  ",
      "text/html": "<div>\n<style scoped>\n    .dataframe tbody tr th:only-of-type {\n        vertical-align: middle;\n    }\n\n    .dataframe tbody tr th {\n        vertical-align: top;\n    }\n\n    .dataframe thead th {\n        text-align: right;\n    }\n</style>\n<table border=\"1\" class=\"dataframe\">\n  <thead>\n    <tr style=\"text-align: right;\">\n      <th></th>\n      <th>맥주정보</th>\n      <th>검색이름</th>\n      <th>맥주이름</th>\n      <th>맥주회사</th>\n      <th>맥주원산지</th>\n      <th>맥주종류</th>\n      <th>맥주도수</th>\n      <th>맥주IBU</th>\n      <th>맥주평점</th>\n      <th>맥주설명</th>\n      <th>맥주칼로리</th>\n      <th>ID</th>\n      <th>Aroma</th>\n      <th>Appearance</th>\n      <th>Flavor</th>\n      <th>Mouthfeel</th>\n      <th>Overall</th>\n      <th>길이</th>\n    </tr>\n  </thead>\n  <tbody>\n    <tr>\n      <th>0</th>\n      <td>3.0October 15, 2022</td>\n      <td>weissbier naturtrub</td>\n      <td>Franziskaner Hefe-Weissbier / Weissbier Naturtrub</td>\n      <td>Spaten-Franziskaner-Bräu</td>\n      <td>🇩🇪 München, Bavaria, Germany</td>\n      <td>Weissbier - Hefeweizen</td>\n      <td>5.0%</td>\n      <td>NaN</td>\n      <td>3.73</td>\n      <td>Bottle: Unfiltered…</td>\n      <td>150 cal per 355ml</td>\n      <td>Misek93(36)</td>\n      <td>6</td>\n      <td>2</td>\n      <td>6</td>\n      <td>3</td>\n      <td>13</td>\n      <td>3</td>\n    </tr>\n    <tr>\n      <th>1</th>\n      <td>3.6October 10, 2022</td>\n      <td>weissbier naturtrub</td>\n      <td>Franziskaner Hefe-Weissbier / Weissbier Naturtrub</td>\n      <td>Spaten-Franziskaner-Bräu</td>\n      <td>🇩🇪 München, Bavaria, Germany</td>\n      <td>Weissbier - Hefeweizen</td>\n      <td>5.0%</td>\n      <td>NaN</td>\n      <td>3.73</td>\n      <td>Bottle: Unfiltered…</td>\n      <td>150 cal per 355ml</td>\n      <td>reidyboy(1,002)</td>\n      <td>7</td>\n      <td>4</td>\n      <td>7</td>\n      <td>4</td>\n      <td>14</td>\n      <td>3</td>\n    </tr>\n    <tr>\n      <th>2</th>\n      <td>3.8September 15, 2022</td>\n      <td>weissbier naturtrub</td>\n      <td>Franziskaner Hefe-Weissbier / Weissbier Naturtrub</td>\n      <td>Spaten-Franziskaner-Bräu</td>\n      <td>🇩🇪 München, Bavaria, Germany</td>\n      <td>Weissbier - Hefeweizen</td>\n      <td>5.0%</td>\n      <td>NaN</td>\n      <td>3.73</td>\n      <td>Bottle: Unfiltered…</td>\n      <td>150 cal per 355ml</td>\n      <td>micia600(303)</td>\n      <td>8</td>\n      <td>4</td>\n      <td>7</td>\n      <td>4</td>\n      <td>15</td>\n      <td>3</td>\n    </tr>\n  </tbody>\n</table>\n</div>"
     },
     "execution_count": 75,
     "metadata": {},
     "output_type": "execute_result"
    }
   ]
  },
  {
   "cell_type": "markdown",
   "source": [
    "## 5. 평점과 날짜 데이터 분리하기"
   ],
   "metadata": {
    "id": "ZDKyJ5tR_LUw"
   }
  },
  {
   "cell_type": "code",
   "source": [
    "# 평점은 0~3번째, 날짜는 그 이후\n",
    "ttmp['평점'] = ttmp['맥주정보'].apply(lambda x: x[:3])\n",
    "ttmp['날짜'] = ttmp['맥주정보'].apply(lambda x: x[3:])"
   ],
   "metadata": {
    "id": "0NGKUuFx_GCy",
    "executionInfo": {
     "status": "ok",
     "timestamp": 1665541192485,
     "user_tz": -540,
     "elapsed": 5,
     "user": {
      "displayName": "So Yeon Lee",
      "userId": "01771365654963141477"
     }
    }
   },
   "execution_count": 76,
   "outputs": []
  },
  {
   "cell_type": "code",
   "source": [
    "ttmp.head(3)"
   ],
   "metadata": {
    "colab": {
     "base_uri": "https://localhost:8080/",
     "height": 413
    },
    "id": "egHe3tP__cjw",
    "executionInfo": {
     "status": "ok",
     "timestamp": 1665541200837,
     "user_tz": -540,
     "elapsed": 5,
     "user": {
      "displayName": "So Yeon Lee",
      "userId": "01771365654963141477"
     }
    },
    "outputId": "91ae6b4e-af86-4e85-9f69-82899a0f8e89"
   },
   "execution_count": 77,
   "outputs": [
    {
     "data": {
      "text/plain": "                    맥주정보                 검색이름  \\\n0    3.0October 15, 2022  weissbier naturtrub   \n1    3.6October 10, 2022  weissbier naturtrub   \n2  3.8September 15, 2022  weissbier naturtrub   \n\n                                                맥주이름  \\\n0  Franziskaner Hefe-Weissbier / Weissbier Naturtrub   \n1  Franziskaner Hefe-Weissbier / Weissbier Naturtrub   \n2  Franziskaner Hefe-Weissbier / Weissbier Naturtrub   \n\n                       맥주회사                         맥주원산지  \\\n0  Spaten-Franziskaner-Bräu  🇩🇪 München, Bavaria, Germany   \n1  Spaten-Franziskaner-Bräu  🇩🇪 München, Bavaria, Germany   \n2  Spaten-Franziskaner-Bräu  🇩🇪 München, Bavaria, Germany   \n\n                     맥주종류  맥주도수 맥주IBU  맥주평점                 맥주설명  \\\n0  Weissbier - Hefeweizen  5.0%   NaN  3.73  Bottle: Unfiltered…   \n1  Weissbier - Hefeweizen  5.0%   NaN  3.73  Bottle: Unfiltered…   \n2  Weissbier - Hefeweizen  5.0%   NaN  3.73  Bottle: Unfiltered…   \n\n               맥주칼로리               ID Aroma Appearance Flavor Mouthfeel  \\\n0  150 cal per 355ml      Misek93(36)     6          2      6         3   \n1  150 cal per 355ml  reidyboy(1,002)     7          4      7         4   \n2  150 cal per 355ml    micia600(303)     8          4      7         4   \n\n  Overall  길이   평점                  날짜  \n0      13   3  3.0    October 15, 2022  \n1      14   3  3.6    October 10, 2022  \n2      15   3  3.8  September 15, 2022  ",
      "text/html": "<div>\n<style scoped>\n    .dataframe tbody tr th:only-of-type {\n        vertical-align: middle;\n    }\n\n    .dataframe tbody tr th {\n        vertical-align: top;\n    }\n\n    .dataframe thead th {\n        text-align: right;\n    }\n</style>\n<table border=\"1\" class=\"dataframe\">\n  <thead>\n    <tr style=\"text-align: right;\">\n      <th></th>\n      <th>맥주정보</th>\n      <th>검색이름</th>\n      <th>맥주이름</th>\n      <th>맥주회사</th>\n      <th>맥주원산지</th>\n      <th>맥주종류</th>\n      <th>맥주도수</th>\n      <th>맥주IBU</th>\n      <th>맥주평점</th>\n      <th>맥주설명</th>\n      <th>맥주칼로리</th>\n      <th>ID</th>\n      <th>Aroma</th>\n      <th>Appearance</th>\n      <th>Flavor</th>\n      <th>Mouthfeel</th>\n      <th>Overall</th>\n      <th>길이</th>\n      <th>평점</th>\n      <th>날짜</th>\n    </tr>\n  </thead>\n  <tbody>\n    <tr>\n      <th>0</th>\n      <td>3.0October 15, 2022</td>\n      <td>weissbier naturtrub</td>\n      <td>Franziskaner Hefe-Weissbier / Weissbier Naturtrub</td>\n      <td>Spaten-Franziskaner-Bräu</td>\n      <td>🇩🇪 München, Bavaria, Germany</td>\n      <td>Weissbier - Hefeweizen</td>\n      <td>5.0%</td>\n      <td>NaN</td>\n      <td>3.73</td>\n      <td>Bottle: Unfiltered…</td>\n      <td>150 cal per 355ml</td>\n      <td>Misek93(36)</td>\n      <td>6</td>\n      <td>2</td>\n      <td>6</td>\n      <td>3</td>\n      <td>13</td>\n      <td>3</td>\n      <td>3.0</td>\n      <td>October 15, 2022</td>\n    </tr>\n    <tr>\n      <th>1</th>\n      <td>3.6October 10, 2022</td>\n      <td>weissbier naturtrub</td>\n      <td>Franziskaner Hefe-Weissbier / Weissbier Naturtrub</td>\n      <td>Spaten-Franziskaner-Bräu</td>\n      <td>🇩🇪 München, Bavaria, Germany</td>\n      <td>Weissbier - Hefeweizen</td>\n      <td>5.0%</td>\n      <td>NaN</td>\n      <td>3.73</td>\n      <td>Bottle: Unfiltered…</td>\n      <td>150 cal per 355ml</td>\n      <td>reidyboy(1,002)</td>\n      <td>7</td>\n      <td>4</td>\n      <td>7</td>\n      <td>4</td>\n      <td>14</td>\n      <td>3</td>\n      <td>3.6</td>\n      <td>October 10, 2022</td>\n    </tr>\n    <tr>\n      <th>2</th>\n      <td>3.8September 15, 2022</td>\n      <td>weissbier naturtrub</td>\n      <td>Franziskaner Hefe-Weissbier / Weissbier Naturtrub</td>\n      <td>Spaten-Franziskaner-Bräu</td>\n      <td>🇩🇪 München, Bavaria, Germany</td>\n      <td>Weissbier - Hefeweizen</td>\n      <td>5.0%</td>\n      <td>NaN</td>\n      <td>3.73</td>\n      <td>Bottle: Unfiltered…</td>\n      <td>150 cal per 355ml</td>\n      <td>micia600(303)</td>\n      <td>8</td>\n      <td>4</td>\n      <td>7</td>\n      <td>4</td>\n      <td>15</td>\n      <td>3</td>\n      <td>3.8</td>\n      <td>September 15, 2022</td>\n    </tr>\n  </tbody>\n</table>\n</div>"
     },
     "execution_count": 77,
     "metadata": {},
     "output_type": "execute_result"
    }
   ]
  },
  {
   "cell_type": "code",
   "source": [
    "ttmp.columns"
   ],
   "metadata": {
    "colab": {
     "base_uri": "https://localhost:8080/"
    },
    "id": "QsNiLS07_df8",
    "executionInfo": {
     "status": "ok",
     "timestamp": 1665541218201,
     "user_tz": -540,
     "elapsed": 2,
     "user": {
      "displayName": "So Yeon Lee",
      "userId": "01771365654963141477"
     }
    },
    "outputId": "dba5d995-cb4b-4ecc-8610-54a4a186b3c4"
   },
   "execution_count": 78,
   "outputs": [
    {
     "data": {
      "text/plain": "Index(['맥주정보', '검색이름', '맥주이름', '맥주회사', '맥주원산지', '맥주종류', '맥주도수', '맥주IBU',\n       '맥주평점', '맥주설명', '맥주칼로리', 'ID', 'Aroma', 'Appearance', 'Flavor',\n       'Mouthfeel', 'Overall', '길이', '평점', '날짜'],\n      dtype='object')"
     },
     "execution_count": 78,
     "metadata": {},
     "output_type": "execute_result"
    }
   ]
  },
  {
   "cell_type": "code",
   "source": [
    "# 컬럼명 변경하기\n",
    "ttmp.columns = ['맥주정보', '검색이름', '맥주', '맥주회사', '맥주원산지', '맥주종류', '맥주도수', '맥주IBU', '맥주평점', '맥주설명', '맥주칼로리', '아이디', 'Aroma', 'Appearance', 'Flavor', 'Mouthfeel', 'Overall', '길이', '평점', '날짜']"
   ],
   "metadata": {
    "id": "td5Ta9PV_hvy",
    "executionInfo": {
     "status": "ok",
     "timestamp": 1665541499651,
     "user_tz": -540,
     "elapsed": 4,
     "user": {
      "displayName": "So Yeon Lee",
      "userId": "01771365654963141477"
     }
    }
   },
   "execution_count": 79,
   "outputs": []
  },
  {
   "cell_type": "code",
   "source": [
    "# 필요한 컬럼 추출\n",
    "# temp = ttmp[['아이디', '맥주', '날짜', '평점', 'Aroma', 'Appearance', 'Flavor', 'Mouthfeel', 'Overall']]"
   ],
   "metadata": {
    "id": "_K_02ezHAPfG",
    "executionInfo": {
     "status": "ok",
     "timestamp": 1665541627870,
     "user_tz": -540,
     "elapsed": 5,
     "user": {
      "displayName": "So Yeon Lee",
      "userId": "01771365654963141477"
     }
    }
   },
   "execution_count": 80,
   "outputs": []
  },
  {
   "cell_type": "code",
   "source": [
    "ttmp.평점.unique()"
   ],
   "metadata": {
    "colab": {
     "base_uri": "https://localhost:8080/"
    },
    "id": "tJ-o8NEWAtW_",
    "executionInfo": {
     "status": "ok",
     "timestamp": 1665541775711,
     "user_tz": -540,
     "elapsed": 334,
     "user": {
      "displayName": "So Yeon Lee",
      "userId": "01771365654963141477"
     }
    },
    "outputId": "826d5392-b88e-4c77-8f5f-d145ffe024c8"
   },
   "execution_count": 81,
   "outputs": [
    {
     "data": {
      "text/plain": "array(['3.0', '3.6', '3.8', '4.1', '3.4', '4.0', '3.2', '3.7', '3.5',\n       '4.2', '3.3', '4.3', '3.9', '3.1', '2.6', '4.5', '2.8', '5.0',\n       '2.9', '4.4', '1.8', '4.7', '2.3', '2.5', '2.4', '1.1', '4.8',\n       '2.7', '4.9', '2.1', '4.6', '2.0', '2.2', '1.2', '1.6', '1.5',\n       '0.8', '1.4', '1.7', '0.5', '1.9', '1.3', '0.7', '0.9', '0.6',\n       '1.0', '0Ma', '0Se'], dtype=object)"
     },
     "execution_count": 81,
     "metadata": {},
     "output_type": "execute_result"
    }
   ]
  },
  {
   "cell_type": "code",
   "source": [
    "ttmp.Aroma.unique()"
   ],
   "metadata": {
    "colab": {
     "base_uri": "https://localhost:8080/"
    },
    "id": "NSKv8anTBJHW",
    "executionInfo": {
     "status": "ok",
     "timestamp": 1665541780510,
     "user_tz": -540,
     "elapsed": 2,
     "user": {
      "displayName": "So Yeon Lee",
      "userId": "01771365654963141477"
     }
    },
    "outputId": "73e3c3f6-debd-4b95-d4e4-24d01c7a0fc4"
   },
   "execution_count": 82,
   "outputs": [
    {
     "data": {
      "text/plain": "array(['6', '7', '8', '9', '5', '-', '10', '2', '4', '3', '1'],\n      dtype=object)"
     },
     "execution_count": 82,
     "metadata": {},
     "output_type": "execute_result"
    }
   ]
  },
  {
   "cell_type": "code",
   "source": [
    "ttmp. Overall.unique()"
   ],
   "metadata": {
    "colab": {
     "base_uri": "https://localhost:8080/"
    },
    "id": "s8jOvyOkCSho",
    "executionInfo": {
     "status": "ok",
     "timestamp": 1665541962322,
     "user_tz": -540,
     "elapsed": 281,
     "user": {
      "displayName": "So Yeon Lee",
      "userId": "01771365654963141477"
     }
    },
    "outputId": "f7be911a-6c51-4b64-a119-f7449b8e7047"
   },
   "execution_count": 83,
   "outputs": [
    {
     "data": {
      "text/plain": "array(['13', '14', '15', '16', '17', '-', '18', '12', '10', '19', '9',\n       '20', '11', '8', '1', '7', '5', '3', '6', '2', '4'], dtype=object)"
     },
     "execution_count": 83,
     "metadata": {},
     "output_type": "execute_result"
    }
   ]
  },
  {
   "cell_type": "code",
   "source": [
    "# - 값 삭제\n",
    "ttmp = ttmp[ttmp['평점'] != '0Ma']\n",
    "ttmp = ttmp[ttmp['Aroma'] != '-']\n",
    "ttmp = ttmp[ttmp['Appearance'] != '-']\n",
    "ttmp = ttmp[ttmp['Flavor'] != '-']\n",
    "ttmp = ttmp[ttmp['Mouthfeel'] != '-']\n",
    "ttmp = ttmp[ttmp['Overall'] != '-']\n",
    "\n",
    "ttmp[ttmp['Aroma'] == '-']"
   ],
   "metadata": {
    "colab": {
     "base_uri": "https://localhost:8080/",
     "height": 49
    },
    "id": "Jvj3f7ZNBOZ4",
    "executionInfo": {
     "status": "ok",
     "timestamp": 1665541869942,
     "user_tz": -540,
     "elapsed": 483,
     "user": {
      "displayName": "So Yeon Lee",
      "userId": "01771365654963141477"
     }
    },
    "outputId": "a15dd045-eda3-4dce-c875-873d853b57a4"
   },
   "execution_count": 84,
   "outputs": [
    {
     "data": {
      "text/plain": "Empty DataFrame\nColumns: [맥주정보, 검색이름, 맥주, 맥주회사, 맥주원산지, 맥주종류, 맥주도수, 맥주IBU, 맥주평점, 맥주설명, 맥주칼로리, 아이디, Aroma, Appearance, Flavor, Mouthfeel, Overall, 길이, 평점, 날짜]\nIndex: []",
      "text/html": "<div>\n<style scoped>\n    .dataframe tbody tr th:only-of-type {\n        vertical-align: middle;\n    }\n\n    .dataframe tbody tr th {\n        vertical-align: top;\n    }\n\n    .dataframe thead th {\n        text-align: right;\n    }\n</style>\n<table border=\"1\" class=\"dataframe\">\n  <thead>\n    <tr style=\"text-align: right;\">\n      <th></th>\n      <th>맥주정보</th>\n      <th>검색이름</th>\n      <th>맥주</th>\n      <th>맥주회사</th>\n      <th>맥주원산지</th>\n      <th>맥주종류</th>\n      <th>맥주도수</th>\n      <th>맥주IBU</th>\n      <th>맥주평점</th>\n      <th>맥주설명</th>\n      <th>맥주칼로리</th>\n      <th>아이디</th>\n      <th>Aroma</th>\n      <th>Appearance</th>\n      <th>Flavor</th>\n      <th>Mouthfeel</th>\n      <th>Overall</th>\n      <th>길이</th>\n      <th>평점</th>\n      <th>날짜</th>\n    </tr>\n  </thead>\n  <tbody>\n  </tbody>\n</table>\n</div>"
     },
     "execution_count": 84,
     "metadata": {},
     "output_type": "execute_result"
    }
   ]
  },
  {
   "cell_type": "code",
   "source": [
    "ttmp.info()"
   ],
   "metadata": {
    "colab": {
     "base_uri": "https://localhost:8080/"
    },
    "id": "MSH0lEYBCDNw",
    "executionInfo": {
     "status": "ok",
     "timestamp": 1665541884561,
     "user_tz": -540,
     "elapsed": 430,
     "user": {
      "displayName": "So Yeon Lee",
      "userId": "01771365654963141477"
     }
    },
    "outputId": "5d81690b-bfc2-482c-e9f6-007a43e7456f"
   },
   "execution_count": 85,
   "outputs": [
    {
     "name": "stdout",
     "output_type": "stream",
     "text": [
      "<class 'pandas.core.frame.DataFrame'>\n",
      "Int64Index: 86364 entries, 0 to 444\n",
      "Data columns (total 20 columns):\n",
      " #   Column      Non-Null Count  Dtype  \n",
      "---  ------      --------------  -----  \n",
      " 0   맥주정보        86364 non-null  object \n",
      " 1   검색이름        86364 non-null  object \n",
      " 2   맥주          86364 non-null  object \n",
      " 3   맥주회사        86364 non-null  object \n",
      " 4   맥주원산지       86364 non-null  object \n",
      " 5   맥주종류        86364 non-null  object \n",
      " 6   맥주도수        86364 non-null  object \n",
      " 7   맥주IBU       27061 non-null  object \n",
      " 8   맥주평점        86364 non-null  float64\n",
      " 9   맥주설명        85144 non-null  object \n",
      " 10  맥주칼로리       85214 non-null  object \n",
      " 11  아이디         86364 non-null  object \n",
      " 12  Aroma       86364 non-null  object \n",
      " 13  Appearance  86364 non-null  object \n",
      " 14  Flavor      86364 non-null  object \n",
      " 15  Mouthfeel   86364 non-null  object \n",
      " 16  Overall     86364 non-null  object \n",
      " 17  길이          86364 non-null  int64  \n",
      " 18  평점          86364 non-null  object \n",
      " 19  날짜          86364 non-null  object \n",
      "dtypes: float64(1), int64(1), object(18)\n",
      "memory usage: 13.8+ MB\n"
     ]
    }
   ]
  },
  {
   "cell_type": "markdown",
   "source": [
    "- 평점, Aroma, Appearance, Flavor, Mouthfeel, Overall값이 실수값이 아님\n",
    "- pd.to_numeric() 함수를 이용해 오브젝트 타입들을 실수로 변환"
   ],
   "metadata": {
    "id": "6gAQzSoyCF_A"
   }
  },
  {
   "cell_type": "code",
   "source": [
    "# 수치형 데이터 실수로 변환하기\n",
    "ttmp['평점'] = pd.to_numeric(ttmp['평점'])\n",
    "ttmp['Aroma'] = pd.to_numeric(ttmp['Aroma'])\n",
    "ttmp['Appearance'] = pd.to_numeric(ttmp['Appearance'])\n",
    "ttmp['Flavor'] = pd.to_numeric(ttmp['Flavor'])\n",
    "ttmp['Mouthfeel'] = pd.to_numeric(ttmp['Mouthfeel'])\n",
    "ttmp['Overall'] = pd.to_numeric(ttmp['Overall'])\n",
    "\n",
    "# 중복된 행들 제거하기\n",
    "ttmp.drop_duplicates(keep='first', inplace=True)"
   ],
   "metadata": {
    "id": "4f4hEnARCESG",
    "executionInfo": {
     "status": "ok",
     "timestamp": 1665542075313,
     "user_tz": -540,
     "elapsed": 437,
     "user": {
      "displayName": "So Yeon Lee",
      "userId": "01771365654963141477"
     }
    }
   },
   "execution_count": 86,
   "outputs": []
  },
  {
   "cell_type": "code",
   "source": [
    "ttmp.info()"
   ],
   "metadata": {
    "colab": {
     "base_uri": "https://localhost:8080/"
    },
    "id": "cARyv2eFCy7s",
    "executionInfo": {
     "status": "ok",
     "timestamp": 1665542081346,
     "user_tz": -540,
     "elapsed": 6,
     "user": {
      "displayName": "So Yeon Lee",
      "userId": "01771365654963141477"
     }
    },
    "outputId": "910b536e-4e41-4454-dc46-71f2ae77fc4f"
   },
   "execution_count": 87,
   "outputs": [
    {
     "name": "stdout",
     "output_type": "stream",
     "text": [
      "<class 'pandas.core.frame.DataFrame'>\n",
      "Int64Index: 86363 entries, 0 to 444\n",
      "Data columns (total 20 columns):\n",
      " #   Column      Non-Null Count  Dtype  \n",
      "---  ------      --------------  -----  \n",
      " 0   맥주정보        86363 non-null  object \n",
      " 1   검색이름        86363 non-null  object \n",
      " 2   맥주          86363 non-null  object \n",
      " 3   맥주회사        86363 non-null  object \n",
      " 4   맥주원산지       86363 non-null  object \n",
      " 5   맥주종류        86363 non-null  object \n",
      " 6   맥주도수        86363 non-null  object \n",
      " 7   맥주IBU       27061 non-null  object \n",
      " 8   맥주평점        86363 non-null  float64\n",
      " 9   맥주설명        85144 non-null  object \n",
      " 10  맥주칼로리       85213 non-null  object \n",
      " 11  아이디         86363 non-null  object \n",
      " 12  Aroma       86363 non-null  int64  \n",
      " 13  Appearance  86363 non-null  int64  \n",
      " 14  Flavor      86363 non-null  int64  \n",
      " 15  Mouthfeel   86363 non-null  int64  \n",
      " 16  Overall     86363 non-null  int64  \n",
      " 17  길이          86363 non-null  int64  \n",
      " 18  평점          86363 non-null  float64\n",
      " 19  날짜          86363 non-null  object \n",
      "dtypes: float64(2), int64(6), object(12)\n",
      "memory usage: 13.8+ MB\n"
     ]
    }
   ]
  },
  {
   "cell_type": "code",
   "source": [
    "# 최종 데이터 값 분포 확인하기\n",
    "ttmp.describe()"
   ],
   "metadata": {
    "colab": {
     "base_uri": "https://localhost:8080/",
     "height": 300
    },
    "id": "mpcgmFZgC0dS",
    "executionInfo": {
     "status": "ok",
     "timestamp": 1665542101655,
     "user_tz": -540,
     "elapsed": 6,
     "user": {
      "displayName": "So Yeon Lee",
      "userId": "01771365654963141477"
     }
    },
    "outputId": "493ed08e-f51b-482d-f099-11fc6d039eae"
   },
   "execution_count": 88,
   "outputs": [
    {
     "data": {
      "text/plain": "              맥주평점         Aroma    Appearance        Flavor     Mouthfeel  \\\ncount  86363.00000  86363.000000  86363.000000  86363.000000  86363.000000   \nmean       2.96921      5.351551      3.226509      5.623265      2.972627   \nstd        0.67013      2.085690      1.032502      2.046077      0.993129   \nmin        1.68000      1.000000      1.000000      1.000000      1.000000   \n25%        2.38000      4.000000      3.000000      4.000000      2.000000   \n50%        3.14000      6.000000      3.000000      6.000000      3.000000   \n75%        3.56000      7.000000      4.000000      7.000000      4.000000   \nmax        4.15000     10.000000      5.000000     10.000000      5.000000   \n\n            Overall       길이            평점  \ncount  86363.000000  86363.0  86363.000000  \nmean      11.358255      3.0      2.853273  \nstd        4.322695      0.0      0.956609  \nmin        1.000000      3.0      0.500000  \n25%        8.000000      3.0      2.200000  \n50%       12.000000      3.0      3.000000  \n75%       15.000000      3.0      3.600000  \nmax       20.000000      3.0      5.000000  ",
      "text/html": "<div>\n<style scoped>\n    .dataframe tbody tr th:only-of-type {\n        vertical-align: middle;\n    }\n\n    .dataframe tbody tr th {\n        vertical-align: top;\n    }\n\n    .dataframe thead th {\n        text-align: right;\n    }\n</style>\n<table border=\"1\" class=\"dataframe\">\n  <thead>\n    <tr style=\"text-align: right;\">\n      <th></th>\n      <th>맥주평점</th>\n      <th>Aroma</th>\n      <th>Appearance</th>\n      <th>Flavor</th>\n      <th>Mouthfeel</th>\n      <th>Overall</th>\n      <th>길이</th>\n      <th>평점</th>\n    </tr>\n  </thead>\n  <tbody>\n    <tr>\n      <th>count</th>\n      <td>86363.00000</td>\n      <td>86363.000000</td>\n      <td>86363.000000</td>\n      <td>86363.000000</td>\n      <td>86363.000000</td>\n      <td>86363.000000</td>\n      <td>86363.0</td>\n      <td>86363.000000</td>\n    </tr>\n    <tr>\n      <th>mean</th>\n      <td>2.96921</td>\n      <td>5.351551</td>\n      <td>3.226509</td>\n      <td>5.623265</td>\n      <td>2.972627</td>\n      <td>11.358255</td>\n      <td>3.0</td>\n      <td>2.853273</td>\n    </tr>\n    <tr>\n      <th>std</th>\n      <td>0.67013</td>\n      <td>2.085690</td>\n      <td>1.032502</td>\n      <td>2.046077</td>\n      <td>0.993129</td>\n      <td>4.322695</td>\n      <td>0.0</td>\n      <td>0.956609</td>\n    </tr>\n    <tr>\n      <th>min</th>\n      <td>1.68000</td>\n      <td>1.000000</td>\n      <td>1.000000</td>\n      <td>1.000000</td>\n      <td>1.000000</td>\n      <td>1.000000</td>\n      <td>3.0</td>\n      <td>0.500000</td>\n    </tr>\n    <tr>\n      <th>25%</th>\n      <td>2.38000</td>\n      <td>4.000000</td>\n      <td>3.000000</td>\n      <td>4.000000</td>\n      <td>2.000000</td>\n      <td>8.000000</td>\n      <td>3.0</td>\n      <td>2.200000</td>\n    </tr>\n    <tr>\n      <th>50%</th>\n      <td>3.14000</td>\n      <td>6.000000</td>\n      <td>3.000000</td>\n      <td>6.000000</td>\n      <td>3.000000</td>\n      <td>12.000000</td>\n      <td>3.0</td>\n      <td>3.000000</td>\n    </tr>\n    <tr>\n      <th>75%</th>\n      <td>3.56000</td>\n      <td>7.000000</td>\n      <td>4.000000</td>\n      <td>7.000000</td>\n      <td>4.000000</td>\n      <td>15.000000</td>\n      <td>3.0</td>\n      <td>3.600000</td>\n    </tr>\n    <tr>\n      <th>max</th>\n      <td>4.15000</td>\n      <td>10.000000</td>\n      <td>5.000000</td>\n      <td>10.000000</td>\n      <td>5.000000</td>\n      <td>20.000000</td>\n      <td>3.0</td>\n      <td>5.000000</td>\n    </tr>\n  </tbody>\n</table>\n</div>"
     },
     "execution_count": 88,
     "metadata": {},
     "output_type": "execute_result"
    }
   ]
  },
  {
   "cell_type": "code",
   "source": [
    "ttmp.to_csv('맥주전처리후데이터_전체.csv', encoding='utf-8')"
   ],
   "metadata": {
    "id": "gdpof0hCC5ap",
    "executionInfo": {
     "status": "ok",
     "timestamp": 1665542175195,
     "user_tz": -540,
     "elapsed": 1442,
     "user": {
      "displayName": "So Yeon Lee",
      "userId": "01771365654963141477"
     }
    }
   },
   "execution_count": 89,
   "outputs": []
  },
  {
   "cell_type": "code",
   "source": [
    "temp = ttmp[['아이디', '맥주', '날짜', '평점', 'Aroma', 'Appearance', 'Flavor', 'Mouthfeel', 'Overall']]\n",
    "\n",
    "temp.to_csv('맥주전처리후데이터.csv', encoding='utf-8')"
   ],
   "metadata": {
    "id": "d8C712BRDApP",
    "executionInfo": {
     "status": "ok",
     "timestamp": 1665542201155,
     "user_tz": -540,
     "elapsed": 751,
     "user": {
      "displayName": "So Yeon Lee",
      "userId": "01771365654963141477"
     }
    }
   },
   "execution_count": 90,
   "outputs": []
  },
  {
   "cell_type": "code",
   "execution_count": null,
   "outputs": [],
   "source": [],
   "metadata": {
    "collapsed": false,
    "pycharm": {
     "name": "#%%\n"
    }
   }
  }
 ]
}