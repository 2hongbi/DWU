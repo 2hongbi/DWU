{
 "nbformat": 4,
 "nbformat_minor": 0,
 "metadata": {
  "colab": {
   "provenance": []
  },
  "kernelspec": {
   "name": "python3",
   "display_name": "Python 3"
  },
  "language_info": {
   "name": "python"
  }
 },
 "cells": [
  {
   "cell_type": "markdown",
   "source": [
    "## 데이터 병합"
   ],
   "metadata": {
    "id": "WpZpQTnN4oAH"
   }
  },
  {
   "cell_type": "code",
   "execution_count": 1,
   "metadata": {
    "id": "0gMpB9YH4lA6",
    "executionInfo": {
     "status": "ok",
     "timestamp": 1665538389045,
     "user_tz": -540,
     "elapsed": 3,
     "user": {
      "displayName": "So Yeon Lee",
      "userId": "01771365654963141477"
     }
    }
   },
   "outputs": [],
   "source": [
    "import pandas as pd"
   ]
  },
  {
   "cell_type": "code",
   "source": [
    "from google.colab import drive\n",
    "\n",
    "drive.mount('/content/drive/')"
   ],
   "metadata": {
    "colab": {
     "base_uri": "https://localhost:8080/"
    },
    "id": "mqGDOalw4ula",
    "executionInfo": {
     "status": "ok",
     "timestamp": 1665538430296,
     "user_tz": -540,
     "elapsed": 20720,
     "user": {
      "displayName": "So Yeon Lee",
      "userId": "01771365654963141477"
     }
    },
    "outputId": "96160957-6c5f-43d2-d22f-bbc44b576dd8"
   },
   "execution_count": 2,
   "outputs": [
    {
     "output_type": "stream",
     "name": "stdout",
     "text": [
      "Mounted at /content/drive/\n"
     ]
    }
   ]
  },
  {
   "cell_type": "code",
   "source": [
    "data = pd.DataFrame(data=[], columns=['맥주정보',\t'검색이름',\t'맥주이름',\t'맥주회사',\t'맥주원산지',\t'맥주종류',\t'맥주도수',\t'맥주IBU',\t'맥주평점',\t'맥주설명',\t'맥주칼로리'])"
   ],
   "metadata": {
    "id": "3T53yKtR0bAO",
    "executionInfo": {
     "status": "ok",
     "timestamp": 1665538430297,
     "user_tz": -540,
     "elapsed": 9,
     "user": {
      "displayName": "So Yeon Lee",
      "userId": "01771365654963141477"
     }
    }
   },
   "execution_count": 3,
   "outputs": []
  },
  {
   "cell_type": "code",
   "source": [
    "import os\n",
    "\n",
    "data_dir = '/content/drive/MyDrive/data'\n",
    "file_ex = r'.csv'\n",
    "beer_csv_list = [file for file in os.listdir(data_dir) if file.endswith(file_ex)]\n",
    "beer_csv_list"
   ],
   "metadata": {
    "colab": {
     "base_uri": "https://localhost:8080/"
    },
    "id": "jCDOgyHz2abO",
    "executionInfo": {
     "status": "ok",
     "timestamp": 1665539014717,
     "user_tz": -540,
     "elapsed": 5,
     "user": {
      "displayName": "So Yeon Lee",
      "userId": "01771365654963141477"
     }
    },
    "outputId": "0e26f122-f277-4313-cb6a-6f789e7375b9"
   },
   "execution_count": 8,
   "outputs": [
    {
     "output_type": "execute_result",
     "data": {
      "text/plain": [
       "['beer_n_Kloud Original Gravity.csv',\n",
       " 'beer_n_Kloud Fitz Super Clear.csv',\n",
       " 'beer_n_San Miguel.csv',\n",
       " 'beer_n_OB Premier Pilsner.csv',\n",
       " 'beer_n_FiLite.csv',\n",
       " 'beer_n_Jeju Wit Ale.csv',\n",
       " 'beer_n_Stephans Bräu Premium Pilsener.csv',\n",
       " 'beer_n_Stephans Bräu Premium Lager.csv',\n",
       " 'beer_n_Stephans Bräu Hefe-Weizen Naturtrüb.csv',\n",
       " 'beer_n_Miller Genuine Draft (MGD).csv',\n",
       " 'beer_n_Hoegaarden Cherry.csv',\n",
       " \"beer_n_Suntory The Premium Malt's.csv\",\n",
       " 'beer_n_Reeper B. Blondes Weissbier.csv',\n",
       " 'beer_n_Asahi Super Dry.csv',\n",
       " 'beer_n_Budweiser.csv',\n",
       " 'beer_n_Sapporo Yebisu.csv',\n",
       " 'beer_n_Tiger Beer.csv',\n",
       " 'beer_n_Tsingtao.csv',\n",
       " 'beer_n_Löwenbräu Original (4.2%).csv',\n",
       " 'beer_n_Asahi Super Dry Black.csv',\n",
       " 'beer_n_Harbin Beer.csv',\n",
       " 'beer_n_Erdinger Weissbier.csv',\n",
       " \"beer_n_Queen's Ale Blonde Type.csv\",\n",
       " 'beer_n_Volfas Engelman Grünberger Hefeweizen.csv',\n",
       " 'beer_n_OB Golden Lager.csv',\n",
       " 'beer_n_Kabrew Hoptandu IPA.csv',\n",
       " 'beer_n_Jeju Baengnokdam Ale.csv',\n",
       " 'beer_n_Magners Juicy Apple.csv',\n",
       " 'beer_n_Berliner Kindl Jubiläums Pilsener Premium.csv',\n",
       " 'beer_n_Jeju Pellong Ale.csv',\n",
       " 'beer_n_Kabrew Kumiho Relax Beer.csv',\n",
       " 'beer_n_Jeju Seongsan Ilchulbong Ale.csv',\n",
       " 'beer_n_Red Rock.csv',\n",
       " 'beer_n_Jeju Barrel Series-Imperial Stout Edition - Highland Park.csv',\n",
       " 'beer_n_Hollandia.csv',\n",
       " 'beer_n_Grimbergen Cuvée Blanche.csv',\n",
       " \"beer_n_Beck's.csv\",\n",
       " 'beer_n_Erdinger Weissbier Dunkel.csv',\n",
       " 'beer_n_Hoegaarden Rosée.csv',\n",
       " 'beer_n_Platinum White Ale.csv',\n",
       " 'beer_n_Goose Island Goose IPA.csv',\n",
       " 'beer_n_Amazing Shocking Stout.csv',\n",
       " 'beer_n_Amazing First Love.csv',\n",
       " 'beer_n_ARK Brown.csv',\n",
       " 'beer_n_ARK Classic.csv',\n",
       " 'beer_n_ARK Cony.csv',\n",
       " 'beer_n_ARK Yeosu Night Ale.csv',\n",
       " 'beer_n_Goose Island 312 Urban Wheat Ale.csv',\n",
       " 'beer_n_Heretic Evil Twin.csv',\n",
       " 'beer_n_Warsteiner Premium Verum.csv',\n",
       " 'beer_n_Somersby Pear Cider.csv',\n",
       " 'beer_n_7Bräu Gompyo Wheatbeer.csv',\n",
       " 'beer_n_Squeeze Malpyo Dark Beer.csv',\n",
       " 'beer_n_Edelweiss Cherry & Lavender.csv',\n",
       " 'beer_n_Squeeze Malpyo Green Grape Ale.csv',\n",
       " 'beer_n_7Bräu Korea Pale Ale.csv',\n",
       " 'beer_n_Somersby Apple Cider.csv',\n",
       " 'beer_n_The Hand and Malt Slow IPA.csv',\n",
       " 'beer_n_Cass Lemon.csv',\n",
       " 'beer_n_HiteJinro Filite Fresh Cool & Clear.csv',\n",
       " 'beer_n_Lagunitas India Pale Ale (IPA).csv',\n",
       " 'beer_n_North Coast Old Rasputin Russian Imperial Stout.csv',\n",
       " 'beer_n_Blue Moon Belgian White.csv',\n",
       " 'beer_n_Kona Big Wave Golden Ale.csv',\n",
       " 'beer_n_Ballast Point Sculpin IPA.csv',\n",
       " 'beer_n_Préaris Citra Sauvignon Session Ale.csv',\n",
       " 'beer_n_Samuel Adams Irish Red Ale.csv',\n",
       " 'beer_n_Hite Prime Max.csv',\n",
       " 'beer_n_Edelweiss Weissbier Snowfresh.csv',\n",
       " 'beer_n_Kronenbourg 1664 Blanc.csv',\n",
       " 'beer_n_Heineken Dark Lager.csv',\n",
       " 'beer_n_Victoria Bitter.csv',\n",
       " 'beer_n_Bintang Pilsener.csv',\n",
       " 'beer_n_Kozel Černý (Dark) 10°.csv',\n",
       " 'beer_n_Krombacher Weizen.csv',\n",
       " 'beer_n_Lapin Kulta IV A.csv',\n",
       " 'beer_n_Heineken.csv',\n",
       " 'beer_n_Platinum Pale Ale.csv',\n",
       " 'beer_n_Pilsner Urquell.csv',\n",
       " 'beer_n_Apple Fox.csv',\n",
       " 'beer_n_Grolsch Premium Lager.csv',\n",
       " 'beer_n_Kabrew Kumiho India Pale Ale.csv',\n",
       " 'beer_n_Gambrinus Originál 10° (Desítka).csv',\n",
       " 'beer_n_Castlemaine XXXX Gold Lager.csv',\n",
       " 'beer_n_Hite Extra Cold.csv',\n",
       " 'beer_n_Tiger Radler Lemon.csv',\n",
       " 'beer_n_Cass Fresh.csv',\n",
       " 'beer_n_Bright Leaf Peeper Red IPA.csv',\n",
       " 'beer_n_Tsingtao Wheat Beer.csv',\n",
       " 'beer_n_Egger Märzenbier.csv',\n",
       " 'beer_n_Holsten Premium Bier.csv',\n",
       " 'beer_n_Carlsberg Pilsner.csv',\n",
       " 'beer_n_Kirin Ichiban.csv',\n",
       " 'beer_n_Blue Girl (5.0%).csv',\n",
       " 'beer_n_ARK Cosmic Dancer.csv',\n",
       " 'beer_n_ARK Seoulite Ale.csv',\n",
       " 'beer_n_Kabrew Golden Ale.csv',\n",
       " 'beer_n_Peroni Nastro Azzurro.csv',\n",
       " 'beer_n_Desperados Red.csv',\n",
       " 'beer_n_Schneider Weisse Tap 05 - Hopfenweisse Weizendoppelbock.csv',\n",
       " 'beer_n_Desperados Mojito.csv',\n",
       " 'beer_n_ARK Hug Me.csv',\n",
       " 'beer_n_Desperados Lime.csv',\n",
       " 'beer_n_ARK Black Swan.csv',\n",
       " 'beer_n_ARK Be High IPA.csv',\n",
       " 'beer_n_Kabrew Namsan Mountain Premium Citra Ale.csv',\n",
       " 'beer_n_Cass Light.csv',\n",
       " 'beer_n_Kabrew Kumiho Peach Ale.csv',\n",
       " 'beer_n_Kabrew Gyeongbokgung Royal Pride IPA.csv',\n",
       " 'beer_n_Paulaner Hefe-Weissbier.csv',\n",
       " 'beer_n_Desperados.csv']"
      ]
     },
     "metadata": {},
     "execution_count": 8
    }
   ]
  },
  {
   "cell_type": "code",
   "source": [
    "tmp = pd.read_csv('/content/drive/MyDrive/data/' + beer_csv_list[0], index_col=0)\n",
    "tmp"
   ],
   "metadata": {
    "colab": {
     "base_uri": "https://localhost:8080/",
     "height": 659
    },
    "id": "VzKl8ny63ps-",
    "executionInfo": {
     "status": "ok",
     "timestamp": 1665539225095,
     "user_tz": -540,
     "elapsed": 544,
     "user": {
      "displayName": "So Yeon Lee",
      "userId": "01771365654963141477"
     }
    },
    "outputId": "e9fecd17-1875-478a-e908-6713835239d2"
   },
   "execution_count": 12,
   "outputs": [
    {
     "output_type": "execute_result",
     "data": {
      "text/plain": [
       "                                                  맥주정보   검색이름  \\\n",
       "0    italianjohn(5,219)\\n🇺🇸Penndel, United States\\n...  kloud   \n",
       "1    orda(281)\\n🇺🇸Aurora, United States\\n3.9August ...  kloud   \n",
       "2    Radek Kliber(8,060)\\n🇨🇦Toronto (Can) Krotoszyn...  kloud   \n",
       "3    geologyguy(2,575)\\n🇺🇸Columbia, United States\\n...  kloud   \n",
       "4    Wolff90(195)\\n🇸🇪Upplands Väsby, Sweden\\n1.0Feb...  kloud   \n",
       "..                                                 ...    ...   \n",
       "103  fredthecat(548)\\n🇨🇦Canada\\n1.8November 4, 2014...  kloud   \n",
       "104  dhunter151(590)\\n🇺🇸Santa Rosa, United States\\n...  kloud   \n",
       "105  maus(46)\\n🇪🇪Tartu, Estonia\\n2.3July 17, 2014\\n...  kloud   \n",
       "106  hojoo(4)\\n2.8July 16, 2014\\nunfortunately, too...  kloud   \n",
       "107  migojarad(3)\\n🇰🇷Seoul, South Korea\\n2.1June 17...  kloud   \n",
       "\n",
       "                       맥주이름             맥주회사                  맥주원산지  \\\n",
       "0    Kloud Original Gravity  Lotte Liquor BG  🇰🇷 Seoul, South Korea   \n",
       "1    Kloud Original Gravity  Lotte Liquor BG  🇰🇷 Seoul, South Korea   \n",
       "2    Kloud Original Gravity  Lotte Liquor BG  🇰🇷 Seoul, South Korea   \n",
       "3    Kloud Original Gravity  Lotte Liquor BG  🇰🇷 Seoul, South Korea   \n",
       "4    Kloud Original Gravity  Lotte Liquor BG  🇰🇷 Seoul, South Korea   \n",
       "..                      ...              ...                    ...   \n",
       "103  Kloud Original Gravity  Lotte Liquor BG  🇰🇷 Seoul, South Korea   \n",
       "104  Kloud Original Gravity  Lotte Liquor BG  🇰🇷 Seoul, South Korea   \n",
       "105  Kloud Original Gravity  Lotte Liquor BG  🇰🇷 Seoul, South Korea   \n",
       "106  Kloud Original Gravity  Lotte Liquor BG  🇰🇷 Seoul, South Korea   \n",
       "107  Kloud Original Gravity  Lotte Liquor BG  🇰🇷 Seoul, South Korea   \n",
       "\n",
       "                                     맥주종류  맥주도수  맥주IBU  맥주평점  \\\n",
       "0    Pale Lager - International / Premium  5.0%    NaN  2.48   \n",
       "1    Pale Lager - International / Premium  5.0%    NaN  2.48   \n",
       "2    Pale Lager - International / Premium  5.0%    NaN  2.48   \n",
       "3    Pale Lager - International / Premium  5.0%    NaN  2.48   \n",
       "4    Pale Lager - International / Premium  5.0%    NaN  2.48   \n",
       "..                                    ...   ...    ...   ...   \n",
       "103  Pale Lager - International / Premium  5.0%    NaN  2.48   \n",
       "104  Pale Lager - International / Premium  5.0%    NaN  2.48   \n",
       "105  Pale Lager - International / Premium  5.0%    NaN  2.48   \n",
       "106  Pale Lager - International / Premium  5.0%    NaN  2.48   \n",
       "107  Pale Lager - International / Premium  5.0%    NaN  2.48   \n",
       "\n",
       "                                                  맥주설명              맥주칼로리  \n",
       "0    100% Malt Real Beer. Original Gravity. Rich & ...  150 cal per 355ml  \n",
       "1    100% Malt Real Beer. Original Gravity. Rich & ...  150 cal per 355ml  \n",
       "2    100% Malt Real Beer. Original Gravity. Rich & ...  150 cal per 355ml  \n",
       "3    100% Malt Real Beer. Original Gravity. Rich & ...  150 cal per 355ml  \n",
       "4    100% Malt Real Beer. Original Gravity. Rich & ...  150 cal per 355ml  \n",
       "..                                                 ...                ...  \n",
       "103  100% Malt Real Beer. Original Gravity. Rich & ...  150 cal per 355ml  \n",
       "104  100% Malt Real Beer. Original Gravity. Rich & ...  150 cal per 355ml  \n",
       "105  100% Malt Real Beer. Original Gravity. Rich & ...  150 cal per 355ml  \n",
       "106  100% Malt Real Beer. Original Gravity. Rich & ...  150 cal per 355ml  \n",
       "107  100% Malt Real Beer. Original Gravity. Rich & ...  150 cal per 355ml  \n",
       "\n",
       "[108 rows x 11 columns]"
      ],
      "text/html": [
       "\n",
       "  <div id=\"df-d3057593-40f5-4afb-aaae-5de25e3ca2a9\">\n",
       "    <div class=\"colab-df-container\">\n",
       "      <div>\n",
       "<style scoped>\n",
       "    .dataframe tbody tr th:only-of-type {\n",
       "        vertical-align: middle;\n",
       "    }\n",
       "\n",
       "    .dataframe tbody tr th {\n",
       "        vertical-align: top;\n",
       "    }\n",
       "\n",
       "    .dataframe thead th {\n",
       "        text-align: right;\n",
       "    }\n",
       "</style>\n",
       "<table border=\"1\" class=\"dataframe\">\n",
       "  <thead>\n",
       "    <tr style=\"text-align: right;\">\n",
       "      <th></th>\n",
       "      <th>맥주정보</th>\n",
       "      <th>검색이름</th>\n",
       "      <th>맥주이름</th>\n",
       "      <th>맥주회사</th>\n",
       "      <th>맥주원산지</th>\n",
       "      <th>맥주종류</th>\n",
       "      <th>맥주도수</th>\n",
       "      <th>맥주IBU</th>\n",
       "      <th>맥주평점</th>\n",
       "      <th>맥주설명</th>\n",
       "      <th>맥주칼로리</th>\n",
       "    </tr>\n",
       "  </thead>\n",
       "  <tbody>\n",
       "    <tr>\n",
       "      <th>0</th>\n",
       "      <td>italianjohn(5,219)\\n🇺🇸Penndel, United States\\n...</td>\n",
       "      <td>kloud</td>\n",
       "      <td>Kloud Original Gravity</td>\n",
       "      <td>Lotte Liquor BG</td>\n",
       "      <td>🇰🇷 Seoul, South Korea</td>\n",
       "      <td>Pale Lager - International / Premium</td>\n",
       "      <td>5.0%</td>\n",
       "      <td>NaN</td>\n",
       "      <td>2.48</td>\n",
       "      <td>100% Malt Real Beer. Original Gravity. Rich &amp; ...</td>\n",
       "      <td>150 cal per 355ml</td>\n",
       "    </tr>\n",
       "    <tr>\n",
       "      <th>1</th>\n",
       "      <td>orda(281)\\n🇺🇸Aurora, United States\\n3.9August ...</td>\n",
       "      <td>kloud</td>\n",
       "      <td>Kloud Original Gravity</td>\n",
       "      <td>Lotte Liquor BG</td>\n",
       "      <td>🇰🇷 Seoul, South Korea</td>\n",
       "      <td>Pale Lager - International / Premium</td>\n",
       "      <td>5.0%</td>\n",
       "      <td>NaN</td>\n",
       "      <td>2.48</td>\n",
       "      <td>100% Malt Real Beer. Original Gravity. Rich &amp; ...</td>\n",
       "      <td>150 cal per 355ml</td>\n",
       "    </tr>\n",
       "    <tr>\n",
       "      <th>2</th>\n",
       "      <td>Radek Kliber(8,060)\\n🇨🇦Toronto (Can) Krotoszyn...</td>\n",
       "      <td>kloud</td>\n",
       "      <td>Kloud Original Gravity</td>\n",
       "      <td>Lotte Liquor BG</td>\n",
       "      <td>🇰🇷 Seoul, South Korea</td>\n",
       "      <td>Pale Lager - International / Premium</td>\n",
       "      <td>5.0%</td>\n",
       "      <td>NaN</td>\n",
       "      <td>2.48</td>\n",
       "      <td>100% Malt Real Beer. Original Gravity. Rich &amp; ...</td>\n",
       "      <td>150 cal per 355ml</td>\n",
       "    </tr>\n",
       "    <tr>\n",
       "      <th>3</th>\n",
       "      <td>geologyguy(2,575)\\n🇺🇸Columbia, United States\\n...</td>\n",
       "      <td>kloud</td>\n",
       "      <td>Kloud Original Gravity</td>\n",
       "      <td>Lotte Liquor BG</td>\n",
       "      <td>🇰🇷 Seoul, South Korea</td>\n",
       "      <td>Pale Lager - International / Premium</td>\n",
       "      <td>5.0%</td>\n",
       "      <td>NaN</td>\n",
       "      <td>2.48</td>\n",
       "      <td>100% Malt Real Beer. Original Gravity. Rich &amp; ...</td>\n",
       "      <td>150 cal per 355ml</td>\n",
       "    </tr>\n",
       "    <tr>\n",
       "      <th>4</th>\n",
       "      <td>Wolff90(195)\\n🇸🇪Upplands Väsby, Sweden\\n1.0Feb...</td>\n",
       "      <td>kloud</td>\n",
       "      <td>Kloud Original Gravity</td>\n",
       "      <td>Lotte Liquor BG</td>\n",
       "      <td>🇰🇷 Seoul, South Korea</td>\n",
       "      <td>Pale Lager - International / Premium</td>\n",
       "      <td>5.0%</td>\n",
       "      <td>NaN</td>\n",
       "      <td>2.48</td>\n",
       "      <td>100% Malt Real Beer. Original Gravity. Rich &amp; ...</td>\n",
       "      <td>150 cal per 355ml</td>\n",
       "    </tr>\n",
       "    <tr>\n",
       "      <th>...</th>\n",
       "      <td>...</td>\n",
       "      <td>...</td>\n",
       "      <td>...</td>\n",
       "      <td>...</td>\n",
       "      <td>...</td>\n",
       "      <td>...</td>\n",
       "      <td>...</td>\n",
       "      <td>...</td>\n",
       "      <td>...</td>\n",
       "      <td>...</td>\n",
       "      <td>...</td>\n",
       "    </tr>\n",
       "    <tr>\n",
       "      <th>103</th>\n",
       "      <td>fredthecat(548)\\n🇨🇦Canada\\n1.8November 4, 2014...</td>\n",
       "      <td>kloud</td>\n",
       "      <td>Kloud Original Gravity</td>\n",
       "      <td>Lotte Liquor BG</td>\n",
       "      <td>🇰🇷 Seoul, South Korea</td>\n",
       "      <td>Pale Lager - International / Premium</td>\n",
       "      <td>5.0%</td>\n",
       "      <td>NaN</td>\n",
       "      <td>2.48</td>\n",
       "      <td>100% Malt Real Beer. Original Gravity. Rich &amp; ...</td>\n",
       "      <td>150 cal per 355ml</td>\n",
       "    </tr>\n",
       "    <tr>\n",
       "      <th>104</th>\n",
       "      <td>dhunter151(590)\\n🇺🇸Santa Rosa, United States\\n...</td>\n",
       "      <td>kloud</td>\n",
       "      <td>Kloud Original Gravity</td>\n",
       "      <td>Lotte Liquor BG</td>\n",
       "      <td>🇰🇷 Seoul, South Korea</td>\n",
       "      <td>Pale Lager - International / Premium</td>\n",
       "      <td>5.0%</td>\n",
       "      <td>NaN</td>\n",
       "      <td>2.48</td>\n",
       "      <td>100% Malt Real Beer. Original Gravity. Rich &amp; ...</td>\n",
       "      <td>150 cal per 355ml</td>\n",
       "    </tr>\n",
       "    <tr>\n",
       "      <th>105</th>\n",
       "      <td>maus(46)\\n🇪🇪Tartu, Estonia\\n2.3July 17, 2014\\n...</td>\n",
       "      <td>kloud</td>\n",
       "      <td>Kloud Original Gravity</td>\n",
       "      <td>Lotte Liquor BG</td>\n",
       "      <td>🇰🇷 Seoul, South Korea</td>\n",
       "      <td>Pale Lager - International / Premium</td>\n",
       "      <td>5.0%</td>\n",
       "      <td>NaN</td>\n",
       "      <td>2.48</td>\n",
       "      <td>100% Malt Real Beer. Original Gravity. Rich &amp; ...</td>\n",
       "      <td>150 cal per 355ml</td>\n",
       "    </tr>\n",
       "    <tr>\n",
       "      <th>106</th>\n",
       "      <td>hojoo(4)\\n2.8July 16, 2014\\nunfortunately, too...</td>\n",
       "      <td>kloud</td>\n",
       "      <td>Kloud Original Gravity</td>\n",
       "      <td>Lotte Liquor BG</td>\n",
       "      <td>🇰🇷 Seoul, South Korea</td>\n",
       "      <td>Pale Lager - International / Premium</td>\n",
       "      <td>5.0%</td>\n",
       "      <td>NaN</td>\n",
       "      <td>2.48</td>\n",
       "      <td>100% Malt Real Beer. Original Gravity. Rich &amp; ...</td>\n",
       "      <td>150 cal per 355ml</td>\n",
       "    </tr>\n",
       "    <tr>\n",
       "      <th>107</th>\n",
       "      <td>migojarad(3)\\n🇰🇷Seoul, South Korea\\n2.1June 17...</td>\n",
       "      <td>kloud</td>\n",
       "      <td>Kloud Original Gravity</td>\n",
       "      <td>Lotte Liquor BG</td>\n",
       "      <td>🇰🇷 Seoul, South Korea</td>\n",
       "      <td>Pale Lager - International / Premium</td>\n",
       "      <td>5.0%</td>\n",
       "      <td>NaN</td>\n",
       "      <td>2.48</td>\n",
       "      <td>100% Malt Real Beer. Original Gravity. Rich &amp; ...</td>\n",
       "      <td>150 cal per 355ml</td>\n",
       "    </tr>\n",
       "  </tbody>\n",
       "</table>\n",
       "<p>108 rows × 11 columns</p>\n",
       "</div>\n",
       "      <button class=\"colab-df-convert\" onclick=\"convertToInteractive('df-d3057593-40f5-4afb-aaae-5de25e3ca2a9')\"\n",
       "              title=\"Convert this dataframe to an interactive table.\"\n",
       "              style=\"display:none;\">\n",
       "        \n",
       "  <svg xmlns=\"http://www.w3.org/2000/svg\" height=\"24px\"viewBox=\"0 0 24 24\"\n",
       "       width=\"24px\">\n",
       "    <path d=\"M0 0h24v24H0V0z\" fill=\"none\"/>\n",
       "    <path d=\"M18.56 5.44l.94 2.06.94-2.06 2.06-.94-2.06-.94-.94-2.06-.94 2.06-2.06.94zm-11 1L8.5 8.5l.94-2.06 2.06-.94-2.06-.94L8.5 2.5l-.94 2.06-2.06.94zm10 10l.94 2.06.94-2.06 2.06-.94-2.06-.94-.94-2.06-.94 2.06-2.06.94z\"/><path d=\"M17.41 7.96l-1.37-1.37c-.4-.4-.92-.59-1.43-.59-.52 0-1.04.2-1.43.59L10.3 9.45l-7.72 7.72c-.78.78-.78 2.05 0 2.83L4 21.41c.39.39.9.59 1.41.59.51 0 1.02-.2 1.41-.59l7.78-7.78 2.81-2.81c.8-.78.8-2.07 0-2.86zM5.41 20L4 18.59l7.72-7.72 1.47 1.35L5.41 20z\"/>\n",
       "  </svg>\n",
       "      </button>\n",
       "      \n",
       "  <style>\n",
       "    .colab-df-container {\n",
       "      display:flex;\n",
       "      flex-wrap:wrap;\n",
       "      gap: 12px;\n",
       "    }\n",
       "\n",
       "    .colab-df-convert {\n",
       "      background-color: #E8F0FE;\n",
       "      border: none;\n",
       "      border-radius: 50%;\n",
       "      cursor: pointer;\n",
       "      display: none;\n",
       "      fill: #1967D2;\n",
       "      height: 32px;\n",
       "      padding: 0 0 0 0;\n",
       "      width: 32px;\n",
       "    }\n",
       "\n",
       "    .colab-df-convert:hover {\n",
       "      background-color: #E2EBFA;\n",
       "      box-shadow: 0px 1px 2px rgba(60, 64, 67, 0.3), 0px 1px 3px 1px rgba(60, 64, 67, 0.15);\n",
       "      fill: #174EA6;\n",
       "    }\n",
       "\n",
       "    [theme=dark] .colab-df-convert {\n",
       "      background-color: #3B4455;\n",
       "      fill: #D2E3FC;\n",
       "    }\n",
       "\n",
       "    [theme=dark] .colab-df-convert:hover {\n",
       "      background-color: #434B5C;\n",
       "      box-shadow: 0px 1px 3px 1px rgba(0, 0, 0, 0.15);\n",
       "      filter: drop-shadow(0px 1px 2px rgba(0, 0, 0, 0.3));\n",
       "      fill: #FFFFFF;\n",
       "    }\n",
       "  </style>\n",
       "\n",
       "      <script>\n",
       "        const buttonEl =\n",
       "          document.querySelector('#df-d3057593-40f5-4afb-aaae-5de25e3ca2a9 button.colab-df-convert');\n",
       "        buttonEl.style.display =\n",
       "          google.colab.kernel.accessAllowed ? 'block' : 'none';\n",
       "\n",
       "        async function convertToInteractive(key) {\n",
       "          const element = document.querySelector('#df-d3057593-40f5-4afb-aaae-5de25e3ca2a9');\n",
       "          const dataTable =\n",
       "            await google.colab.kernel.invokeFunction('convertToInteractive',\n",
       "                                                     [key], {});\n",
       "          if (!dataTable) return;\n",
       "\n",
       "          const docLinkHtml = 'Like what you see? Visit the ' +\n",
       "            '<a target=\"_blank\" href=https://colab.research.google.com/notebooks/data_table.ipynb>data table notebook</a>'\n",
       "            + ' to learn more about interactive tables.';\n",
       "          element.innerHTML = '';\n",
       "          dataTable['output_type'] = 'display_data';\n",
       "          await google.colab.output.renderOutput(dataTable, element);\n",
       "          const docLink = document.createElement('div');\n",
       "          docLink.innerHTML = docLinkHtml;\n",
       "          element.appendChild(docLink);\n",
       "        }\n",
       "      </script>\n",
       "    </div>\n",
       "  </div>\n",
       "  "
      ]
     },
     "metadata": {},
     "execution_count": 12
    }
   ]
  },
  {
   "cell_type": "code",
   "source": [
    "# 병합 작업\n",
    "for i in range(len(beer_csv_list)):\n",
    "  try:\n",
    "    tmp = pd.read_csv('/content/drive/MyDrive/data/' + beer_csv_list[i], index_col=0)\n",
    "    data = pd.concat([data, tmp])\n",
    "  except:\n",
    "    # 오류 발 시 넘어가기\n",
    "    print(i, '번재에서 오류가 발생했음. 다음 파일로 넘어감.')"
   ],
   "metadata": {
    "id": "xqcOKNBG2l59",
    "executionInfo": {
     "status": "ok",
     "timestamp": 1665539274578,
     "user_tz": -540,
     "elapsed": 27448,
     "user": {
      "displayName": "So Yeon Lee",
      "userId": "01771365654963141477"
     }
    }
   },
   "execution_count": 13,
   "outputs": []
  },
  {
   "cell_type": "code",
   "source": [
    "data.shape"
   ],
   "metadata": {
    "colab": {
     "base_uri": "https://localhost:8080/"
    },
    "id": "Va5ow63W4I8_",
    "executionInfo": {
     "status": "ok",
     "timestamp": 1665539296046,
     "user_tz": -540,
     "elapsed": 7,
     "user": {
      "displayName": "So Yeon Lee",
      "userId": "01771365654963141477"
     }
    },
    "outputId": "f395d2b1-749b-4c13-8b44-d3f05c718c01"
   },
   "execution_count": 15,
   "outputs": [
    {
     "output_type": "execute_result",
     "data": {
      "text/plain": [
       "(72140, 11)"
      ]
     },
     "metadata": {},
     "execution_count": 15
    }
   ]
  },
  {
   "cell_type": "code",
   "source": [
    "# 합친 데이터 저장하기\n",
    "data.to_csv('맥주전처리데이터.csv', encoding='utf-8')"
   ],
   "metadata": {
    "id": "7_ziW9cy3oOZ",
    "executionInfo": {
     "status": "ok",
     "timestamp": 1665539335965,
     "user_tz": -540,
     "elapsed": 1527,
     "user": {
      "displayName": "So Yeon Lee",
      "userId": "01771365654963141477"
     }
    }
   },
   "execution_count": 17,
   "outputs": []
  },
  {
   "cell_type": "code",
   "source": [
    "# 맥주 전처리 데이터 확인\n",
    "data = pd.read_csv('/content/맥주전처리데이터.csv')\n",
    "data.head()"
   ],
   "metadata": {
    "colab": {
     "base_uri": "https://localhost:8080/",
     "height": 354
    },
    "id": "tbWz0Csx4Sd4",
    "executionInfo": {
     "status": "ok",
     "timestamp": 1665539504794,
     "user_tz": -540,
     "elapsed": 873,
     "user": {
      "displayName": "So Yeon Lee",
      "userId": "01771365654963141477"
     }
    },
    "outputId": "ad45b274-80ac-4b90-df6b-887ccbbc60ee"
   },
   "execution_count": 18,
   "outputs": [
    {
     "output_type": "execute_result",
     "data": {
      "text/plain": [
       "   Unnamed: 0                                               맥주정보   검색이름  \\\n",
       "0           0  italianjohn(5,219)\\n🇺🇸Penndel, United States\\n...  kloud   \n",
       "1           1  orda(281)\\n🇺🇸Aurora, United States\\n3.9August ...  kloud   \n",
       "2           2  Radek Kliber(8,060)\\n🇨🇦Toronto (Can) Krotoszyn...  kloud   \n",
       "3           3  geologyguy(2,575)\\n🇺🇸Columbia, United States\\n...  kloud   \n",
       "4           4  Wolff90(195)\\n🇸🇪Upplands Väsby, Sweden\\n1.0Feb...  kloud   \n",
       "\n",
       "                     맥주이름             맥주회사                  맥주원산지  \\\n",
       "0  Kloud Original Gravity  Lotte Liquor BG  🇰🇷 Seoul, South Korea   \n",
       "1  Kloud Original Gravity  Lotte Liquor BG  🇰🇷 Seoul, South Korea   \n",
       "2  Kloud Original Gravity  Lotte Liquor BG  🇰🇷 Seoul, South Korea   \n",
       "3  Kloud Original Gravity  Lotte Liquor BG  🇰🇷 Seoul, South Korea   \n",
       "4  Kloud Original Gravity  Lotte Liquor BG  🇰🇷 Seoul, South Korea   \n",
       "\n",
       "                                   맥주종류  맥주도수 맥주IBU  맥주평점  \\\n",
       "0  Pale Lager - International / Premium  5.0%   NaN  2.48   \n",
       "1  Pale Lager - International / Premium  5.0%   NaN  2.48   \n",
       "2  Pale Lager - International / Premium  5.0%   NaN  2.48   \n",
       "3  Pale Lager - International / Premium  5.0%   NaN  2.48   \n",
       "4  Pale Lager - International / Premium  5.0%   NaN  2.48   \n",
       "\n",
       "                                                맥주설명              맥주칼로리  \n",
       "0  100% Malt Real Beer. Original Gravity. Rich & ...  150 cal per 355ml  \n",
       "1  100% Malt Real Beer. Original Gravity. Rich & ...  150 cal per 355ml  \n",
       "2  100% Malt Real Beer. Original Gravity. Rich & ...  150 cal per 355ml  \n",
       "3  100% Malt Real Beer. Original Gravity. Rich & ...  150 cal per 355ml  \n",
       "4  100% Malt Real Beer. Original Gravity. Rich & ...  150 cal per 355ml  "
      ],
      "text/html": [
       "\n",
       "  <div id=\"df-7b8e3e23-6e65-4916-879a-d44583897401\">\n",
       "    <div class=\"colab-df-container\">\n",
       "      <div>\n",
       "<style scoped>\n",
       "    .dataframe tbody tr th:only-of-type {\n",
       "        vertical-align: middle;\n",
       "    }\n",
       "\n",
       "    .dataframe tbody tr th {\n",
       "        vertical-align: top;\n",
       "    }\n",
       "\n",
       "    .dataframe thead th {\n",
       "        text-align: right;\n",
       "    }\n",
       "</style>\n",
       "<table border=\"1\" class=\"dataframe\">\n",
       "  <thead>\n",
       "    <tr style=\"text-align: right;\">\n",
       "      <th></th>\n",
       "      <th>Unnamed: 0</th>\n",
       "      <th>맥주정보</th>\n",
       "      <th>검색이름</th>\n",
       "      <th>맥주이름</th>\n",
       "      <th>맥주회사</th>\n",
       "      <th>맥주원산지</th>\n",
       "      <th>맥주종류</th>\n",
       "      <th>맥주도수</th>\n",
       "      <th>맥주IBU</th>\n",
       "      <th>맥주평점</th>\n",
       "      <th>맥주설명</th>\n",
       "      <th>맥주칼로리</th>\n",
       "    </tr>\n",
       "  </thead>\n",
       "  <tbody>\n",
       "    <tr>\n",
       "      <th>0</th>\n",
       "      <td>0</td>\n",
       "      <td>italianjohn(5,219)\\n🇺🇸Penndel, United States\\n...</td>\n",
       "      <td>kloud</td>\n",
       "      <td>Kloud Original Gravity</td>\n",
       "      <td>Lotte Liquor BG</td>\n",
       "      <td>🇰🇷 Seoul, South Korea</td>\n",
       "      <td>Pale Lager - International / Premium</td>\n",
       "      <td>5.0%</td>\n",
       "      <td>NaN</td>\n",
       "      <td>2.48</td>\n",
       "      <td>100% Malt Real Beer. Original Gravity. Rich &amp; ...</td>\n",
       "      <td>150 cal per 355ml</td>\n",
       "    </tr>\n",
       "    <tr>\n",
       "      <th>1</th>\n",
       "      <td>1</td>\n",
       "      <td>orda(281)\\n🇺🇸Aurora, United States\\n3.9August ...</td>\n",
       "      <td>kloud</td>\n",
       "      <td>Kloud Original Gravity</td>\n",
       "      <td>Lotte Liquor BG</td>\n",
       "      <td>🇰🇷 Seoul, South Korea</td>\n",
       "      <td>Pale Lager - International / Premium</td>\n",
       "      <td>5.0%</td>\n",
       "      <td>NaN</td>\n",
       "      <td>2.48</td>\n",
       "      <td>100% Malt Real Beer. Original Gravity. Rich &amp; ...</td>\n",
       "      <td>150 cal per 355ml</td>\n",
       "    </tr>\n",
       "    <tr>\n",
       "      <th>2</th>\n",
       "      <td>2</td>\n",
       "      <td>Radek Kliber(8,060)\\n🇨🇦Toronto (Can) Krotoszyn...</td>\n",
       "      <td>kloud</td>\n",
       "      <td>Kloud Original Gravity</td>\n",
       "      <td>Lotte Liquor BG</td>\n",
       "      <td>🇰🇷 Seoul, South Korea</td>\n",
       "      <td>Pale Lager - International / Premium</td>\n",
       "      <td>5.0%</td>\n",
       "      <td>NaN</td>\n",
       "      <td>2.48</td>\n",
       "      <td>100% Malt Real Beer. Original Gravity. Rich &amp; ...</td>\n",
       "      <td>150 cal per 355ml</td>\n",
       "    </tr>\n",
       "    <tr>\n",
       "      <th>3</th>\n",
       "      <td>3</td>\n",
       "      <td>geologyguy(2,575)\\n🇺🇸Columbia, United States\\n...</td>\n",
       "      <td>kloud</td>\n",
       "      <td>Kloud Original Gravity</td>\n",
       "      <td>Lotte Liquor BG</td>\n",
       "      <td>🇰🇷 Seoul, South Korea</td>\n",
       "      <td>Pale Lager - International / Premium</td>\n",
       "      <td>5.0%</td>\n",
       "      <td>NaN</td>\n",
       "      <td>2.48</td>\n",
       "      <td>100% Malt Real Beer. Original Gravity. Rich &amp; ...</td>\n",
       "      <td>150 cal per 355ml</td>\n",
       "    </tr>\n",
       "    <tr>\n",
       "      <th>4</th>\n",
       "      <td>4</td>\n",
       "      <td>Wolff90(195)\\n🇸🇪Upplands Väsby, Sweden\\n1.0Feb...</td>\n",
       "      <td>kloud</td>\n",
       "      <td>Kloud Original Gravity</td>\n",
       "      <td>Lotte Liquor BG</td>\n",
       "      <td>🇰🇷 Seoul, South Korea</td>\n",
       "      <td>Pale Lager - International / Premium</td>\n",
       "      <td>5.0%</td>\n",
       "      <td>NaN</td>\n",
       "      <td>2.48</td>\n",
       "      <td>100% Malt Real Beer. Original Gravity. Rich &amp; ...</td>\n",
       "      <td>150 cal per 355ml</td>\n",
       "    </tr>\n",
       "  </tbody>\n",
       "</table>\n",
       "</div>\n",
       "      <button class=\"colab-df-convert\" onclick=\"convertToInteractive('df-7b8e3e23-6e65-4916-879a-d44583897401')\"\n",
       "              title=\"Convert this dataframe to an interactive table.\"\n",
       "              style=\"display:none;\">\n",
       "        \n",
       "  <svg xmlns=\"http://www.w3.org/2000/svg\" height=\"24px\"viewBox=\"0 0 24 24\"\n",
       "       width=\"24px\">\n",
       "    <path d=\"M0 0h24v24H0V0z\" fill=\"none\"/>\n",
       "    <path d=\"M18.56 5.44l.94 2.06.94-2.06 2.06-.94-2.06-.94-.94-2.06-.94 2.06-2.06.94zm-11 1L8.5 8.5l.94-2.06 2.06-.94-2.06-.94L8.5 2.5l-.94 2.06-2.06.94zm10 10l.94 2.06.94-2.06 2.06-.94-2.06-.94-.94-2.06-.94 2.06-2.06.94z\"/><path d=\"M17.41 7.96l-1.37-1.37c-.4-.4-.92-.59-1.43-.59-.52 0-1.04.2-1.43.59L10.3 9.45l-7.72 7.72c-.78.78-.78 2.05 0 2.83L4 21.41c.39.39.9.59 1.41.59.51 0 1.02-.2 1.41-.59l7.78-7.78 2.81-2.81c.8-.78.8-2.07 0-2.86zM5.41 20L4 18.59l7.72-7.72 1.47 1.35L5.41 20z\"/>\n",
       "  </svg>\n",
       "      </button>\n",
       "      \n",
       "  <style>\n",
       "    .colab-df-container {\n",
       "      display:flex;\n",
       "      flex-wrap:wrap;\n",
       "      gap: 12px;\n",
       "    }\n",
       "\n",
       "    .colab-df-convert {\n",
       "      background-color: #E8F0FE;\n",
       "      border: none;\n",
       "      border-radius: 50%;\n",
       "      cursor: pointer;\n",
       "      display: none;\n",
       "      fill: #1967D2;\n",
       "      height: 32px;\n",
       "      padding: 0 0 0 0;\n",
       "      width: 32px;\n",
       "    }\n",
       "\n",
       "    .colab-df-convert:hover {\n",
       "      background-color: #E2EBFA;\n",
       "      box-shadow: 0px 1px 2px rgba(60, 64, 67, 0.3), 0px 1px 3px 1px rgba(60, 64, 67, 0.15);\n",
       "      fill: #174EA6;\n",
       "    }\n",
       "\n",
       "    [theme=dark] .colab-df-convert {\n",
       "      background-color: #3B4455;\n",
       "      fill: #D2E3FC;\n",
       "    }\n",
       "\n",
       "    [theme=dark] .colab-df-convert:hover {\n",
       "      background-color: #434B5C;\n",
       "      box-shadow: 0px 1px 3px 1px rgba(0, 0, 0, 0.15);\n",
       "      filter: drop-shadow(0px 1px 2px rgba(0, 0, 0, 0.3));\n",
       "      fill: #FFFFFF;\n",
       "    }\n",
       "  </style>\n",
       "\n",
       "      <script>\n",
       "        const buttonEl =\n",
       "          document.querySelector('#df-7b8e3e23-6e65-4916-879a-d44583897401 button.colab-df-convert');\n",
       "        buttonEl.style.display =\n",
       "          google.colab.kernel.accessAllowed ? 'block' : 'none';\n",
       "\n",
       "        async function convertToInteractive(key) {\n",
       "          const element = document.querySelector('#df-7b8e3e23-6e65-4916-879a-d44583897401');\n",
       "          const dataTable =\n",
       "            await google.colab.kernel.invokeFunction('convertToInteractive',\n",
       "                                                     [key], {});\n",
       "          if (!dataTable) return;\n",
       "\n",
       "          const docLinkHtml = 'Like what you see? Visit the ' +\n",
       "            '<a target=\"_blank\" href=https://colab.research.google.com/notebooks/data_table.ipynb>data table notebook</a>'\n",
       "            + ' to learn more about interactive tables.';\n",
       "          element.innerHTML = '';\n",
       "          dataTable['output_type'] = 'display_data';\n",
       "          await google.colab.output.renderOutput(dataTable, element);\n",
       "          const docLink = document.createElement('div');\n",
       "          docLink.innerHTML = docLinkHtml;\n",
       "          element.appendChild(docLink);\n",
       "        }\n",
       "      </script>\n",
       "    </div>\n",
       "  </div>\n",
       "  "
      ]
     },
     "metadata": {},
     "execution_count": 18
    }
   ]
  },
  {
   "cell_type": "code",
   "source": [
    "data.info()"
   ],
   "metadata": {
    "colab": {
     "base_uri": "https://localhost:8080/"
    },
    "id": "wyg2bXGc4_AG",
    "executionInfo": {
     "status": "ok",
     "timestamp": 1665539515282,
     "user_tz": -540,
     "elapsed": 341,
     "user": {
      "displayName": "So Yeon Lee",
      "userId": "01771365654963141477"
     }
    },
    "outputId": "a0cd31cf-9839-4c27-fe3f-9c0e444df003"
   },
   "execution_count": 19,
   "outputs": [
    {
     "output_type": "stream",
     "name": "stdout",
     "text": [
      "<class 'pandas.core.frame.DataFrame'>\n",
      "RangeIndex: 72140 entries, 0 to 72139\n",
      "Data columns (total 12 columns):\n",
      " #   Column      Non-Null Count  Dtype  \n",
      "---  ------      --------------  -----  \n",
      " 0   Unnamed: 0  72140 non-null  int64  \n",
      " 1   맥주정보        72140 non-null  object \n",
      " 2   검색이름        72140 non-null  object \n",
      " 3   맥주이름        72140 non-null  object \n",
      " 4   맥주회사        72140 non-null  object \n",
      " 5   맥주원산지       72140 non-null  object \n",
      " 6   맥주종류        72140 non-null  object \n",
      " 7   맥주도수        72140 non-null  object \n",
      " 8   맥주IBU       27523 non-null  object \n",
      " 9   맥주평점        72140 non-null  float64\n",
      " 10  맥주설명        70887 non-null  object \n",
      " 11  맥주칼로리       70958 non-null  object \n",
      "dtypes: float64(1), int64(1), object(10)\n",
      "memory usage: 6.6+ MB\n"
     ]
    }
   ]
  },
  {
   "cell_type": "markdown",
   "source": [
    "# 전처리 작업"
   ],
   "metadata": {
    "id": "CdVHqPNY5DgG"
   }
  },
  {
   "cell_type": "code",
   "source": [
    "import pandas as pd"
   ],
   "metadata": {
    "id": "zEEtnq4q5B_o",
    "executionInfo": {
     "status": "ok",
     "timestamp": 1665539548105,
     "user_tz": -540,
     "elapsed": 2,
     "user": {
      "displayName": "So Yeon Lee",
      "userId": "01771365654963141477"
     }
    }
   },
   "execution_count": 20,
   "outputs": []
  },
  {
   "cell_type": "code",
   "source": [
    "data = pd.read_csv('/content/drive/MyDrive/맥주전처리데이터.csv', encoding='utf-8', index_col=0)"
   ],
   "metadata": {
    "id": "R_RDKDZo5J-0",
    "executionInfo": {
     "status": "ok",
     "timestamp": 1665539674655,
     "user_tz": -540,
     "elapsed": 1999,
     "user": {
      "displayName": "So Yeon Lee",
      "userId": "01771365654963141477"
     }
    }
   },
   "execution_count": 21,
   "outputs": []
  },
  {
   "cell_type": "code",
   "source": [
    "data"
   ],
   "metadata": {
    "colab": {
     "base_uri": "https://localhost:8080/",
     "height": 659
    },
    "id": "fl6iOGii5och",
    "executionInfo": {
     "status": "ok",
     "timestamp": 1665539678376,
     "user_tz": -540,
     "elapsed": 12,
     "user": {
      "displayName": "So Yeon Lee",
      "userId": "01771365654963141477"
     }
    },
    "outputId": "9809ab5e-5290-49af-fcd5-40eb66d74d61"
   },
   "execution_count": 22,
   "outputs": [
    {
     "output_type": "execute_result",
     "data": {
      "text/plain": [
       "                                                  맥주정보        검색이름  \\\n",
       "0    italianjohn(5,219)\\n🇺🇸Penndel, United States\\n...       kloud   \n",
       "1    orda(281)\\n🇺🇸Aurora, United States\\n3.9August ...       kloud   \n",
       "2    Radek Kliber(8,060)\\n🇨🇦Toronto (Can) Krotoszyn...       kloud   \n",
       "3    geologyguy(2,575)\\n🇺🇸Columbia, United States\\n...       kloud   \n",
       "4    Wolff90(195)\\n🇸🇪Upplands Väsby, Sweden\\n1.0Feb...       kloud   \n",
       "..                                                 ...         ...   \n",
       "901  caesar(7,642)\\n🇳🇱Bunnik, Netherlands\\n2.7Augus...  Desperados   \n",
       "902  jerohen(2,619)\\n🇳🇱Bussum, Netherlands\\n2.3Augu...  Desperados   \n",
       "903  Panzuriel(2,662)\\n🇺🇸Westerville, United States...  Desperados   \n",
       "904  brewmeistersgb(10)\\n🇺🇸United States\\n2.5August...  Desperados   \n",
       "905  karsten(240)\\n🇩🇰odense, Denmark\\n1.6August 7, ...  Desperados   \n",
       "\n",
       "                       맥주이름                        맥주회사  \\\n",
       "0    Kloud Original Gravity             Lotte Liquor BG   \n",
       "1    Kloud Original Gravity             Lotte Liquor BG   \n",
       "2    Kloud Original Gravity             Lotte Liquor BG   \n",
       "3    Kloud Original Gravity             Lotte Liquor BG   \n",
       "4    Kloud Original Gravity             Lotte Liquor BG   \n",
       "..                      ...                         ...   \n",
       "901              Desperados  Heineken France (Heineken)   \n",
       "902              Desperados  Heineken France (Heineken)   \n",
       "903              Desperados  Heineken France (Heineken)   \n",
       "904              Desperados  Heineken France (Heineken)   \n",
       "905              Desperados  Heineken France (Heineken)   \n",
       "\n",
       "                                         맥주원산지  \\\n",
       "0                        🇰🇷 Seoul, South Korea   \n",
       "1                        🇰🇷 Seoul, South Korea   \n",
       "2                        🇰🇷 Seoul, South Korea   \n",
       "3                        🇰🇷 Seoul, South Korea   \n",
       "4                        🇰🇷 Seoul, South Korea   \n",
       "..                                         ...   \n",
       "901  🇫🇷 Rueil-Malmaison, Ile-de-France, France   \n",
       "902  🇫🇷 Rueil-Malmaison, Ile-de-France, France   \n",
       "903  🇫🇷 Rueil-Malmaison, Ile-de-France, France   \n",
       "904  🇫🇷 Rueil-Malmaison, Ile-de-France, France   \n",
       "905  🇫🇷 Rueil-Malmaison, Ile-de-France, France   \n",
       "\n",
       "                                     맥주종류  맥주도수 맥주IBU  맥주평점  \\\n",
       "0    Pale Lager - International / Premium  5.0%   NaN  2.48   \n",
       "1    Pale Lager - International / Premium  5.0%   NaN  2.48   \n",
       "2    Pale Lager - International / Premium  5.0%   NaN  2.48   \n",
       "3    Pale Lager - International / Premium  5.0%   NaN  2.48   \n",
       "4    Pale Lager - International / Premium  5.0%   NaN  2.48   \n",
       "..                                    ...   ...   ...   ...   \n",
       "901                      Flavored - Other  5.9%   NaN  2.10   \n",
       "902                      Flavored - Other  5.9%   NaN  2.10   \n",
       "903                      Flavored - Other  5.9%   NaN  2.10   \n",
       "904                      Flavored - Other  5.9%   NaN  2.10   \n",
       "905                      Flavored - Other  5.9%   NaN  2.10   \n",
       "\n",
       "                                                  맥주설명              맥주칼로리  \n",
       "0    100% Malt Real Beer. Original Gravity. Rich & ...  150 cal per 355ml  \n",
       "1    100% Malt Real Beer. Original Gravity. Rich & ...  150 cal per 355ml  \n",
       "2    100% Malt Real Beer. Original Gravity. Rich & ...  150 cal per 355ml  \n",
       "3    100% Malt Real Beer. Original Gravity. Rich & ...  150 cal per 355ml  \n",
       "4    100% Malt Real Beer. Original Gravity. Rich & ...  150 cal per 355ml  \n",
       "..                                                 ...                ...  \n",
       "901  Richness of a universe, power of a name, refre...  177 cal per 355ml  \n",
       "902  Richness of a universe, power of a name, refre...  177 cal per 355ml  \n",
       "903  Richness of a universe, power of a name, refre...  177 cal per 355ml  \n",
       "904  Richness of a universe, power of a name, refre...  177 cal per 355ml  \n",
       "905  Richness of a universe, power of a name, refre...  177 cal per 355ml  \n",
       "\n",
       "[72140 rows x 11 columns]"
      ],
      "text/html": [
       "\n",
       "  <div id=\"df-edf8b1be-c3f3-41bd-bf01-5c631dd29ae5\">\n",
       "    <div class=\"colab-df-container\">\n",
       "      <div>\n",
       "<style scoped>\n",
       "    .dataframe tbody tr th:only-of-type {\n",
       "        vertical-align: middle;\n",
       "    }\n",
       "\n",
       "    .dataframe tbody tr th {\n",
       "        vertical-align: top;\n",
       "    }\n",
       "\n",
       "    .dataframe thead th {\n",
       "        text-align: right;\n",
       "    }\n",
       "</style>\n",
       "<table border=\"1\" class=\"dataframe\">\n",
       "  <thead>\n",
       "    <tr style=\"text-align: right;\">\n",
       "      <th></th>\n",
       "      <th>맥주정보</th>\n",
       "      <th>검색이름</th>\n",
       "      <th>맥주이름</th>\n",
       "      <th>맥주회사</th>\n",
       "      <th>맥주원산지</th>\n",
       "      <th>맥주종류</th>\n",
       "      <th>맥주도수</th>\n",
       "      <th>맥주IBU</th>\n",
       "      <th>맥주평점</th>\n",
       "      <th>맥주설명</th>\n",
       "      <th>맥주칼로리</th>\n",
       "    </tr>\n",
       "  </thead>\n",
       "  <tbody>\n",
       "    <tr>\n",
       "      <th>0</th>\n",
       "      <td>italianjohn(5,219)\\n🇺🇸Penndel, United States\\n...</td>\n",
       "      <td>kloud</td>\n",
       "      <td>Kloud Original Gravity</td>\n",
       "      <td>Lotte Liquor BG</td>\n",
       "      <td>🇰🇷 Seoul, South Korea</td>\n",
       "      <td>Pale Lager - International / Premium</td>\n",
       "      <td>5.0%</td>\n",
       "      <td>NaN</td>\n",
       "      <td>2.48</td>\n",
       "      <td>100% Malt Real Beer. Original Gravity. Rich &amp; ...</td>\n",
       "      <td>150 cal per 355ml</td>\n",
       "    </tr>\n",
       "    <tr>\n",
       "      <th>1</th>\n",
       "      <td>orda(281)\\n🇺🇸Aurora, United States\\n3.9August ...</td>\n",
       "      <td>kloud</td>\n",
       "      <td>Kloud Original Gravity</td>\n",
       "      <td>Lotte Liquor BG</td>\n",
       "      <td>🇰🇷 Seoul, South Korea</td>\n",
       "      <td>Pale Lager - International / Premium</td>\n",
       "      <td>5.0%</td>\n",
       "      <td>NaN</td>\n",
       "      <td>2.48</td>\n",
       "      <td>100% Malt Real Beer. Original Gravity. Rich &amp; ...</td>\n",
       "      <td>150 cal per 355ml</td>\n",
       "    </tr>\n",
       "    <tr>\n",
       "      <th>2</th>\n",
       "      <td>Radek Kliber(8,060)\\n🇨🇦Toronto (Can) Krotoszyn...</td>\n",
       "      <td>kloud</td>\n",
       "      <td>Kloud Original Gravity</td>\n",
       "      <td>Lotte Liquor BG</td>\n",
       "      <td>🇰🇷 Seoul, South Korea</td>\n",
       "      <td>Pale Lager - International / Premium</td>\n",
       "      <td>5.0%</td>\n",
       "      <td>NaN</td>\n",
       "      <td>2.48</td>\n",
       "      <td>100% Malt Real Beer. Original Gravity. Rich &amp; ...</td>\n",
       "      <td>150 cal per 355ml</td>\n",
       "    </tr>\n",
       "    <tr>\n",
       "      <th>3</th>\n",
       "      <td>geologyguy(2,575)\\n🇺🇸Columbia, United States\\n...</td>\n",
       "      <td>kloud</td>\n",
       "      <td>Kloud Original Gravity</td>\n",
       "      <td>Lotte Liquor BG</td>\n",
       "      <td>🇰🇷 Seoul, South Korea</td>\n",
       "      <td>Pale Lager - International / Premium</td>\n",
       "      <td>5.0%</td>\n",
       "      <td>NaN</td>\n",
       "      <td>2.48</td>\n",
       "      <td>100% Malt Real Beer. Original Gravity. Rich &amp; ...</td>\n",
       "      <td>150 cal per 355ml</td>\n",
       "    </tr>\n",
       "    <tr>\n",
       "      <th>4</th>\n",
       "      <td>Wolff90(195)\\n🇸🇪Upplands Väsby, Sweden\\n1.0Feb...</td>\n",
       "      <td>kloud</td>\n",
       "      <td>Kloud Original Gravity</td>\n",
       "      <td>Lotte Liquor BG</td>\n",
       "      <td>🇰🇷 Seoul, South Korea</td>\n",
       "      <td>Pale Lager - International / Premium</td>\n",
       "      <td>5.0%</td>\n",
       "      <td>NaN</td>\n",
       "      <td>2.48</td>\n",
       "      <td>100% Malt Real Beer. Original Gravity. Rich &amp; ...</td>\n",
       "      <td>150 cal per 355ml</td>\n",
       "    </tr>\n",
       "    <tr>\n",
       "      <th>...</th>\n",
       "      <td>...</td>\n",
       "      <td>...</td>\n",
       "      <td>...</td>\n",
       "      <td>...</td>\n",
       "      <td>...</td>\n",
       "      <td>...</td>\n",
       "      <td>...</td>\n",
       "      <td>...</td>\n",
       "      <td>...</td>\n",
       "      <td>...</td>\n",
       "      <td>...</td>\n",
       "    </tr>\n",
       "    <tr>\n",
       "      <th>901</th>\n",
       "      <td>caesar(7,642)\\n🇳🇱Bunnik, Netherlands\\n2.7Augus...</td>\n",
       "      <td>Desperados</td>\n",
       "      <td>Desperados</td>\n",
       "      <td>Heineken France (Heineken)</td>\n",
       "      <td>🇫🇷 Rueil-Malmaison, Ile-de-France, France</td>\n",
       "      <td>Flavored - Other</td>\n",
       "      <td>5.9%</td>\n",
       "      <td>NaN</td>\n",
       "      <td>2.10</td>\n",
       "      <td>Richness of a universe, power of a name, refre...</td>\n",
       "      <td>177 cal per 355ml</td>\n",
       "    </tr>\n",
       "    <tr>\n",
       "      <th>902</th>\n",
       "      <td>jerohen(2,619)\\n🇳🇱Bussum, Netherlands\\n2.3Augu...</td>\n",
       "      <td>Desperados</td>\n",
       "      <td>Desperados</td>\n",
       "      <td>Heineken France (Heineken)</td>\n",
       "      <td>🇫🇷 Rueil-Malmaison, Ile-de-France, France</td>\n",
       "      <td>Flavored - Other</td>\n",
       "      <td>5.9%</td>\n",
       "      <td>NaN</td>\n",
       "      <td>2.10</td>\n",
       "      <td>Richness of a universe, power of a name, refre...</td>\n",
       "      <td>177 cal per 355ml</td>\n",
       "    </tr>\n",
       "    <tr>\n",
       "      <th>903</th>\n",
       "      <td>Panzuriel(2,662)\\n🇺🇸Westerville, United States...</td>\n",
       "      <td>Desperados</td>\n",
       "      <td>Desperados</td>\n",
       "      <td>Heineken France (Heineken)</td>\n",
       "      <td>🇫🇷 Rueil-Malmaison, Ile-de-France, France</td>\n",
       "      <td>Flavored - Other</td>\n",
       "      <td>5.9%</td>\n",
       "      <td>NaN</td>\n",
       "      <td>2.10</td>\n",
       "      <td>Richness of a universe, power of a name, refre...</td>\n",
       "      <td>177 cal per 355ml</td>\n",
       "    </tr>\n",
       "    <tr>\n",
       "      <th>904</th>\n",
       "      <td>brewmeistersgb(10)\\n🇺🇸United States\\n2.5August...</td>\n",
       "      <td>Desperados</td>\n",
       "      <td>Desperados</td>\n",
       "      <td>Heineken France (Heineken)</td>\n",
       "      <td>🇫🇷 Rueil-Malmaison, Ile-de-France, France</td>\n",
       "      <td>Flavored - Other</td>\n",
       "      <td>5.9%</td>\n",
       "      <td>NaN</td>\n",
       "      <td>2.10</td>\n",
       "      <td>Richness of a universe, power of a name, refre...</td>\n",
       "      <td>177 cal per 355ml</td>\n",
       "    </tr>\n",
       "    <tr>\n",
       "      <th>905</th>\n",
       "      <td>karsten(240)\\n🇩🇰odense, Denmark\\n1.6August 7, ...</td>\n",
       "      <td>Desperados</td>\n",
       "      <td>Desperados</td>\n",
       "      <td>Heineken France (Heineken)</td>\n",
       "      <td>🇫🇷 Rueil-Malmaison, Ile-de-France, France</td>\n",
       "      <td>Flavored - Other</td>\n",
       "      <td>5.9%</td>\n",
       "      <td>NaN</td>\n",
       "      <td>2.10</td>\n",
       "      <td>Richness of a universe, power of a name, refre...</td>\n",
       "      <td>177 cal per 355ml</td>\n",
       "    </tr>\n",
       "  </tbody>\n",
       "</table>\n",
       "<p>72140 rows × 11 columns</p>\n",
       "</div>\n",
       "      <button class=\"colab-df-convert\" onclick=\"convertToInteractive('df-edf8b1be-c3f3-41bd-bf01-5c631dd29ae5')\"\n",
       "              title=\"Convert this dataframe to an interactive table.\"\n",
       "              style=\"display:none;\">\n",
       "        \n",
       "  <svg xmlns=\"http://www.w3.org/2000/svg\" height=\"24px\"viewBox=\"0 0 24 24\"\n",
       "       width=\"24px\">\n",
       "    <path d=\"M0 0h24v24H0V0z\" fill=\"none\"/>\n",
       "    <path d=\"M18.56 5.44l.94 2.06.94-2.06 2.06-.94-2.06-.94-.94-2.06-.94 2.06-2.06.94zm-11 1L8.5 8.5l.94-2.06 2.06-.94-2.06-.94L8.5 2.5l-.94 2.06-2.06.94zm10 10l.94 2.06.94-2.06 2.06-.94-2.06-.94-.94-2.06-.94 2.06-2.06.94z\"/><path d=\"M17.41 7.96l-1.37-1.37c-.4-.4-.92-.59-1.43-.59-.52 0-1.04.2-1.43.59L10.3 9.45l-7.72 7.72c-.78.78-.78 2.05 0 2.83L4 21.41c.39.39.9.59 1.41.59.51 0 1.02-.2 1.41-.59l7.78-7.78 2.81-2.81c.8-.78.8-2.07 0-2.86zM5.41 20L4 18.59l7.72-7.72 1.47 1.35L5.41 20z\"/>\n",
       "  </svg>\n",
       "      </button>\n",
       "      \n",
       "  <style>\n",
       "    .colab-df-container {\n",
       "      display:flex;\n",
       "      flex-wrap:wrap;\n",
       "      gap: 12px;\n",
       "    }\n",
       "\n",
       "    .colab-df-convert {\n",
       "      background-color: #E8F0FE;\n",
       "      border: none;\n",
       "      border-radius: 50%;\n",
       "      cursor: pointer;\n",
       "      display: none;\n",
       "      fill: #1967D2;\n",
       "      height: 32px;\n",
       "      padding: 0 0 0 0;\n",
       "      width: 32px;\n",
       "    }\n",
       "\n",
       "    .colab-df-convert:hover {\n",
       "      background-color: #E2EBFA;\n",
       "      box-shadow: 0px 1px 2px rgba(60, 64, 67, 0.3), 0px 1px 3px 1px rgba(60, 64, 67, 0.15);\n",
       "      fill: #174EA6;\n",
       "    }\n",
       "\n",
       "    [theme=dark] .colab-df-convert {\n",
       "      background-color: #3B4455;\n",
       "      fill: #D2E3FC;\n",
       "    }\n",
       "\n",
       "    [theme=dark] .colab-df-convert:hover {\n",
       "      background-color: #434B5C;\n",
       "      box-shadow: 0px 1px 3px 1px rgba(0, 0, 0, 0.15);\n",
       "      filter: drop-shadow(0px 1px 2px rgba(0, 0, 0, 0.3));\n",
       "      fill: #FFFFFF;\n",
       "    }\n",
       "  </style>\n",
       "\n",
       "      <script>\n",
       "        const buttonEl =\n",
       "          document.querySelector('#df-edf8b1be-c3f3-41bd-bf01-5c631dd29ae5 button.colab-df-convert');\n",
       "        buttonEl.style.display =\n",
       "          google.colab.kernel.accessAllowed ? 'block' : 'none';\n",
       "\n",
       "        async function convertToInteractive(key) {\n",
       "          const element = document.querySelector('#df-edf8b1be-c3f3-41bd-bf01-5c631dd29ae5');\n",
       "          const dataTable =\n",
       "            await google.colab.kernel.invokeFunction('convertToInteractive',\n",
       "                                                     [key], {});\n",
       "          if (!dataTable) return;\n",
       "\n",
       "          const docLinkHtml = 'Like what you see? Visit the ' +\n",
       "            '<a target=\"_blank\" href=https://colab.research.google.com/notebooks/data_table.ipynb>data table notebook</a>'\n",
       "            + ' to learn more about interactive tables.';\n",
       "          element.innerHTML = '';\n",
       "          dataTable['output_type'] = 'display_data';\n",
       "          await google.colab.output.renderOutput(dataTable, element);\n",
       "          const docLink = document.createElement('div');\n",
       "          docLink.innerHTML = docLinkHtml;\n",
       "          element.appendChild(docLink);\n",
       "        }\n",
       "      </script>\n",
       "    </div>\n",
       "  </div>\n",
       "  "
      ]
     },
     "metadata": {},
     "execution_count": 22
    }
   ]
  },
  {
   "cell_type": "code",
   "source": [
    "# raw 맥주정보\n",
    "data['맥주정보'].iloc[0]"
   ],
   "metadata": {
    "colab": {
     "base_uri": "https://localhost:8080/",
     "height": 54
    },
    "id": "YA3vkVUv5ptY",
    "executionInfo": {
     "status": "ok",
     "timestamp": 1665539774805,
     "user_tz": -540,
     "elapsed": 4,
     "user": {
      "displayName": "So Yeon Lee",
      "userId": "01771365654963141477"
     }
    },
    "outputId": "e1075fbf-231c-49fd-d56f-70d144becdba"
   },
   "execution_count": 23,
   "outputs": [
    {
     "output_type": "execute_result",
     "data": {
      "text/plain": [
       "'italianjohn(5,219)\\n🇺🇸Penndel, United States\\n2.8September 6, 2021\\nClear golden blonde pour with a thin white head and spots of lacing …. Aroma of sweet malts, caramel malt, some light floral notes, grape  and a little bit of lemon … taste is of the same,…\\nShow more\\nBOTTLE\\nAroma\\n5\\nAppearance\\n3\\nFlavor\\n5\\nMouthfeel\\n3\\nOverall\\n12'"
      ],
      "application/vnd.google.colaboratory.intrinsic+json": {
       "type": "string"
      }
     },
     "metadata": {},
     "execution_count": 23
    }
   ]
  },
  {
   "cell_type": "markdown",
   "source": [
    "## 1, 맥주정보 문자열 분리하기 ('\\n')"
   ],
   "metadata": {
    "id": "Kwn63uzV6FN-"
   }
  },
  {
   "cell_type": "code",
   "source": [
    "tmp = data.copy()"
   ],
   "metadata": {
    "id": "Tqaqdqcg6EuO",
    "executionInfo": {
     "status": "ok",
     "timestamp": 1665539814457,
     "user_tz": -540,
     "elapsed": 5,
     "user": {
      "displayName": "So Yeon Lee",
      "userId": "01771365654963141477"
     }
    }
   },
   "execution_count": 24,
   "outputs": []
  },
  {
   "cell_type": "code",
   "source": [
    "# 개행문자 기준으로 분리\n",
    "tmp['맥주정보'] = tmp['맥주정보'].str.split('\\n')\n",
    "tmp['맥주정보']"
   ],
   "metadata": {
    "colab": {
     "base_uri": "https://localhost:8080/"
    },
    "id": "5iFz1xgu6BUk",
    "executionInfo": {
     "status": "ok",
     "timestamp": 1665539851200,
     "user_tz": -540,
     "elapsed": 526,
     "user": {
      "displayName": "So Yeon Lee",
      "userId": "01771365654963141477"
     }
    },
    "outputId": "72efb7c6-909e-4291-92f5-553a166bc4d4"
   },
   "execution_count": 25,
   "outputs": [
    {
     "output_type": "execute_result",
     "data": {
      "text/plain": [
       "0      [italianjohn(5,219), 🇺🇸Penndel, United States,...\n",
       "1      [orda(281), 🇺🇸Aurora, United States, 3.9August...\n",
       "2      [Radek Kliber(8,060), 🇨🇦Toronto (Can) Krotoszy...\n",
       "3      [geologyguy(2,575), 🇺🇸Columbia, United States,...\n",
       "4      [Wolff90(195), 🇸🇪Upplands Väsby, Sweden, 1.0Fe...\n",
       "                             ...                        \n",
       "901    [caesar(7,642), 🇳🇱Bunnik, Netherlands, 2.7Augu...\n",
       "902    [jerohen(2,619), 🇳🇱Bussum, Netherlands, 2.3Aug...\n",
       "903    [Panzuriel(2,662), 🇺🇸Westerville, United State...\n",
       "904    [brewmeistersgb(10), 🇺🇸United States, 2.5Augus...\n",
       "905    [karsten(240), 🇩🇰odense, Denmark, 1.6August 7,...\n",
       "Name: 맥주정보, Length: 72140, dtype: object"
      ]
     },
     "metadata": {},
     "execution_count": 25
    }
   ]
  },
  {
   "cell_type": "code",
   "source": [
    "# 분리된 스트링값들을 리스트로 변환된 것 확인\n",
    "tmp['맥주정보'].iloc[0]"
   ],
   "metadata": {
    "colab": {
     "base_uri": "https://localhost:8080/"
    },
    "id": "mI74-BBx6Tx3",
    "executionInfo": {
     "status": "ok",
     "timestamp": 1665539887923,
     "user_tz": -540,
     "elapsed": 2,
     "user": {
      "displayName": "So Yeon Lee",
      "userId": "01771365654963141477"
     }
    },
    "outputId": "7fb719ed-9b34-407e-8789-7ec724df5577"
   },
   "execution_count": 26,
   "outputs": [
    {
     "output_type": "execute_result",
     "data": {
      "text/plain": [
       "['italianjohn(5,219)',\n",
       " '🇺🇸Penndel, United States',\n",
       " '2.8September 6, 2021',\n",
       " 'Clear golden blonde pour with a thin white head and spots of lacing …. Aroma of sweet malts, caramel malt, some light floral notes, grape  and a little bit of lemon … taste is of the same,…',\n",
       " 'Show more',\n",
       " 'BOTTLE',\n",
       " 'Aroma',\n",
       " '5',\n",
       " 'Appearance',\n",
       " '3',\n",
       " 'Flavor',\n",
       " '5',\n",
       " 'Mouthfeel',\n",
       " '3',\n",
       " 'Overall',\n",
       " '12']"
      ]
     },
     "metadata": {},
     "execution_count": 26
    }
   ]
  },
  {
   "cell_type": "markdown",
   "source": [
    "## 2. 좋아요 수 삭제하기\n",
    "\n",
    "- 맥주정보 데이터에서 필요한 데이터는 다음과 같음\n",
    "  - 아이디\n",
    "  - 평점|날짜\n",
    "  - Aroma\n",
    "  - Appearance\n",
    "  - Flavor\n",
    "  - Mouthfeel\n",
    "  - Overall\n",
    "- 위 데이터는 리스트 인덱스로, 앞에서 2개 뒤에서 10개는 꼭 필요\n",
    "- 패턴의 불규칙함\n",
    "  - 아이디, 평점|날짜순\n",
    "  - 아이디, 국적, 평점|날짜\n",
    "  - 아이디, 국적, (불필요값), 평점|날짜"
   ],
   "metadata": {
    "id": "j1lh33yd6epO"
   }
  },
  {
   "cell_type": "code",
   "source": [
    "tmp.shape"
   ],
   "metadata": {
    "colab": {
     "base_uri": "https://localhost:8080/"
    },
    "id": "hYB1ralK6ebf",
    "executionInfo": {
     "status": "ok",
     "timestamp": 1665540034997,
     "user_tz": -540,
     "elapsed": 6,
     "user": {
      "displayName": "So Yeon Lee",
      "userId": "01771365654963141477"
     }
    },
    "outputId": "8ef97975-649c-4a92-cd7a-c7e39962d8da"
   },
   "execution_count": 27,
   "outputs": [
    {
     "output_type": "execute_result",
     "data": {
      "text/plain": [
       "(72140, 11)"
      ]
     },
     "metadata": {},
     "execution_count": 27
    }
   ]
  },
  {
   "cell_type": "code",
   "source": [
    "for i in range(71140, 71143):\n",
    "  print(tmp['맥주정보'].iloc[i], '\\n')"
   ],
   "metadata": {
    "colab": {
     "base_uri": "https://localhost:8080/"
    },
    "id": "xxt5b-nQ6c6F",
    "executionInfo": {
     "status": "ok",
     "timestamp": 1665540093796,
     "user_tz": -540,
     "elapsed": 6,
     "user": {
      "displayName": "So Yeon Lee",
      "userId": "01771365654963141477"
     }
    },
    "outputId": "ee1b8e48-496d-4d6f-f89d-40d30c5b4609"
   },
   "execution_count": 29,
   "outputs": [
    {
     "output_type": "stream",
     "name": "stdout",
     "text": [
      "['spohl199(6)', '🇺🇸United States', '5.0February 21, 2002', 'Wow, was ein Bier, neben Erdinger das beste wo gibt!........................', 'Aroma', '10', 'Appearance', '5', 'Flavor', '10', 'Mouthfeel', '5', 'Overall', '20'] \n",
      "\n",
      "['kilgore41599(98)', '🇺🇸Rochester, United States', '3.8February 20, 2002', 'Very good.  Although some will disagree with me not the best Hefeweizen out there, but it is very very good.', 'Aroma', '7', 'Appearance', '4', 'Flavor', '8', 'Mouthfeel', '4', 'Overall', '15'] \n",
      "\n",
      "['Evster64(107)', '🇺🇸Kempner, United States', '3.8February 19, 2002', 'Liquid bread....with the classical doughy aroma and flavor of a German Wheat.  Flavor is consistent front to back, with a strong yeast influence.  A solid hefe.', 'Aroma', '7', 'Appearance', '4', 'Flavor', '8', 'Mouthfeel', '3', 'Overall', '16'] \n",
      "\n"
     ]
    }
   ]
  },
  {
   "cell_type": "code",
   "source": [
    "# 새로운 데이터 ttmp 생성\n",
    "ttmp = tmp.copy()\n",
    "\n",
    "# 맥주 정보 리스트 출력 - 좋아요 수가 기록된 유저 정보\n",
    "# 맨 마지막 9는 좋아요 수임\n",
    "ttmp['맥주정보'].iloc[10]"
   ],
   "metadata": {
    "colab": {
     "base_uri": "https://localhost:8080/"
    },
    "id": "aQAb4PdU7MLZ",
    "executionInfo": {
     "status": "ok",
     "timestamp": 1665540167074,
     "user_tz": -540,
     "elapsed": 7,
     "user": {
      "displayName": "So Yeon Lee",
      "userId": "01771365654963141477"
     }
    },
    "outputId": "33264be8-e221-4396-e166-b77288b6f225"
   },
   "execution_count": 32,
   "outputs": [
    {
     "output_type": "execute_result",
     "data": {
      "text/plain": [
       "['deanso(15,165)',\n",
       " '🇬🇧Doncaster, England',\n",
       " '2.3January 16, 2020',\n",
       " '33cl can from lucky supermarket, siem reap.',\n",
       " 'Thin white head.  Clear golden pour. Bland and watery',\n",
       " 'CASK',\n",
       " 'Aroma',\n",
       " '4',\n",
       " 'Appearance',\n",
       " '3',\n",
       " 'Flavor',\n",
       " '4',\n",
       " 'Mouthfeel',\n",
       " '3',\n",
       " 'Overall',\n",
       " '9']"
      ]
     },
     "metadata": {},
     "execution_count": 32
    }
   ]
  },
  {
   "cell_type": "markdown",
   "source": [
    "- 좋아요 수가 없는 경우 -> 뒤에서부터 10개의 값 가져와야함\n",
    "- 좋아요 수가 있는 경우 -> 제거한 뒤 10개의 값을 가져와야함"
   ],
   "metadata": {
    "id": "Uhf4Ebew7jNO"
   }
  },
  {
   "cell_type": "code",
   "source": [
    "# 전체 데이터프레임에서 좋아요가 1개인 것 찾아서 맨 뒤에 거 삭제\n",
    "ttmp['맥주정보'] = ttmp['맥주정보'].apply(lambda x: x if x[-2] == 'Overall' else x[:-1])"
   ],
   "metadata": {
    "id": "cbQaR1nI7bid",
    "executionInfo": {
     "status": "ok",
     "timestamp": 1665540263858,
     "user_tz": -540,
     "elapsed": 314,
     "user": {
      "displayName": "So Yeon Lee",
      "userId": "01771365654963141477"
     }
    }
   },
   "execution_count": 33,
   "outputs": []
  },
  {
   "cell_type": "code",
   "source": [
    "# 맥주정보에서 0, 1, 2, 3번째 리스트 요소와 뒤에서부터 10개의 리스트요소(평점값) 추출\n",
    "ttmp['맥주정보'] = ttmp['맥주정보'].apply(lambda x: x[:4] + x[:-11:-1])"
   ],
   "metadata": {
    "id": "-BPakSXL74tI",
    "executionInfo": {
     "status": "ok",
     "timestamp": 1665540311154,
     "user_tz": -540,
     "elapsed": 890,
     "user": {
      "displayName": "So Yeon Lee",
      "userId": "01771365654963141477"
     }
    }
   },
   "execution_count": 34,
   "outputs": []
  },
  {
   "cell_type": "code",
   "source": [
    "# 좋아요 수 정상적으로 삭제되었는지 확인\n",
    "ttmp['맥주정보'].iloc[10]"
   ],
   "metadata": {
    "colab": {
     "base_uri": "https://localhost:8080/"
    },
    "id": "DTrjE3bi8EGL",
    "executionInfo": {
     "status": "ok",
     "timestamp": 1665540395968,
     "user_tz": -540,
     "elapsed": 5,
     "user": {
      "displayName": "So Yeon Lee",
      "userId": "01771365654963141477"
     }
    },
    "outputId": "d66cdcd3-a095-47c4-97a3-55e31c23cdcc"
   },
   "execution_count": 35,
   "outputs": [
    {
     "output_type": "execute_result",
     "data": {
      "text/plain": [
       "['deanso(15,165)',\n",
       " '🇬🇧Doncaster, England',\n",
       " '2.3January 16, 2020',\n",
       " '33cl can from lucky supermarket, siem reap.',\n",
       " '9',\n",
       " 'Overall',\n",
       " '3',\n",
       " 'Mouthfeel',\n",
       " '4',\n",
       " 'Flavor',\n",
       " '3',\n",
       " 'Appearance',\n",
       " '4',\n",
       " 'Aroma']"
      ]
     },
     "metadata": {},
     "execution_count": 35
    }
   ]
  },
  {
   "cell_type": "markdown",
   "source": [
    "## 3. 실제 컬럼으로 데이터 분리하기"
   ],
   "metadata": {
    "id": "s99zO8yT8dxo"
   }
  },
  {
   "cell_type": "code",
   "source": [
    "ttmp['ID'] = ttmp['맥주정보'].apply(lambda x: x[0])\n",
    "ttmp['Aroma'] = ttmp['맥주정보'].apply(lambda x: x[-2])\n",
    "ttmp['Appearance'] = ttmp['맥주정보'].apply(lambda x: x[-4])\n",
    "ttmp['Flavor'] = ttmp['맥주정보'].apply(lambda x: x[-6])\n",
    "ttmp['Mouthfeel'] = ttmp['맥주정보'].apply(lambda x: x[-8])\n",
    "ttmp['Overall'] = ttmp['맥주정보'].apply(lambda x: x[-10])"
   ],
   "metadata": {
    "id": "lv781aj08Y61",
    "executionInfo": {
     "status": "ok",
     "timestamp": 1665540514226,
     "user_tz": -540,
     "elapsed": 375,
     "user": {
      "displayName": "So Yeon Lee",
      "userId": "01771365654963141477"
     }
    }
   },
   "execution_count": 36,
   "outputs": []
  },
  {
   "cell_type": "code",
   "source": [
    "# 리스트의 1, 2, 3번쨰 요소(평점날짜 / 이상한 값) 뽑아오기\n",
    "ttmp['맥주정보'] = ttmp['맥주정보'].apply(lambda x: x[1:4])\n",
    "ttmp['길이'] = ttmp['맥주정보'].apply(lambda x: len(x))"
   ],
   "metadata": {
    "id": "bNZV8wrP81zu",
    "executionInfo": {
     "status": "ok",
     "timestamp": 1665540571836,
     "user_tz": -540,
     "elapsed": 329,
     "user": {
      "displayName": "So Yeon Lee",
      "userId": "01771365654963141477"
     }
    }
   },
   "execution_count": 38,
   "outputs": []
  },
  {
   "cell_type": "code",
   "source": [
    "# 결과확인\n",
    "ttmp.head(3)"
   ],
   "metadata": {
    "colab": {
     "base_uri": "https://localhost:8080/",
     "height": 309
    },
    "id": "uyh1v8mM86xC",
    "executionInfo": {
     "status": "ok",
     "timestamp": 1665540600258,
     "user_tz": -540,
     "elapsed": 6,
     "user": {
      "displayName": "So Yeon Lee",
      "userId": "01771365654963141477"
     }
    },
    "outputId": "857abd27-3e04-4f37-a7b5-324ddb869a76"
   },
   "execution_count": 40,
   "outputs": [
    {
     "output_type": "execute_result",
     "data": {
      "text/plain": [
       "                                                맥주정보   검색이름  \\\n",
       "0  [🇺🇸Penndel, United States, 2.8September 6, 202...  kloud   \n",
       "1  [🇺🇸Aurora, United States, 3.9August 29, 2021, ...  kloud   \n",
       "2  [🇨🇦Toronto (Can) Krotoszyn (Pol), Canada, 2.4J...  kloud   \n",
       "\n",
       "                     맥주이름             맥주회사                  맥주원산지  \\\n",
       "0  Kloud Original Gravity  Lotte Liquor BG  🇰🇷 Seoul, South Korea   \n",
       "1  Kloud Original Gravity  Lotte Liquor BG  🇰🇷 Seoul, South Korea   \n",
       "2  Kloud Original Gravity  Lotte Liquor BG  🇰🇷 Seoul, South Korea   \n",
       "\n",
       "                                   맥주종류  맥주도수 맥주IBU  맥주평점  \\\n",
       "0  Pale Lager - International / Premium  5.0%   NaN  2.48   \n",
       "1  Pale Lager - International / Premium  5.0%   NaN  2.48   \n",
       "2  Pale Lager - International / Premium  5.0%   NaN  2.48   \n",
       "\n",
       "                                                맥주설명              맥주칼로리  \\\n",
       "0  100% Malt Real Beer. Original Gravity. Rich & ...  150 cal per 355ml   \n",
       "1  100% Malt Real Beer. Original Gravity. Rich & ...  150 cal per 355ml   \n",
       "2  100% Malt Real Beer. Original Gravity. Rich & ...  150 cal per 355ml   \n",
       "\n",
       "                    ID Aroma Appearance Flavor Mouthfeel Overall  길이  \n",
       "0   italianjohn(5,219)     5          3      5         3      12   3  \n",
       "1            orda(281)    10          5     10         5       9   3  \n",
       "2  Radek Kliber(8,060)     6          3      4         2       9   3  "
      ],
      "text/html": [
       "\n",
       "  <div id=\"df-5e4364e0-2a08-4651-87bb-f18b33e7fb85\">\n",
       "    <div class=\"colab-df-container\">\n",
       "      <div>\n",
       "<style scoped>\n",
       "    .dataframe tbody tr th:only-of-type {\n",
       "        vertical-align: middle;\n",
       "    }\n",
       "\n",
       "    .dataframe tbody tr th {\n",
       "        vertical-align: top;\n",
       "    }\n",
       "\n",
       "    .dataframe thead th {\n",
       "        text-align: right;\n",
       "    }\n",
       "</style>\n",
       "<table border=\"1\" class=\"dataframe\">\n",
       "  <thead>\n",
       "    <tr style=\"text-align: right;\">\n",
       "      <th></th>\n",
       "      <th>맥주정보</th>\n",
       "      <th>검색이름</th>\n",
       "      <th>맥주이름</th>\n",
       "      <th>맥주회사</th>\n",
       "      <th>맥주원산지</th>\n",
       "      <th>맥주종류</th>\n",
       "      <th>맥주도수</th>\n",
       "      <th>맥주IBU</th>\n",
       "      <th>맥주평점</th>\n",
       "      <th>맥주설명</th>\n",
       "      <th>맥주칼로리</th>\n",
       "      <th>ID</th>\n",
       "      <th>Aroma</th>\n",
       "      <th>Appearance</th>\n",
       "      <th>Flavor</th>\n",
       "      <th>Mouthfeel</th>\n",
       "      <th>Overall</th>\n",
       "      <th>길이</th>\n",
       "    </tr>\n",
       "  </thead>\n",
       "  <tbody>\n",
       "    <tr>\n",
       "      <th>0</th>\n",
       "      <td>[🇺🇸Penndel, United States, 2.8September 6, 202...</td>\n",
       "      <td>kloud</td>\n",
       "      <td>Kloud Original Gravity</td>\n",
       "      <td>Lotte Liquor BG</td>\n",
       "      <td>🇰🇷 Seoul, South Korea</td>\n",
       "      <td>Pale Lager - International / Premium</td>\n",
       "      <td>5.0%</td>\n",
       "      <td>NaN</td>\n",
       "      <td>2.48</td>\n",
       "      <td>100% Malt Real Beer. Original Gravity. Rich &amp; ...</td>\n",
       "      <td>150 cal per 355ml</td>\n",
       "      <td>italianjohn(5,219)</td>\n",
       "      <td>5</td>\n",
       "      <td>3</td>\n",
       "      <td>5</td>\n",
       "      <td>3</td>\n",
       "      <td>12</td>\n",
       "      <td>3</td>\n",
       "    </tr>\n",
       "    <tr>\n",
       "      <th>1</th>\n",
       "      <td>[🇺🇸Aurora, United States, 3.9August 29, 2021, ...</td>\n",
       "      <td>kloud</td>\n",
       "      <td>Kloud Original Gravity</td>\n",
       "      <td>Lotte Liquor BG</td>\n",
       "      <td>🇰🇷 Seoul, South Korea</td>\n",
       "      <td>Pale Lager - International / Premium</td>\n",
       "      <td>5.0%</td>\n",
       "      <td>NaN</td>\n",
       "      <td>2.48</td>\n",
       "      <td>100% Malt Real Beer. Original Gravity. Rich &amp; ...</td>\n",
       "      <td>150 cal per 355ml</td>\n",
       "      <td>orda(281)</td>\n",
       "      <td>10</td>\n",
       "      <td>5</td>\n",
       "      <td>10</td>\n",
       "      <td>5</td>\n",
       "      <td>9</td>\n",
       "      <td>3</td>\n",
       "    </tr>\n",
       "    <tr>\n",
       "      <th>2</th>\n",
       "      <td>[🇨🇦Toronto (Can) Krotoszyn (Pol), Canada, 2.4J...</td>\n",
       "      <td>kloud</td>\n",
       "      <td>Kloud Original Gravity</td>\n",
       "      <td>Lotte Liquor BG</td>\n",
       "      <td>🇰🇷 Seoul, South Korea</td>\n",
       "      <td>Pale Lager - International / Premium</td>\n",
       "      <td>5.0%</td>\n",
       "      <td>NaN</td>\n",
       "      <td>2.48</td>\n",
       "      <td>100% Malt Real Beer. Original Gravity. Rich &amp; ...</td>\n",
       "      <td>150 cal per 355ml</td>\n",
       "      <td>Radek Kliber(8,060)</td>\n",
       "      <td>6</td>\n",
       "      <td>3</td>\n",
       "      <td>4</td>\n",
       "      <td>2</td>\n",
       "      <td>9</td>\n",
       "      <td>3</td>\n",
       "    </tr>\n",
       "  </tbody>\n",
       "</table>\n",
       "</div>\n",
       "      <button class=\"colab-df-convert\" onclick=\"convertToInteractive('df-5e4364e0-2a08-4651-87bb-f18b33e7fb85')\"\n",
       "              title=\"Convert this dataframe to an interactive table.\"\n",
       "              style=\"display:none;\">\n",
       "        \n",
       "  <svg xmlns=\"http://www.w3.org/2000/svg\" height=\"24px\"viewBox=\"0 0 24 24\"\n",
       "       width=\"24px\">\n",
       "    <path d=\"M0 0h24v24H0V0z\" fill=\"none\"/>\n",
       "    <path d=\"M18.56 5.44l.94 2.06.94-2.06 2.06-.94-2.06-.94-.94-2.06-.94 2.06-2.06.94zm-11 1L8.5 8.5l.94-2.06 2.06-.94-2.06-.94L8.5 2.5l-.94 2.06-2.06.94zm10 10l.94 2.06.94-2.06 2.06-.94-2.06-.94-.94-2.06-.94 2.06-2.06.94z\"/><path d=\"M17.41 7.96l-1.37-1.37c-.4-.4-.92-.59-1.43-.59-.52 0-1.04.2-1.43.59L10.3 9.45l-7.72 7.72c-.78.78-.78 2.05 0 2.83L4 21.41c.39.39.9.59 1.41.59.51 0 1.02-.2 1.41-.59l7.78-7.78 2.81-2.81c.8-.78.8-2.07 0-2.86zM5.41 20L4 18.59l7.72-7.72 1.47 1.35L5.41 20z\"/>\n",
       "  </svg>\n",
       "      </button>\n",
       "      \n",
       "  <style>\n",
       "    .colab-df-container {\n",
       "      display:flex;\n",
       "      flex-wrap:wrap;\n",
       "      gap: 12px;\n",
       "    }\n",
       "\n",
       "    .colab-df-convert {\n",
       "      background-color: #E8F0FE;\n",
       "      border: none;\n",
       "      border-radius: 50%;\n",
       "      cursor: pointer;\n",
       "      display: none;\n",
       "      fill: #1967D2;\n",
       "      height: 32px;\n",
       "      padding: 0 0 0 0;\n",
       "      width: 32px;\n",
       "    }\n",
       "\n",
       "    .colab-df-convert:hover {\n",
       "      background-color: #E2EBFA;\n",
       "      box-shadow: 0px 1px 2px rgba(60, 64, 67, 0.3), 0px 1px 3px 1px rgba(60, 64, 67, 0.15);\n",
       "      fill: #174EA6;\n",
       "    }\n",
       "\n",
       "    [theme=dark] .colab-df-convert {\n",
       "      background-color: #3B4455;\n",
       "      fill: #D2E3FC;\n",
       "    }\n",
       "\n",
       "    [theme=dark] .colab-df-convert:hover {\n",
       "      background-color: #434B5C;\n",
       "      box-shadow: 0px 1px 3px 1px rgba(0, 0, 0, 0.15);\n",
       "      filter: drop-shadow(0px 1px 2px rgba(0, 0, 0, 0.3));\n",
       "      fill: #FFFFFF;\n",
       "    }\n",
       "  </style>\n",
       "\n",
       "      <script>\n",
       "        const buttonEl =\n",
       "          document.querySelector('#df-5e4364e0-2a08-4651-87bb-f18b33e7fb85 button.colab-df-convert');\n",
       "        buttonEl.style.display =\n",
       "          google.colab.kernel.accessAllowed ? 'block' : 'none';\n",
       "\n",
       "        async function convertToInteractive(key) {\n",
       "          const element = document.querySelector('#df-5e4364e0-2a08-4651-87bb-f18b33e7fb85');\n",
       "          const dataTable =\n",
       "            await google.colab.kernel.invokeFunction('convertToInteractive',\n",
       "                                                     [key], {});\n",
       "          if (!dataTable) return;\n",
       "\n",
       "          const docLinkHtml = 'Like what you see? Visit the ' +\n",
       "            '<a target=\"_blank\" href=https://colab.research.google.com/notebooks/data_table.ipynb>data table notebook</a>'\n",
       "            + ' to learn more about interactive tables.';\n",
       "          element.innerHTML = '';\n",
       "          dataTable['output_type'] = 'display_data';\n",
       "          await google.colab.output.renderOutput(dataTable, element);\n",
       "          const docLink = document.createElement('div');\n",
       "          docLink.innerHTML = docLinkHtml;\n",
       "          element.appendChild(docLink);\n",
       "        }\n",
       "      </script>\n",
       "    </div>\n",
       "  </div>\n",
       "  "
      ]
     },
     "metadata": {},
     "execution_count": 40
    }
   ]
  },
  {
   "cell_type": "markdown",
   "source": [
    "## 4. 평점 | 날짜 데이터 골라내기"
   ],
   "metadata": {
    "id": "PVIoUeQ19Lj_"
   }
  },
  {
   "cell_type": "markdown",
   "source": [
    "- 문제 -> 평점, 날짜가 있는 리스트의 인덱스가 그때그때 다름 (규칙적이지 않음)\n",
    "- 리스트에서 1번인지 2번 인덱스인지 알 수 없음\n",
    "- 하지만, 문자열 자체는 규칙적임\n",
    "  - 4.0December 9, 2007\n",
    "  - 평점 + 날짜 (즉, 숫자 + 문자열)"
   ],
   "metadata": {
    "id": "7buzBAyd9TMf"
   }
  },
  {
   "cell_type": "code",
   "source": [
    "for i in range(70000, 71000, 100):\n",
    "  print(ttmp['맥주정보'].iloc[i], '\\n\\n')"
   ],
   "metadata": {
    "colab": {
     "base_uri": "https://localhost:8080/"
    },
    "id": "jORn611X9E4s",
    "executionInfo": {
     "status": "ok",
     "timestamp": 1665540749098,
     "user_tz": -540,
     "elapsed": 7,
     "user": {
      "displayName": "So Yeon Lee",
      "userId": "01771365654963141477"
     }
    },
    "outputId": "beb19108-d707-474f-81bd-abaa2f940be6"
   },
   "execution_count": 45,
   "outputs": [
    {
     "output_type": "stream",
     "name": "stdout",
     "text": [
      "['🇺🇸Scottsdale, United States', '3.4April 17, 2008', 'Pretty good hef.  Poured a nice unfiltered gold with plenty of head. Smooth and more mild than most in this catagory.  Aroma of wheat malt and bananas led to a crisp refreshing…'] \n",
      "\n",
      "\n",
      "['🇨🇦LaPrairie, Canada', '4.0December 9, 2007', 'Light cereal aroma, slight banana at first, followed by some clove and corriander. Full white head with lacing. Color is a hazy apticot. Excelent carbonation.This is a well balanced…'] \n",
      "\n",
      "\n",
      "['🇺🇸Alamo, United States', '3.3July 30, 2007', 'Daft. Hazy orange-amber with an off-white head. Nice banana-clove aroma with lots of yeasy spiciness. Flavor not as strong as the aroma, but still has clove/banana and some wheat (not…'] \n",
      "\n",
      "\n",
      "['🇺🇸Woodland, United States', '3.5April 16, 2007', 'As Paulaner Hefe-Weizen Natural Wheat in \"1pint 9oz\" bottle. Aroma of wheat, banana, clove, but not hop. Hazy orange gold color with a transient white head. Starts with medium…'] \n",
      "\n",
      "\n",
      "['🇩🇪Germany', '5.0November 1, 2006', 'The best Hefeweizen beer ever! Taste, appearance and palate perfectly harmonize. A great beer .... if not the greatest in all over the world!'] \n",
      "\n",
      "\n",
      "['🇺🇸Denver, United States', '3.6May 4, 2006', 'I’ve had both bottled and Draught. Draught is definitely better with stronger flavors, but I think this is more an issue of freshness and distributor handling. Pours a nice orange-yello…'] \n",
      "\n",
      "\n",
      "['🇺🇸St.louis, United States', '2.7October 15, 2005', 'Pour is a hazy yellow with a huge white head.  Aroma is my is hard to detect but you do get some spices and cloves.  Flavor is a bit weak in mine.  In fact i have to really almost try to detect…'] \n",
      "\n",
      "\n",
      "['🇮🇸Kópavogur, Iceland', '3.8February 21, 2005', 'nice floral nose, lime and banana maybe also. Really refreshing, nice body considering the style, nice moutfeel with the taste buds having a little bit of a fiesta'] \n",
      "\n",
      "\n",
      "['🇨🇦Montreal, Canada', '3.5June 11, 2004', 'Pours with a thick, white, fugaceous head and a cloudy golden color. Low carbonation. Very appealing aroma of citrus and spices. Nice flavors, very spicy, fruity and sweet. It has the…'] \n",
      "\n",
      "\n",
      "['🇺🇸Crown Point, United States', '3.3September 18, 2003', 'Probably THE textbook version.  Hazy dark yellow with a big vanilla colored head.  Estery nose of banana and ajust a hint of clove.  Smooth, medium body offers rushes of sweet malt and…'] \n",
      "\n",
      "\n"
     ]
    }
   ]
  },
  {
   "cell_type": "code",
   "source": [
    "# 평점과 날짜를 뽑아오기 위해 정규식 사용\n",
    "import re\n",
    "\n",
    "# ex. 4.0December 9, 2007 뽑아오기\n",
    "reg = re.compile('[0-9]+.+[0-9]+[A-Za-z0-9]*')"
   ],
   "metadata": {
    "id": "XmzxfQt89hY9",
    "executionInfo": {
     "status": "ok",
     "timestamp": 1665540883627,
     "user_tz": -540,
     "elapsed": 346,
     "user": {
      "displayName": "So Yeon Lee",
      "userId": "01771365654963141477"
     }
    }
   },
   "execution_count": 46,
   "outputs": []
  },
  {
   "cell_type": "code",
   "source": [
    "# 정규표현식에 해당하는 문자열과 매칭되는 경우 해당 리스트 요소를 맥주정보에 저장\n",
    "# reg.match() -> re.comile()의 정규표현식과 일치하는 문자열 반환, 아니면 false 반환\n",
    "\n",
    "ttmp['맥주정보'] = ttmp['맥주정보'].apply(lambda x: x[0] if reg.match(x[0]) else (x[1] if reg.match(x[1]) else x[2]))"
   ],
   "metadata": {
    "id": "3CW5-8nF-P_k",
    "executionInfo": {
     "status": "ok",
     "timestamp": 1665541093786,
     "user_tz": -540,
     "elapsed": 338,
     "user": {
      "displayName": "So Yeon Lee",
      "userId": "01771365654963141477"
     }
    }
   },
   "execution_count": 47,
   "outputs": []
  },
  {
   "cell_type": "code",
   "source": [
    "# 결과 확인하기\n",
    "ttmp.head(3)"
   ],
   "metadata": {
    "colab": {
     "base_uri": "https://localhost:8080/",
     "height": 309
    },
    "id": "nmr3ahkz_DT1",
    "executionInfo": {
     "status": "ok",
     "timestamp": 1665541104586,
     "user_tz": -540,
     "elapsed": 5,
     "user": {
      "displayName": "So Yeon Lee",
      "userId": "01771365654963141477"
     }
    },
    "outputId": "1e211d21-d5c4-4c99-d9f1-317691d4522b"
   },
   "execution_count": 48,
   "outputs": [
    {
     "output_type": "execute_result",
     "data": {
      "text/plain": [
       "                   맥주정보   검색이름                    맥주이름             맥주회사  \\\n",
       "0  2.8September 6, 2021  kloud  Kloud Original Gravity  Lotte Liquor BG   \n",
       "1    3.9August 29, 2021  kloud  Kloud Original Gravity  Lotte Liquor BG   \n",
       "2       2.4June 5, 2021  kloud  Kloud Original Gravity  Lotte Liquor BG   \n",
       "\n",
       "                   맥주원산지                                  맥주종류  맥주도수 맥주IBU  \\\n",
       "0  🇰🇷 Seoul, South Korea  Pale Lager - International / Premium  5.0%   NaN   \n",
       "1  🇰🇷 Seoul, South Korea  Pale Lager - International / Premium  5.0%   NaN   \n",
       "2  🇰🇷 Seoul, South Korea  Pale Lager - International / Premium  5.0%   NaN   \n",
       "\n",
       "   맥주평점                                               맥주설명              맥주칼로리  \\\n",
       "0  2.48  100% Malt Real Beer. Original Gravity. Rich & ...  150 cal per 355ml   \n",
       "1  2.48  100% Malt Real Beer. Original Gravity. Rich & ...  150 cal per 355ml   \n",
       "2  2.48  100% Malt Real Beer. Original Gravity. Rich & ...  150 cal per 355ml   \n",
       "\n",
       "                    ID Aroma Appearance Flavor Mouthfeel Overall  길이  \n",
       "0   italianjohn(5,219)     5          3      5         3      12   3  \n",
       "1            orda(281)    10          5     10         5       9   3  \n",
       "2  Radek Kliber(8,060)     6          3      4         2       9   3  "
      ],
      "text/html": [
       "\n",
       "  <div id=\"df-31756a60-5c92-4897-a8a9-ed37377ea1c0\">\n",
       "    <div class=\"colab-df-container\">\n",
       "      <div>\n",
       "<style scoped>\n",
       "    .dataframe tbody tr th:only-of-type {\n",
       "        vertical-align: middle;\n",
       "    }\n",
       "\n",
       "    .dataframe tbody tr th {\n",
       "        vertical-align: top;\n",
       "    }\n",
       "\n",
       "    .dataframe thead th {\n",
       "        text-align: right;\n",
       "    }\n",
       "</style>\n",
       "<table border=\"1\" class=\"dataframe\">\n",
       "  <thead>\n",
       "    <tr style=\"text-align: right;\">\n",
       "      <th></th>\n",
       "      <th>맥주정보</th>\n",
       "      <th>검색이름</th>\n",
       "      <th>맥주이름</th>\n",
       "      <th>맥주회사</th>\n",
       "      <th>맥주원산지</th>\n",
       "      <th>맥주종류</th>\n",
       "      <th>맥주도수</th>\n",
       "      <th>맥주IBU</th>\n",
       "      <th>맥주평점</th>\n",
       "      <th>맥주설명</th>\n",
       "      <th>맥주칼로리</th>\n",
       "      <th>ID</th>\n",
       "      <th>Aroma</th>\n",
       "      <th>Appearance</th>\n",
       "      <th>Flavor</th>\n",
       "      <th>Mouthfeel</th>\n",
       "      <th>Overall</th>\n",
       "      <th>길이</th>\n",
       "    </tr>\n",
       "  </thead>\n",
       "  <tbody>\n",
       "    <tr>\n",
       "      <th>0</th>\n",
       "      <td>2.8September 6, 2021</td>\n",
       "      <td>kloud</td>\n",
       "      <td>Kloud Original Gravity</td>\n",
       "      <td>Lotte Liquor BG</td>\n",
       "      <td>🇰🇷 Seoul, South Korea</td>\n",
       "      <td>Pale Lager - International / Premium</td>\n",
       "      <td>5.0%</td>\n",
       "      <td>NaN</td>\n",
       "      <td>2.48</td>\n",
       "      <td>100% Malt Real Beer. Original Gravity. Rich &amp; ...</td>\n",
       "      <td>150 cal per 355ml</td>\n",
       "      <td>italianjohn(5,219)</td>\n",
       "      <td>5</td>\n",
       "      <td>3</td>\n",
       "      <td>5</td>\n",
       "      <td>3</td>\n",
       "      <td>12</td>\n",
       "      <td>3</td>\n",
       "    </tr>\n",
       "    <tr>\n",
       "      <th>1</th>\n",
       "      <td>3.9August 29, 2021</td>\n",
       "      <td>kloud</td>\n",
       "      <td>Kloud Original Gravity</td>\n",
       "      <td>Lotte Liquor BG</td>\n",
       "      <td>🇰🇷 Seoul, South Korea</td>\n",
       "      <td>Pale Lager - International / Premium</td>\n",
       "      <td>5.0%</td>\n",
       "      <td>NaN</td>\n",
       "      <td>2.48</td>\n",
       "      <td>100% Malt Real Beer. Original Gravity. Rich &amp; ...</td>\n",
       "      <td>150 cal per 355ml</td>\n",
       "      <td>orda(281)</td>\n",
       "      <td>10</td>\n",
       "      <td>5</td>\n",
       "      <td>10</td>\n",
       "      <td>5</td>\n",
       "      <td>9</td>\n",
       "      <td>3</td>\n",
       "    </tr>\n",
       "    <tr>\n",
       "      <th>2</th>\n",
       "      <td>2.4June 5, 2021</td>\n",
       "      <td>kloud</td>\n",
       "      <td>Kloud Original Gravity</td>\n",
       "      <td>Lotte Liquor BG</td>\n",
       "      <td>🇰🇷 Seoul, South Korea</td>\n",
       "      <td>Pale Lager - International / Premium</td>\n",
       "      <td>5.0%</td>\n",
       "      <td>NaN</td>\n",
       "      <td>2.48</td>\n",
       "      <td>100% Malt Real Beer. Original Gravity. Rich &amp; ...</td>\n",
       "      <td>150 cal per 355ml</td>\n",
       "      <td>Radek Kliber(8,060)</td>\n",
       "      <td>6</td>\n",
       "      <td>3</td>\n",
       "      <td>4</td>\n",
       "      <td>2</td>\n",
       "      <td>9</td>\n",
       "      <td>3</td>\n",
       "    </tr>\n",
       "  </tbody>\n",
       "</table>\n",
       "</div>\n",
       "      <button class=\"colab-df-convert\" onclick=\"convertToInteractive('df-31756a60-5c92-4897-a8a9-ed37377ea1c0')\"\n",
       "              title=\"Convert this dataframe to an interactive table.\"\n",
       "              style=\"display:none;\">\n",
       "        \n",
       "  <svg xmlns=\"http://www.w3.org/2000/svg\" height=\"24px\"viewBox=\"0 0 24 24\"\n",
       "       width=\"24px\">\n",
       "    <path d=\"M0 0h24v24H0V0z\" fill=\"none\"/>\n",
       "    <path d=\"M18.56 5.44l.94 2.06.94-2.06 2.06-.94-2.06-.94-.94-2.06-.94 2.06-2.06.94zm-11 1L8.5 8.5l.94-2.06 2.06-.94-2.06-.94L8.5 2.5l-.94 2.06-2.06.94zm10 10l.94 2.06.94-2.06 2.06-.94-2.06-.94-.94-2.06-.94 2.06-2.06.94z\"/><path d=\"M17.41 7.96l-1.37-1.37c-.4-.4-.92-.59-1.43-.59-.52 0-1.04.2-1.43.59L10.3 9.45l-7.72 7.72c-.78.78-.78 2.05 0 2.83L4 21.41c.39.39.9.59 1.41.59.51 0 1.02-.2 1.41-.59l7.78-7.78 2.81-2.81c.8-.78.8-2.07 0-2.86zM5.41 20L4 18.59l7.72-7.72 1.47 1.35L5.41 20z\"/>\n",
       "  </svg>\n",
       "      </button>\n",
       "      \n",
       "  <style>\n",
       "    .colab-df-container {\n",
       "      display:flex;\n",
       "      flex-wrap:wrap;\n",
       "      gap: 12px;\n",
       "    }\n",
       "\n",
       "    .colab-df-convert {\n",
       "      background-color: #E8F0FE;\n",
       "      border: none;\n",
       "      border-radius: 50%;\n",
       "      cursor: pointer;\n",
       "      display: none;\n",
       "      fill: #1967D2;\n",
       "      height: 32px;\n",
       "      padding: 0 0 0 0;\n",
       "      width: 32px;\n",
       "    }\n",
       "\n",
       "    .colab-df-convert:hover {\n",
       "      background-color: #E2EBFA;\n",
       "      box-shadow: 0px 1px 2px rgba(60, 64, 67, 0.3), 0px 1px 3px 1px rgba(60, 64, 67, 0.15);\n",
       "      fill: #174EA6;\n",
       "    }\n",
       "\n",
       "    [theme=dark] .colab-df-convert {\n",
       "      background-color: #3B4455;\n",
       "      fill: #D2E3FC;\n",
       "    }\n",
       "\n",
       "    [theme=dark] .colab-df-convert:hover {\n",
       "      background-color: #434B5C;\n",
       "      box-shadow: 0px 1px 3px 1px rgba(0, 0, 0, 0.15);\n",
       "      filter: drop-shadow(0px 1px 2px rgba(0, 0, 0, 0.3));\n",
       "      fill: #FFFFFF;\n",
       "    }\n",
       "  </style>\n",
       "\n",
       "      <script>\n",
       "        const buttonEl =\n",
       "          document.querySelector('#df-31756a60-5c92-4897-a8a9-ed37377ea1c0 button.colab-df-convert');\n",
       "        buttonEl.style.display =\n",
       "          google.colab.kernel.accessAllowed ? 'block' : 'none';\n",
       "\n",
       "        async function convertToInteractive(key) {\n",
       "          const element = document.querySelector('#df-31756a60-5c92-4897-a8a9-ed37377ea1c0');\n",
       "          const dataTable =\n",
       "            await google.colab.kernel.invokeFunction('convertToInteractive',\n",
       "                                                     [key], {});\n",
       "          if (!dataTable) return;\n",
       "\n",
       "          const docLinkHtml = 'Like what you see? Visit the ' +\n",
       "            '<a target=\"_blank\" href=https://colab.research.google.com/notebooks/data_table.ipynb>data table notebook</a>'\n",
       "            + ' to learn more about interactive tables.';\n",
       "          element.innerHTML = '';\n",
       "          dataTable['output_type'] = 'display_data';\n",
       "          await google.colab.output.renderOutput(dataTable, element);\n",
       "          const docLink = document.createElement('div');\n",
       "          docLink.innerHTML = docLinkHtml;\n",
       "          element.appendChild(docLink);\n",
       "        }\n",
       "      </script>\n",
       "    </div>\n",
       "  </div>\n",
       "  "
      ]
     },
     "metadata": {},
     "execution_count": 48
    }
   ]
  },
  {
   "cell_type": "markdown",
   "source": [
    "## 5. 평점과 날짜 데이터 분리하기"
   ],
   "metadata": {
    "id": "ZDKyJ5tR_LUw"
   }
  },
  {
   "cell_type": "code",
   "source": [
    "# 평점은 0~3번째, 날짜는 그 이후\n",
    "ttmp['평점'] = ttmp['맥주정보'].apply(lambda x: x[:3])\n",
    "ttmp['날짜'] = ttmp['맥주정보'].apply(lambda x: x[3:])"
   ],
   "metadata": {
    "id": "0NGKUuFx_GCy",
    "executionInfo": {
     "status": "ok",
     "timestamp": 1665541192485,
     "user_tz": -540,
     "elapsed": 5,
     "user": {
      "displayName": "So Yeon Lee",
      "userId": "01771365654963141477"
     }
    }
   },
   "execution_count": 49,
   "outputs": []
  },
  {
   "cell_type": "code",
   "source": [
    "ttmp.head(3)"
   ],
   "metadata": {
    "colab": {
     "base_uri": "https://localhost:8080/",
     "height": 413
    },
    "id": "egHe3tP__cjw",
    "executionInfo": {
     "status": "ok",
     "timestamp": 1665541200837,
     "user_tz": -540,
     "elapsed": 5,
     "user": {
      "displayName": "So Yeon Lee",
      "userId": "01771365654963141477"
     }
    },
    "outputId": "91ae6b4e-af86-4e85-9f69-82899a0f8e89"
   },
   "execution_count": 50,
   "outputs": [
    {
     "output_type": "execute_result",
     "data": {
      "text/plain": [
       "                   맥주정보   검색이름                    맥주이름             맥주회사  \\\n",
       "0  2.8September 6, 2021  kloud  Kloud Original Gravity  Lotte Liquor BG   \n",
       "1    3.9August 29, 2021  kloud  Kloud Original Gravity  Lotte Liquor BG   \n",
       "2       2.4June 5, 2021  kloud  Kloud Original Gravity  Lotte Liquor BG   \n",
       "\n",
       "                   맥주원산지                                  맥주종류  맥주도수 맥주IBU  \\\n",
       "0  🇰🇷 Seoul, South Korea  Pale Lager - International / Premium  5.0%   NaN   \n",
       "1  🇰🇷 Seoul, South Korea  Pale Lager - International / Premium  5.0%   NaN   \n",
       "2  🇰🇷 Seoul, South Korea  Pale Lager - International / Premium  5.0%   NaN   \n",
       "\n",
       "   맥주평점                                               맥주설명              맥주칼로리  \\\n",
       "0  2.48  100% Malt Real Beer. Original Gravity. Rich & ...  150 cal per 355ml   \n",
       "1  2.48  100% Malt Real Beer. Original Gravity. Rich & ...  150 cal per 355ml   \n",
       "2  2.48  100% Malt Real Beer. Original Gravity. Rich & ...  150 cal per 355ml   \n",
       "\n",
       "                    ID Aroma Appearance Flavor Mouthfeel Overall  길이   평점  \\\n",
       "0   italianjohn(5,219)     5          3      5         3      12   3  2.8   \n",
       "1            orda(281)    10          5     10         5       9   3  3.9   \n",
       "2  Radek Kliber(8,060)     6          3      4         2       9   3  2.4   \n",
       "\n",
       "                  날짜  \n",
       "0  September 6, 2021  \n",
       "1    August 29, 2021  \n",
       "2       June 5, 2021  "
      ],
      "text/html": [
       "\n",
       "  <div id=\"df-a4f5317f-01ba-4399-851d-fbc0688dbec8\">\n",
       "    <div class=\"colab-df-container\">\n",
       "      <div>\n",
       "<style scoped>\n",
       "    .dataframe tbody tr th:only-of-type {\n",
       "        vertical-align: middle;\n",
       "    }\n",
       "\n",
       "    .dataframe tbody tr th {\n",
       "        vertical-align: top;\n",
       "    }\n",
       "\n",
       "    .dataframe thead th {\n",
       "        text-align: right;\n",
       "    }\n",
       "</style>\n",
       "<table border=\"1\" class=\"dataframe\">\n",
       "  <thead>\n",
       "    <tr style=\"text-align: right;\">\n",
       "      <th></th>\n",
       "      <th>맥주정보</th>\n",
       "      <th>검색이름</th>\n",
       "      <th>맥주이름</th>\n",
       "      <th>맥주회사</th>\n",
       "      <th>맥주원산지</th>\n",
       "      <th>맥주종류</th>\n",
       "      <th>맥주도수</th>\n",
       "      <th>맥주IBU</th>\n",
       "      <th>맥주평점</th>\n",
       "      <th>맥주설명</th>\n",
       "      <th>맥주칼로리</th>\n",
       "      <th>ID</th>\n",
       "      <th>Aroma</th>\n",
       "      <th>Appearance</th>\n",
       "      <th>Flavor</th>\n",
       "      <th>Mouthfeel</th>\n",
       "      <th>Overall</th>\n",
       "      <th>길이</th>\n",
       "      <th>평점</th>\n",
       "      <th>날짜</th>\n",
       "    </tr>\n",
       "  </thead>\n",
       "  <tbody>\n",
       "    <tr>\n",
       "      <th>0</th>\n",
       "      <td>2.8September 6, 2021</td>\n",
       "      <td>kloud</td>\n",
       "      <td>Kloud Original Gravity</td>\n",
       "      <td>Lotte Liquor BG</td>\n",
       "      <td>🇰🇷 Seoul, South Korea</td>\n",
       "      <td>Pale Lager - International / Premium</td>\n",
       "      <td>5.0%</td>\n",
       "      <td>NaN</td>\n",
       "      <td>2.48</td>\n",
       "      <td>100% Malt Real Beer. Original Gravity. Rich &amp; ...</td>\n",
       "      <td>150 cal per 355ml</td>\n",
       "      <td>italianjohn(5,219)</td>\n",
       "      <td>5</td>\n",
       "      <td>3</td>\n",
       "      <td>5</td>\n",
       "      <td>3</td>\n",
       "      <td>12</td>\n",
       "      <td>3</td>\n",
       "      <td>2.8</td>\n",
       "      <td>September 6, 2021</td>\n",
       "    </tr>\n",
       "    <tr>\n",
       "      <th>1</th>\n",
       "      <td>3.9August 29, 2021</td>\n",
       "      <td>kloud</td>\n",
       "      <td>Kloud Original Gravity</td>\n",
       "      <td>Lotte Liquor BG</td>\n",
       "      <td>🇰🇷 Seoul, South Korea</td>\n",
       "      <td>Pale Lager - International / Premium</td>\n",
       "      <td>5.0%</td>\n",
       "      <td>NaN</td>\n",
       "      <td>2.48</td>\n",
       "      <td>100% Malt Real Beer. Original Gravity. Rich &amp; ...</td>\n",
       "      <td>150 cal per 355ml</td>\n",
       "      <td>orda(281)</td>\n",
       "      <td>10</td>\n",
       "      <td>5</td>\n",
       "      <td>10</td>\n",
       "      <td>5</td>\n",
       "      <td>9</td>\n",
       "      <td>3</td>\n",
       "      <td>3.9</td>\n",
       "      <td>August 29, 2021</td>\n",
       "    </tr>\n",
       "    <tr>\n",
       "      <th>2</th>\n",
       "      <td>2.4June 5, 2021</td>\n",
       "      <td>kloud</td>\n",
       "      <td>Kloud Original Gravity</td>\n",
       "      <td>Lotte Liquor BG</td>\n",
       "      <td>🇰🇷 Seoul, South Korea</td>\n",
       "      <td>Pale Lager - International / Premium</td>\n",
       "      <td>5.0%</td>\n",
       "      <td>NaN</td>\n",
       "      <td>2.48</td>\n",
       "      <td>100% Malt Real Beer. Original Gravity. Rich &amp; ...</td>\n",
       "      <td>150 cal per 355ml</td>\n",
       "      <td>Radek Kliber(8,060)</td>\n",
       "      <td>6</td>\n",
       "      <td>3</td>\n",
       "      <td>4</td>\n",
       "      <td>2</td>\n",
       "      <td>9</td>\n",
       "      <td>3</td>\n",
       "      <td>2.4</td>\n",
       "      <td>June 5, 2021</td>\n",
       "    </tr>\n",
       "  </tbody>\n",
       "</table>\n",
       "</div>\n",
       "      <button class=\"colab-df-convert\" onclick=\"convertToInteractive('df-a4f5317f-01ba-4399-851d-fbc0688dbec8')\"\n",
       "              title=\"Convert this dataframe to an interactive table.\"\n",
       "              style=\"display:none;\">\n",
       "        \n",
       "  <svg xmlns=\"http://www.w3.org/2000/svg\" height=\"24px\"viewBox=\"0 0 24 24\"\n",
       "       width=\"24px\">\n",
       "    <path d=\"M0 0h24v24H0V0z\" fill=\"none\"/>\n",
       "    <path d=\"M18.56 5.44l.94 2.06.94-2.06 2.06-.94-2.06-.94-.94-2.06-.94 2.06-2.06.94zm-11 1L8.5 8.5l.94-2.06 2.06-.94-2.06-.94L8.5 2.5l-.94 2.06-2.06.94zm10 10l.94 2.06.94-2.06 2.06-.94-2.06-.94-.94-2.06-.94 2.06-2.06.94z\"/><path d=\"M17.41 7.96l-1.37-1.37c-.4-.4-.92-.59-1.43-.59-.52 0-1.04.2-1.43.59L10.3 9.45l-7.72 7.72c-.78.78-.78 2.05 0 2.83L4 21.41c.39.39.9.59 1.41.59.51 0 1.02-.2 1.41-.59l7.78-7.78 2.81-2.81c.8-.78.8-2.07 0-2.86zM5.41 20L4 18.59l7.72-7.72 1.47 1.35L5.41 20z\"/>\n",
       "  </svg>\n",
       "      </button>\n",
       "      \n",
       "  <style>\n",
       "    .colab-df-container {\n",
       "      display:flex;\n",
       "      flex-wrap:wrap;\n",
       "      gap: 12px;\n",
       "    }\n",
       "\n",
       "    .colab-df-convert {\n",
       "      background-color: #E8F0FE;\n",
       "      border: none;\n",
       "      border-radius: 50%;\n",
       "      cursor: pointer;\n",
       "      display: none;\n",
       "      fill: #1967D2;\n",
       "      height: 32px;\n",
       "      padding: 0 0 0 0;\n",
       "      width: 32px;\n",
       "    }\n",
       "\n",
       "    .colab-df-convert:hover {\n",
       "      background-color: #E2EBFA;\n",
       "      box-shadow: 0px 1px 2px rgba(60, 64, 67, 0.3), 0px 1px 3px 1px rgba(60, 64, 67, 0.15);\n",
       "      fill: #174EA6;\n",
       "    }\n",
       "\n",
       "    [theme=dark] .colab-df-convert {\n",
       "      background-color: #3B4455;\n",
       "      fill: #D2E3FC;\n",
       "    }\n",
       "\n",
       "    [theme=dark] .colab-df-convert:hover {\n",
       "      background-color: #434B5C;\n",
       "      box-shadow: 0px 1px 3px 1px rgba(0, 0, 0, 0.15);\n",
       "      filter: drop-shadow(0px 1px 2px rgba(0, 0, 0, 0.3));\n",
       "      fill: #FFFFFF;\n",
       "    }\n",
       "  </style>\n",
       "\n",
       "      <script>\n",
       "        const buttonEl =\n",
       "          document.querySelector('#df-a4f5317f-01ba-4399-851d-fbc0688dbec8 button.colab-df-convert');\n",
       "        buttonEl.style.display =\n",
       "          google.colab.kernel.accessAllowed ? 'block' : 'none';\n",
       "\n",
       "        async function convertToInteractive(key) {\n",
       "          const element = document.querySelector('#df-a4f5317f-01ba-4399-851d-fbc0688dbec8');\n",
       "          const dataTable =\n",
       "            await google.colab.kernel.invokeFunction('convertToInteractive',\n",
       "                                                     [key], {});\n",
       "          if (!dataTable) return;\n",
       "\n",
       "          const docLinkHtml = 'Like what you see? Visit the ' +\n",
       "            '<a target=\"_blank\" href=https://colab.research.google.com/notebooks/data_table.ipynb>data table notebook</a>'\n",
       "            + ' to learn more about interactive tables.';\n",
       "          element.innerHTML = '';\n",
       "          dataTable['output_type'] = 'display_data';\n",
       "          await google.colab.output.renderOutput(dataTable, element);\n",
       "          const docLink = document.createElement('div');\n",
       "          docLink.innerHTML = docLinkHtml;\n",
       "          element.appendChild(docLink);\n",
       "        }\n",
       "      </script>\n",
       "    </div>\n",
       "  </div>\n",
       "  "
      ]
     },
     "metadata": {},
     "execution_count": 50
    }
   ]
  },
  {
   "cell_type": "code",
   "source": [
    "ttmp.columns"
   ],
   "metadata": {
    "colab": {
     "base_uri": "https://localhost:8080/"
    },
    "id": "QsNiLS07_df8",
    "executionInfo": {
     "status": "ok",
     "timestamp": 1665541218201,
     "user_tz": -540,
     "elapsed": 2,
     "user": {
      "displayName": "So Yeon Lee",
      "userId": "01771365654963141477"
     }
    },
    "outputId": "dba5d995-cb4b-4ecc-8610-54a4a186b3c4"
   },
   "execution_count": 51,
   "outputs": [
    {
     "output_type": "execute_result",
     "data": {
      "text/plain": [
       "Index(['맥주정보', '검색이름', '맥주이름', '맥주회사', '맥주원산지', '맥주종류', '맥주도수', '맥주IBU',\n",
       "       '맥주평점', '맥주설명', '맥주칼로리', 'ID', 'Aroma', 'Appearance', 'Flavor',\n",
       "       'Mouthfeel', 'Overall', '길이', '평점', '날짜'],\n",
       "      dtype='object')"
      ]
     },
     "metadata": {},
     "execution_count": 51
    }
   ]
  },
  {
   "cell_type": "code",
   "source": [
    "# 컬럼명 변경하기\n",
    "ttmp.columns = ['맥주정보', '검색이름', '맥주', '맥주회사', '맥주원산지', '맥주종류', '맥주도수', '맥주IBU', '맥주평점', '맥주설명', '맥주칼로리', '아이디', 'Aroma', 'Appearance', 'Flavor', 'Mouthfeel', 'Overall', '길이', '평점', '날짜']"
   ],
   "metadata": {
    "id": "td5Ta9PV_hvy",
    "executionInfo": {
     "status": "ok",
     "timestamp": 1665541499651,
     "user_tz": -540,
     "elapsed": 4,
     "user": {
      "displayName": "So Yeon Lee",
      "userId": "01771365654963141477"
     }
    }
   },
   "execution_count": 54,
   "outputs": []
  },
  {
   "cell_type": "code",
   "source": [
    "# 필요한 컬럼 추출\n",
    "# temp = ttmp[['아이디', '맥주', '날짜', '평점', 'Aroma', 'Appearance', 'Flavor', 'Mouthfeel', 'Overall']]"
   ],
   "metadata": {
    "id": "_K_02ezHAPfG",
    "executionInfo": {
     "status": "ok",
     "timestamp": 1665541627870,
     "user_tz": -540,
     "elapsed": 5,
     "user": {
      "displayName": "So Yeon Lee",
      "userId": "01771365654963141477"
     }
    }
   },
   "execution_count": 57,
   "outputs": []
  },
  {
   "cell_type": "code",
   "source": [
    "ttmp.평점.unique()"
   ],
   "metadata": {
    "colab": {
     "base_uri": "https://localhost:8080/"
    },
    "id": "tJ-o8NEWAtW_",
    "executionInfo": {
     "status": "ok",
     "timestamp": 1665541775711,
     "user_tz": -540,
     "elapsed": 334,
     "user": {
      "displayName": "So Yeon Lee",
      "userId": "01771365654963141477"
     }
    },
    "outputId": "826d5392-b88e-4c77-8f5f-d145ffe024c8"
   },
   "execution_count": 61,
   "outputs": [
    {
     "output_type": "execute_result",
     "data": {
      "text/plain": [
       "array(['2.8', '3.9', '2.4', '2.3', '1.0', '4.0', '2.0', '3.0', '2.9',\n",
       "       '2.2', '3.2', '2.5', '2.7', '1.5', '3.1', '2.6', '1.7', '1.8',\n",
       "       '0.5', '1.6', '1.9', '2.1', '0.9', '1.3', '0.8', '1.1', '5.0',\n",
       "       '0.7', '4.7', '1.4', '3.3', '1.2', '4.3', '3.4', '3.6', '3.5',\n",
       "       '4.2', '3.8', '4.5', '4.9', '4.4', '0.6', '4.8', '3.7', '4.1',\n",
       "       '4.6', '0Ma'], dtype=object)"
      ]
     },
     "metadata": {},
     "execution_count": 61
    }
   ]
  },
  {
   "cell_type": "code",
   "source": [
    "ttmp.Aroma.unique()"
   ],
   "metadata": {
    "colab": {
     "base_uri": "https://localhost:8080/"
    },
    "id": "NSKv8anTBJHW",
    "executionInfo": {
     "status": "ok",
     "timestamp": 1665541780510,
     "user_tz": -540,
     "elapsed": 2,
     "user": {
      "displayName": "So Yeon Lee",
      "userId": "01771365654963141477"
     }
    },
    "outputId": "73e3c3f6-debd-4b95-d4e4-24d01c7a0fc4"
   },
   "execution_count": 62,
   "outputs": [
    {
     "output_type": "execute_result",
     "data": {
      "text/plain": [
       "array(['5', '10', '6', '4', '1', '9', '3', '-', '7', '2', '8'],\n",
       "      dtype=object)"
      ]
     },
     "metadata": {},
     "execution_count": 62
    }
   ]
  },
  {
   "cell_type": "code",
   "source": [
    "ttmp. Overall.unique()"
   ],
   "metadata": {
    "colab": {
     "base_uri": "https://localhost:8080/"
    },
    "id": "s8jOvyOkCSho",
    "executionInfo": {
     "status": "ok",
     "timestamp": 1665541962322,
     "user_tz": -540,
     "elapsed": 281,
     "user": {
      "displayName": "So Yeon Lee",
      "userId": "01771365654963141477"
     }
    },
    "outputId": "f7be911a-6c51-4b64-a119-f7449b8e7047"
   },
   "execution_count": 68,
   "outputs": [
    {
     "output_type": "execute_result",
     "data": {
      "text/plain": [
       "array(['12', '9', '6', '15', '7', '11', '10', '8', '4', '13', '5', '1',\n",
       "       '3', '14', '20', '2', '18', '17', '16', '19'], dtype=object)"
      ]
     },
     "metadata": {},
     "execution_count": 68
    }
   ]
  },
  {
   "cell_type": "code",
   "source": [
    "# - 값 삭제\n",
    "ttmp = ttmp[ttmp['평점'] != '0Ma']\n",
    "ttmp = ttmp[ttmp['Aroma'] != '-']\n",
    "ttmp = ttmp[ttmp['Appearance'] != '-']\n",
    "ttmp = ttmp[ttmp['Flavor'] != '-']\n",
    "ttmp = ttmp[ttmp['Mouthfeel'] != '-']\n",
    "ttmp = ttmp[ttmp['Overall'] != '-']\n",
    "\n",
    "ttmp[ttmp['Aroma'] == '-']"
   ],
   "metadata": {
    "colab": {
     "base_uri": "https://localhost:8080/",
     "height": 49
    },
    "id": "Jvj3f7ZNBOZ4",
    "executionInfo": {
     "status": "ok",
     "timestamp": 1665541869942,
     "user_tz": -540,
     "elapsed": 483,
     "user": {
      "displayName": "So Yeon Lee",
      "userId": "01771365654963141477"
     }
    },
    "outputId": "a15dd045-eda3-4dce-c875-873d853b57a4"
   },
   "execution_count": 63,
   "outputs": [
    {
     "output_type": "execute_result",
     "data": {
      "text/plain": [
       "Empty DataFrame\n",
       "Columns: [맥주정보, 검색이름, 맥주, 맥주회사, 맥주원산지, 맥주종류, 맥주도수, 맥주IBU, 맥주평점, 맥주설명, 맥주칼로리, 아이디, Aroma, Appearance, Flavor, Mouthfeel, Overall, 길이, 평점, 날짜]\n",
       "Index: []"
      ],
      "text/html": [
       "\n",
       "  <div id=\"df-98e81201-8684-48f0-bf28-0ac3861499aa\">\n",
       "    <div class=\"colab-df-container\">\n",
       "      <div>\n",
       "<style scoped>\n",
       "    .dataframe tbody tr th:only-of-type {\n",
       "        vertical-align: middle;\n",
       "    }\n",
       "\n",
       "    .dataframe tbody tr th {\n",
       "        vertical-align: top;\n",
       "    }\n",
       "\n",
       "    .dataframe thead th {\n",
       "        text-align: right;\n",
       "    }\n",
       "</style>\n",
       "<table border=\"1\" class=\"dataframe\">\n",
       "  <thead>\n",
       "    <tr style=\"text-align: right;\">\n",
       "      <th></th>\n",
       "      <th>맥주정보</th>\n",
       "      <th>검색이름</th>\n",
       "      <th>맥주</th>\n",
       "      <th>맥주회사</th>\n",
       "      <th>맥주원산지</th>\n",
       "      <th>맥주종류</th>\n",
       "      <th>맥주도수</th>\n",
       "      <th>맥주IBU</th>\n",
       "      <th>맥주평점</th>\n",
       "      <th>맥주설명</th>\n",
       "      <th>맥주칼로리</th>\n",
       "      <th>아이디</th>\n",
       "      <th>Aroma</th>\n",
       "      <th>Appearance</th>\n",
       "      <th>Flavor</th>\n",
       "      <th>Mouthfeel</th>\n",
       "      <th>Overall</th>\n",
       "      <th>길이</th>\n",
       "      <th>평점</th>\n",
       "      <th>날짜</th>\n",
       "    </tr>\n",
       "  </thead>\n",
       "  <tbody>\n",
       "  </tbody>\n",
       "</table>\n",
       "</div>\n",
       "      <button class=\"colab-df-convert\" onclick=\"convertToInteractive('df-98e81201-8684-48f0-bf28-0ac3861499aa')\"\n",
       "              title=\"Convert this dataframe to an interactive table.\"\n",
       "              style=\"display:none;\">\n",
       "        \n",
       "  <svg xmlns=\"http://www.w3.org/2000/svg\" height=\"24px\"viewBox=\"0 0 24 24\"\n",
       "       width=\"24px\">\n",
       "    <path d=\"M0 0h24v24H0V0z\" fill=\"none\"/>\n",
       "    <path d=\"M18.56 5.44l.94 2.06.94-2.06 2.06-.94-2.06-.94-.94-2.06-.94 2.06-2.06.94zm-11 1L8.5 8.5l.94-2.06 2.06-.94-2.06-.94L8.5 2.5l-.94 2.06-2.06.94zm10 10l.94 2.06.94-2.06 2.06-.94-2.06-.94-.94-2.06-.94 2.06-2.06.94z\"/><path d=\"M17.41 7.96l-1.37-1.37c-.4-.4-.92-.59-1.43-.59-.52 0-1.04.2-1.43.59L10.3 9.45l-7.72 7.72c-.78.78-.78 2.05 0 2.83L4 21.41c.39.39.9.59 1.41.59.51 0 1.02-.2 1.41-.59l7.78-7.78 2.81-2.81c.8-.78.8-2.07 0-2.86zM5.41 20L4 18.59l7.72-7.72 1.47 1.35L5.41 20z\"/>\n",
       "  </svg>\n",
       "      </button>\n",
       "      \n",
       "  <style>\n",
       "    .colab-df-container {\n",
       "      display:flex;\n",
       "      flex-wrap:wrap;\n",
       "      gap: 12px;\n",
       "    }\n",
       "\n",
       "    .colab-df-convert {\n",
       "      background-color: #E8F0FE;\n",
       "      border: none;\n",
       "      border-radius: 50%;\n",
       "      cursor: pointer;\n",
       "      display: none;\n",
       "      fill: #1967D2;\n",
       "      height: 32px;\n",
       "      padding: 0 0 0 0;\n",
       "      width: 32px;\n",
       "    }\n",
       "\n",
       "    .colab-df-convert:hover {\n",
       "      background-color: #E2EBFA;\n",
       "      box-shadow: 0px 1px 2px rgba(60, 64, 67, 0.3), 0px 1px 3px 1px rgba(60, 64, 67, 0.15);\n",
       "      fill: #174EA6;\n",
       "    }\n",
       "\n",
       "    [theme=dark] .colab-df-convert {\n",
       "      background-color: #3B4455;\n",
       "      fill: #D2E3FC;\n",
       "    }\n",
       "\n",
       "    [theme=dark] .colab-df-convert:hover {\n",
       "      background-color: #434B5C;\n",
       "      box-shadow: 0px 1px 3px 1px rgba(0, 0, 0, 0.15);\n",
       "      filter: drop-shadow(0px 1px 2px rgba(0, 0, 0, 0.3));\n",
       "      fill: #FFFFFF;\n",
       "    }\n",
       "  </style>\n",
       "\n",
       "      <script>\n",
       "        const buttonEl =\n",
       "          document.querySelector('#df-98e81201-8684-48f0-bf28-0ac3861499aa button.colab-df-convert');\n",
       "        buttonEl.style.display =\n",
       "          google.colab.kernel.accessAllowed ? 'block' : 'none';\n",
       "\n",
       "        async function convertToInteractive(key) {\n",
       "          const element = document.querySelector('#df-98e81201-8684-48f0-bf28-0ac3861499aa');\n",
       "          const dataTable =\n",
       "            await google.colab.kernel.invokeFunction('convertToInteractive',\n",
       "                                                     [key], {});\n",
       "          if (!dataTable) return;\n",
       "\n",
       "          const docLinkHtml = 'Like what you see? Visit the ' +\n",
       "            '<a target=\"_blank\" href=https://colab.research.google.com/notebooks/data_table.ipynb>data table notebook</a>'\n",
       "            + ' to learn more about interactive tables.';\n",
       "          element.innerHTML = '';\n",
       "          dataTable['output_type'] = 'display_data';\n",
       "          await google.colab.output.renderOutput(dataTable, element);\n",
       "          const docLink = document.createElement('div');\n",
       "          docLink.innerHTML = docLinkHtml;\n",
       "          element.appendChild(docLink);\n",
       "        }\n",
       "      </script>\n",
       "    </div>\n",
       "  </div>\n",
       "  "
      ]
     },
     "metadata": {},
     "execution_count": 63
    }
   ]
  },
  {
   "cell_type": "code",
   "source": [
    "ttmp.info()"
   ],
   "metadata": {
    "colab": {
     "base_uri": "https://localhost:8080/"
    },
    "id": "MSH0lEYBCDNw",
    "executionInfo": {
     "status": "ok",
     "timestamp": 1665541884561,
     "user_tz": -540,
     "elapsed": 430,
     "user": {
      "displayName": "So Yeon Lee",
      "userId": "01771365654963141477"
     }
    },
    "outputId": "5d81690b-bfc2-482c-e9f6-007a43e7456f"
   },
   "execution_count": 64,
   "outputs": [
    {
     "output_type": "stream",
     "name": "stdout",
     "text": [
      "<class 'pandas.core.frame.DataFrame'>\n",
      "Int64Index: 70933 entries, 0 to 905\n",
      "Data columns (total 20 columns):\n",
      " #   Column      Non-Null Count  Dtype  \n",
      "---  ------      --------------  -----  \n",
      " 0   맥주정보        70933 non-null  object \n",
      " 1   검색이름        70933 non-null  object \n",
      " 2   맥주          70933 non-null  object \n",
      " 3   맥주회사        70933 non-null  object \n",
      " 4   맥주원산지       70933 non-null  object \n",
      " 5   맥주종류        70933 non-null  object \n",
      " 6   맥주도수        70933 non-null  object \n",
      " 7   맥주IBU       27061 non-null  object \n",
      " 8   맥주평점        70933 non-null  float64\n",
      " 9   맥주설명        69713 non-null  object \n",
      " 10  맥주칼로리       69783 non-null  object \n",
      " 11  아이디         70933 non-null  object \n",
      " 12  Aroma       70933 non-null  object \n",
      " 13  Appearance  70933 non-null  object \n",
      " 14  Flavor      70933 non-null  object \n",
      " 15  Mouthfeel   70933 non-null  object \n",
      " 16  Overall     70933 non-null  object \n",
      " 17  길이          70933 non-null  int64  \n",
      " 18  평점          70933 non-null  object \n",
      " 19  날짜          70933 non-null  object \n",
      "dtypes: float64(1), int64(1), object(18)\n",
      "memory usage: 11.4+ MB\n"
     ]
    }
   ]
  },
  {
   "cell_type": "markdown",
   "source": [
    "- 평점, Aroma, Appearance, Flavor, Mouthfeel, Overall값이 실수값이 아님\n",
    "- pd.to_numeric() 함수를 이용해 오브젝트 타입들을 실수로 변환"
   ],
   "metadata": {
    "id": "6gAQzSoyCF_A"
   }
  },
  {
   "cell_type": "code",
   "source": [
    "# 수치형 데이터 실수로 변환하기\n",
    "ttmp['평점'] = pd.to_numeric(ttmp['평점'])\n",
    "ttmp['Aroma'] = pd.to_numeric(ttmp['Aroma'])\n",
    "ttmp['Appearance'] = pd.to_numeric(ttmp['Appearance'])\n",
    "ttmp['Flavor'] = pd.to_numeric(ttmp['Flavor'])\n",
    "ttmp['Mouthfeel'] = pd.to_numeric(ttmp['Mouthfeel'])\n",
    "ttmp['Overall'] = pd.to_numeric(ttmp['Overall'])\n",
    "\n",
    "# 중복된 행들 제거하기\n",
    "ttmp.drop_duplicates(keep='first', inplace=True)"
   ],
   "metadata": {
    "id": "4f4hEnARCESG",
    "executionInfo": {
     "status": "ok",
     "timestamp": 1665542075313,
     "user_tz": -540,
     "elapsed": 437,
     "user": {
      "displayName": "So Yeon Lee",
      "userId": "01771365654963141477"
     }
    }
   },
   "execution_count": 69,
   "outputs": []
  },
  {
   "cell_type": "code",
   "source": [
    "ttmp.info()"
   ],
   "metadata": {
    "colab": {
     "base_uri": "https://localhost:8080/"
    },
    "id": "cARyv2eFCy7s",
    "executionInfo": {
     "status": "ok",
     "timestamp": 1665542081346,
     "user_tz": -540,
     "elapsed": 6,
     "user": {
      "displayName": "So Yeon Lee",
      "userId": "01771365654963141477"
     }
    },
    "outputId": "910b536e-4e41-4454-dc46-71f2ae77fc4f"
   },
   "execution_count": 70,
   "outputs": [
    {
     "output_type": "stream",
     "name": "stdout",
     "text": [
      "<class 'pandas.core.frame.DataFrame'>\n",
      "Int64Index: 70932 entries, 0 to 905\n",
      "Data columns (total 20 columns):\n",
      " #   Column      Non-Null Count  Dtype  \n",
      "---  ------      --------------  -----  \n",
      " 0   맥주정보        70932 non-null  object \n",
      " 1   검색이름        70932 non-null  object \n",
      " 2   맥주          70932 non-null  object \n",
      " 3   맥주회사        70932 non-null  object \n",
      " 4   맥주원산지       70932 non-null  object \n",
      " 5   맥주종류        70932 non-null  object \n",
      " 6   맥주도수        70932 non-null  object \n",
      " 7   맥주IBU       27061 non-null  object \n",
      " 8   맥주평점        70932 non-null  float64\n",
      " 9   맥주설명        69713 non-null  object \n",
      " 10  맥주칼로리       69782 non-null  object \n",
      " 11  아이디         70932 non-null  object \n",
      " 12  Aroma       70932 non-null  int64  \n",
      " 13  Appearance  70932 non-null  int64  \n",
      " 14  Flavor      70932 non-null  int64  \n",
      " 15  Mouthfeel   70932 non-null  int64  \n",
      " 16  Overall     70932 non-null  int64  \n",
      " 17  길이          70932 non-null  int64  \n",
      " 18  평점          70932 non-null  float64\n",
      " 19  날짜          70932 non-null  object \n",
      "dtypes: float64(2), int64(6), object(12)\n",
      "memory usage: 11.4+ MB\n"
     ]
    }
   ]
  },
  {
   "cell_type": "code",
   "source": [
    "# 최종 데이터 값 분포 확인하기\n",
    "ttmp.describe()"
   ],
   "metadata": {
    "colab": {
     "base_uri": "https://localhost:8080/",
     "height": 300
    },
    "id": "mpcgmFZgC0dS",
    "executionInfo": {
     "status": "ok",
     "timestamp": 1665542101655,
     "user_tz": -540,
     "elapsed": 6,
     "user": {
      "displayName": "So Yeon Lee",
      "userId": "01771365654963141477"
     }
    },
    "outputId": "493ed08e-f51b-482d-f099-11fc6d039eae"
   },
   "execution_count": 71,
   "outputs": [
    {
     "output_type": "execute_result",
     "data": {
      "text/plain": [
       "               맥주평점         Aroma    Appearance        Flavor     Mouthfeel  \\\n",
       "count  70932.000000  70932.000000  70932.000000  70932.000000  70932.000000   \n",
       "mean       2.882267      5.214544      3.105087      5.469915      2.900299   \n",
       "std        0.689666      2.111774      1.001407      2.062722      0.989811   \n",
       "min        1.680000      1.000000      1.000000      1.000000      1.000000   \n",
       "25%        2.380000      4.000000      2.000000      4.000000      2.000000   \n",
       "50%        2.890000      5.000000      3.000000      6.000000      3.000000   \n",
       "75%        3.380000      7.000000      4.000000      7.000000      4.000000   \n",
       "max        4.150000     10.000000      5.000000     10.000000      5.000000   \n",
       "\n",
       "            Overall       길이            평점  \n",
       "count  70932.000000  70932.0  70932.000000  \n",
       "mean      10.991330      3.0      2.768181  \n",
       "std        4.366391      0.0      0.966142  \n",
       "min        1.000000      3.0      0.500000  \n",
       "25%        8.000000      3.0      2.100000  \n",
       "50%       11.000000      3.0      2.900000  \n",
       "75%       14.000000      3.0      3.500000  \n",
       "max       20.000000      3.0      5.000000  "
      ],
      "text/html": [
       "\n",
       "  <div id=\"df-ad01c8cf-a239-4671-a8dd-7408f30ebe55\">\n",
       "    <div class=\"colab-df-container\">\n",
       "      <div>\n",
       "<style scoped>\n",
       "    .dataframe tbody tr th:only-of-type {\n",
       "        vertical-align: middle;\n",
       "    }\n",
       "\n",
       "    .dataframe tbody tr th {\n",
       "        vertical-align: top;\n",
       "    }\n",
       "\n",
       "    .dataframe thead th {\n",
       "        text-align: right;\n",
       "    }\n",
       "</style>\n",
       "<table border=\"1\" class=\"dataframe\">\n",
       "  <thead>\n",
       "    <tr style=\"text-align: right;\">\n",
       "      <th></th>\n",
       "      <th>맥주평점</th>\n",
       "      <th>Aroma</th>\n",
       "      <th>Appearance</th>\n",
       "      <th>Flavor</th>\n",
       "      <th>Mouthfeel</th>\n",
       "      <th>Overall</th>\n",
       "      <th>길이</th>\n",
       "      <th>평점</th>\n",
       "    </tr>\n",
       "  </thead>\n",
       "  <tbody>\n",
       "    <tr>\n",
       "      <th>count</th>\n",
       "      <td>70932.000000</td>\n",
       "      <td>70932.000000</td>\n",
       "      <td>70932.000000</td>\n",
       "      <td>70932.000000</td>\n",
       "      <td>70932.000000</td>\n",
       "      <td>70932.000000</td>\n",
       "      <td>70932.0</td>\n",
       "      <td>70932.000000</td>\n",
       "    </tr>\n",
       "    <tr>\n",
       "      <th>mean</th>\n",
       "      <td>2.882267</td>\n",
       "      <td>5.214544</td>\n",
       "      <td>3.105087</td>\n",
       "      <td>5.469915</td>\n",
       "      <td>2.900299</td>\n",
       "      <td>10.991330</td>\n",
       "      <td>3.0</td>\n",
       "      <td>2.768181</td>\n",
       "    </tr>\n",
       "    <tr>\n",
       "      <th>std</th>\n",
       "      <td>0.689666</td>\n",
       "      <td>2.111774</td>\n",
       "      <td>1.001407</td>\n",
       "      <td>2.062722</td>\n",
       "      <td>0.989811</td>\n",
       "      <td>4.366391</td>\n",
       "      <td>0.0</td>\n",
       "      <td>0.966142</td>\n",
       "    </tr>\n",
       "    <tr>\n",
       "      <th>min</th>\n",
       "      <td>1.680000</td>\n",
       "      <td>1.000000</td>\n",
       "      <td>1.000000</td>\n",
       "      <td>1.000000</td>\n",
       "      <td>1.000000</td>\n",
       "      <td>1.000000</td>\n",
       "      <td>3.0</td>\n",
       "      <td>0.500000</td>\n",
       "    </tr>\n",
       "    <tr>\n",
       "      <th>25%</th>\n",
       "      <td>2.380000</td>\n",
       "      <td>4.000000</td>\n",
       "      <td>2.000000</td>\n",
       "      <td>4.000000</td>\n",
       "      <td>2.000000</td>\n",
       "      <td>8.000000</td>\n",
       "      <td>3.0</td>\n",
       "      <td>2.100000</td>\n",
       "    </tr>\n",
       "    <tr>\n",
       "      <th>50%</th>\n",
       "      <td>2.890000</td>\n",
       "      <td>5.000000</td>\n",
       "      <td>3.000000</td>\n",
       "      <td>6.000000</td>\n",
       "      <td>3.000000</td>\n",
       "      <td>11.000000</td>\n",
       "      <td>3.0</td>\n",
       "      <td>2.900000</td>\n",
       "    </tr>\n",
       "    <tr>\n",
       "      <th>75%</th>\n",
       "      <td>3.380000</td>\n",
       "      <td>7.000000</td>\n",
       "      <td>4.000000</td>\n",
       "      <td>7.000000</td>\n",
       "      <td>4.000000</td>\n",
       "      <td>14.000000</td>\n",
       "      <td>3.0</td>\n",
       "      <td>3.500000</td>\n",
       "    </tr>\n",
       "    <tr>\n",
       "      <th>max</th>\n",
       "      <td>4.150000</td>\n",
       "      <td>10.000000</td>\n",
       "      <td>5.000000</td>\n",
       "      <td>10.000000</td>\n",
       "      <td>5.000000</td>\n",
       "      <td>20.000000</td>\n",
       "      <td>3.0</td>\n",
       "      <td>5.000000</td>\n",
       "    </tr>\n",
       "  </tbody>\n",
       "</table>\n",
       "</div>\n",
       "      <button class=\"colab-df-convert\" onclick=\"convertToInteractive('df-ad01c8cf-a239-4671-a8dd-7408f30ebe55')\"\n",
       "              title=\"Convert this dataframe to an interactive table.\"\n",
       "              style=\"display:none;\">\n",
       "        \n",
       "  <svg xmlns=\"http://www.w3.org/2000/svg\" height=\"24px\"viewBox=\"0 0 24 24\"\n",
       "       width=\"24px\">\n",
       "    <path d=\"M0 0h24v24H0V0z\" fill=\"none\"/>\n",
       "    <path d=\"M18.56 5.44l.94 2.06.94-2.06 2.06-.94-2.06-.94-.94-2.06-.94 2.06-2.06.94zm-11 1L8.5 8.5l.94-2.06 2.06-.94-2.06-.94L8.5 2.5l-.94 2.06-2.06.94zm10 10l.94 2.06.94-2.06 2.06-.94-2.06-.94-.94-2.06-.94 2.06-2.06.94z\"/><path d=\"M17.41 7.96l-1.37-1.37c-.4-.4-.92-.59-1.43-.59-.52 0-1.04.2-1.43.59L10.3 9.45l-7.72 7.72c-.78.78-.78 2.05 0 2.83L4 21.41c.39.39.9.59 1.41.59.51 0 1.02-.2 1.41-.59l7.78-7.78 2.81-2.81c.8-.78.8-2.07 0-2.86zM5.41 20L4 18.59l7.72-7.72 1.47 1.35L5.41 20z\"/>\n",
       "  </svg>\n",
       "      </button>\n",
       "      \n",
       "  <style>\n",
       "    .colab-df-container {\n",
       "      display:flex;\n",
       "      flex-wrap:wrap;\n",
       "      gap: 12px;\n",
       "    }\n",
       "\n",
       "    .colab-df-convert {\n",
       "      background-color: #E8F0FE;\n",
       "      border: none;\n",
       "      border-radius: 50%;\n",
       "      cursor: pointer;\n",
       "      display: none;\n",
       "      fill: #1967D2;\n",
       "      height: 32px;\n",
       "      padding: 0 0 0 0;\n",
       "      width: 32px;\n",
       "    }\n",
       "\n",
       "    .colab-df-convert:hover {\n",
       "      background-color: #E2EBFA;\n",
       "      box-shadow: 0px 1px 2px rgba(60, 64, 67, 0.3), 0px 1px 3px 1px rgba(60, 64, 67, 0.15);\n",
       "      fill: #174EA6;\n",
       "    }\n",
       "\n",
       "    [theme=dark] .colab-df-convert {\n",
       "      background-color: #3B4455;\n",
       "      fill: #D2E3FC;\n",
       "    }\n",
       "\n",
       "    [theme=dark] .colab-df-convert:hover {\n",
       "      background-color: #434B5C;\n",
       "      box-shadow: 0px 1px 3px 1px rgba(0, 0, 0, 0.15);\n",
       "      filter: drop-shadow(0px 1px 2px rgba(0, 0, 0, 0.3));\n",
       "      fill: #FFFFFF;\n",
       "    }\n",
       "  </style>\n",
       "\n",
       "      <script>\n",
       "        const buttonEl =\n",
       "          document.querySelector('#df-ad01c8cf-a239-4671-a8dd-7408f30ebe55 button.colab-df-convert');\n",
       "        buttonEl.style.display =\n",
       "          google.colab.kernel.accessAllowed ? 'block' : 'none';\n",
       "\n",
       "        async function convertToInteractive(key) {\n",
       "          const element = document.querySelector('#df-ad01c8cf-a239-4671-a8dd-7408f30ebe55');\n",
       "          const dataTable =\n",
       "            await google.colab.kernel.invokeFunction('convertToInteractive',\n",
       "                                                     [key], {});\n",
       "          if (!dataTable) return;\n",
       "\n",
       "          const docLinkHtml = 'Like what you see? Visit the ' +\n",
       "            '<a target=\"_blank\" href=https://colab.research.google.com/notebooks/data_table.ipynb>data table notebook</a>'\n",
       "            + ' to learn more about interactive tables.';\n",
       "          element.innerHTML = '';\n",
       "          dataTable['output_type'] = 'display_data';\n",
       "          await google.colab.output.renderOutput(dataTable, element);\n",
       "          const docLink = document.createElement('div');\n",
       "          docLink.innerHTML = docLinkHtml;\n",
       "          element.appendChild(docLink);\n",
       "        }\n",
       "      </script>\n",
       "    </div>\n",
       "  </div>\n",
       "  "
      ]
     },
     "metadata": {},
     "execution_count": 71
    }
   ]
  },
  {
   "cell_type": "code",
   "source": [
    "ttmp.to_csv('맥주전처리후데이터_전체.csv', encoding='utf-8')"
   ],
   "metadata": {
    "id": "gdpof0hCC5ap",
    "executionInfo": {
     "status": "ok",
     "timestamp": 1665542175195,
     "user_tz": -540,
     "elapsed": 1442,
     "user": {
      "displayName": "So Yeon Lee",
      "userId": "01771365654963141477"
     }
    }
   },
   "execution_count": 73,
   "outputs": []
  },
  {
   "cell_type": "code",
   "source": [
    "temp = ttmp[['아이디', '맥주', '날짜', '평점', 'Aroma', 'Appearance', 'Flavor', 'Mouthfeel', 'Overall']]\n",
    "\n",
    "temp.to_csv('맥주전처리후데이터.csv', encoding='utf-8')"
   ],
   "metadata": {
    "id": "d8C712BRDApP",
    "executionInfo": {
     "status": "ok",
     "timestamp": 1665542201155,
     "user_tz": -540,
     "elapsed": 751,
     "user": {
      "displayName": "So Yeon Lee",
      "userId": "01771365654963141477"
     }
    }
   },
   "execution_count": 74,
   "outputs": []
  }
 ]
}