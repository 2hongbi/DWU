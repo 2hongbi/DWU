{
 "nbformat": 4,
 "nbformat_minor": 0,
 "metadata": {
  "colab": {
   "provenance": [],
   "collapsed_sections": []
  },
  "kernelspec": {
   "name": "python3",
   "display_name": "Python 3"
  },
  "language_info": {
   "name": "python"
  }
 },
 "cells": [
  {
   "cell_type": "markdown",
   "source": [
    "CF 기반 추천시스템 구현"
   ],
   "metadata": {
    "id": "eyhuGaFakxWc"
   }
  },
  {
   "cell_type": "code",
   "source": [
    "import pandas as pd\n",
    "import numpy as np\n",
    "\n",
    "from sklearn.metrics.pairwise import cosine_similarity\n",
    "from sklearn.metrics import mean_squared_error\n",
    "\n",
    "import warnings\n",
    "\n",
    "warnings.filterwarnings('ignore')"
   ],
   "metadata": {
    "id": "jw9fpzU2m1Ir"
   },
   "execution_count": 1,
   "outputs": []
  },
  {
   "cell_type": "code",
   "source": [
    "!pip install tmp"
   ],
   "metadata": {
    "colab": {
     "base_uri": "https://localhost:8080/"
    },
    "id": "vPmhBLBwn_bs",
    "outputId": "f98b54a9-da7e-4165-c6ee-826d029752d0"
   },
   "execution_count": 2,
   "outputs": [
    {
     "name": "stdout",
     "output_type": "stream",
     "text": [
      "Collecting tmp\r\n",
      "  Downloading tmp-0.0.2.zip (4.0 kB)\r\n",
      "  Preparing metadata (setup.py) ... \u001B[?25ldone\r\n",
      "\u001B[?25hBuilding wheels for collected packages: tmp\r\n",
      "  Building wheel for tmp (setup.py) ... \u001B[?25ldone\r\n",
      "\u001B[?25h  Created wheel for tmp: filename=tmp-0.0.2-py3-none-any.whl size=1983 sha256=2bc203110ce486a60bb7e41d6db3c4129ef08f7d137709a90faf0b2d9cae51ce\r\n",
      "  Stored in directory: /Users/isoyeon/Library/Caches/pip/wheels/4d/82/69/f80b33540fb3af9f51862dff74e6ac92c764d78ec5f38d6c3b\r\n",
      "Successfully built tmp\r\n",
      "Installing collected packages: tmp\r\n",
      "Successfully installed tmp-0.0.2\r\n"
     ]
    }
   ]
  },
  {
   "cell_type": "code",
   "source": [
    "data = pd.read_csv('./맥주전처리후데이터_도수.csv', encoding='utf-8', index_col=0)"
   ],
   "metadata": {
    "id": "nllEdhYjnPhb"
   },
   "execution_count": 4,
   "outputs": []
  },
  {
   "cell_type": "code",
   "source": [
    "# n개 이상의 데이터 리뷰를 남긴 유저, 맥주를 걸러내는 함수\n",
    "def preprocessing(data, n):\n",
    "    min_id = data['아이디'].value_counts() >= n\n",
    "    min_id = min_id[min_id].index.to_list()\n",
    "    data = data[data['아이디'].isin(min_id)]\n",
    "\n",
    "    min_beer = data['맥주'].value_counts() >= n\n",
    "    min_beer = min_beer[min_beer].index.to_list()\n",
    "    data = data[data['맥주'].isin(min_beer)]\n",
    "\n",
    "    return data\n",
    "\n",
    "tmp = data.copy()\n",
    "temp=tmp.copy()\n",
    "\n",
    "# 10번 반복합니다.\n",
    "for i in range(1,10):\n",
    "    temp = preprocessing(temp, 10)\n",
    "    print(temp.shape)\n",
    "\n",
    "temp.to_csv('정제된데이터.csv', encoding='utf-8')"
   ],
   "metadata": {
    "colab": {
     "base_uri": "https://localhost:8080/"
    },
    "id": "CklyiO54n0Fz",
    "outputId": "75912587-59d8-4b33-9b55-cfbe08b883c4"
   },
   "execution_count": 5,
   "outputs": [
    {
     "name": "stdout",
     "output_type": "stream",
     "text": [
      "(44779, 10)\n",
      "(44752, 10)\n",
      "(44752, 10)\n",
      "(44752, 10)\n",
      "(44752, 10)\n",
      "(44752, 10)\n",
      "(44752, 10)\n",
      "(44752, 10)\n",
      "(44752, 10)\n"
     ]
    }
   ]
  },
  {
   "cell_type": "markdown",
   "source": [
    "맥주간 유사도 기반 추천"
   ],
   "metadata": {
    "id": "M2RUap-Gokir"
   }
  },
  {
   "cell_type": "code",
   "execution_count": 7,
   "outputs": [
    {
     "data": {
      "text/plain": "(44752, 10)"
     },
     "execution_count": 7,
     "metadata": {},
     "output_type": "execute_result"
    }
   ],
   "source": [
    "temp.shape"
   ],
   "metadata": {
    "collapsed": false,
    "pycharm": {
     "name": "#%%\n"
    }
   }
  },
  {
   "cell_type": "code",
   "source": [
    "data = pd.read_csv('정제된데이터.csv', encoding='utf-8', index_col=0)\n",
    "\n",
    "ratings = data.copy()\n",
    "\n",
    "# 피벗 테이블을 이용해 유저-아이디 매트릭스 구성\n",
    "ratings_matrix = ratings.pivot_table('평점', index='아이디', columns='맥주')\n",
    "ratings_matrix.head(3)\n",
    "# fillna함수를 이용해 Nan처리\n",
    "ratings_matrix = ratings_matrix.fillna(0)\n",
    "ratings_matrix"
   ],
   "metadata": {
    "colab": {
     "base_uri": "https://localhost:8080/",
     "height": 606
    },
    "id": "IJSL0b5Eojtz",
    "outputId": "18683c42-c8e2-491c-d85c-4ccb08b3a97a"
   },
   "execution_count": 6,
   "outputs": [
    {
     "data": {
      "text/plain": "맥주                  ARK Be High IPA  ARK Black Swan  ARK Hug Me  \\\n아이디                                                               \n007lund(92)                     0.0             0.0         0.0   \n00cobraR(1,103)                 0.0             0.0         0.0   \n0o9i(439)                       0.0             0.0         0.0   \n1010(309)                       0.0             0.0         0.0   \n12HundredBaud(262)              0.0             0.0         0.0   \n...                             ...             ...         ...   \nzomba(192)                      0.0             0.0         0.0   \nzombywoof(537)                  0.0             0.0         0.0   \nzvikar(12,403)                  0.0             3.3         0.0   \nzvsn(7,783)                     0.0             0.0         0.0   \nzvsn(7,795)                     0.0             0.0         0.0   \n\n맥주                  Amazing Shocking Stout  Asahi Super Dry  \\\n아이디                                                           \n007lund(92)                            0.0              0.0   \n00cobraR(1,103)                        0.0              0.0   \n0o9i(439)                              0.0              0.0   \n1010(309)                              0.0              0.0   \n12HundredBaud(262)                     0.0              2.3   \n...                                    ...              ...   \nzomba(192)                             0.0              2.2   \nzombywoof(537)                         0.0              0.0   \nzvikar(12,403)                         0.0              0.0   \nzvsn(7,783)                            0.0              0.0   \nzvsn(7,795)                            0.0              0.0   \n\n맥주                  Asahi Super Dry Black  Ballast Point Sculpin IPA  Beck's  \\\n아이디                                                                            \n007lund(92)                           0.0                        0.0     2.6   \n00cobraR(1,103)                       0.0                        0.0     2.3   \n0o9i(439)                             0.0                        3.5     0.0   \n1010(309)                             0.0                        0.0     2.0   \n12HundredBaud(262)                    0.0                        0.0     0.0   \n...                                   ...                        ...     ...   \nzomba(192)                            0.0                        0.0     0.0   \nzombywoof(537)                        0.0                        0.0     1.8   \nzvikar(12,403)                        2.5                        4.0     2.1   \nzvsn(7,783)                           0.0                        0.0     1.9   \nzvsn(7,795)                           0.0                        0.0     0.0   \n\n맥주                  Berliner Kindl Jubiläums Pilsener Premium  \\\n아이디                                                             \n007lund(92)                                               0.0   \n00cobraR(1,103)                                           0.0   \n0o9i(439)                                                 0.0   \n1010(309)                                                 0.0   \n12HundredBaud(262)                                        0.0   \n...                                                       ...   \nzomba(192)                                                0.0   \nzombywoof(537)                                            0.0   \nzvikar(12,403)                                            0.0   \nzvsn(7,783)                                               0.0   \nzvsn(7,795)                                               0.0   \n\n맥주                  Bintang Pilsener  ...  Stephans Bräu Premium Pilsener  \\\n아이디                                   ...                                   \n007lund(92)                      0.0  ...                             0.0   \n00cobraR(1,103)                  0.0  ...                             0.0   \n0o9i(439)                        0.0  ...                             0.0   \n1010(309)                        0.0  ...                             0.0   \n12HundredBaud(262)               0.0  ...                             0.0   \n...                              ...  ...                             ...   \nzomba(192)                       0.0  ...                             0.0   \nzombywoof(537)                   0.0  ...                             0.0   \nzvikar(12,403)                   0.0  ...                             0.0   \nzvsn(7,783)                      0.0  ...                             0.0   \nzvsn(7,795)                      0.0  ...                             0.0   \n\n맥주                  Suntory The Premium Malt's  The Hand and Malt Slow IPA  \\\n아이디                                                                          \n007lund(92)                                0.0                         0.0   \n00cobraR(1,103)                            0.0                         0.0   \n0o9i(439)                                  0.0                         0.0   \n1010(309)                                  0.0                         0.0   \n12HundredBaud(262)                         0.0                         0.0   \n...                                        ...                         ...   \nzomba(192)                                 0.0                         0.0   \nzombywoof(537)                             0.0                         0.0   \nzvikar(12,403)                             0.0                         0.0   \nzvsn(7,783)                                0.0                         0.0   \nzvsn(7,795)                                0.0                         0.0   \n\n맥주                  Tiger Beer  Tiger Radler Lemon  Tsingtao  \\\n아이디                                                            \n007lund(92)                0.0                 0.0       2.5   \n00cobraR(1,103)            0.0                 0.0       2.1   \n0o9i(439)                  0.0                 0.0       0.0   \n1010(309)                  0.0                 0.0       0.0   \n12HundredBaud(262)         0.0                 0.0       0.0   \n...                        ...                 ...       ...   \nzomba(192)                 0.0                 0.0       0.0   \nzombywoof(537)             0.0                 0.0       0.0   \nzvikar(12,403)             1.7                 0.0       1.7   \nzvsn(7,783)                0.0                 0.0       0.0   \nzvsn(7,795)                0.0                 0.0       0.0   \n\n맥주                  Tsingtao Wheat Beer  Victoria Bitter  \\\n아이디                                                        \n007lund(92)                         0.0              0.0   \n00cobraR(1,103)                     0.0              0.0   \n0o9i(439)                           0.0              0.0   \n1010(309)                           0.0              0.0   \n12HundredBaud(262)                  0.0              0.0   \n...                                 ...              ...   \nzomba(192)                          0.0              0.0   \nzombywoof(537)                      0.0              0.0   \nzvikar(12,403)                      0.0              1.4   \nzvsn(7,783)                         0.0              0.0   \nzvsn(7,795)                         0.0              0.0   \n\n맥주                  Volfas Engelman Grünberger Hefeweizen  \\\n아이디                                                         \n007lund(92)                                           0.0   \n00cobraR(1,103)                                       0.0   \n0o9i(439)                                             0.0   \n1010(309)                                             0.0   \n12HundredBaud(262)                                    0.0   \n...                                                   ...   \nzomba(192)                                            0.0   \nzombywoof(537)                                        0.0   \nzvikar(12,403)                                        0.0   \nzvsn(7,783)                                           0.0   \nzvsn(7,795)                                           0.0   \n\n맥주                  Warsteiner Premium Verum  \n아이디                                           \n007lund(92)                              0.0  \n00cobraR(1,103)                          0.0  \n0o9i(439)                                0.0  \n1010(309)                                0.0  \n12HundredBaud(262)                       0.0  \n...                                      ...  \nzomba(192)                               0.0  \nzombywoof(537)                           0.0  \nzvikar(12,403)                           0.0  \nzvsn(7,783)                              2.5  \nzvsn(7,795)                              0.0  \n\n[2665 rows x 85 columns]",
      "text/html": "<div>\n<style scoped>\n    .dataframe tbody tr th:only-of-type {\n        vertical-align: middle;\n    }\n\n    .dataframe tbody tr th {\n        vertical-align: top;\n    }\n\n    .dataframe thead th {\n        text-align: right;\n    }\n</style>\n<table border=\"1\" class=\"dataframe\">\n  <thead>\n    <tr style=\"text-align: right;\">\n      <th>맥주</th>\n      <th>ARK Be High IPA</th>\n      <th>ARK Black Swan</th>\n      <th>ARK Hug Me</th>\n      <th>Amazing Shocking Stout</th>\n      <th>Asahi Super Dry</th>\n      <th>Asahi Super Dry Black</th>\n      <th>Ballast Point Sculpin IPA</th>\n      <th>Beck's</th>\n      <th>Berliner Kindl Jubiläums Pilsener Premium</th>\n      <th>Bintang Pilsener</th>\n      <th>...</th>\n      <th>Stephans Bräu Premium Pilsener</th>\n      <th>Suntory The Premium Malt's</th>\n      <th>The Hand and Malt Slow IPA</th>\n      <th>Tiger Beer</th>\n      <th>Tiger Radler Lemon</th>\n      <th>Tsingtao</th>\n      <th>Tsingtao Wheat Beer</th>\n      <th>Victoria Bitter</th>\n      <th>Volfas Engelman Grünberger Hefeweizen</th>\n      <th>Warsteiner Premium Verum</th>\n    </tr>\n    <tr>\n      <th>아이디</th>\n      <th></th>\n      <th></th>\n      <th></th>\n      <th></th>\n      <th></th>\n      <th></th>\n      <th></th>\n      <th></th>\n      <th></th>\n      <th></th>\n      <th></th>\n      <th></th>\n      <th></th>\n      <th></th>\n      <th></th>\n      <th></th>\n      <th></th>\n      <th></th>\n      <th></th>\n      <th></th>\n      <th></th>\n    </tr>\n  </thead>\n  <tbody>\n    <tr>\n      <th>007lund(92)</th>\n      <td>0.0</td>\n      <td>0.0</td>\n      <td>0.0</td>\n      <td>0.0</td>\n      <td>0.0</td>\n      <td>0.0</td>\n      <td>0.0</td>\n      <td>2.6</td>\n      <td>0.0</td>\n      <td>0.0</td>\n      <td>...</td>\n      <td>0.0</td>\n      <td>0.0</td>\n      <td>0.0</td>\n      <td>0.0</td>\n      <td>0.0</td>\n      <td>2.5</td>\n      <td>0.0</td>\n      <td>0.0</td>\n      <td>0.0</td>\n      <td>0.0</td>\n    </tr>\n    <tr>\n      <th>00cobraR(1,103)</th>\n      <td>0.0</td>\n      <td>0.0</td>\n      <td>0.0</td>\n      <td>0.0</td>\n      <td>0.0</td>\n      <td>0.0</td>\n      <td>0.0</td>\n      <td>2.3</td>\n      <td>0.0</td>\n      <td>0.0</td>\n      <td>...</td>\n      <td>0.0</td>\n      <td>0.0</td>\n      <td>0.0</td>\n      <td>0.0</td>\n      <td>0.0</td>\n      <td>2.1</td>\n      <td>0.0</td>\n      <td>0.0</td>\n      <td>0.0</td>\n      <td>0.0</td>\n    </tr>\n    <tr>\n      <th>0o9i(439)</th>\n      <td>0.0</td>\n      <td>0.0</td>\n      <td>0.0</td>\n      <td>0.0</td>\n      <td>0.0</td>\n      <td>0.0</td>\n      <td>3.5</td>\n      <td>0.0</td>\n      <td>0.0</td>\n      <td>0.0</td>\n      <td>...</td>\n      <td>0.0</td>\n      <td>0.0</td>\n      <td>0.0</td>\n      <td>0.0</td>\n      <td>0.0</td>\n      <td>0.0</td>\n      <td>0.0</td>\n      <td>0.0</td>\n      <td>0.0</td>\n      <td>0.0</td>\n    </tr>\n    <tr>\n      <th>1010(309)</th>\n      <td>0.0</td>\n      <td>0.0</td>\n      <td>0.0</td>\n      <td>0.0</td>\n      <td>0.0</td>\n      <td>0.0</td>\n      <td>0.0</td>\n      <td>2.0</td>\n      <td>0.0</td>\n      <td>0.0</td>\n      <td>...</td>\n      <td>0.0</td>\n      <td>0.0</td>\n      <td>0.0</td>\n      <td>0.0</td>\n      <td>0.0</td>\n      <td>0.0</td>\n      <td>0.0</td>\n      <td>0.0</td>\n      <td>0.0</td>\n      <td>0.0</td>\n    </tr>\n    <tr>\n      <th>12HundredBaud(262)</th>\n      <td>0.0</td>\n      <td>0.0</td>\n      <td>0.0</td>\n      <td>0.0</td>\n      <td>2.3</td>\n      <td>0.0</td>\n      <td>0.0</td>\n      <td>0.0</td>\n      <td>0.0</td>\n      <td>0.0</td>\n      <td>...</td>\n      <td>0.0</td>\n      <td>0.0</td>\n      <td>0.0</td>\n      <td>0.0</td>\n      <td>0.0</td>\n      <td>0.0</td>\n      <td>0.0</td>\n      <td>0.0</td>\n      <td>0.0</td>\n      <td>0.0</td>\n    </tr>\n    <tr>\n      <th>...</th>\n      <td>...</td>\n      <td>...</td>\n      <td>...</td>\n      <td>...</td>\n      <td>...</td>\n      <td>...</td>\n      <td>...</td>\n      <td>...</td>\n      <td>...</td>\n      <td>...</td>\n      <td>...</td>\n      <td>...</td>\n      <td>...</td>\n      <td>...</td>\n      <td>...</td>\n      <td>...</td>\n      <td>...</td>\n      <td>...</td>\n      <td>...</td>\n      <td>...</td>\n      <td>...</td>\n    </tr>\n    <tr>\n      <th>zomba(192)</th>\n      <td>0.0</td>\n      <td>0.0</td>\n      <td>0.0</td>\n      <td>0.0</td>\n      <td>2.2</td>\n      <td>0.0</td>\n      <td>0.0</td>\n      <td>0.0</td>\n      <td>0.0</td>\n      <td>0.0</td>\n      <td>...</td>\n      <td>0.0</td>\n      <td>0.0</td>\n      <td>0.0</td>\n      <td>0.0</td>\n      <td>0.0</td>\n      <td>0.0</td>\n      <td>0.0</td>\n      <td>0.0</td>\n      <td>0.0</td>\n      <td>0.0</td>\n    </tr>\n    <tr>\n      <th>zombywoof(537)</th>\n      <td>0.0</td>\n      <td>0.0</td>\n      <td>0.0</td>\n      <td>0.0</td>\n      <td>0.0</td>\n      <td>0.0</td>\n      <td>0.0</td>\n      <td>1.8</td>\n      <td>0.0</td>\n      <td>0.0</td>\n      <td>...</td>\n      <td>0.0</td>\n      <td>0.0</td>\n      <td>0.0</td>\n      <td>0.0</td>\n      <td>0.0</td>\n      <td>0.0</td>\n      <td>0.0</td>\n      <td>0.0</td>\n      <td>0.0</td>\n      <td>0.0</td>\n    </tr>\n    <tr>\n      <th>zvikar(12,403)</th>\n      <td>0.0</td>\n      <td>3.3</td>\n      <td>0.0</td>\n      <td>0.0</td>\n      <td>0.0</td>\n      <td>2.5</td>\n      <td>4.0</td>\n      <td>2.1</td>\n      <td>0.0</td>\n      <td>0.0</td>\n      <td>...</td>\n      <td>0.0</td>\n      <td>0.0</td>\n      <td>0.0</td>\n      <td>1.7</td>\n      <td>0.0</td>\n      <td>1.7</td>\n      <td>0.0</td>\n      <td>1.4</td>\n      <td>0.0</td>\n      <td>0.0</td>\n    </tr>\n    <tr>\n      <th>zvsn(7,783)</th>\n      <td>0.0</td>\n      <td>0.0</td>\n      <td>0.0</td>\n      <td>0.0</td>\n      <td>0.0</td>\n      <td>0.0</td>\n      <td>0.0</td>\n      <td>1.9</td>\n      <td>0.0</td>\n      <td>0.0</td>\n      <td>...</td>\n      <td>0.0</td>\n      <td>0.0</td>\n      <td>0.0</td>\n      <td>0.0</td>\n      <td>0.0</td>\n      <td>0.0</td>\n      <td>0.0</td>\n      <td>0.0</td>\n      <td>0.0</td>\n      <td>2.5</td>\n    </tr>\n    <tr>\n      <th>zvsn(7,795)</th>\n      <td>0.0</td>\n      <td>0.0</td>\n      <td>0.0</td>\n      <td>0.0</td>\n      <td>0.0</td>\n      <td>0.0</td>\n      <td>0.0</td>\n      <td>0.0</td>\n      <td>0.0</td>\n      <td>0.0</td>\n      <td>...</td>\n      <td>0.0</td>\n      <td>0.0</td>\n      <td>0.0</td>\n      <td>0.0</td>\n      <td>0.0</td>\n      <td>0.0</td>\n      <td>0.0</td>\n      <td>0.0</td>\n      <td>0.0</td>\n      <td>0.0</td>\n    </tr>\n  </tbody>\n</table>\n<p>2665 rows × 85 columns</p>\n</div>"
     },
     "execution_count": 6,
     "metadata": {},
     "output_type": "execute_result"
    }
   ]
  },
  {
   "cell_type": "code",
   "source": [
    "# 유사도 계산을 위해 트랜스포즈\n",
    "ratings_matrix_T = ratings_matrix.transpose()\n",
    "ratings_matrix_T"
   ],
   "metadata": {
    "colab": {
     "base_uri": "https://localhost:8080/",
     "height": 762
    },
    "id": "WwWjCrq8pEtr",
    "outputId": "621cf974-8b8f-49c8-cd06-0aab86789a98"
   },
   "execution_count": 10,
   "outputs": [
    {
     "data": {
      "text/plain": "아이디                                    007lund(92)  00cobraR(1,103)  \\\n맥주                                                                    \nARK Be High IPA                                0.0              0.0   \nARK Black Swan                                 0.0              0.0   \nARK Hug Me                                     0.0              0.0   \nAmazing Shocking Stout                         0.0              0.0   \nAsahi Super Dry                                0.0              0.0   \n...                                            ...              ...   \nTsingtao                                       2.5              2.1   \nTsingtao Wheat Beer                            0.0              0.0   \nVictoria Bitter                                0.0              0.0   \nVolfas Engelman Grünberger Hefeweizen          0.0              0.0   \nWarsteiner Premium Verum                       0.0              0.0   \n\n아이디                                    0o9i(439)  1010(309)  \\\n맥주                                                            \nARK Be High IPA                              0.0        0.0   \nARK Black Swan                               0.0        0.0   \nARK Hug Me                                   0.0        0.0   \nAmazing Shocking Stout                       0.0        0.0   \nAsahi Super Dry                              0.0        0.0   \n...                                          ...        ...   \nTsingtao                                     0.0        0.0   \nTsingtao Wheat Beer                          0.0        0.0   \nVictoria Bitter                              0.0        0.0   \nVolfas Engelman Grünberger Hefeweizen        0.0        0.0   \nWarsteiner Premium Verum                     0.0        0.0   \n\n아이디                                    12HundredBaud(262)  16erBlech(560)  \\\n맥주                                                                          \nARK Be High IPA                                       0.0             0.0   \nARK Black Swan                                        0.0             0.0   \nARK Hug Me                                            0.0             0.0   \nAmazing Shocking Stout                                0.0             0.0   \nAsahi Super Dry                                       2.3             0.0   \n...                                                   ...             ...   \nTsingtao                                              0.0             3.0   \nTsingtao Wheat Beer                                   0.0             0.0   \nVictoria Bitter                                       0.0             2.0   \nVolfas Engelman Grünberger Hefeweizen                 0.0             0.0   \nWarsteiner Premium Verum                              0.0             2.5   \n\n아이디                                    17thfloor(2,444)  17wojownik(1,450)  \\\n맥주                                                                           \nARK Be High IPA                                     0.0                0.0   \nARK Black Swan                                      0.0                0.0   \nARK Hug Me                                          0.0                0.0   \nAmazing Shocking Stout                              0.0                0.0   \nAsahi Super Dry                                     0.0                0.0   \n...                                                 ...                ...   \nTsingtao                                            2.5                2.1   \nTsingtao Wheat Beer                                 0.0                0.0   \nVictoria Bitter                                     0.0                0.0   \nVolfas Engelman Grünberger Hefeweizen               0.0                0.0   \nWarsteiner Premium Verum                            0.0                3.5   \n\n아이디                                    184601(206)  19Ei8hty(1,167)  ...  \\\n맥주                                                                   ...   \nARK Be High IPA                                0.0              0.0  ...   \nARK Black Swan                                 0.0              0.0  ...   \nARK Hug Me                                     0.0              0.0  ...   \nAmazing Shocking Stout                         0.0              0.0  ...   \nAsahi Super Dry                                0.0              0.0  ...   \n...                                            ...              ...  ...   \nTsingtao                                       0.9              0.0  ...   \nTsingtao Wheat Beer                            0.0              0.0  ...   \nVictoria Bitter                                0.0              0.0  ...   \nVolfas Engelman Grünberger Hefeweizen          0.0              0.0  ...   \nWarsteiner Premium Verum                       0.0              0.0  ...   \n\n아이디                                    zdk(1,917)  zebracakes(1,339)  \\\n맥주                                                                     \nARK Be High IPA                               0.0                0.0   \nARK Black Swan                                0.0                0.0   \nARK Hug Me                                    0.0                0.0   \nAmazing Shocking Stout                        0.0                0.0   \nAsahi Super Dry                               0.0                0.0   \n...                                           ...                ...   \nTsingtao                                      1.8                1.7   \nTsingtao Wheat Beer                           0.0                0.0   \nVictoria Bitter                               0.0                0.0   \nVolfas Engelman Grünberger Hefeweizen         0.0                0.0   \nWarsteiner Premium Verum                      0.0                0.0   \n\n아이디                                    zenkis(1,051)  zgaier(3,134)  \\\n맥주                                                                    \nARK Be High IPA                                  0.0            0.0   \nARK Black Swan                                   0.0            0.0   \nARK Hug Me                                       0.0            0.0   \nAmazing Shocking Stout                           0.0            0.0   \nAsahi Super Dry                                  0.0            0.0   \n...                                              ...            ...   \nTsingtao                                         0.0            0.0   \nTsingtao Wheat Beer                              0.0            0.0   \nVictoria Bitter                                  0.0            0.0   \nVolfas Engelman Grünberger Hefeweizen            0.0            0.0   \nWarsteiner Premium Verum                         0.0            0.0   \n\n아이디                                    ziobarba2000(119)  zomba(192)  \\\n맥주                                                                     \nARK Be High IPA                                      0.0         0.0   \nARK Black Swan                                       0.0         0.0   \nARK Hug Me                                           0.0         0.0   \nAmazing Shocking Stout                               0.0         0.0   \nAsahi Super Dry                                      0.0         2.2   \n...                                                  ...         ...   \nTsingtao                                             0.0         0.0   \nTsingtao Wheat Beer                                  0.0         0.0   \nVictoria Bitter                                      0.0         0.0   \nVolfas Engelman Grünberger Hefeweizen                0.0         0.0   \nWarsteiner Premium Verum                             2.4         0.0   \n\n아이디                                    zombywoof(537)  zvikar(12,403)  \\\n맥주                                                                      \nARK Be High IPA                                   0.0             0.0   \nARK Black Swan                                    0.0             3.3   \nARK Hug Me                                        0.0             0.0   \nAmazing Shocking Stout                            0.0             0.0   \nAsahi Super Dry                                   0.0             0.0   \n...                                               ...             ...   \nTsingtao                                          0.0             1.7   \nTsingtao Wheat Beer                               0.0             0.0   \nVictoria Bitter                                   0.0             1.4   \nVolfas Engelman Grünberger Hefeweizen             0.0             0.0   \nWarsteiner Premium Verum                          0.0             0.0   \n\n아이디                                    zvsn(7,783)  zvsn(7,795)  \n맥주                                                               \nARK Be High IPA                                0.0          0.0  \nARK Black Swan                                 0.0          0.0  \nARK Hug Me                                     0.0          0.0  \nAmazing Shocking Stout                         0.0          0.0  \nAsahi Super Dry                                0.0          0.0  \n...                                            ...          ...  \nTsingtao                                       0.0          0.0  \nTsingtao Wheat Beer                            0.0          0.0  \nVictoria Bitter                                0.0          0.0  \nVolfas Engelman Grünberger Hefeweizen          0.0          0.0  \nWarsteiner Premium Verum                       2.5          0.0  \n\n[85 rows x 2665 columns]",
      "text/html": "<div>\n<style scoped>\n    .dataframe tbody tr th:only-of-type {\n        vertical-align: middle;\n    }\n\n    .dataframe tbody tr th {\n        vertical-align: top;\n    }\n\n    .dataframe thead th {\n        text-align: right;\n    }\n</style>\n<table border=\"1\" class=\"dataframe\">\n  <thead>\n    <tr style=\"text-align: right;\">\n      <th>아이디</th>\n      <th>007lund(92)</th>\n      <th>00cobraR(1,103)</th>\n      <th>0o9i(439)</th>\n      <th>1010(309)</th>\n      <th>12HundredBaud(262)</th>\n      <th>16erBlech(560)</th>\n      <th>17thfloor(2,444)</th>\n      <th>17wojownik(1,450)</th>\n      <th>184601(206)</th>\n      <th>19Ei8hty(1,167)</th>\n      <th>...</th>\n      <th>zdk(1,917)</th>\n      <th>zebracakes(1,339)</th>\n      <th>zenkis(1,051)</th>\n      <th>zgaier(3,134)</th>\n      <th>ziobarba2000(119)</th>\n      <th>zomba(192)</th>\n      <th>zombywoof(537)</th>\n      <th>zvikar(12,403)</th>\n      <th>zvsn(7,783)</th>\n      <th>zvsn(7,795)</th>\n    </tr>\n    <tr>\n      <th>맥주</th>\n      <th></th>\n      <th></th>\n      <th></th>\n      <th></th>\n      <th></th>\n      <th></th>\n      <th></th>\n      <th></th>\n      <th></th>\n      <th></th>\n      <th></th>\n      <th></th>\n      <th></th>\n      <th></th>\n      <th></th>\n      <th></th>\n      <th></th>\n      <th></th>\n      <th></th>\n      <th></th>\n      <th></th>\n    </tr>\n  </thead>\n  <tbody>\n    <tr>\n      <th>ARK Be High IPA</th>\n      <td>0.0</td>\n      <td>0.0</td>\n      <td>0.0</td>\n      <td>0.0</td>\n      <td>0.0</td>\n      <td>0.0</td>\n      <td>0.0</td>\n      <td>0.0</td>\n      <td>0.0</td>\n      <td>0.0</td>\n      <td>...</td>\n      <td>0.0</td>\n      <td>0.0</td>\n      <td>0.0</td>\n      <td>0.0</td>\n      <td>0.0</td>\n      <td>0.0</td>\n      <td>0.0</td>\n      <td>0.0</td>\n      <td>0.0</td>\n      <td>0.0</td>\n    </tr>\n    <tr>\n      <th>ARK Black Swan</th>\n      <td>0.0</td>\n      <td>0.0</td>\n      <td>0.0</td>\n      <td>0.0</td>\n      <td>0.0</td>\n      <td>0.0</td>\n      <td>0.0</td>\n      <td>0.0</td>\n      <td>0.0</td>\n      <td>0.0</td>\n      <td>...</td>\n      <td>0.0</td>\n      <td>0.0</td>\n      <td>0.0</td>\n      <td>0.0</td>\n      <td>0.0</td>\n      <td>0.0</td>\n      <td>0.0</td>\n      <td>3.3</td>\n      <td>0.0</td>\n      <td>0.0</td>\n    </tr>\n    <tr>\n      <th>ARK Hug Me</th>\n      <td>0.0</td>\n      <td>0.0</td>\n      <td>0.0</td>\n      <td>0.0</td>\n      <td>0.0</td>\n      <td>0.0</td>\n      <td>0.0</td>\n      <td>0.0</td>\n      <td>0.0</td>\n      <td>0.0</td>\n      <td>...</td>\n      <td>0.0</td>\n      <td>0.0</td>\n      <td>0.0</td>\n      <td>0.0</td>\n      <td>0.0</td>\n      <td>0.0</td>\n      <td>0.0</td>\n      <td>0.0</td>\n      <td>0.0</td>\n      <td>0.0</td>\n    </tr>\n    <tr>\n      <th>Amazing Shocking Stout</th>\n      <td>0.0</td>\n      <td>0.0</td>\n      <td>0.0</td>\n      <td>0.0</td>\n      <td>0.0</td>\n      <td>0.0</td>\n      <td>0.0</td>\n      <td>0.0</td>\n      <td>0.0</td>\n      <td>0.0</td>\n      <td>...</td>\n      <td>0.0</td>\n      <td>0.0</td>\n      <td>0.0</td>\n      <td>0.0</td>\n      <td>0.0</td>\n      <td>0.0</td>\n      <td>0.0</td>\n      <td>0.0</td>\n      <td>0.0</td>\n      <td>0.0</td>\n    </tr>\n    <tr>\n      <th>Asahi Super Dry</th>\n      <td>0.0</td>\n      <td>0.0</td>\n      <td>0.0</td>\n      <td>0.0</td>\n      <td>2.3</td>\n      <td>0.0</td>\n      <td>0.0</td>\n      <td>0.0</td>\n      <td>0.0</td>\n      <td>0.0</td>\n      <td>...</td>\n      <td>0.0</td>\n      <td>0.0</td>\n      <td>0.0</td>\n      <td>0.0</td>\n      <td>0.0</td>\n      <td>2.2</td>\n      <td>0.0</td>\n      <td>0.0</td>\n      <td>0.0</td>\n      <td>0.0</td>\n    </tr>\n    <tr>\n      <th>...</th>\n      <td>...</td>\n      <td>...</td>\n      <td>...</td>\n      <td>...</td>\n      <td>...</td>\n      <td>...</td>\n      <td>...</td>\n      <td>...</td>\n      <td>...</td>\n      <td>...</td>\n      <td>...</td>\n      <td>...</td>\n      <td>...</td>\n      <td>...</td>\n      <td>...</td>\n      <td>...</td>\n      <td>...</td>\n      <td>...</td>\n      <td>...</td>\n      <td>...</td>\n      <td>...</td>\n    </tr>\n    <tr>\n      <th>Tsingtao</th>\n      <td>2.5</td>\n      <td>2.1</td>\n      <td>0.0</td>\n      <td>0.0</td>\n      <td>0.0</td>\n      <td>3.0</td>\n      <td>2.5</td>\n      <td>2.1</td>\n      <td>0.9</td>\n      <td>0.0</td>\n      <td>...</td>\n      <td>1.8</td>\n      <td>1.7</td>\n      <td>0.0</td>\n      <td>0.0</td>\n      <td>0.0</td>\n      <td>0.0</td>\n      <td>0.0</td>\n      <td>1.7</td>\n      <td>0.0</td>\n      <td>0.0</td>\n    </tr>\n    <tr>\n      <th>Tsingtao Wheat Beer</th>\n      <td>0.0</td>\n      <td>0.0</td>\n      <td>0.0</td>\n      <td>0.0</td>\n      <td>0.0</td>\n      <td>0.0</td>\n      <td>0.0</td>\n      <td>0.0</td>\n      <td>0.0</td>\n      <td>0.0</td>\n      <td>...</td>\n      <td>0.0</td>\n      <td>0.0</td>\n      <td>0.0</td>\n      <td>0.0</td>\n      <td>0.0</td>\n      <td>0.0</td>\n      <td>0.0</td>\n      <td>0.0</td>\n      <td>0.0</td>\n      <td>0.0</td>\n    </tr>\n    <tr>\n      <th>Victoria Bitter</th>\n      <td>0.0</td>\n      <td>0.0</td>\n      <td>0.0</td>\n      <td>0.0</td>\n      <td>0.0</td>\n      <td>2.0</td>\n      <td>0.0</td>\n      <td>0.0</td>\n      <td>0.0</td>\n      <td>0.0</td>\n      <td>...</td>\n      <td>0.0</td>\n      <td>0.0</td>\n      <td>0.0</td>\n      <td>0.0</td>\n      <td>0.0</td>\n      <td>0.0</td>\n      <td>0.0</td>\n      <td>1.4</td>\n      <td>0.0</td>\n      <td>0.0</td>\n    </tr>\n    <tr>\n      <th>Volfas Engelman Grünberger Hefeweizen</th>\n      <td>0.0</td>\n      <td>0.0</td>\n      <td>0.0</td>\n      <td>0.0</td>\n      <td>0.0</td>\n      <td>0.0</td>\n      <td>0.0</td>\n      <td>0.0</td>\n      <td>0.0</td>\n      <td>0.0</td>\n      <td>...</td>\n      <td>0.0</td>\n      <td>0.0</td>\n      <td>0.0</td>\n      <td>0.0</td>\n      <td>0.0</td>\n      <td>0.0</td>\n      <td>0.0</td>\n      <td>0.0</td>\n      <td>0.0</td>\n      <td>0.0</td>\n    </tr>\n    <tr>\n      <th>Warsteiner Premium Verum</th>\n      <td>0.0</td>\n      <td>0.0</td>\n      <td>0.0</td>\n      <td>0.0</td>\n      <td>0.0</td>\n      <td>2.5</td>\n      <td>0.0</td>\n      <td>3.5</td>\n      <td>0.0</td>\n      <td>0.0</td>\n      <td>...</td>\n      <td>0.0</td>\n      <td>0.0</td>\n      <td>0.0</td>\n      <td>0.0</td>\n      <td>2.4</td>\n      <td>0.0</td>\n      <td>0.0</td>\n      <td>0.0</td>\n      <td>2.5</td>\n      <td>0.0</td>\n    </tr>\n  </tbody>\n</table>\n<p>85 rows × 2665 columns</p>\n</div>"
     },
     "execution_count": 10,
     "metadata": {},
     "output_type": "execute_result"
    }
   ]
  },
  {
   "cell_type": "code",
   "source": [
    "# 아이템-유저 매트릭스로부터 코사인 유사도 구하기\n",
    "item_sim = cosine_similarity(ratings_matrix_T, ratings_matrix_T)\n",
    "\n",
    "# cosine_similarity()로 반환된 넘파이 행렬에 맥주명을 매핑해 DataFrame으로 변환\n",
    "item_sim_df = pd.DataFrame(data=item_sim, index=ratings_matrix.columns,\n",
    "                          columns=ratings_matrix.columns)\n",
    "\n",
    "print(item_sim_df.shape)\n",
    "item_sim_df.head(3)"
   ],
   "metadata": {
    "colab": {
     "base_uri": "https://localhost:8080/",
     "height": 457
    },
    "id": "EmdbUHyFpI_j",
    "outputId": "3591e21a-1064-4446-96ec-20bbdfb632d7"
   },
   "execution_count": 11,
   "outputs": [
    {
     "name": "stdout",
     "output_type": "stream",
     "text": [
      "(85, 85)\n"
     ]
    },
    {
     "data": {
      "text/plain": "맥주               ARK Be High IPA  ARK Black Swan  ARK Hug Me  \\\n맥주                                                             \nARK Be High IPA         1.000000        0.565494    0.640645   \nARK Black Swan          0.565494        1.000000    0.331260   \nARK Hug Me              0.640645        0.331260    1.000000   \n\n맥주               Amazing Shocking Stout  Asahi Super Dry  \\\n맥주                                                         \nARK Be High IPA                0.147848         0.066085   \nARK Black Swan                 0.262579         0.065719   \nARK Hug Me                     0.138757         0.076670   \n\n맥주               Asahi Super Dry Black  Ballast Point Sculpin IPA    Beck's  \\\n맥주                                                                            \nARK Be High IPA               0.108746                   0.076826  0.064768   \nARK Black Swan                0.157048                   0.079410  0.066557   \nARK Hug Me                    0.151207                   0.064047  0.048824   \n\n맥주               Berliner Kindl Jubiläums Pilsener Premium  Bintang Pilsener  \\\n맥주                                                                             \nARK Be High IPA                                   0.059240          0.118815   \nARK Black Swan                                    0.056724          0.061086   \nARK Hug Me                                        0.037877          0.089515   \n\n맥주               ...  Stephans Bräu Premium Pilsener  \\\n맥주               ...                                   \nARK Be High IPA  ...                        0.013003   \nARK Black Swan   ...                        0.014558   \nARK Hug Me       ...                        0.011003   \n\n맥주               Suntory The Premium Malt's  The Hand and Malt Slow IPA  \\\n맥주                                                                        \nARK Be High IPA                    0.146517                    0.249529   \nARK Black Swan                     0.100280                    0.277237   \nARK Hug Me                         0.113863                    0.149920   \n\n맥주               Tiger Beer  Tiger Radler Lemon  Tsingtao  \\\n맥주                                                          \nARK Be High IPA    0.049537            0.240113  0.032552   \nARK Black Swan     0.058194            0.184536  0.043192   \nARK Hug Me         0.020373            0.257586  0.027855   \n\n맥주               Tsingtao Wheat Beer  Victoria Bitter  \\\n맥주                                                      \nARK Be High IPA             0.218243         0.074534   \nARK Black Swan              0.191813         0.042416   \nARK Hug Me                  0.118776         0.081444   \n\n맥주               Volfas Engelman Grünberger Hefeweizen  \\\n맥주                                                       \nARK Be High IPA                                    0.0   \nARK Black Swan                                     0.0   \nARK Hug Me                                         0.0   \n\n맥주               Warsteiner Premium Verum  \n맥주                                         \nARK Be High IPA                  0.031667  \nARK Black Swan                   0.037998  \nARK Hug Me                       0.056842  \n\n[3 rows x 85 columns]",
      "text/html": "<div>\n<style scoped>\n    .dataframe tbody tr th:only-of-type {\n        vertical-align: middle;\n    }\n\n    .dataframe tbody tr th {\n        vertical-align: top;\n    }\n\n    .dataframe thead th {\n        text-align: right;\n    }\n</style>\n<table border=\"1\" class=\"dataframe\">\n  <thead>\n    <tr style=\"text-align: right;\">\n      <th>맥주</th>\n      <th>ARK Be High IPA</th>\n      <th>ARK Black Swan</th>\n      <th>ARK Hug Me</th>\n      <th>Amazing Shocking Stout</th>\n      <th>Asahi Super Dry</th>\n      <th>Asahi Super Dry Black</th>\n      <th>Ballast Point Sculpin IPA</th>\n      <th>Beck's</th>\n      <th>Berliner Kindl Jubiläums Pilsener Premium</th>\n      <th>Bintang Pilsener</th>\n      <th>...</th>\n      <th>Stephans Bräu Premium Pilsener</th>\n      <th>Suntory The Premium Malt's</th>\n      <th>The Hand and Malt Slow IPA</th>\n      <th>Tiger Beer</th>\n      <th>Tiger Radler Lemon</th>\n      <th>Tsingtao</th>\n      <th>Tsingtao Wheat Beer</th>\n      <th>Victoria Bitter</th>\n      <th>Volfas Engelman Grünberger Hefeweizen</th>\n      <th>Warsteiner Premium Verum</th>\n    </tr>\n    <tr>\n      <th>맥주</th>\n      <th></th>\n      <th></th>\n      <th></th>\n      <th></th>\n      <th></th>\n      <th></th>\n      <th></th>\n      <th></th>\n      <th></th>\n      <th></th>\n      <th></th>\n      <th></th>\n      <th></th>\n      <th></th>\n      <th></th>\n      <th></th>\n      <th></th>\n      <th></th>\n      <th></th>\n      <th></th>\n      <th></th>\n    </tr>\n  </thead>\n  <tbody>\n    <tr>\n      <th>ARK Be High IPA</th>\n      <td>1.000000</td>\n      <td>0.565494</td>\n      <td>0.640645</td>\n      <td>0.147848</td>\n      <td>0.066085</td>\n      <td>0.108746</td>\n      <td>0.076826</td>\n      <td>0.064768</td>\n      <td>0.059240</td>\n      <td>0.118815</td>\n      <td>...</td>\n      <td>0.013003</td>\n      <td>0.146517</td>\n      <td>0.249529</td>\n      <td>0.049537</td>\n      <td>0.240113</td>\n      <td>0.032552</td>\n      <td>0.218243</td>\n      <td>0.074534</td>\n      <td>0.0</td>\n      <td>0.031667</td>\n    </tr>\n    <tr>\n      <th>ARK Black Swan</th>\n      <td>0.565494</td>\n      <td>1.000000</td>\n      <td>0.331260</td>\n      <td>0.262579</td>\n      <td>0.065719</td>\n      <td>0.157048</td>\n      <td>0.079410</td>\n      <td>0.066557</td>\n      <td>0.056724</td>\n      <td>0.061086</td>\n      <td>...</td>\n      <td>0.014558</td>\n      <td>0.100280</td>\n      <td>0.277237</td>\n      <td>0.058194</td>\n      <td>0.184536</td>\n      <td>0.043192</td>\n      <td>0.191813</td>\n      <td>0.042416</td>\n      <td>0.0</td>\n      <td>0.037998</td>\n    </tr>\n    <tr>\n      <th>ARK Hug Me</th>\n      <td>0.640645</td>\n      <td>0.331260</td>\n      <td>1.000000</td>\n      <td>0.138757</td>\n      <td>0.076670</td>\n      <td>0.151207</td>\n      <td>0.064047</td>\n      <td>0.048824</td>\n      <td>0.037877</td>\n      <td>0.089515</td>\n      <td>...</td>\n      <td>0.011003</td>\n      <td>0.113863</td>\n      <td>0.149920</td>\n      <td>0.020373</td>\n      <td>0.257586</td>\n      <td>0.027855</td>\n      <td>0.118776</td>\n      <td>0.081444</td>\n      <td>0.0</td>\n      <td>0.056842</td>\n    </tr>\n  </tbody>\n</table>\n<p>3 rows × 85 columns</p>\n</div>"
     },
     "execution_count": 11,
     "metadata": {},
     "output_type": "execute_result"
    }
   ]
  },
  {
   "cell_type": "code",
   "source": [
    "ratings_matrix.columns"
   ],
   "metadata": {
    "id": "0t3vCGjRriUk",
    "outputId": "0708fa9c-50e6-447b-a95b-e49358510651",
    "colab": {
     "base_uri": "https://localhost:8080/"
    }
   },
   "execution_count": 12,
   "outputs": [
    {
     "data": {
      "text/plain": "Index(['ARK Be High IPA', 'ARK Black Swan', 'ARK Hug Me',\n       'Amazing Shocking Stout', 'Asahi Super Dry', 'Asahi Super Dry Black',\n       'Ballast Point Sculpin IPA', 'Beck's',\n       'Berliner Kindl Jubiläums Pilsener Premium', 'Bintang Pilsener',\n       'Blue Girl (5.0%)', 'Blue Moon Belgian White', 'Budweiser',\n       'Carlsberg Pilsner', 'Cass Fresh', 'Cass Lemon', 'Cass Light',\n       'Castlemaine XXXX Gold Lager', 'Desperados', 'Desperados Lime',\n       'Desperados Mojito', 'Desperados Red', 'Edelweiss Weissbier Snowfresh',\n       'Egger Märzenbier', 'Erdinger Weissbier', 'Erdinger Weissbier Dunkel',\n       'Franziskaner Hefe-Weissbier / Weissbier Naturtrub',\n       'Gambrinus Originál 10° (Desítka)', 'Goose Island 312 Urban Wheat Ale',\n       'Goose Island Goose IPA', 'Grimbergen Cuvée Blanche',\n       'Grolsch Premium Lager', 'Guinness Draught',\n       'Guinness Original 4.2% (Ireland/UK)', 'Harbin Beer', 'Heineken',\n       'Heineken Dark Lager', 'Heretic Evil Twin', 'Hite Extra Cold',\n       'Hite Prime Max', 'Hoegaarden', 'Hoegaarden Rosée', 'Hollandia',\n       'Holsten Premium Bier', 'Hop House 13 Lager', 'Jeju Wit Ale',\n       'Kirin Ichiban', 'Kloud Fitz Super Clear', 'Kloud Original Gravity',\n       'Kona Big Wave Golden Ale', 'Kozel Černý (Dark) 10°',\n       'Krombacher Weizen', 'Kronenbourg 1664 Blanc',\n       'Lagunitas India Pale Ale (IPA)', 'Lapin Kulta IV A',\n       'Löwenbräu Original (4.2%)', 'Miller Genuine Draft (MGD)',\n       'North Coast Old Rasputin Russian Imperial Stout', 'OB Golden Lager',\n       'OB Premier Pilsner', 'Paulaner Hefe-Weissbier',\n       'Peroni Nastro Azzurro', 'Pilsner Urquell',\n       'Préaris Citra Sauvignon Session Ale', 'Red Rock',\n       'Reeper B. Blondes Weissbier', 'Samuel Adams Irish Red Ale',\n       'San Miguel', 'Sapporo Yebisu',\n       'Schneider Weisse Tap 05 - Hopfenweisse Weizendoppelbock',\n       'Somersby Apple Cider', 'Somersby Pear Cider', 'Stella Artois',\n       'Stephans Bräu Hefe-Weizen Naturtrüb', 'Stephans Bräu Premium Lager',\n       'Stephans Bräu Premium Pilsener', 'Suntory The Premium Malt's',\n       'The Hand and Malt Slow IPA', 'Tiger Beer', 'Tiger Radler Lemon',\n       'Tsingtao', 'Tsingtao Wheat Beer', 'Victoria Bitter',\n       'Volfas Engelman Grünberger Hefeweizen', 'Warsteiner Premium Verum'],\n      dtype='object', name='맥주')"
     },
     "execution_count": 12,
     "metadata": {},
     "output_type": "execute_result"
    }
   ]
  },
  {
   "cell_type": "code",
   "source": [
    "# 코젤 맥주와 유사도가 높은 맥주 5개만 추출하기\n",
    "item_sim_df['Kozel Černý (Dark) 10°'].sort_values(ascending=False)[:5]"
   ],
   "metadata": {
    "colab": {
     "base_uri": "https://localhost:8080/"
    },
    "id": "pDr5aZZNpOdc",
    "outputId": "1be175e2-8183-40fe-f448-79c30b767e5b"
   },
   "execution_count": 17,
   "outputs": [
    {
     "data": {
      "text/plain": "맥주\nKozel Černý (Dark) 10°              1.000000\nGambrinus Originál 10° (Desítka)    0.525178\nPaulaner Hefe-Weissbier             0.498137\nKrombacher Weizen                   0.482808\nPeroni Nastro Azzurro               0.470567\nName: Kozel Černý (Dark) 10°, dtype: float64"
     },
     "execution_count": 17,
     "metadata": {},
     "output_type": "execute_result"
    }
   ]
  },
  {
   "cell_type": "code",
   "source": [
    "# 호가든 맥주와 유사도가 높은 맥주 5개만 추출하기\n",
    "item_sim_df['Hoegaarden'].sort_values(ascending=False)[:5]"
   ],
   "metadata": {
    "colab": {
     "base_uri": "https://localhost:8080/"
    },
    "id": "bJky8tqnpRA7",
    "outputId": "14912f43-0d98-473a-8d4c-94c3627d776c"
   },
   "execution_count": 14,
   "outputs": [
    {
     "data": {
      "text/plain": "맥주\nGuinness Draught    1.000000\nHoegaarden          0.806490\nPilsner Urquell     0.798197\nStella Artois       0.763984\nHeineken            0.696075\nName: Guinness Draught, dtype: float64"
     },
     "execution_count": 14,
     "metadata": {},
     "output_type": "execute_result"
    }
   ]
  },
  {
   "cell_type": "markdown",
   "source": [
    "개인화된 맥주 추천"
   ],
   "metadata": {
    "id": "udDa3NFYpSgc"
   }
  },
  {
   "cell_type": "code",
   "source": [
    "# ratings_arr.dot(item_sim_arr)는 평점 * 맥주 유사도\n",
    "# ratings_arr는 사용자 u의 아이템 i와 가장 유사도가 높은 Top_N개 아이템에 대한 실제 평점 벡터\n",
    "# item_sim_arr는 아이템 i와 가장 유사도가 높은 Top_N개 아이템의 유사도 벡터\n",
    "def predict_rating(ratings_arr, item_sim_arr):\n",
    "    ratings_pred = ratings_arr.dot(item_sim_arr) / np.array([np.abs(item_sim_arr).sum(axis=1)])\n",
    "    return ratings_pred\n",
    "\n",
    "# 개인화된 예측 평점 구하기\n",
    "# 평점 value와 유사도 value만 뽑아서 대입\n",
    "ratings_pred = predict_rating(ratings_matrix.values, item_sim_df.values)\n",
    "ratings_pred_matrix = pd.DataFrame(data=ratings_pred, index=ratings_matrix.index,\n",
    "                                  columns = ratings_matrix.columns)\n",
    "\n",
    "# 개인별로 계산된 예측 평점\n",
    "ratings_pred_matrix"
   ],
   "metadata": {
    "colab": {
     "base_uri": "https://localhost:8080/",
     "height": 586
    },
    "id": "taubNtHmpTjb",
    "outputId": "fe72a477-7bd4-4187-b158-700f50309bbf"
   },
   "execution_count": 18,
   "outputs": [
    {
     "data": {
      "text/plain": "맥주                  ARK Be High IPA  ARK Black Swan  ARK Hug Me  \\\n아이디                                                               \n007lund(92)                0.142545        0.176231    0.157959   \n00cobraR(1,103)            0.209848        0.252822    0.209273   \n0o9i(439)                  0.158681        0.198786    0.169981   \n1010(309)                  0.169199        0.201604    0.181283   \n12HundredBaud(262)         0.198802        0.253485    0.219097   \n...                             ...             ...         ...   \nzomba(192)                 0.191847        0.230431    0.188738   \nzombywoof(537)             0.238678        0.290854    0.254477   \nzvikar(12,403)             0.908148        1.307133    0.844710   \nzvsn(7,783)                0.190322        0.232349    0.166367   \nzvsn(7,795)                0.255855        0.277549    0.248955   \n\n맥주                  Amazing Shocking Stout  Asahi Super Dry  \\\n아이디                                                           \n007lund(92)                       0.155443         0.572987   \n00cobraR(1,103)                   0.246493         0.689496   \n0o9i(439)                         0.251206         0.555514   \n1010(309)                         0.204839         0.559396   \n12HundredBaud(262)                0.208292         0.692752   \n...                                    ...              ...   \nzomba(192)                        0.181150         0.601526   \nzombywoof(537)                    0.287354         0.808183   \nzvikar(12,403)                    0.907529         1.265683   \nzvsn(7,783)                       0.252047         0.492590   \nzvsn(7,795)                       0.239307         0.407918   \n\n맥주                  Asahi Super Dry Black  Ballast Point Sculpin IPA  \\\n아이디                                                                    \n007lund(92)                      0.308749                   0.627756   \n00cobraR(1,103)                  0.372706                   0.860851   \n0o9i(439)                        0.331343                   0.801749   \n1010(309)                        0.306278                   0.723009   \n12HundredBaud(262)               0.375341                   0.615313   \n...                                   ...                        ...   \nzomba(192)                       0.312474                   0.553202   \nzombywoof(537)                   0.460733                   0.981919   \nzvikar(12,403)                   1.237255                   1.407068   \nzvsn(7,783)                      0.315776                   0.602335   \nzvsn(7,795)                      0.286713                   0.411291   \n\n맥주                    Beck's  Berliner Kindl Jubiläums Pilsener Premium  \\\n아이디                                                                       \n007lund(92)         0.734217                                   0.421632   \n00cobraR(1,103)     0.867126                                   0.523924   \n0o9i(439)           0.681260                                   0.424414   \n1010(309)           0.717827                                   0.420399   \n12HundredBaud(262)  0.671082                                   0.528059   \n...                      ...                                        ...   \nzomba(192)          0.571211                                   0.445694   \nzombywoof(537)      0.991112                                   0.627150   \nzvikar(12,403)      1.379735                                   1.250566   \nzvsn(7,783)         0.522294                                   0.458500   \nzvsn(7,795)         0.426580                                   0.462633   \n\n맥주                  Bintang Pilsener  ...  Stephans Bräu Premium Pilsener  \\\n아이디                                   ...                                   \n007lund(92)                 0.448787  ...                        0.348965   \n00cobraR(1,103)             0.553536  ...                        0.390419   \n0o9i(439)                   0.408579  ...                        0.270459   \n1010(309)                   0.445245  ...                        0.259822   \n12HundredBaud(262)          0.529853  ...                        0.434425   \n...                              ...  ...                             ...   \nzomba(192)                  0.483333  ...                        0.367381   \nzombywoof(537)              0.642091  ...                        0.423503   \nzvikar(12,403)              1.274373  ...                        1.213729   \nzvsn(7,783)                 0.389140  ...                        0.232167   \nzvsn(7,795)                 0.518423  ...                        0.428203   \n\n맥주                  Suntory The Premium Malt's  The Hand and Malt Slow IPA  \\\n아이디                                                                          \n007lund(92)                           0.407153                    0.120126   \n00cobraR(1,103)                       0.497462                    0.185003   \n0o9i(439)                             0.405674                    0.193467   \n1010(309)                             0.394400                    0.163406   \n12HundredBaud(262)                    0.433500                    0.172135   \n...                                        ...                         ...   \nzomba(192)                            0.364765                    0.147617   \nzombywoof(537)                        0.569184                    0.234937   \nzvikar(12,403)                        1.168703                    0.769592   \nzvsn(7,783)                           0.326860                    0.215003   \nzvsn(7,795)                           0.336328                    0.180562   \n\n맥주                  Tiger Beer  Tiger Radler Lemon  Tsingtao  \\\n아이디                                                            \n007lund(92)           0.644577            0.183878  0.742025   \n00cobraR(1,103)       0.775651            0.233373  0.870910   \n0o9i(439)             0.618928            0.187409  0.668665   \n1010(309)             0.625444            0.186673  0.686469   \n12HundredBaud(262)    0.650011            0.242207  0.678973   \n...                        ...                 ...       ...   \nzomba(192)            0.542405            0.229552  0.575534   \nzombywoof(537)        0.896709            0.317656  0.964438   \nzvikar(12,403)        1.356517            0.969815  1.371376   \nzvsn(7,783)           0.454254            0.232928  0.471356   \nzvsn(7,795)           0.419795            0.267040  0.421751   \n\n맥주                  Tsingtao Wheat Beer  Victoria Bitter  \\\n아이디                                                        \n007lund(92)                    0.185599         0.512479   \n00cobraR(1,103)                0.260204         0.613191   \n0o9i(439)                      0.178496         0.473633   \n1010(309)                      0.226772         0.489364   \n12HundredBaud(262)             0.285658         0.570577   \n...                                 ...              ...   \nzomba(192)                     0.279144         0.504191   \nzombywoof(537)                 0.298152         0.714429   \nzvikar(12,403)                 0.995705         1.363053   \nzvsn(7,783)                    0.232792         0.386260   \nzvsn(7,795)                    0.469325         0.513198   \n\n맥주                  Volfas Engelman Grünberger Hefeweizen  \\\n아이디                                                         \n007lund(92)                                      0.273117   \n00cobraR(1,103)                                  0.321158   \n0o9i(439)                                        0.270450   \n1010(309)                                        0.263998   \n12HundredBaud(262)                               0.350053   \n...                                                   ...   \nzomba(192)                                       0.279034   \nzombywoof(537)                                   0.386736   \nzvikar(12,403)                                   1.099607   \nzvsn(7,783)                                      0.398307   \nzvsn(7,795)                                      0.370648   \n\n맥주                  Warsteiner Premium Verum  \n아이디                                           \n007lund(92)                         0.551818  \n00cobraR(1,103)                     0.670384  \n0o9i(439)                           0.543851  \n1010(309)                           0.559009  \n12HundredBaud(262)                  0.626016  \n...                                      ...  \nzomba(192)                          0.546504  \nzombywoof(537)                      0.791926  \nzvikar(12,403)                      1.233762  \nzvsn(7,783)                         0.630673  \nzvsn(7,795)                         0.421197  \n\n[2665 rows x 85 columns]",
      "text/html": "<div>\n<style scoped>\n    .dataframe tbody tr th:only-of-type {\n        vertical-align: middle;\n    }\n\n    .dataframe tbody tr th {\n        vertical-align: top;\n    }\n\n    .dataframe thead th {\n        text-align: right;\n    }\n</style>\n<table border=\"1\" class=\"dataframe\">\n  <thead>\n    <tr style=\"text-align: right;\">\n      <th>맥주</th>\n      <th>ARK Be High IPA</th>\n      <th>ARK Black Swan</th>\n      <th>ARK Hug Me</th>\n      <th>Amazing Shocking Stout</th>\n      <th>Asahi Super Dry</th>\n      <th>Asahi Super Dry Black</th>\n      <th>Ballast Point Sculpin IPA</th>\n      <th>Beck's</th>\n      <th>Berliner Kindl Jubiläums Pilsener Premium</th>\n      <th>Bintang Pilsener</th>\n      <th>...</th>\n      <th>Stephans Bräu Premium Pilsener</th>\n      <th>Suntory The Premium Malt's</th>\n      <th>The Hand and Malt Slow IPA</th>\n      <th>Tiger Beer</th>\n      <th>Tiger Radler Lemon</th>\n      <th>Tsingtao</th>\n      <th>Tsingtao Wheat Beer</th>\n      <th>Victoria Bitter</th>\n      <th>Volfas Engelman Grünberger Hefeweizen</th>\n      <th>Warsteiner Premium Verum</th>\n    </tr>\n    <tr>\n      <th>아이디</th>\n      <th></th>\n      <th></th>\n      <th></th>\n      <th></th>\n      <th></th>\n      <th></th>\n      <th></th>\n      <th></th>\n      <th></th>\n      <th></th>\n      <th></th>\n      <th></th>\n      <th></th>\n      <th></th>\n      <th></th>\n      <th></th>\n      <th></th>\n      <th></th>\n      <th></th>\n      <th></th>\n      <th></th>\n    </tr>\n  </thead>\n  <tbody>\n    <tr>\n      <th>007lund(92)</th>\n      <td>0.142545</td>\n      <td>0.176231</td>\n      <td>0.157959</td>\n      <td>0.155443</td>\n      <td>0.572987</td>\n      <td>0.308749</td>\n      <td>0.627756</td>\n      <td>0.734217</td>\n      <td>0.421632</td>\n      <td>0.448787</td>\n      <td>...</td>\n      <td>0.348965</td>\n      <td>0.407153</td>\n      <td>0.120126</td>\n      <td>0.644577</td>\n      <td>0.183878</td>\n      <td>0.742025</td>\n      <td>0.185599</td>\n      <td>0.512479</td>\n      <td>0.273117</td>\n      <td>0.551818</td>\n    </tr>\n    <tr>\n      <th>00cobraR(1,103)</th>\n      <td>0.209848</td>\n      <td>0.252822</td>\n      <td>0.209273</td>\n      <td>0.246493</td>\n      <td>0.689496</td>\n      <td>0.372706</td>\n      <td>0.860851</td>\n      <td>0.867126</td>\n      <td>0.523924</td>\n      <td>0.553536</td>\n      <td>...</td>\n      <td>0.390419</td>\n      <td>0.497462</td>\n      <td>0.185003</td>\n      <td>0.775651</td>\n      <td>0.233373</td>\n      <td>0.870910</td>\n      <td>0.260204</td>\n      <td>0.613191</td>\n      <td>0.321158</td>\n      <td>0.670384</td>\n    </tr>\n    <tr>\n      <th>0o9i(439)</th>\n      <td>0.158681</td>\n      <td>0.198786</td>\n      <td>0.169981</td>\n      <td>0.251206</td>\n      <td>0.555514</td>\n      <td>0.331343</td>\n      <td>0.801749</td>\n      <td>0.681260</td>\n      <td>0.424414</td>\n      <td>0.408579</td>\n      <td>...</td>\n      <td>0.270459</td>\n      <td>0.405674</td>\n      <td>0.193467</td>\n      <td>0.618928</td>\n      <td>0.187409</td>\n      <td>0.668665</td>\n      <td>0.178496</td>\n      <td>0.473633</td>\n      <td>0.270450</td>\n      <td>0.543851</td>\n    </tr>\n    <tr>\n      <th>1010(309)</th>\n      <td>0.169199</td>\n      <td>0.201604</td>\n      <td>0.181283</td>\n      <td>0.204839</td>\n      <td>0.559396</td>\n      <td>0.306278</td>\n      <td>0.723009</td>\n      <td>0.717827</td>\n      <td>0.420399</td>\n      <td>0.445245</td>\n      <td>...</td>\n      <td>0.259822</td>\n      <td>0.394400</td>\n      <td>0.163406</td>\n      <td>0.625444</td>\n      <td>0.186673</td>\n      <td>0.686469</td>\n      <td>0.226772</td>\n      <td>0.489364</td>\n      <td>0.263998</td>\n      <td>0.559009</td>\n    </tr>\n    <tr>\n      <th>12HundredBaud(262)</th>\n      <td>0.198802</td>\n      <td>0.253485</td>\n      <td>0.219097</td>\n      <td>0.208292</td>\n      <td>0.692752</td>\n      <td>0.375341</td>\n      <td>0.615313</td>\n      <td>0.671082</td>\n      <td>0.528059</td>\n      <td>0.529853</td>\n      <td>...</td>\n      <td>0.434425</td>\n      <td>0.433500</td>\n      <td>0.172135</td>\n      <td>0.650011</td>\n      <td>0.242207</td>\n      <td>0.678973</td>\n      <td>0.285658</td>\n      <td>0.570577</td>\n      <td>0.350053</td>\n      <td>0.626016</td>\n    </tr>\n    <tr>\n      <th>...</th>\n      <td>...</td>\n      <td>...</td>\n      <td>...</td>\n      <td>...</td>\n      <td>...</td>\n      <td>...</td>\n      <td>...</td>\n      <td>...</td>\n      <td>...</td>\n      <td>...</td>\n      <td>...</td>\n      <td>...</td>\n      <td>...</td>\n      <td>...</td>\n      <td>...</td>\n      <td>...</td>\n      <td>...</td>\n      <td>...</td>\n      <td>...</td>\n      <td>...</td>\n      <td>...</td>\n    </tr>\n    <tr>\n      <th>zomba(192)</th>\n      <td>0.191847</td>\n      <td>0.230431</td>\n      <td>0.188738</td>\n      <td>0.181150</td>\n      <td>0.601526</td>\n      <td>0.312474</td>\n      <td>0.553202</td>\n      <td>0.571211</td>\n      <td>0.445694</td>\n      <td>0.483333</td>\n      <td>...</td>\n      <td>0.367381</td>\n      <td>0.364765</td>\n      <td>0.147617</td>\n      <td>0.542405</td>\n      <td>0.229552</td>\n      <td>0.575534</td>\n      <td>0.279144</td>\n      <td>0.504191</td>\n      <td>0.279034</td>\n      <td>0.546504</td>\n    </tr>\n    <tr>\n      <th>zombywoof(537)</th>\n      <td>0.238678</td>\n      <td>0.290854</td>\n      <td>0.254477</td>\n      <td>0.287354</td>\n      <td>0.808183</td>\n      <td>0.460733</td>\n      <td>0.981919</td>\n      <td>0.991112</td>\n      <td>0.627150</td>\n      <td>0.642091</td>\n      <td>...</td>\n      <td>0.423503</td>\n      <td>0.569184</td>\n      <td>0.234937</td>\n      <td>0.896709</td>\n      <td>0.317656</td>\n      <td>0.964438</td>\n      <td>0.298152</td>\n      <td>0.714429</td>\n      <td>0.386736</td>\n      <td>0.791926</td>\n    </tr>\n    <tr>\n      <th>zvikar(12,403)</th>\n      <td>0.908148</td>\n      <td>1.307133</td>\n      <td>0.844710</td>\n      <td>0.907529</td>\n      <td>1.265683</td>\n      <td>1.237255</td>\n      <td>1.407068</td>\n      <td>1.379735</td>\n      <td>1.250566</td>\n      <td>1.274373</td>\n      <td>...</td>\n      <td>1.213729</td>\n      <td>1.168703</td>\n      <td>0.769592</td>\n      <td>1.356517</td>\n      <td>0.969815</td>\n      <td>1.371376</td>\n      <td>0.995705</td>\n      <td>1.363053</td>\n      <td>1.099607</td>\n      <td>1.233762</td>\n    </tr>\n    <tr>\n      <th>zvsn(7,783)</th>\n      <td>0.190322</td>\n      <td>0.232349</td>\n      <td>0.166367</td>\n      <td>0.252047</td>\n      <td>0.492590</td>\n      <td>0.315776</td>\n      <td>0.602335</td>\n      <td>0.522294</td>\n      <td>0.458500</td>\n      <td>0.389140</td>\n      <td>...</td>\n      <td>0.232167</td>\n      <td>0.326860</td>\n      <td>0.215003</td>\n      <td>0.454254</td>\n      <td>0.232928</td>\n      <td>0.471356</td>\n      <td>0.232792</td>\n      <td>0.386260</td>\n      <td>0.398307</td>\n      <td>0.630673</td>\n    </tr>\n    <tr>\n      <th>zvsn(7,795)</th>\n      <td>0.255855</td>\n      <td>0.277549</td>\n      <td>0.248955</td>\n      <td>0.239307</td>\n      <td>0.407918</td>\n      <td>0.286713</td>\n      <td>0.411291</td>\n      <td>0.426580</td>\n      <td>0.462633</td>\n      <td>0.518423</td>\n      <td>...</td>\n      <td>0.428203</td>\n      <td>0.336328</td>\n      <td>0.180562</td>\n      <td>0.419795</td>\n      <td>0.267040</td>\n      <td>0.421751</td>\n      <td>0.469325</td>\n      <td>0.513198</td>\n      <td>0.370648</td>\n      <td>0.421197</td>\n    </tr>\n  </tbody>\n</table>\n<p>2665 rows × 85 columns</p>\n</div>"
     },
     "execution_count": 18,
     "metadata": {},
     "output_type": "execute_result"
    }
   ]
  },
  {
   "cell_type": "code",
   "source": [
    "# 우리가 예측한 평점과 실제 평점간의 차이를 MSE로 계산\n",
    "def get_mse(pred, actual):\n",
    "    # 평점이 있는 실제 맥주만 추출\n",
    "    pred = pred[actual.nonzero()].flatten()\n",
    "    actual = actual[actual.nonzero()].flatten()\n",
    "    return mean_squared_error(pred, actual)\n",
    "\n",
    "print('아이템 기반 모든 최근접 이웃 MSE: ', \n",
    "      get_mse(ratings_pred, ratings_matrix.values))"
   ],
   "metadata": {
    "colab": {
     "base_uri": "https://localhost:8080/"
    },
    "id": "l-1QUFTvpXdj",
    "outputId": "784da7ca-67e3-4431-c4fa-98772639e750"
   },
   "execution_count": 19,
   "outputs": [
    {
     "name": "stdout",
     "output_type": "stream",
     "text": [
      "아이템 기반 모든 최근접 이웃 MSE:  3.4611927330873584\n"
     ]
    }
   ]
  },
  {
   "cell_type": "markdown",
   "source": [
    "TOP N에 기반한 추천"
   ],
   "metadata": {
    "id": "ZmadEa7apZPk"
   }
  },
  {
   "cell_type": "code",
   "source": [
    "# 3개의 col까지만. 3개의 맥주에 대해서 유사도가 큰 5개 선택\n",
    "top_n_items = [np.argsort(item_sim_df.values[:,3])[:-5:-1]]\n",
    "top_n_items\n",
    "\n",
    "\n",
    "# 따라서 가장 비슷한 유사도를 가지는 맥주만 유사도 벡터로 사용\n",
    "# 특정 맥주와 비슷한 유사도를 가지는 맥주 Top_N에 대해서만 적용 -> 시간오래걸림\n",
    "\n",
    "def predict_rating_topsim(ratings_arr, item_sim_arr, n=20):\n",
    "    # 사용자-아이템 평점 행렬 크기만큼 0으로 채운 예측 행렬 초기화\n",
    "    pred = np.zeros(ratings_arr.shape)\n",
    "\n",
    "    # 사용자-아이템 평점 행렬의 맥주 개수만큼 루프\n",
    "    for col in range(ratings_arr.shape[1]):\n",
    "        # 유사도 행렬에서 유사도가 큰 순으로 n개의 데이터 행렬의 인덱스 반환\n",
    "        top_n_items = [np.argsort(item_sim_arr[:, col])[:-n-1:-1]]\n",
    "        # 개인화된 예측 평점 계산 : 각 col 맥주별(1개), 2665명의 사용자들의 예측평점\n",
    "        for row in range(ratings_arr.shape[0]):\n",
    "            pred[row, col] = item_sim_arr[col,:][top_n_items].dot(\n",
    "            ratings_arr[row, :][top_n_items].T)\n",
    "            pred[row, col] /= np.sum(item_sim_arr[col,:][top_n_items])\n",
    "\n",
    "    return pred\n",
    "\n",
    "ratings_pred = predict_rating_topsim(ratings_matrix.values, item_sim_df.values, n=10)\n",
    "print('아이템 기반 최근접 TOP-N 이웃 MSE: ', \n",
    "      get_mse(ratings_pred, ratings_matrix.values))\n",
    "\n",
    "# 계산된 예측 평점 데이터는 DataFrame으로 재생성\n",
    "ratings_pred_matrix = pd.DataFrame(data=ratings_pred, index=ratings_matrix.index,\n",
    "                                  columns=ratings_matrix.columns)\n",
    "\n",
    "ratings_pred_matrix"
   ],
   "metadata": {
    "colab": {
     "base_uri": "https://localhost:8080/",
     "height": 604
    },
    "id": "a0uGvIh1pbkD",
    "outputId": "0cc7fa45-d875-49d5-c05e-7d118027b24a"
   },
   "execution_count": 20,
   "outputs": [
    {
     "name": "stdout",
     "output_type": "stream",
     "text": [
      "아이템 기반 최근접 TOP-N 이웃 MSE:  1.2581976119843084\n"
     ]
    },
    {
     "data": {
      "text/plain": "맥주                  ARK Be High IPA  ARK Black Swan  ARK Hug Me  \\\n아이디                                                               \n007lund(92)                0.000000        0.000000    0.000000   \n00cobraR(1,103)            0.000000        0.000000    0.000000   \n0o9i(439)                  0.000000        0.000000    0.000000   \n1010(309)                  0.000000        0.000000    0.000000   \n12HundredBaud(262)         0.000000        0.000000    0.000000   \n...                             ...             ...         ...   \nzomba(192)                 0.000000        0.000000    0.000000   \nzombywoof(537)             0.000000        0.000000    0.000000   \nzvikar(12,403)             0.488014        1.099362    0.564236   \nzvsn(7,783)                0.000000        0.000000    0.000000   \nzvsn(7,795)                0.000000        0.000000    0.000000   \n\n맥주                  Amazing Shocking Stout  Asahi Super Dry  \\\n아이디                                                           \n007lund(92)                        0.00000         0.571746   \n00cobraR(1,103)                    0.00000         0.515088   \n0o9i(439)                          0.00000         0.208714   \n1010(309)                          0.00000         0.305091   \n12HundredBaud(262)                 0.00000         0.993122   \n...                                    ...              ...   \nzomba(192)                         0.00000         0.840391   \nzombywoof(537)                     0.00000         0.536797   \nzvikar(12,403)                     0.41721         1.194681   \nzvsn(7,783)                        0.00000         0.575945   \nzvsn(7,795)                        0.00000         0.325950   \n\n맥주                  Asahi Super Dry Black  Ballast Point Sculpin IPA  \\\n아이디                                                                    \n007lund(92)                      0.000000                   0.286343   \n00cobraR(1,103)                  0.000000                   1.210706   \n0o9i(439)                        0.000000                   1.562980   \n1010(309)                        0.000000                   1.179761   \n12HundredBaud(262)               0.149026                   0.597123   \n...                                   ...                        ...   \nzomba(192)                       0.142546                   0.700381   \nzombywoof(537)                   0.000000                   1.206539   \nzvikar(12,403)                   1.340147                   1.858855   \nzvsn(7,783)                      0.000000                   1.682006   \nzvsn(7,795)                      0.000000                   0.293671   \n\n맥주                    Beck's  Berliner Kindl Jubiläums Pilsener Premium  \\\n아이디                                                                       \n007lund(92)         2.283593                                   0.215237   \n00cobraR(1,103)     1.971447                                   0.190402   \n0o9i(439)           1.745868                                   0.303977   \n1010(309)           1.688987                                   0.165567   \n12HundredBaud(262)  1.588337                                   0.602439   \n...                      ...                                        ...   \nzomba(192)          0.863289                                   0.287312   \nzombywoof(537)      2.199122                                   0.339072   \nzvikar(12,403)      1.788982                                   1.159779   \nzvsn(7,783)         0.613590                                   0.637155   \nzvsn(7,795)         0.326239                                   0.505986   \n\n맥주                  Bintang Pilsener  ...  Stephans Bräu Premium Pilsener  \\\n아이디                                   ...                                   \n007lund(92)                 0.168457  ...                        0.087655   \n00cobraR(1,103)             0.534842  ...                        0.039445   \n0o9i(439)                   0.210572  ...                        0.061358   \n1010(309)                   0.262381  ...                        0.000000   \n12HundredBaud(262)          0.466119  ...                        0.121528   \n...                              ...  ...                             ...   \nzomba(192)                  0.819864  ...                        0.230294   \nzombywoof(537)              0.168457  ...                        0.043827   \nzvikar(12,403)              1.719909  ...                        1.134744   \nzvsn(7,783)                 0.000000  ...                        0.000000   \nzvsn(7,795)                 1.203057  ...                        0.457156   \n\n맥주                  Suntory The Premium Malt's  The Hand and Malt Slow IPA  \\\n아이디                                                                          \n007lund(92)                           0.166721                    0.000000   \n00cobraR(1,103)                       0.140045                    0.000000   \n0o9i(439)                             0.000000                    0.000000   \n1010(309)                             0.000000                    0.000000   \n12HundredBaud(262)                    0.196578                    0.000000   \n...                                        ...                         ...   \nzomba(192)                            0.000000                    0.000000   \nzombywoof(537)                        0.190435                    0.000000   \nzvikar(12,403)                        1.246943                    0.408145   \nzvsn(7,783)                           0.000000                    0.000000   \nzvsn(7,795)                           0.000000                    0.000000   \n\n맥주                  Tiger Beer  Tiger Radler Lemon  Tsingtao  \\\n아이디                                                            \n007lund(92)           1.639074            0.000000  1.913351   \n00cobraR(1,103)       1.706969            0.000000  1.976798   \n0o9i(439)             1.008103            0.000000  1.124362   \n1010(309)             1.040584            0.000000  1.284559   \n12HundredBaud(262)    1.238231            0.000000  1.273028   \n...                        ...                 ...       ...   \nzomba(192)            0.809599            0.000000  0.843326   \nzombywoof(537)        1.859038            0.097973  2.060080   \nzvikar(12,403)        1.368511            0.834813  1.202172   \nzvsn(7,783)           0.171295            0.000000  0.174592   \nzvsn(7,795)           0.000000            0.130630  0.000000   \n\n맥주                  Tsingtao Wheat Beer  Victoria Bitter  \\\n아이디                                                        \n007lund(92)                    0.000000         0.799843   \n00cobraR(1,103)                0.000000         0.690410   \n0o9i(439)                      0.000000         0.214527   \n1010(309)                      0.000000         0.656904   \n12HundredBaud(262)             0.156711         0.547913   \n...                                 ...              ...   \nzomba(192)                     0.089549         0.988124   \nzombywoof(537)                 0.000000         0.967823   \nzvikar(12,403)                 0.644862         2.069225   \nzvsn(7,783)                    0.000000         0.152016   \nzvsn(7,795)                    0.338022         1.007012   \n\n맥주                  Volfas Engelman Grünberger Hefeweizen  \\\n아이디                                                         \n007lund(92)                                      0.000000   \n00cobraR(1,103)                                  0.000000   \n0o9i(439)                                        0.000000   \n1010(309)                                        0.000000   \n12HundredBaud(262)                               0.184478   \n...                                                   ...   \nzomba(192)                                       0.000000   \nzombywoof(537)                                   0.000000   \nzvikar(12,403)                                   0.578728   \nzvsn(7,783)                                      0.097665   \nzvsn(7,795)                                      0.000000   \n\n맥주                  Warsteiner Premium Verum  \n아이디                                           \n007lund(92)                         0.663836  \n00cobraR(1,103)                     1.001893  \n0o9i(439)                           0.803823  \n1010(309)                           0.968688  \n12HundredBaud(262)                  1.042716  \n...                                      ...  \nzomba(192)                          1.000811  \nzombywoof(537)                      0.983721  \nzvikar(12,403)                      1.202959  \nzvsn(7,783)                         1.979291  \nzvsn(7,795)                         0.287195  \n\n[2665 rows x 85 columns]",
      "text/html": "<div>\n<style scoped>\n    .dataframe tbody tr th:only-of-type {\n        vertical-align: middle;\n    }\n\n    .dataframe tbody tr th {\n        vertical-align: top;\n    }\n\n    .dataframe thead th {\n        text-align: right;\n    }\n</style>\n<table border=\"1\" class=\"dataframe\">\n  <thead>\n    <tr style=\"text-align: right;\">\n      <th>맥주</th>\n      <th>ARK Be High IPA</th>\n      <th>ARK Black Swan</th>\n      <th>ARK Hug Me</th>\n      <th>Amazing Shocking Stout</th>\n      <th>Asahi Super Dry</th>\n      <th>Asahi Super Dry Black</th>\n      <th>Ballast Point Sculpin IPA</th>\n      <th>Beck's</th>\n      <th>Berliner Kindl Jubiläums Pilsener Premium</th>\n      <th>Bintang Pilsener</th>\n      <th>...</th>\n      <th>Stephans Bräu Premium Pilsener</th>\n      <th>Suntory The Premium Malt's</th>\n      <th>The Hand and Malt Slow IPA</th>\n      <th>Tiger Beer</th>\n      <th>Tiger Radler Lemon</th>\n      <th>Tsingtao</th>\n      <th>Tsingtao Wheat Beer</th>\n      <th>Victoria Bitter</th>\n      <th>Volfas Engelman Grünberger Hefeweizen</th>\n      <th>Warsteiner Premium Verum</th>\n    </tr>\n    <tr>\n      <th>아이디</th>\n      <th></th>\n      <th></th>\n      <th></th>\n      <th></th>\n      <th></th>\n      <th></th>\n      <th></th>\n      <th></th>\n      <th></th>\n      <th></th>\n      <th></th>\n      <th></th>\n      <th></th>\n      <th></th>\n      <th></th>\n      <th></th>\n      <th></th>\n      <th></th>\n      <th></th>\n      <th></th>\n      <th></th>\n    </tr>\n  </thead>\n  <tbody>\n    <tr>\n      <th>007lund(92)</th>\n      <td>0.000000</td>\n      <td>0.000000</td>\n      <td>0.000000</td>\n      <td>0.00000</td>\n      <td>0.571746</td>\n      <td>0.000000</td>\n      <td>0.286343</td>\n      <td>2.283593</td>\n      <td>0.215237</td>\n      <td>0.168457</td>\n      <td>...</td>\n      <td>0.087655</td>\n      <td>0.166721</td>\n      <td>0.000000</td>\n      <td>1.639074</td>\n      <td>0.000000</td>\n      <td>1.913351</td>\n      <td>0.000000</td>\n      <td>0.799843</td>\n      <td>0.000000</td>\n      <td>0.663836</td>\n    </tr>\n    <tr>\n      <th>00cobraR(1,103)</th>\n      <td>0.000000</td>\n      <td>0.000000</td>\n      <td>0.000000</td>\n      <td>0.00000</td>\n      <td>0.515088</td>\n      <td>0.000000</td>\n      <td>1.210706</td>\n      <td>1.971447</td>\n      <td>0.190402</td>\n      <td>0.534842</td>\n      <td>...</td>\n      <td>0.039445</td>\n      <td>0.140045</td>\n      <td>0.000000</td>\n      <td>1.706969</td>\n      <td>0.000000</td>\n      <td>1.976798</td>\n      <td>0.000000</td>\n      <td>0.690410</td>\n      <td>0.000000</td>\n      <td>1.001893</td>\n    </tr>\n    <tr>\n      <th>0o9i(439)</th>\n      <td>0.000000</td>\n      <td>0.000000</td>\n      <td>0.000000</td>\n      <td>0.00000</td>\n      <td>0.208714</td>\n      <td>0.000000</td>\n      <td>1.562980</td>\n      <td>1.745868</td>\n      <td>0.303977</td>\n      <td>0.210572</td>\n      <td>...</td>\n      <td>0.061358</td>\n      <td>0.000000</td>\n      <td>0.000000</td>\n      <td>1.008103</td>\n      <td>0.000000</td>\n      <td>1.124362</td>\n      <td>0.000000</td>\n      <td>0.214527</td>\n      <td>0.000000</td>\n      <td>0.803823</td>\n    </tr>\n    <tr>\n      <th>1010(309)</th>\n      <td>0.000000</td>\n      <td>0.000000</td>\n      <td>0.000000</td>\n      <td>0.00000</td>\n      <td>0.305091</td>\n      <td>0.000000</td>\n      <td>1.179761</td>\n      <td>1.688987</td>\n      <td>0.165567</td>\n      <td>0.262381</td>\n      <td>...</td>\n      <td>0.000000</td>\n      <td>0.000000</td>\n      <td>0.000000</td>\n      <td>1.040584</td>\n      <td>0.000000</td>\n      <td>1.284559</td>\n      <td>0.000000</td>\n      <td>0.656904</td>\n      <td>0.000000</td>\n      <td>0.968688</td>\n    </tr>\n    <tr>\n      <th>12HundredBaud(262)</th>\n      <td>0.000000</td>\n      <td>0.000000</td>\n      <td>0.000000</td>\n      <td>0.00000</td>\n      <td>0.993122</td>\n      <td>0.149026</td>\n      <td>0.597123</td>\n      <td>1.588337</td>\n      <td>0.602439</td>\n      <td>0.466119</td>\n      <td>...</td>\n      <td>0.121528</td>\n      <td>0.196578</td>\n      <td>0.000000</td>\n      <td>1.238231</td>\n      <td>0.000000</td>\n      <td>1.273028</td>\n      <td>0.156711</td>\n      <td>0.547913</td>\n      <td>0.184478</td>\n      <td>1.042716</td>\n    </tr>\n    <tr>\n      <th>...</th>\n      <td>...</td>\n      <td>...</td>\n      <td>...</td>\n      <td>...</td>\n      <td>...</td>\n      <td>...</td>\n      <td>...</td>\n      <td>...</td>\n      <td>...</td>\n      <td>...</td>\n      <td>...</td>\n      <td>...</td>\n      <td>...</td>\n      <td>...</td>\n      <td>...</td>\n      <td>...</td>\n      <td>...</td>\n      <td>...</td>\n      <td>...</td>\n      <td>...</td>\n      <td>...</td>\n    </tr>\n    <tr>\n      <th>zomba(192)</th>\n      <td>0.000000</td>\n      <td>0.000000</td>\n      <td>0.000000</td>\n      <td>0.00000</td>\n      <td>0.840391</td>\n      <td>0.142546</td>\n      <td>0.700381</td>\n      <td>0.863289</td>\n      <td>0.287312</td>\n      <td>0.819864</td>\n      <td>...</td>\n      <td>0.230294</td>\n      <td>0.000000</td>\n      <td>0.000000</td>\n      <td>0.809599</td>\n      <td>0.000000</td>\n      <td>0.843326</td>\n      <td>0.089549</td>\n      <td>0.988124</td>\n      <td>0.000000</td>\n      <td>1.000811</td>\n    </tr>\n    <tr>\n      <th>zombywoof(537)</th>\n      <td>0.000000</td>\n      <td>0.000000</td>\n      <td>0.000000</td>\n      <td>0.00000</td>\n      <td>0.536797</td>\n      <td>0.000000</td>\n      <td>1.206539</td>\n      <td>2.199122</td>\n      <td>0.339072</td>\n      <td>0.168457</td>\n      <td>...</td>\n      <td>0.043827</td>\n      <td>0.190435</td>\n      <td>0.000000</td>\n      <td>1.859038</td>\n      <td>0.097973</td>\n      <td>2.060080</td>\n      <td>0.000000</td>\n      <td>0.967823</td>\n      <td>0.000000</td>\n      <td>0.983721</td>\n    </tr>\n    <tr>\n      <th>zvikar(12,403)</th>\n      <td>0.488014</td>\n      <td>1.099362</td>\n      <td>0.564236</td>\n      <td>0.41721</td>\n      <td>1.194681</td>\n      <td>1.340147</td>\n      <td>1.858855</td>\n      <td>1.788982</td>\n      <td>1.159779</td>\n      <td>1.719909</td>\n      <td>...</td>\n      <td>1.134744</td>\n      <td>1.246943</td>\n      <td>0.408145</td>\n      <td>1.368511</td>\n      <td>0.834813</td>\n      <td>1.202172</td>\n      <td>0.644862</td>\n      <td>2.069225</td>\n      <td>0.578728</td>\n      <td>1.202959</td>\n    </tr>\n    <tr>\n      <th>zvsn(7,783)</th>\n      <td>0.000000</td>\n      <td>0.000000</td>\n      <td>0.000000</td>\n      <td>0.00000</td>\n      <td>0.575945</td>\n      <td>0.000000</td>\n      <td>1.682006</td>\n      <td>0.613590</td>\n      <td>0.637155</td>\n      <td>0.000000</td>\n      <td>...</td>\n      <td>0.000000</td>\n      <td>0.000000</td>\n      <td>0.000000</td>\n      <td>0.171295</td>\n      <td>0.000000</td>\n      <td>0.174592</td>\n      <td>0.000000</td>\n      <td>0.152016</td>\n      <td>0.097665</td>\n      <td>1.979291</td>\n    </tr>\n    <tr>\n      <th>zvsn(7,795)</th>\n      <td>0.000000</td>\n      <td>0.000000</td>\n      <td>0.000000</td>\n      <td>0.00000</td>\n      <td>0.325950</td>\n      <td>0.000000</td>\n      <td>0.293671</td>\n      <td>0.326239</td>\n      <td>0.505986</td>\n      <td>1.203057</td>\n      <td>...</td>\n      <td>0.457156</td>\n      <td>0.000000</td>\n      <td>0.000000</td>\n      <td>0.000000</td>\n      <td>0.130630</td>\n      <td>0.000000</td>\n      <td>0.338022</td>\n      <td>1.007012</td>\n      <td>0.000000</td>\n      <td>0.287195</td>\n    </tr>\n  </tbody>\n</table>\n<p>2665 rows × 85 columns</p>\n</div>"
     },
     "execution_count": 20,
     "metadata": {},
     "output_type": "execute_result"
    }
   ]
  },
  {
   "cell_type": "markdown",
   "source": [
    "실제 사용자에게 추천하기"
   ],
   "metadata": {
    "id": "Kf7tUpi3pi2T"
   }
  },
  {
   "cell_type": "code",
   "source": [
    "username='007lund(92)'\n",
    "\n",
    "# 특정 유저 대상으로 맥주추천\n",
    "user_rating_id = ratings_matrix.loc[username, :]\n",
    "# 유저가 먹었던 맥주들 출력\n",
    "user_rating_id[user_rating_id > 0].sort_values(ascending=False)[:10]"
   ],
   "metadata": {
    "colab": {
     "base_uri": "https://localhost:8080/"
    },
    "id": "zovNOmtapj_r",
    "outputId": "58a4e33c-e09f-478f-e77e-7ef0d1561d1e"
   },
   "execution_count": 22,
   "outputs": [
    {
     "data": {
      "text/plain": "맥주\nGuinness Draught              3.7\nPaulaner Hefe-Weissbier       3.3\nPilsner Urquell               3.1\nBlue Moon Belgian White       3.0\nStella Artois                 2.9\nBeck's                        2.6\nTsingtao                      2.5\nBudweiser                     2.0\nHeineken                      2.0\nMiller Genuine Draft (MGD)    2.0\nName: 007lund(92), dtype: float64"
     },
     "execution_count": 22,
     "metadata": {},
     "output_type": "execute_result"
    }
   ]
  },
  {
   "cell_type": "code",
   "source": [
    "# 사용자가 안 먹어본 맥주를 추천하자.\n",
    "def get_not_tried_beer(ratings_matrix, userId):\n",
    "    # userId로 입력받은 사용자의 모든 맥주 정보를 추출해 Series로 반환\n",
    "    # 반환된 user_rating은 영화명(title)을 인덱스로 가지는 Series 객체\n",
    "    user_rating = ratings_matrix.loc[userId, :]\n",
    "\n",
    "    # user_rating이 0보다 크면 기존에 관란함 영화.\n",
    "    # 대상 인덱스를 추출해 list 객체로 만듦\n",
    "    tried = user_rating[user_rating>0].index.tolist()\n",
    "\n",
    "    # 모든 맥주명을 list 객체로 만듦\n",
    "    beer_list = ratings_matrix.columns.tolist()\n",
    "\n",
    "    # list comprehension으로 tried에 해당하는 영화는 beer_list에서 제외\n",
    "    not_tried = [beer for beer in beer_list if beer not in tried]\n",
    "\n",
    "    return not_tried\n",
    "\n",
    "# 예측 평점 DataFrame에서 사용자 id 인덱스와 not_tried로 들어온 맥주명 추출 후\n",
    "# 가장 예측 평점이 높은 순으로 정렬\n",
    "def recomm_beer_by_userid(pred_df, userId, not_tried, top_n):\n",
    "    recomm_beer = pred_df.loc[userId, not_tried].sort_values(ascending=False)[:top_n]\n",
    "    return recomm_beer\n",
    "\n",
    "# 유저가 먹지 않은 맥주이름 추출\n",
    "not_tried = get_not_tried_beer(ratings_matrix, username)\n",
    "not_tried"
   ],
   "metadata": {
    "colab": {
     "base_uri": "https://localhost:8080/"
    },
    "id": "1Fll9szBpoks",
    "outputId": "12c0ae8b-3e77-44f7-af72-2f9aaf6a9301"
   },
   "execution_count": 23,
   "outputs": [
    {
     "data": {
      "text/plain": "['ARK Be High IPA',\n 'ARK Black Swan',\n 'ARK Hug Me',\n 'Amazing Shocking Stout',\n 'Asahi Super Dry',\n 'Asahi Super Dry Black',\n 'Ballast Point Sculpin IPA',\n 'Berliner Kindl Jubiläums Pilsener Premium',\n 'Bintang Pilsener',\n 'Blue Girl (5.0%)',\n 'Cass Fresh',\n 'Cass Lemon',\n 'Cass Light',\n 'Castlemaine XXXX Gold Lager',\n 'Desperados',\n 'Desperados Lime',\n 'Desperados Mojito',\n 'Desperados Red',\n 'Edelweiss Weissbier Snowfresh',\n 'Egger Märzenbier',\n 'Erdinger Weissbier',\n 'Erdinger Weissbier Dunkel',\n 'Franziskaner Hefe-Weissbier / Weissbier Naturtrub',\n 'Gambrinus Originál 10° (Desítka)',\n 'Goose Island 312 Urban Wheat Ale',\n 'Goose Island Goose IPA',\n 'Grimbergen Cuvée Blanche',\n 'Grolsch Premium Lager',\n 'Guinness Original 4.2% (Ireland/UK)',\n 'Harbin Beer',\n 'Heineken Dark Lager',\n 'Heretic Evil Twin',\n 'Hite Extra Cold',\n 'Hite Prime Max',\n 'Hoegaarden',\n 'Hoegaarden Rosée',\n 'Hollandia',\n 'Holsten Premium Bier',\n 'Hop House 13 Lager',\n 'Jeju Wit Ale',\n 'Kirin Ichiban',\n 'Kloud Fitz Super Clear',\n 'Kloud Original Gravity',\n 'Kona Big Wave Golden Ale',\n 'Kozel Černý (Dark) 10°',\n 'Krombacher Weizen',\n 'Kronenbourg 1664 Blanc',\n 'Lagunitas India Pale Ale (IPA)',\n 'Lapin Kulta IV A',\n 'Löwenbräu Original (4.2%)',\n 'North Coast Old Rasputin Russian Imperial Stout',\n 'OB Golden Lager',\n 'OB Premier Pilsner',\n 'Peroni Nastro Azzurro',\n 'Préaris Citra Sauvignon Session Ale',\n 'Red Rock',\n 'Reeper B. Blondes Weissbier',\n 'Samuel Adams Irish Red Ale',\n 'San Miguel',\n 'Sapporo Yebisu',\n 'Schneider Weisse Tap 05 - Hopfenweisse Weizendoppelbock',\n 'Somersby Apple Cider',\n 'Somersby Pear Cider',\n 'Stephans Bräu Hefe-Weizen Naturtrüb',\n 'Stephans Bräu Premium Lager',\n 'Stephans Bräu Premium Pilsener',\n \"Suntory The Premium Malt's\",\n 'The Hand and Malt Slow IPA',\n 'Tiger Beer',\n 'Tiger Radler Lemon',\n 'Tsingtao Wheat Beer',\n 'Victoria Bitter',\n 'Volfas Engelman Grünberger Hefeweizen',\n 'Warsteiner Premium Verum']"
     },
     "execution_count": 23,
     "metadata": {},
     "output_type": "execute_result"
    }
   ]
  },
  {
   "cell_type": "code",
   "source": [
    "# 최종적으로 아이템 기반의 최근접 이웃 CF로 맥주 추천을 진행합니다.\n",
    "\n",
    "# top_n과 비슷한 맥주만 추천에 사용\n",
    "ratings_pred = predict_rating_topsim(ratings_matrix.values, item_sim_df.values, n=5)\n",
    "\n",
    "# 계산된 예측 평점 데이터는 DataFrame으로 재생성\n",
    "ratings_pred_matrix = pd.DataFrame(data=ratings_pred, index=ratings_matrix.index,\n",
    "                                   columns=ratings_matrix.columns)\n",
    "\n",
    "# 유저가 먹지 않은 맥주이름 추출\n",
    "not_tried = get_not_tried_beer(ratings_matrix, username)\n",
    "\n",
    "# 아이템 기반의 최근접 이웃 CF로 맥주 추천\n",
    "recomm_beer = recomm_beer_by_userid(ratings_pred_matrix, username, not_tried, top_n=3)\n",
    "recomm_beer = pd.DataFrame(data=recomm_beer.values, index=recomm_beer.index,\n",
    "                           columns=['예측평점'])\n",
    "recomm_beer"
   ],
   "metadata": {
    "colab": {
     "base_uri": "https://localhost:8080/",
     "height": 175
    },
    "id": "lET7BAsmprt0",
    "outputId": "7fbb3eaa-7cb6-401e-b0fa-4a2b0b2a3292",
    "pycharm": {
     "name": "#%%\n"
    }
   },
   "execution_count": 24,
   "outputs": [
    {
     "data": {
      "text/plain": "                           예측평점\n맥주                             \nHoegaarden             2.452493\nKirin Ichiban          1.468797\nPeroni Nastro Azzurro  1.246881",
      "text/html": "<div>\n<style scoped>\n    .dataframe tbody tr th:only-of-type {\n        vertical-align: middle;\n    }\n\n    .dataframe tbody tr th {\n        vertical-align: top;\n    }\n\n    .dataframe thead th {\n        text-align: right;\n    }\n</style>\n<table border=\"1\" class=\"dataframe\">\n  <thead>\n    <tr style=\"text-align: right;\">\n      <th></th>\n      <th>예측평점</th>\n    </tr>\n    <tr>\n      <th>맥주</th>\n      <th></th>\n    </tr>\n  </thead>\n  <tbody>\n    <tr>\n      <th>Hoegaarden</th>\n      <td>2.452493</td>\n    </tr>\n    <tr>\n      <th>Kirin Ichiban</th>\n      <td>1.468797</td>\n    </tr>\n    <tr>\n      <th>Peroni Nastro Azzurro</th>\n      <td>1.246881</td>\n    </tr>\n  </tbody>\n</table>\n</div>"
     },
     "execution_count": 24,
     "metadata": {},
     "output_type": "execute_result"
    }
   ]
  }
 ]
}