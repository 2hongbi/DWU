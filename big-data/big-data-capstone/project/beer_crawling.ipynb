{
 "cells": [
  {
   "cell_type": "code",
   "execution_count": 1,
   "metadata": {
    "collapsed": true
   },
   "outputs": [],
   "source": [
    "import pandas as pd\n",
    "import numpy as np\n",
    "import time\n",
    "\n",
    "import re\n",
    "\n",
    "from selenium import webdriver\n",
    "from selenium.webdriver.chrome.options import Options\n",
    "from selenium.webdriver.common.by import By"
   ]
  },
  {
   "cell_type": "code",
   "execution_count": 2,
   "outputs": [
    {
     "name": "stdout",
     "output_type": "stream",
     "text": [
      "Requirement already satisfied: selenium in /opt/homebrew/Caskroom/miniforge/base/envs/tensorflow-dev/lib/python3.8/site-packages (4.5.0)\r\n",
      "Requirement already satisfied: certifi>=2021.10.8 in /opt/homebrew/Caskroom/miniforge/base/envs/tensorflow-dev/lib/python3.8/site-packages (from selenium) (2022.9.24)\r\n",
      "Requirement already satisfied: urllib3[socks]~=1.26 in /opt/homebrew/Caskroom/miniforge/base/envs/tensorflow-dev/lib/python3.8/site-packages (from selenium) (1.26.11)\r\n",
      "Requirement already satisfied: trio~=0.17 in /opt/homebrew/Caskroom/miniforge/base/envs/tensorflow-dev/lib/python3.8/site-packages (from selenium) (0.22.0)\r\n",
      "Requirement already satisfied: trio-websocket~=0.9 in /opt/homebrew/Caskroom/miniforge/base/envs/tensorflow-dev/lib/python3.8/site-packages (from selenium) (0.9.2)\r\n",
      "Requirement already satisfied: sniffio in /opt/homebrew/Caskroom/miniforge/base/envs/tensorflow-dev/lib/python3.8/site-packages (from trio~=0.17->selenium) (1.3.0)\r\n",
      "Requirement already satisfied: idna in /opt/homebrew/Caskroom/miniforge/base/envs/tensorflow-dev/lib/python3.8/site-packages (from trio~=0.17->selenium) (3.3)\r\n",
      "Requirement already satisfied: sortedcontainers in /opt/homebrew/Caskroom/miniforge/base/envs/tensorflow-dev/lib/python3.8/site-packages (from trio~=0.17->selenium) (2.4.0)\r\n",
      "Requirement already satisfied: attrs>=19.2.0 in /opt/homebrew/Caskroom/miniforge/base/envs/tensorflow-dev/lib/python3.8/site-packages (from trio~=0.17->selenium) (21.4.0)\r\n",
      "Requirement already satisfied: exceptiongroup>=1.0.0rc9 in /opt/homebrew/Caskroom/miniforge/base/envs/tensorflow-dev/lib/python3.8/site-packages (from trio~=0.17->selenium) (1.0.0rc9)\r\n",
      "Requirement already satisfied: outcome in /opt/homebrew/Caskroom/miniforge/base/envs/tensorflow-dev/lib/python3.8/site-packages (from trio~=0.17->selenium) (1.2.0)\r\n",
      "Requirement already satisfied: async-generator>=1.9 in /opt/homebrew/Caskroom/miniforge/base/envs/tensorflow-dev/lib/python3.8/site-packages (from trio~=0.17->selenium) (1.10)\r\n",
      "Requirement already satisfied: wsproto>=0.14 in /opt/homebrew/Caskroom/miniforge/base/envs/tensorflow-dev/lib/python3.8/site-packages (from trio-websocket~=0.9->selenium) (1.2.0)\r\n",
      "Requirement already satisfied: PySocks!=1.5.7,<2.0,>=1.5.6 in /opt/homebrew/Caskroom/miniforge/base/envs/tensorflow-dev/lib/python3.8/site-packages (from urllib3[socks]~=1.26->selenium) (1.7.1)\r\n",
      "Requirement already satisfied: h11<1,>=0.9.0 in /opt/homebrew/Caskroom/miniforge/base/envs/tensorflow-dev/lib/python3.8/site-packages (from wsproto>=0.14->trio-websocket~=0.9->selenium) (0.14.0)\r\n",
      "Collecting chromedriver-autoinstaller\r\n",
      "  Using cached chromedriver_autoinstaller-0.4.0-py3-none-any.whl (6.5 kB)\r\n",
      "Installing collected packages: chromedriver-autoinstaller\r\n",
      "Successfully installed chromedriver-autoinstaller-0.4.0\r\n"
     ]
    }
   ],
   "source": [
    "!pip install selenium\n",
    "!pip install chromedriver-autoinstaller"
   ],
   "metadata": {
    "collapsed": false,
    "pycharm": {
     "name": "#%%\n"
    }
   }
  },
  {
   "cell_type": "code",
   "execution_count": 5,
   "outputs": [],
   "source": [
    "# 수집할 맥주 목록\n",
    "\n",
    "beer_list = ['kloud', 'fitz super clear', 'Asahi super dry', 'Tsingtao', 'Heineken',\n",
    " 'Kirin ichiban', 'Sapporo Premium Beer / Draft Beer', 'stella artois', 'guinness braught',\n",
    " '1664 Blanc', 'pilsner urquell', 'San Miguel', 'OB premier pilsner', 'cass fresh',\n",
    " 'stout', 'dry finish', 'max hite', 'hite extra cold', 'victoria bitter', 'BINTANG pilsner',\n",
    " 'krombacher weizen', 'Miller Genuine Draft', 'Hoegaarden Cherry', 'TIGER REDLER',\n",
    " \"Suntory The Premium Malt's\", 'REEPER B Weissbier', 'PEEPER B IPA', 'TIGER BEER',\n",
    " 'TSINGTAO WHEAT BEER', 'Erdinger Weissbier', 'Carlsberg', 'Budweiser ', 'Hoegarden',\n",
    " 'YEBISU', 'Paulaner Hefe-weissbier', 'Desperados', 'Peroni Nastro Azzurro',\n",
    " 'Edelweiss Snowfresh', 'Heineken Dark Lager', 'Kozel Dark 10', 'Guinness original',\n",
    " 'Filite', 'SEOULITE ALE', 'JEJU WIT ALE', 'Stephans Brau Philsner', 'Stephans Brau Larger',\n",
    " 'Stephans Bräu Hefe-Weizen Naturtrüb', 'Bali Hai Premium Larger', 'Apostel Brau',\n",
    " 'Egger Zwickl', 'Egger Marzenbier', 'Holsten Premium Beer', 'Franzisaner Hefe-Weissbier',\n",
    " 'Egger Radler Grapefruit', 'Barvaria Premium', 'Barvaria 8.6', 'Lapin Kulta IV A',\n",
    " 'Grolsch Premium Larger', 'Gambrinus Original', 'XXXX Gold', 'Leffe Brown',\n",
    " 'Lowenbrau Original', 'Asahi Super dray Black ', 'Harbin Beer', \"beck's\",\n",
    " 'Hoegaarden Rosee', 'Platinum White Ale', 'Platinum Pale Ale', 'Ambar Especial Larger',\n",
    " 'Schöfferhofer Grapefruit', 'Volfas Engelman Grünberger Hefeweizen', 'Berliner Kindl Pilsener ',\n",
    " 'BURGE MEESTER', 'Red Rock', 'Erdinger Dunkel', 'Warsteiner Premium Verum', \"Queen's Ale Blonde Type\",\n",
    "'OB Golden Lager', 'Magners Juicy Apple', 'Kabrew Namsan Mountain Premium Citra Ale', 'Kabrew Kumiho Relax Beer', 'Kabrew Kumiho India Pale Ale', 'Kabrew Kumiho Peach Ale', 'Kabrew Gyeongbokgung Royal Pride IPA', 'Kabrew Hoptandu IPA', 'Jeju Baengnokdam Ale', 'Jeju Pellong Ale', 'Jeju Seongsan Ilchulbong Ale', 'Jeju Barrel Series-Imperial Stout Edition - Highland Park', 'Jeju Coffee Golden Ale', 'Hollandia', 'Grimbergen Cuvée Blanche', 'Leffe Blonde / Blond', 'Hop House 13 Lager', 'Goose Island Goose IPA', 'Goose Island 312 Urban Wheat Ale', 'Happoshu Filgood', 'Cafri', 'Blue Girl', 'Apple Fox', 'Amazing Shocking Stout', 'Amazing First Love', 'ARK Be High IPA', 'ARK Hug Me', 'ARK Black Swan', 'ARK Cosmic Dancer', 'ARK Seoulite Ale', 'ARK Brown', 'ARK Classic', 'ARK Cony', 'ARK Yeosu Night Ale', 'Kabrew Golden Ale', 'Heretic Evil Twin',\n",
    "'North Coast Old Rasputin Russian Imperial Stout',\n",
    "'Schneider Weisse Tap 05 - Hopfenweisse Weizendoppelbock',\n",
    "'Ballast Point Sculpin IPA',\n",
    "'Préaris Citra Sauvignon Session Ale',\n",
    "'Samuel Adams Irish Red Ale',\n",
    "'7Bräu Gompyo Wheatbeer',\n",
    "'Paulaner Hefe-Weissbier',\n",
    "'Goose Island Duck Duck Goose',\n",
    "'Lagunitas India Pale Ale (IPA)',\n",
    "'Blue Moon Belgian White',\n",
    "'Kona Big Wave Golden Ale',\n",
    "'Desperados',\n",
    "'Desperados Red',\n",
    "'Desperados Mojito',\n",
    "'Desperados Lime',\n",
    "'Edelweiss Cherry & Lavender',\n",
    "'Somersby Apple Cider',\n",
    "'Somersby Pear Cider', '7Bräu Gompyo Wheatbeer', 'Squeeze Malpyo Dark Beer', 'Squeeze Malpyo Green Grape Ale',\n",
    "'7Bräu Korea Pale Ale', 'ARK Be High IPA', 'ARK Hug Me', 'ARK Black Swan', 'The Hand and Malt Slow IPA',\n",
    "'HiteJinro Filite Fresh Cool & Clear', 'Cass Light', 'Kabrew Gyeongbokgung Royal Pride IPA',\n",
    "'Kabrew Kumiho India Pale Ale', 'Kabrew Namsan Mountain Premium Citra Ale', 'Kabrew Kumiho Peach Ale',\n",
    "'Cass Lemon']\n",
    "\n",
    "\n",
    " # 데이터프레임으로 저장\n",
    "beer_list = pd.DataFrame(data=beer_list, columns=['검색이름'])"
   ],
   "metadata": {
    "collapsed": false,
    "pycharm": {
     "name": "#%%\n"
    }
   }
  },
  {
   "cell_type": "code",
   "execution_count": 6,
   "outputs": [],
   "source": [
    "beer_list = pd.DataFrame(data=['guinness draught', 'guinness original', 'hoegarden', 'pilsner urquell', 'stella artois',\n",
    "                               'weissbier naturtrub'], columns=['검색이름'])"
   ],
   "metadata": {
    "collapsed": false,
    "pycharm": {
     "name": "#%%\n"
    }
   }
  },
  {
   "cell_type": "code",
   "execution_count": 7,
   "outputs": [
    {
     "data": {
      "text/plain": "                  검색이름\n0     guinness draught\n1    guinness original\n2            hoegarden\n3      pilsner urquell\n4        stella artois\n5  weissbier naturtrub",
      "text/html": "<div>\n<style scoped>\n    .dataframe tbody tr th:only-of-type {\n        vertical-align: middle;\n    }\n\n    .dataframe tbody tr th {\n        vertical-align: top;\n    }\n\n    .dataframe thead th {\n        text-align: right;\n    }\n</style>\n<table border=\"1\" class=\"dataframe\">\n  <thead>\n    <tr style=\"text-align: right;\">\n      <th></th>\n      <th>검색이름</th>\n    </tr>\n  </thead>\n  <tbody>\n    <tr>\n      <th>0</th>\n      <td>guinness draught</td>\n    </tr>\n    <tr>\n      <th>1</th>\n      <td>guinness original</td>\n    </tr>\n    <tr>\n      <th>2</th>\n      <td>hoegarden</td>\n    </tr>\n    <tr>\n      <th>3</th>\n      <td>pilsner urquell</td>\n    </tr>\n    <tr>\n      <th>4</th>\n      <td>stella artois</td>\n    </tr>\n    <tr>\n      <th>5</th>\n      <td>weissbier naturtrub</td>\n    </tr>\n  </tbody>\n</table>\n</div>"
     },
     "execution_count": 7,
     "metadata": {},
     "output_type": "execute_result"
    }
   ],
   "source": [
    "beer_list"
   ],
   "metadata": {
    "collapsed": false,
    "pycharm": {
     "name": "#%%\n"
    }
   }
  },
  {
   "cell_type": "code",
   "execution_count": 8,
   "outputs": [
    {
     "data": {
      "text/plain": "'/opt/homebrew/Caskroom/miniforge/base/envs/tensorflow-dev/lib/python3.8/site-packages/chromedriver_autoinstaller/106/chromedriver'"
     },
     "execution_count": 8,
     "metadata": {},
     "output_type": "execute_result"
    }
   ],
   "source": [
    "import chromedriver_autoinstaller\n",
    "\n",
    "# 크롬 드라이버 install\n",
    "chromedriver_autoinstaller.install()"
   ],
   "metadata": {
    "collapsed": false,
    "pycharm": {
     "name": "#%%\n"
    }
   }
  },
  {
   "cell_type": "code",
   "execution_count": 6,
   "outputs": [],
   "source": [
    "data = pd.DataFrame(data=[], columns=['맥주정보', '검색이름', '맥주이름'])\n",
    "\n",
    "# 크롤링 할 경로 설정\n",
    "url = 'https://www.ratebeer.com/search?tab=beer'\n",
    "# 셀레니움으로 웹브라우저를 오픈합니다.\n",
    "\n",
    "driver = webdriver.Chrome()\n",
    "driver.get(url)\n",
    "driver.set_window_size(900, 900)\n",
    "time.sleep(1)"
   ],
   "metadata": {
    "collapsed": false,
    "pycharm": {
     "name": "#%%\n"
    }
   }
  },
  {
   "cell_type": "markdown",
   "source": [
    "맥주 회사\n",
    "맥주 이름\n",
    "원산지\n",
    "맥주 종류\n",
    "도수\n",
    "쓴맛\n",
    "평점\n",
    "리뷰 수\n",
    "맥주 향\n",
    "맥주 칼로리\n",
    "맥주 설명\n",
    "맥주 사진"
   ],
   "metadata": {
    "collapsed": false
   }
  },
  {
   "cell_type": "markdown",
   "source": [
    "### 테스트 코드"
   ],
   "metadata": {
    "collapsed": false
   }
  },
  {
   "cell_type": "code",
   "execution_count": 8,
   "outputs": [
    {
     "ename": "NoSuchWindowException",
     "evalue": "Message: no such window: target window already closed\nfrom unknown error: web view not found\n  (Session info: chrome=106.0.5249.91)\nStacktrace:\n0   chromedriver                        0x0000000102addc08 chromedriver + 4402184\n1   chromedriver                        0x0000000102a651f3 chromedriver + 3908083\n2   chromedriver                        0x0000000102712e6a chromedriver + 425578\n3   chromedriver                        0x00000001026f27b3 chromedriver + 292787\n4   chromedriver                        0x000000010276cb8d chromedriver + 793485\n5   chromedriver                        0x000000010277f573 chromedriver + 869747\n6   chromedriver                        0x0000000102768bd3 chromedriver + 777171\n7   chromedriver                        0x000000010273dced chromedriver + 601325\n8   chromedriver                        0x000000010273ee51 chromedriver + 605777\n9   chromedriver                        0x0000000102aad73e chromedriver + 4204350\n10  chromedriver                        0x0000000102ab1e07 chromedriver + 4222471\n11  chromedriver                        0x0000000102ab90bf chromedriver + 4251839\n12  chromedriver                        0x0000000102ab2b4a chromedriver + 4225866\n13  chromedriver                        0x0000000102a8b8af chromedriver + 4065455\n14  chromedriver                        0x0000000102acfd18 chromedriver + 4345112\n15  chromedriver                        0x0000000102acfe86 chromedriver + 4345478\n16  chromedriver                        0x0000000102ae4f6e chromedriver + 4431726\n17  libsystem_pthread.dylib             0x00007ff80bbe54e1 _pthread_start + 125\n18  libsystem_pthread.dylib             0x00007ff80bbe0f6b thread_start + 15\n",
     "output_type": "error",
     "traceback": [
      "\u001B[0;31m---------------------------------------------------------------------------\u001B[0m",
      "\u001B[0;31mNoSuchWindowException\u001B[0m                     Traceback (most recent call last)",
      "\u001B[0;32m/var/folders/_p/x_57820s1b15kl1dk8sw72kc0000gn/T/ipykernel_1785/1522138702.py\u001B[0m in \u001B[0;36m<module>\u001B[0;34m\u001B[0m\n\u001B[1;32m     10\u001B[0m \u001B[0;31m# 맥주 회사\u001B[0m\u001B[0;34m\u001B[0m\u001B[0;34m\u001B[0m\u001B[0m\n\u001B[1;32m     11\u001B[0m \u001B[0mtime\u001B[0m\u001B[0;34m.\u001B[0m\u001B[0msleep\u001B[0m\u001B[0;34m(\u001B[0m\u001B[0;36m2\u001B[0m\u001B[0;34m)\u001B[0m\u001B[0;34m\u001B[0m\u001B[0;34m\u001B[0m\u001B[0m\n\u001B[0;32m---> 12\u001B[0;31m \u001B[0mcompany\u001B[0m \u001B[0;34m=\u001B[0m \u001B[0mdriver\u001B[0m\u001B[0;34m.\u001B[0m\u001B[0mfind_element\u001B[0m\u001B[0;34m(\u001B[0m\u001B[0mBy\u001B[0m\u001B[0;34m.\u001B[0m\u001B[0mCSS_SELECTOR\u001B[0m\u001B[0;34m,\u001B[0m \u001B[0;34m'.MuiTypography-root.Text___StyledTypographyTypeless-bukSfn.pzIrn.colorized__WrappedComponent-hrwcZr.liJcHu.Anchor___StyledText-uWnSM.eseQug.MuiTypography-subtitle1'\u001B[0m\u001B[0;34m)\u001B[0m\u001B[0;34m.\u001B[0m\u001B[0mtext\u001B[0m\u001B[0;34m\u001B[0m\u001B[0;34m\u001B[0m\u001B[0m\n\u001B[0m\u001B[1;32m     13\u001B[0m \u001B[0mprint\u001B[0m\u001B[0;34m(\u001B[0m\u001B[0mcompany\u001B[0m\u001B[0;34m)\u001B[0m\u001B[0;34m\u001B[0m\u001B[0;34m\u001B[0m\u001B[0m\n\u001B[1;32m     14\u001B[0m \u001B[0;34m\u001B[0m\u001B[0m\n",
      "\u001B[0;32m/opt/homebrew/Caskroom/miniforge/base/envs/pandas_info/lib/python3.10/site-packages/selenium/webdriver/remote/webdriver.py\u001B[0m in \u001B[0;36mfind_element\u001B[0;34m(self, by, value)\u001B[0m\n\u001B[1;32m    854\u001B[0m             \u001B[0mvalue\u001B[0m \u001B[0;34m=\u001B[0m \u001B[0;34m'[name=\"%s\"]'\u001B[0m \u001B[0;34m%\u001B[0m \u001B[0mvalue\u001B[0m\u001B[0;34m\u001B[0m\u001B[0;34m\u001B[0m\u001B[0m\n\u001B[1;32m    855\u001B[0m \u001B[0;34m\u001B[0m\u001B[0m\n\u001B[0;32m--> 856\u001B[0;31m         return self.execute(Command.FIND_ELEMENT, {\n\u001B[0m\u001B[1;32m    857\u001B[0m             \u001B[0;34m'using'\u001B[0m\u001B[0;34m:\u001B[0m \u001B[0mby\u001B[0m\u001B[0;34m,\u001B[0m\u001B[0;34m\u001B[0m\u001B[0;34m\u001B[0m\u001B[0m\n\u001B[1;32m    858\u001B[0m             'value': value})['value']\n",
      "\u001B[0;32m/opt/homebrew/Caskroom/miniforge/base/envs/pandas_info/lib/python3.10/site-packages/selenium/webdriver/remote/webdriver.py\u001B[0m in \u001B[0;36mexecute\u001B[0;34m(self, driver_command, params)\u001B[0m\n\u001B[1;32m    427\u001B[0m         \u001B[0mresponse\u001B[0m \u001B[0;34m=\u001B[0m \u001B[0mself\u001B[0m\u001B[0;34m.\u001B[0m\u001B[0mcommand_executor\u001B[0m\u001B[0;34m.\u001B[0m\u001B[0mexecute\u001B[0m\u001B[0;34m(\u001B[0m\u001B[0mdriver_command\u001B[0m\u001B[0;34m,\u001B[0m \u001B[0mparams\u001B[0m\u001B[0;34m)\u001B[0m\u001B[0;34m\u001B[0m\u001B[0;34m\u001B[0m\u001B[0m\n\u001B[1;32m    428\u001B[0m         \u001B[0;32mif\u001B[0m \u001B[0mresponse\u001B[0m\u001B[0;34m:\u001B[0m\u001B[0;34m\u001B[0m\u001B[0;34m\u001B[0m\u001B[0m\n\u001B[0;32m--> 429\u001B[0;31m             \u001B[0mself\u001B[0m\u001B[0;34m.\u001B[0m\u001B[0merror_handler\u001B[0m\u001B[0;34m.\u001B[0m\u001B[0mcheck_response\u001B[0m\u001B[0;34m(\u001B[0m\u001B[0mresponse\u001B[0m\u001B[0;34m)\u001B[0m\u001B[0;34m\u001B[0m\u001B[0;34m\u001B[0m\u001B[0m\n\u001B[0m\u001B[1;32m    430\u001B[0m             response['value'] = self._unwrap_value(\n\u001B[1;32m    431\u001B[0m                 response.get('value', None))\n",
      "\u001B[0;32m/opt/homebrew/Caskroom/miniforge/base/envs/pandas_info/lib/python3.10/site-packages/selenium/webdriver/remote/errorhandler.py\u001B[0m in \u001B[0;36mcheck_response\u001B[0;34m(self, response)\u001B[0m\n\u001B[1;32m    241\u001B[0m                 \u001B[0malert_text\u001B[0m \u001B[0;34m=\u001B[0m \u001B[0mvalue\u001B[0m\u001B[0;34m[\u001B[0m\u001B[0;34m'alert'\u001B[0m\u001B[0;34m]\u001B[0m\u001B[0;34m.\u001B[0m\u001B[0mget\u001B[0m\u001B[0;34m(\u001B[0m\u001B[0;34m'text'\u001B[0m\u001B[0;34m)\u001B[0m\u001B[0;34m\u001B[0m\u001B[0;34m\u001B[0m\u001B[0m\n\u001B[1;32m    242\u001B[0m             \u001B[0;32mraise\u001B[0m \u001B[0mexception_class\u001B[0m\u001B[0;34m(\u001B[0m\u001B[0mmessage\u001B[0m\u001B[0;34m,\u001B[0m \u001B[0mscreen\u001B[0m\u001B[0;34m,\u001B[0m \u001B[0mstacktrace\u001B[0m\u001B[0;34m,\u001B[0m \u001B[0malert_text\u001B[0m\u001B[0;34m)\u001B[0m  \u001B[0;31m# type: ignore[call-arg]  # mypy is not smart enough here\u001B[0m\u001B[0;34m\u001B[0m\u001B[0;34m\u001B[0m\u001B[0m\n\u001B[0;32m--> 243\u001B[0;31m         \u001B[0;32mraise\u001B[0m \u001B[0mexception_class\u001B[0m\u001B[0;34m(\u001B[0m\u001B[0mmessage\u001B[0m\u001B[0;34m,\u001B[0m \u001B[0mscreen\u001B[0m\u001B[0;34m,\u001B[0m \u001B[0mstacktrace\u001B[0m\u001B[0;34m)\u001B[0m\u001B[0;34m\u001B[0m\u001B[0;34m\u001B[0m\u001B[0m\n\u001B[0m",
      "\u001B[0;31mNoSuchWindowException\u001B[0m: Message: no such window: target window already closed\nfrom unknown error: web view not found\n  (Session info: chrome=106.0.5249.91)\nStacktrace:\n0   chromedriver                        0x0000000102addc08 chromedriver + 4402184\n1   chromedriver                        0x0000000102a651f3 chromedriver + 3908083\n2   chromedriver                        0x0000000102712e6a chromedriver + 425578\n3   chromedriver                        0x00000001026f27b3 chromedriver + 292787\n4   chromedriver                        0x000000010276cb8d chromedriver + 793485\n5   chromedriver                        0x000000010277f573 chromedriver + 869747\n6   chromedriver                        0x0000000102768bd3 chromedriver + 777171\n7   chromedriver                        0x000000010273dced chromedriver + 601325\n8   chromedriver                        0x000000010273ee51 chromedriver + 605777\n9   chromedriver                        0x0000000102aad73e chromedriver + 4204350\n10  chromedriver                        0x0000000102ab1e07 chromedriver + 4222471\n11  chromedriver                        0x0000000102ab90bf chromedriver + 4251839\n12  chromedriver                        0x0000000102ab2b4a chromedriver + 4225866\n13  chromedriver                        0x0000000102a8b8af chromedriver + 4065455\n14  chromedriver                        0x0000000102acfd18 chromedriver + 4345112\n15  chromedriver                        0x0000000102acfe86 chromedriver + 4345478\n16  chromedriver                        0x0000000102ae4f6e chromedriver + 4431726\n17  libsystem_pthread.dylib             0x00007ff80bbe54e1 _pthread_start + 125\n18  libsystem_pthread.dylib             0x00007ff80bbe0f6b thread_start + 15\n"
     ]
    }
   ],
   "source": [
    "from selenium.webdriver.support import expected_conditions as EC\n",
    "\n",
    "test_url = 'https://www.ratebeer.com/beer/kabrew-golden-ale/555869/'\n",
    "\n",
    "driver = webdriver.Chrome()\n",
    "driver.get(test_url)\n",
    "driver.implicitly_wait(10)\n",
    "driver.set_window_size(900, 900)\n",
    "\n",
    "# 맥주 회사\n",
    "time.sleep(2)\n",
    "company = driver.find_element(By.CSS_SELECTOR, '.MuiTypography-root.Text___StyledTypographyTypeless-bukSfn.pzIrn.colorized__WrappedComponent-hrwcZr.liJcHu.Anchor___StyledText-uWnSM.eseQug.MuiTypography-subtitle1').text\n",
    "print(company)\n",
    "\n",
    "# 원산지\n",
    "time.sleep(2)\n",
    "origin = driver.find_element(By.XPATH, '//*[@id=\"root\"]/div[2]/div[2]/div/div/div/div[2]/div[1]/div/div[2]/div[1]/div/div[2]/div[3]/div[1]').text\n",
    "print(origin)\n",
    "\n",
    "# 맥주 종류\n",
    "time.sleep(2)\n",
    "beer_type = driver.find_element(By.CSS_SELECTOR, '.MuiTypography-root.Text___StyledTypographyTypeless-bukSfn.kbrPIo.colorized__WrappedComponent-hrwcZr.liJcHu.Anchor___StyledText-uWnSM.eseQug.MuiTypography-caption').text\n",
    "print(beer_type)\n",
    "\n",
    "# 도수\n",
    "time.sleep(2)\n",
    "dosu = driver.find_element(By.XPATH, '//*[@id=\"root\"]/div[2]/div[2]/div/div/div/div[2]/div[1]/div/div[2]/div[1]/div/div[2]/div[3]/div[2]/div[2]').text\n",
    "print(dosu)\n",
    "\n",
    "# ibu\n",
    "time.sleep(2)\n",
    "ibu = driver.find_element(By.XPATH, '//*[@id=\"root\"]/div[2]/div[2]/div/div/div/div[2]/div[1]/div/div[2]/div[1]/div/div[2]/div[3]/div[2]/div[4]').text\n",
    "print(ibu)\n",
    "\n",
    "# 평점\n",
    "time.sleep(2)\n",
    "rating = driver.find_element(By.CSS_SELECTOR, '.MuiTypography-root.Text___StyledTypographyTypeless-bukSfn.pzIrn.text-500.colorized__WrappedComponent-hrwcZr.hwjOn.mr-2.MuiTypography-body2').text\n",
    "print(rating)\n",
    "\n",
    "# 설명\n",
    "time.sleep(2)\n",
    "desc = driver.find_element(By.CSS_SELECTOR, '.MuiTypography-root.Text___StyledTypographyTypeless-bukSfn.pzIrn.colorized__WrappedComponent-hrwcZr.hwjOn.pre-wrap.MuiTypography-body2').text\n",
    "print(desc)\n",
    "\n",
    "# show more click\n",
    "driver.find_element(By.XPATH, '//*[@id=\"root\"]/div[2]/div[2]/div/div/div/div[2]/div[1]/div/div[4]/button/span[1]').click()\n",
    "\n",
    "# 칼로리\n",
    "time.sleep(3)\n",
    "kcal = driver.find_element(By.XPATH, '//*[@id=\"root\"]/div[2]/div[2]/div/div/div/div[2]/div[1]/div/div[3]/div/div/div/div/div[1]/div[2]/div[2]').text\n",
    "print(kcal)"
   ],
   "metadata": {
    "collapsed": false,
    "pycharm": {
     "name": "#%%\n"
    }
   }
  },
  {
   "cell_type": "code",
   "execution_count": 9,
   "outputs": [],
   "source": [
    "def crawl(beer):\n",
    "    # 데이터 프레임 생성\n",
    "    data = pd.DataFrame(data=[], columns=['맥주정보', '검색이름', '맥주이름'])\n",
    "\n",
    "    # url open\n",
    "    print('url_open... {0} 맥주 데이터를 수집합니다..'.format(beer))\n",
    "    driver = webdriver.Chrome()\n",
    "    driver.get(url)\n",
    "    driver.set_window_size(900, 900)\n",
    "\n",
    "    # 1번 사진에 해당 : 맥주 검색\n",
    "    time.sleep(2)\n",
    "    element = driver.find_element(By.XPATH, '//*[@id=\"root\"]/div[2]/header/div[2]/div[1]/div[2]/div/div/input')\n",
    "    time.sleep(2)\n",
    "    element.click()\n",
    "    time.sleep(2)\n",
    "    element.send_keys(beer)\n",
    "    time.sleep(3)\n",
    "\n",
    "    # 2번 사진에 해당 : 상품 선택\n",
    "    driver.find_element(By.XPATH, '//*[@id=\"root\"]/div[2]/header/div[2]/div[1]/div[2]/div/div[2]/a[1]/div/div[2]').click()\n",
    "\n",
    "    # 3번 사진에 해당 : 상품 이름 수집\n",
    "    time.sleep(3)\n",
    "    beer_name = driver.find_element(By.CSS_SELECTOR, '.MuiTypography-root.Text___StyledTypographyTypeless-bukSfn.pzIrn.text-500.colorized__WrappedComponent-hrwcZr.hwjOn.mt-3.MuiTypography-h4').text\n",
    "\n",
    "    print(beer_name)\n",
    "\n",
    "    test_url = 'https://www.ratebeer.com/beer/kabrew-golden-ale/555869/'\n",
    "\n",
    "    driver = webdriver.Chrome()\n",
    "    driver.get(test_url)\n",
    "    driver.implicitly_wait(10)\n",
    "    driver.set_window_size(900, 900)\n",
    "\n",
    "    # 맥주 회사\n",
    "    time.sleep(2)\n",
    "    company = driver.find_element(By.CSS_SELECTOR, '.MuiTypography-root.Text___StyledTypographyTypeless-bukSfn.pzIrn.colorized__WrappedComponent-hrwcZr.liJcHu.Anchor___StyledText-uWnSM.eseQug.MuiTypography-subtitle1').text\n",
    "    print(company)\n",
    "\n",
    "    # 원산지\n",
    "    time.sleep(2)\n",
    "    origin = driver.find_element(By.XPATH, '//*[@id=\"root\"]/div[2]/div[2]/div/div/div/div[2]/div[1]/div/div[2]/div[1]/div/div[2]/div[3]/div[1]').text\n",
    "    print(origin)\n",
    "\n",
    "    # 맥주 종류\n",
    "    time.sleep(2)\n",
    "    beer_type = driver.find_element(By.CSS_SELECTOR, '.MuiTypography-root.Text___StyledTypographyTypeless-bukSfn.kbrPIo.colorized__WrappedComponent-hrwcZr.liJcHu.Anchor___StyledText-uWnSM.eseQug.MuiTypography-caption').text\n",
    "    print(beer_type)\n",
    "\n",
    "    # 도수\n",
    "    time.sleep(2)\n",
    "    dosu = driver.find_element(By.XPATH, '//*[@id=\"root\"]/div[2]/div[2]/div/div/div/div[2]/div[1]/div/div[2]/div[1]/div/div[2]/div[3]/div[2]/div[2]').text\n",
    "    print(dosu)\n",
    "\n",
    "    # ibu\n",
    "    time.sleep(2)\n",
    "    ibu = driver.find_element(By.XPATH, '//*[@id=\"root\"]/div[2]/div[2]/div/div/div/div[2]/div[1]/div/div[2]/div[1]/div/div[2]/div[3]/div[2]/div[4]').text\n",
    "    print(ibu)\n",
    "\n",
    "    # 평점\n",
    "    time.sleep(2)\n",
    "    rating = driver.find_element(By.CSS_SELECTOR, '.MuiTypography-root.Text___StyledTypographyTypeless-bukSfn.pzIrn.text-500.colorized__WrappedComponent-hrwcZr.hwjOn.mr-2.MuiTypography-body2').text\n",
    "    print(rating)\n",
    "\n",
    "    # 설명\n",
    "    time.sleep(2)\n",
    "    desc = driver.find_element(By.CSS_SELECTOR, '.MuiTypography-root.Text___StyledTypographyTypeless-bukSfn.pzIrn.colorized__WrappedComponent-hrwcZr.hwjOn.pre-wrap.MuiTypography-body2').text\n",
    "    print(desc)\n",
    "\n",
    "    # show more click\n",
    "    driver.find_element(By.XPATH, '//*[@id=\"root\"]/div[2]/div[2]/div/div/div/div[2]/div[1]/div/div[4]/button/span[1]').click()\n",
    "\n",
    "    # 칼로리\n",
    "    time.sleep(3)\n",
    "    kcal = driver.find_element(By.XPATH, '//*[@id=\"root\"]/div[2]/div[2]/div/div/div/div[2]/div[1]/div/div[3]/div/div/div/div/div[1]/div[2]/div[2]').text\n",
    "    print(kcal)\n",
    "\n",
    "    error_cnt = 0\n",
    "\n",
    "    while 1:\n",
    "        try :\n",
    "            # 4번 사진에 해당 : 전체 리뷰 개수 수집\n",
    "            time.sleep(3)\n",
    "\n",
    "            string = driver.find_element(By.CSS_SELECTOR, '.MuiTypography-root.Text___StyledTypographyTypeless-bukSfn.pzIrn.text-500.colorized__WrappedComponent-hrwcZr.hwjOn.MuiTypography-h6').text\n",
    "            print(string)\n",
    "\n",
    "            # ,가 포함되어 있는지에 대한 로직\n",
    "            extract = re.compile('[0-9]*,*[0-9]+')\n",
    "            str_num = extract.findall(string)\n",
    "            str_num = str_num[0]\n",
    "            print(str_num)\n",
    "\n",
    "            print('성공... while문을 탈출합니다.')\n",
    "            break\n",
    "        except :\n",
    "            print('오류 발생.. 다시 시작합니다.')\n",
    "\n",
    "            error_cnt += 1\n",
    "\n",
    "            if error_cnt == 5:\n",
    "                print('연속된 오류로 다음 맥주로 넘어갑니다...')\n",
    "                return\n",
    "\n",
    "    if ',' in str_num:\n",
    "        str_num = str_num.split(',')\n",
    "        str_num = int(str_num[0]+str_num[1])\n",
    "        num = str_num\n",
    "    else:\n",
    "        num = int(str_num)\n",
    "\n",
    "    # 5번 사진에 해당 : Score breakdown 클릭\n",
    "    time.sleep(3)\n",
    "    element = driver.find_element(By.XPATH, '//*[@id=\"root\"]/div[2]/div[2]/div/div/div/div[2]/div[4]/div/div[2]/div[1]/div[2]')\n",
    "    time.sleep(3)\n",
    "    # 해당 element로 이동하는 코드입니다. 반드시 적어주세요.\n",
    "    driver.execute_script(\"arguments[0].click();\", element)\n",
    "\n",
    "    # 수집할 Page 수를 계산합니다.\n",
    "    page_num = num // 15 + 1\n",
    "\n",
    "\n",
    "    for i in range(page_num):\n",
    "        print(i+1, '번째 페이지입니다.')\n",
    "\n",
    "        # 6번 사진에 해당 : 전체 맥주 정보를 통째로 수집\n",
    "        time.sleep(3)\n",
    "        beer_info = driver.find_elements(By.CSS_SELECTOR,'.px-4.fj-s.f-wrap')\n",
    "\n",
    "        tmp = []\n",
    "\n",
    "        # 수집한 것을 데이터프레임에 저장\n",
    "        for i in range(len(beer_info)):\n",
    "            tmp.append(beer_info[i].text)\n",
    "\n",
    "        tmp = pd.DataFrame(data=tmp, columns=['맥주정보'])\n",
    "        tmp['맥주이름'] = beer_name\n",
    "        tmp['검색이름'] = beer\n",
    "        tmp['맥주회사'] = company\n",
    "        tmp['맥주원산지'] = origin\n",
    "        tmp['맥주종류'] = beer_type\n",
    "        tmp['맥주도수'] = dosu\n",
    "        tmp['맥주IBU'] = ibu\n",
    "        tmp['맥주평점'] = rating\n",
    "        tmp['맥주설명'] = desc\n",
    "        tmp['맥주칼로리'] = kcal\n",
    "\n",
    "        data = pd.concat([data, tmp])\n",
    "\n",
    "        # 다음 페이지로 넘어가기 : 7번 사진에 해당합니다.\n",
    "        # div, span, title 태그 후 속성은 class 외에도 사용 가능\n",
    "        try :\n",
    "            element = driver.find_element(By.XPATH, '//button[@title=\"Next page\"]/span[@class=\"MuiIconButton-label\"]')\n",
    "            time.sleep(3)\n",
    "            driver.execute_script(\"arguments[0].click();\", element)\n",
    "        except:\n",
    "            print('마지막 페이지입니다.')\n",
    "\n",
    "    # 데이터가 중복 수집될 경우 리뷰 수 만큼만 Cut\n",
    "    if num != len(data):\n",
    "        data = data[:num]\n",
    "\n",
    "    print('리뷰수 : ', num, '수집된 리뷰수 : ', len(data))\n",
    "\n",
    "    # 데이터를 csv, excel 파일로 저장합니다.\n",
    "    result = pd.merge(data, beer_list, on='검색이름', how='left')\n",
    "    result.to_csv(\"./data/beer_n_\"+str(beer_name)+\".csv\", encoding='utf-8')\n",
    "    result.to_excel(\"./data/beer_n_\"+str(beer_name)+\".xlsx\")\n",
    "\n",
    "    driver.quit()\n",
    "    print(beer_name + '종료')\n",
    "    return result"
   ],
   "metadata": {
    "collapsed": false,
    "pycharm": {
     "name": "#%%\n"
    }
   }
  },
  {
   "cell_type": "code",
   "execution_count": 35,
   "outputs": [
    {
     "name": "stdout",
     "output_type": "stream",
     "text": [
      "url_open... kloud 맥주 데이터를 수집합니다..\n",
      "Kloud Original Gravity\n",
      "Reviews (108)\n",
      "108\n",
      "성공... while문을 탈출합니다.\n",
      "1 번째 페이지입니다.\n",
      "2 번째 페이지입니다.\n",
      "3 번째 페이지입니다.\n",
      "4 번째 페이지입니다.\n",
      "5 번째 페이지입니다.\n",
      "6 번째 페이지입니다.\n",
      "7 번째 페이지입니다.\n",
      "8 번째 페이지입니다.\n",
      "리뷰수 :  108 수집된 리뷰수 :  108\n"
     ]
    }
   ],
   "source": [
    "# 맥주 리스트 개수만큼 데이터 수집\n",
    "# for k in range(len(beer_list)):\n",
    "#     result = crawl(beer_list['검색이름'].iloc[k], data, k)"
   ],
   "metadata": {
    "collapsed": false,
    "pycharm": {
     "name": "#%%\n"
    }
   }
  },
  {
   "cell_type": "code",
   "execution_count": 28,
   "outputs": [
    {
     "name": "stdout",
     "output_type": "stream",
     "text": [
      "Collecting parmap\r\n",
      "  Downloading parmap-1.6.0-py2.py3-none-any.whl (12 kB)\r\n",
      "Installing collected packages: parmap\r\n",
      "Successfully installed parmap-1.6.0\r\n"
     ]
    }
   ],
   "source": [
    "!pip install parmap"
   ],
   "metadata": {
    "collapsed": false,
    "pycharm": {
     "name": "#%%\n"
    }
   }
  },
  {
   "cell_type": "code",
   "execution_count": 11,
   "outputs": [],
   "source": [
    "import parmap"
   ],
   "metadata": {
    "collapsed": false,
    "pycharm": {
     "name": "#%%\n"
    }
   }
  },
  {
   "cell_type": "code",
   "execution_count": 9,
   "outputs": [
    {
     "data": {
      "text/plain": "0                        kloud\n1             fitz super clear\n2              Asahi super dry\n3                     Tsingtao\n4                     Heineken\n                ...           \n72               BURGE MEESTER\n73                    Red Rock\n74             Erdinger Dunkel\n75    Warsteiner Premium Verum\n76     Queen's Ale Blonde Type\nName: 검색이름, Length: 77, dtype: object"
     },
     "execution_count": 9,
     "metadata": {},
     "output_type": "execute_result"
    }
   ],
   "source": [
    "beer_list['검색이름']"
   ],
   "metadata": {
    "collapsed": false,
    "pycharm": {
     "name": "#%%\n"
    }
   }
  },
  {
   "cell_type": "code",
   "execution_count": 10,
   "outputs": [
    {
     "data": {
      "text/plain": "검색이름    kloud\nName: 0, dtype: object"
     },
     "execution_count": 10,
     "metadata": {},
     "output_type": "execute_result"
    }
   ],
   "source": [
    "beer_list[['검색이름']].iloc[0]"
   ],
   "metadata": {
    "collapsed": false,
    "pycharm": {
     "name": "#%%\n"
    }
   }
  },
  {
   "cell_type": "code",
   "execution_count": 11,
   "outputs": [
    {
     "data": {
      "text/plain": "10"
     },
     "execution_count": 11,
     "metadata": {},
     "output_type": "execute_result"
    }
   ],
   "source": [
    "import multiprocessing\n",
    "\n",
    "multiprocessing.cpu_count()"
   ],
   "metadata": {
    "collapsed": false,
    "pycharm": {
     "name": "#%%\n"
    }
   }
  },
  {
   "cell_type": "code",
   "execution_count": 42,
   "outputs": [
    {
     "name": "stdout",
     "output_type": "stream",
     "text": [
      "url_open... terra 맥주 데이터를 수집합니다..\n",
      "Terra\n",
      "HiteJinro\n",
      "🇰🇷 Seoul, South Korea\n",
      "Pale Lager - International / Premium\n",
      "4.6%\n",
      "2.33\n",
      "Australian Golden Triangle Malt Premium Quality TERRA From AGT. 100% Real carbonated beer made from pure AGT Malt.\n",
      "138 cal per 355ml\n",
      "Reviews (31)\n",
      "31\n",
      "성공... while문을 탈출합니다.\n",
      "1 번째 페이지입니다.\n",
      "2 번째 페이지입니다.\n",
      "3 번째 페이지입니다.\n",
      "리뷰수 :  31 수집된 리뷰수 :  31\n"
     ]
    }
   ],
   "source": [
    "beer_list = ['terra']\n",
    "#  'guinness original', 'hoegarden', 'pilsner urquell', 'stella artois',\n",
    "#             'weissbier naturtrub' 'Hop House 13 Lager'\n",
    "beer_list = pd.DataFrame(data=beer_list, columns=['검색이름'])\n",
    "\n",
    "url = 'https://www.ratebeer.com/search?tab=beer'\n",
    "\n",
    "data = pd.DataFrame(data=[], columns=['맥주정보', '검색이름', '맥주이름'])\n",
    "\n",
    "# url open\n",
    "beer = beer_list['검색이름'].iloc[0]\n",
    "print('url_open... {0} 맥주 데이터를 수집합니다..'.format(beer))\n",
    "driver = webdriver.Chrome()\n",
    "driver.get(url)\n",
    "driver.set_window_size(900, 900)\n",
    "\n",
    "# 1번 사진에 해당 : 맥주 검색\n",
    "time.sleep(2)\n",
    "element = driver.find_element(By.XPATH, '//*[@id=\"root\"]/div[2]/header/div[2]/div[1]/div[2]/div/div/input')\n",
    "time.sleep(2)\n",
    "element.click()\n",
    "time.sleep(2)\n",
    "element.send_keys(beer)\n",
    "time.sleep(3)\n",
    "\n",
    "driver.implicitly_wait(10)\n",
    "# 2번 사진에 해당 : 상품 선택\n",
    "driver.find_element(By.XPATH, '//*[@id=\"root\"]/div[2]/header/div[2]/div[1]/div[2]/div/div[2]/a[1]/div/div[2]').click()\n",
    "\n",
    "# 3번 사진에 해당 : 상품 이름 수집\n",
    "time.sleep(3)\n",
    "beer_name = driver.find_element(By.CSS_SELECTOR, '.MuiTypography-root.Text___StyledTypographyTypeless-bukSfn.pzIrn.text-500.colorized__WrappedComponent-hrwcZr.hwjOn.mt-3.MuiTypography-h4').text\n",
    "\n",
    "print(beer_name)\n",
    "\n",
    "\n",
    "\n",
    "# 맥주 회사\n",
    "time.sleep(2)\n",
    "company = driver.find_element(By.CSS_SELECTOR, '.MuiTypography-root.Text___StyledTypographyTypeless-bukSfn.pzIrn.colorized__WrappedComponent-hrwcZr.liJcHu.Anchor___StyledText-uWnSM.eseQug.MuiTypography-subtitle1').text\n",
    "print(company)\n",
    "\n",
    "# 원산지\n",
    "time.sleep(2)\n",
    "origin = driver.find_element(By.XPATH, '//*[@id=\"root\"]/div[2]/div[2]/div/div/div/div[2]/div[1]/div/div[2]/div[1]/div/div[2]/div[3]/div[1]').text\n",
    "print(origin)\n",
    "\n",
    "# 맥주 종류\n",
    "time.sleep(2)\n",
    "beer_type = driver.find_element(By.CSS_SELECTOR, '.MuiTypography-root.Text___StyledTypographyTypeless-bukSfn.kbrPIo.colorized__WrappedComponent-hrwcZr.liJcHu.Anchor___StyledText-uWnSM.eseQug.MuiTypography-caption').text\n",
    "print(beer_type)\n",
    "\n",
    "# 도수\n",
    "time.sleep(2)\n",
    "dosu = driver.find_element(By.XPATH, '//*[@id=\"root\"]/div[2]/div[2]/div/div/div/div[2]/div[1]/div/div[2]/div[1]/div/div[2]/div[3]/div[2]/div[2]').text\n",
    "print(dosu)\n",
    "\n",
    "\n",
    "# ibu\n",
    "time.sleep(2)\n",
    "ibu = ''\n",
    "try:\n",
    "    ibu = driver.find_element(By.XPATH, '//*[@id=\"root\"]/div[2]/div[2]/div/div/div/div[2]/div[1]/div/div[2]/div[1]/div/div[2]/div[3]/div[2]/div[4]').text\n",
    "    print(ibu)\n",
    "except Exception:\n",
    "    pass\n",
    "\n",
    "# 평점\n",
    "time.sleep(2)\n",
    "rating = driver.find_element(By.CSS_SELECTOR, '.MuiTypography-root.Text___StyledTypographyTypeless-bukSfn.pzIrn.text-500.colorized__WrappedComponent-hrwcZr.hwjOn.mr-2.MuiTypography-body2').text\n",
    "print(rating)\n",
    "\n",
    "# 설명\n",
    "time.sleep(2)\n",
    "desc = driver.find_element(By.CSS_SELECTOR, '.MuiTypography-root.Text___StyledTypographyTypeless-bukSfn.pzIrn.colorized__WrappedComponent-hrwcZr.hwjOn.pre-wrap.MuiTypography-body2').text\n",
    "print(desc)\n",
    "\n",
    "# show more click\n",
    "driver.find_element(By.XPATH, '//*[@id=\"root\"]/div[2]/div[2]/div/div/div/div[2]/div[1]/div/div[4]/button/span[1]').click()\n",
    "\n",
    "# 칼로리\n",
    "time.sleep(3)\n",
    "kcal = ''\n",
    "try:\n",
    "    kcal = driver.find_element(By.XPATH, '//*[@id=\"root\"]/div[2]/div[2]/div/div/div/div[2]/div[1]/div/div[3]/div/div/div/div/div[1]/div[2]/div[2]').text\n",
    "    print(kcal)\n",
    "except Exception:\n",
    "    pass\n",
    "\n",
    "error_cnt = 0\n",
    "\n",
    "while 1:\n",
    "    try:\n",
    "        # 4번 사진에 해당 : 전체 리뷰 개수 수집\n",
    "        time.sleep(3)\n",
    "\n",
    "        string = driver.find_element(By.CSS_SELECTOR, '.MuiTypography-root.Text___StyledTypographyTypeless-bukSfn.pzIrn.text-500.colorized__WrappedComponent-hrwcZr.hwjOn.MuiTypography-h6').text\n",
    "        print(string)\n",
    "\n",
    "        # ,가 포함되어 있는지에 대한 로직\n",
    "        extract = re.compile('[0-9]*,*[0-9]+')\n",
    "        str_num = extract.findall(string)\n",
    "        str_num = str_num[0]\n",
    "        print(str_num)\n",
    "\n",
    "        print('성공... while문을 탈출합니다.')\n",
    "        break\n",
    "    except :\n",
    "        print('오류 발생.. 다시 시작합니다.')\n",
    "\n",
    "        error_cnt += 1\n",
    "\n",
    "        if error_cnt == 5:\n",
    "            print('연속된 오류로 다음 맥주로 넘어갑니다...')\n",
    "            break\n",
    "\n",
    "if ',' in str_num:\n",
    "    str_num = str_num.split(',')\n",
    "    str_num = int(str_num[0]+str_num[1])\n",
    "    num = str_num\n",
    "else:\n",
    "    num = int(str_num)\n",
    "\n",
    "# 5번 사진에 해당 : Score breakdown 클릭\n",
    "time.sleep(3)\n",
    "element = driver.find_element(By.XPATH, '//*[@id=\"root\"]/div[2]/div[2]/div/div/div/div[2]/div[4]/div/div[2]/div[1]/div[2]')\n",
    "time.sleep(3)\n",
    "# 해당 element로 이동하는 코드입니다. 반드시 적어주세요.\n",
    "driver.execute_script(\"arguments[0].click();\", element)\n",
    "\n",
    "# 수집할 Page 수를 계산합니다.\n",
    "page_num = num // 15 + 1\n",
    "\n",
    "\n",
    "for i in range(page_num):\n",
    "    print(i+1, '번째 페이지입니다.')\n",
    "\n",
    "    # 6번 사진에 해당 : 전체 맥주 정보를 통째로 수집\n",
    "    time.sleep(3)\n",
    "    beer_info = driver.find_elements(By.CSS_SELECTOR,'.px-4.fj-s.f-wrap')\n",
    "\n",
    "    tmp = []\n",
    "\n",
    "    # 수집한 것을 데이터프레임에 저장\n",
    "    for i in range(len(beer_info)):\n",
    "        tmp.append(beer_info[i].text)\n",
    "\n",
    "    tmp = pd.DataFrame(data=tmp, columns=['맥주정보'])\n",
    "    tmp['맥주이름'] = beer_name\n",
    "    tmp['검색이름'] = beer\n",
    "    tmp['맥주회사'] = company\n",
    "    tmp['맥주원산지'] = origin\n",
    "    tmp['맥주종류'] = beer_type\n",
    "    tmp['맥주도수'] = dosu\n",
    "    tmp['맥주IBU'] = ibu\n",
    "    tmp['맥주평점'] = rating\n",
    "    tmp['맥주설명'] = desc\n",
    "    tmp['맥주칼로리'] = kcal\n",
    "\n",
    "    data = pd.concat([data, tmp])\n",
    "\n",
    "    # 다음 페이지로 넘어가기 : 7번 사진에 해당합니다.\n",
    "    # div, span, title 태그 후 속성은 class 외에도 사용 가능\n",
    "    try :\n",
    "        element = driver.find_element(By.XPATH, '//button[@title=\"Next page\"]/span[@class=\"MuiIconButton-label\"]')\n",
    "        time.sleep(3)\n",
    "        driver.execute_script(\"arguments[0].click();\", element)\n",
    "    except:\n",
    "        print('마지막 페이지입니다.')\n",
    "\n",
    "# 데이터가 중복 수집될 경우 리뷰 수 만큼만 Cut\n",
    "if num != len(data):\n",
    "    data = data[:num]\n",
    "\n",
    "print('리뷰수 : ', num, '수집된 리뷰수 : ', len(data))"
   ],
   "metadata": {
    "collapsed": false,
    "pycharm": {
     "name": "#%%\n"
    }
   }
  },
  {
   "cell_type": "code",
   "execution_count": 43,
   "outputs": [
    {
     "data": {
      "text/plain": "(31, 11)"
     },
     "execution_count": 43,
     "metadata": {},
     "output_type": "execute_result"
    }
   ],
   "source": [
    "data.shape"
   ],
   "metadata": {
    "collapsed": false,
    "pycharm": {
     "name": "#%%\n"
    }
   }
  },
  {
   "cell_type": "code",
   "execution_count": 44,
   "outputs": [],
   "source": [
    "result = pd.merge(data, beer_list, on='검색이름', how='left')\n",
    "result.to_csv('./data/beer_n_' + str(beer_name) + '.csv', encoding='utf-8')\n",
    "result.to_excel('./data/beer_n_' + str(beer_name) + '.xlsx')"
   ],
   "metadata": {
    "collapsed": false,
    "pycharm": {
     "name": "#%%\n"
    }
   }
  },
  {
   "cell_type": "code",
   "execution_count": null,
   "outputs": [],
   "source": [],
   "metadata": {
    "collapsed": false,
    "pycharm": {
     "name": "#%%\n"
    }
   }
  }
 ],
 "metadata": {
  "kernelspec": {
   "display_name": "Python 3",
   "language": "python",
   "name": "python3"
  },
  "language_info": {
   "codemirror_mode": {
    "name": "ipython",
    "version": 2
   },
   "file_extension": ".py",
   "mimetype": "text/x-python",
   "name": "python",
   "nbconvert_exporter": "python",
   "pygments_lexer": "ipython2",
   "version": "2.7.6"
  }
 },
 "nbformat": 4,
 "nbformat_minor": 0
}