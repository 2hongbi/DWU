{
 "cells": [
  {
   "cell_type": "code",
   "execution_count": 2,
   "metadata": {
    "collapsed": true
   },
   "outputs": [],
   "source": [
    "import pandas as pd"
   ]
  },
  {
   "cell_type": "code",
   "execution_count": 36,
   "outputs": [
    {
     "data": {
      "text/plain": "          번호 지역1\\n(시도) 지역2\\n(시군구)   세부업종        호텔명(등록명칭)   등급    객실수  \\\n0        NaN       NaN        NaN    NaN              NaN  NaN    NaN   \n1        1.0     서울특별시        강남구  관광호텔업       임피리얼팰리스 호텔  5성급  404.0   \n2        2.0     서울특별시        강남구  관광호텔업  그랜드인터컨티넨탈서울파르나스  5성급  519.0   \n3        3.0     서울특별시        강남구  관광호텔업        노보텔앰배서더강남  4성급  332.0   \n4        4.0     서울특별시        강남구  관광호텔업     르 메르디앙 서울 호텔  5성급  336.0   \n...      ...       ...        ...    ...              ...  ...    ...   \n1879  1879.0       강원도        고성군  가족호텔업           델피노 호텔  NaN   84.0   \n1880  1880.0       강원도        고성군  가족호텔업       레이스오션 가족호텔  NaN  203.0   \n1881  1881.0       강원도        양양군  관광호텔업           낙산비치호텔  NaN  284.0   \n1882  1882.0       강원도        양양군  관광호텔업        쏠비치 호텔 양양  4성급  130.0   \n1883  1883.0       강원도        양양군  관광호텔업            산과 바다  2성급   34.0   \n\n                            주소  \n0                          NaN  \n1            서울특별시 강남구 언주로 640  \n2           서울특별시 강남구 테헤란로 521  \n3           서울특별시 강남구 봉은사로 130  \n4           서울특별시 강남구 봉은사로 120  \n...                        ...  \n1879    강원도 고성군 토성면 미시령옛길 1153  \n1880  강원도 고성군 토성면 잼버리동로 583-20  \n1881       강원도 양양군 강현면 낙산사로 73  \n1882         양양군 손양면 선사유적로 678  \n1883         양양군 강현면 동해대로 3393  \n\n[1884 rows x 8 columns]",
      "text/html": "<div>\n<style scoped>\n    .dataframe tbody tr th:only-of-type {\n        vertical-align: middle;\n    }\n\n    .dataframe tbody tr th {\n        vertical-align: top;\n    }\n\n    .dataframe thead th {\n        text-align: right;\n    }\n</style>\n<table border=\"1\" class=\"dataframe\">\n  <thead>\n    <tr style=\"text-align: right;\">\n      <th></th>\n      <th>번호</th>\n      <th>지역1\\n(시도)</th>\n      <th>지역2\\n(시군구)</th>\n      <th>세부업종</th>\n      <th>호텔명(등록명칭)</th>\n      <th>등급</th>\n      <th>객실수</th>\n      <th>주소</th>\n    </tr>\n  </thead>\n  <tbody>\n    <tr>\n      <th>0</th>\n      <td>NaN</td>\n      <td>NaN</td>\n      <td>NaN</td>\n      <td>NaN</td>\n      <td>NaN</td>\n      <td>NaN</td>\n      <td>NaN</td>\n      <td>NaN</td>\n    </tr>\n    <tr>\n      <th>1</th>\n      <td>1.0</td>\n      <td>서울특별시</td>\n      <td>강남구</td>\n      <td>관광호텔업</td>\n      <td>임피리얼팰리스 호텔</td>\n      <td>5성급</td>\n      <td>404.0</td>\n      <td>서울특별시 강남구 언주로 640</td>\n    </tr>\n    <tr>\n      <th>2</th>\n      <td>2.0</td>\n      <td>서울특별시</td>\n      <td>강남구</td>\n      <td>관광호텔업</td>\n      <td>그랜드인터컨티넨탈서울파르나스</td>\n      <td>5성급</td>\n      <td>519.0</td>\n      <td>서울특별시 강남구 테헤란로 521</td>\n    </tr>\n    <tr>\n      <th>3</th>\n      <td>3.0</td>\n      <td>서울특별시</td>\n      <td>강남구</td>\n      <td>관광호텔업</td>\n      <td>노보텔앰배서더강남</td>\n      <td>4성급</td>\n      <td>332.0</td>\n      <td>서울특별시 강남구 봉은사로 130</td>\n    </tr>\n    <tr>\n      <th>4</th>\n      <td>4.0</td>\n      <td>서울특별시</td>\n      <td>강남구</td>\n      <td>관광호텔업</td>\n      <td>르 메르디앙 서울 호텔</td>\n      <td>5성급</td>\n      <td>336.0</td>\n      <td>서울특별시 강남구 봉은사로 120</td>\n    </tr>\n    <tr>\n      <th>...</th>\n      <td>...</td>\n      <td>...</td>\n      <td>...</td>\n      <td>...</td>\n      <td>...</td>\n      <td>...</td>\n      <td>...</td>\n      <td>...</td>\n    </tr>\n    <tr>\n      <th>1879</th>\n      <td>1879.0</td>\n      <td>강원도</td>\n      <td>고성군</td>\n      <td>가족호텔업</td>\n      <td>델피노 호텔</td>\n      <td>NaN</td>\n      <td>84.0</td>\n      <td>강원도 고성군 토성면 미시령옛길 1153</td>\n    </tr>\n    <tr>\n      <th>1880</th>\n      <td>1880.0</td>\n      <td>강원도</td>\n      <td>고성군</td>\n      <td>가족호텔업</td>\n      <td>레이스오션 가족호텔</td>\n      <td>NaN</td>\n      <td>203.0</td>\n      <td>강원도 고성군 토성면 잼버리동로 583-20</td>\n    </tr>\n    <tr>\n      <th>1881</th>\n      <td>1881.0</td>\n      <td>강원도</td>\n      <td>양양군</td>\n      <td>관광호텔업</td>\n      <td>낙산비치호텔</td>\n      <td>NaN</td>\n      <td>284.0</td>\n      <td>강원도 양양군 강현면 낙산사로 73</td>\n    </tr>\n    <tr>\n      <th>1882</th>\n      <td>1882.0</td>\n      <td>강원도</td>\n      <td>양양군</td>\n      <td>관광호텔업</td>\n      <td>쏠비치 호텔 양양</td>\n      <td>4성급</td>\n      <td>130.0</td>\n      <td>양양군 손양면 선사유적로 678</td>\n    </tr>\n    <tr>\n      <th>1883</th>\n      <td>1883.0</td>\n      <td>강원도</td>\n      <td>양양군</td>\n      <td>관광호텔업</td>\n      <td>산과 바다</td>\n      <td>2성급</td>\n      <td>34.0</td>\n      <td>양양군 강현면 동해대로 3393</td>\n    </tr>\n  </tbody>\n</table>\n<p>1884 rows × 8 columns</p>\n</div>"
     },
     "execution_count": 36,
     "metadata": {},
     "output_type": "execute_result"
    }
   ],
   "source": [
    "hotel_df = pd.read_excel('./../data/hotel_list.xlsx', header=1)\n",
    "hotel_df"
   ],
   "metadata": {
    "collapsed": false,
    "pycharm": {
     "name": "#%%\n"
    }
   }
  },
  {
   "cell_type": "code",
   "execution_count": 17,
   "outputs": [
    {
     "data": {
      "text/plain": "1       5성급\n2       5성급\n3       4성급\n4       5성급\n5       5성급\n       ... \n1869    4성급\n1873    3성급\n1877    4성급\n1882    4성급\n1883    2성급\nName: 등급, Length: 760, dtype: object"
     },
     "execution_count": 17,
     "metadata": {},
     "output_type": "execute_result"
    }
   ],
   "source": [
    "import numpy as np\n",
    "mask = hotel_df['등급'].isin(['', np.NaN])\n",
    "hotel_df[~mask]['등급']"
   ],
   "metadata": {
    "collapsed": false,
    "pycharm": {
     "name": "#%%\n"
    }
   }
  },
  {
   "cell_type": "code",
   "execution_count": 18,
   "outputs": [],
   "source": [
    "hotel_df = hotel_df[~mask]\n",
    "hotel_df.to_csv('test.csv', encoding='utf-8-sig')"
   ],
   "metadata": {
    "collapsed": false,
    "pycharm": {
     "name": "#%%\n"
    }
   }
  },
  {
   "cell_type": "code",
   "execution_count": 38,
   "outputs": [],
   "source": [
    "import numpy as np\n",
    "hotel_df = hotel_df[(~hotel_df['등급'].isin(['', np.NaN])) & (~hotel_df['등급'].str.contains(\"특\", na=False))]\n",
    "hotel_df.to_csv('test.csv', encoding='utf-8-sig')"
   ],
   "metadata": {
    "collapsed": false,
    "pycharm": {
     "name": "#%%\n"
    }
   }
  },
  {
   "cell_type": "code",
   "execution_count": 42,
   "outputs": [],
   "source": [
    "hotel_df.columns = ['no', 'area1', 'area2', 'details', 'name', 'rate', 'rooms', 'address']"
   ],
   "metadata": {
    "collapsed": false,
    "pycharm": {
     "name": "#%%\n"
    }
   }
  },
  {
   "cell_type": "code",
   "execution_count": 43,
   "outputs": [
    {
     "data": {
      "text/plain": "          no  area1 area2 details             name rate  rooms  \\\n1        1.0  서울특별시   강남구   관광호텔업       임피리얼팰리스 호텔  5성급  404.0   \n2        2.0  서울특별시   강남구   관광호텔업  그랜드인터컨티넨탈서울파르나스  5성급  519.0   \n3        3.0  서울특별시   강남구   관광호텔업        노보텔앰배서더강남  4성급  332.0   \n4        4.0  서울특별시   강남구   관광호텔업     르 메르디앙 서울 호텔  5성급  336.0   \n5        5.0  서울특별시   강남구   관광호텔업      인터컨티넨탈서울코엑스  5성급  654.0   \n...      ...    ...   ...     ...              ...  ...    ...   \n1869  1869.0    강원도   정선군   관광호텔업        하이원 팰리스호텔  4성급  197.0   \n1873  1873.0    강원도   철원군   관광호텔업         한탄리버스파호텔  3성급   68.0   \n1877  1877.0    강원도   인제군   관광호텔업          스피디움 호텔  4성급  134.0   \n1882  1882.0    강원도   양양군   관광호텔업        쏠비치 호텔 양양  4성급  130.0   \n1883  1883.0    강원도   양양군   관광호텔업            산과 바다  2성급   34.0   \n\n                      address  \n1           서울특별시 강남구 언주로 640  \n2          서울특별시 강남구 테헤란로 521  \n3          서울특별시 강남구 봉은사로 130  \n4          서울특별시 강남구 봉은사로 120  \n5          서울특별시 강남구 봉은사로 524  \n...                       ...  \n1869     강원도 정선군 고한읍 고한7길 399  \n1873  강원도 철원군 동송읍 태봉로 1799-22  \n1877     강원도 인제군 기린면 상하답로 130  \n1882        양양군 손양면 선사유적로 678  \n1883        양양군 강현면 동해대로 3393  \n\n[745 rows x 8 columns]",
      "text/html": "<div>\n<style scoped>\n    .dataframe tbody tr th:only-of-type {\n        vertical-align: middle;\n    }\n\n    .dataframe tbody tr th {\n        vertical-align: top;\n    }\n\n    .dataframe thead th {\n        text-align: right;\n    }\n</style>\n<table border=\"1\" class=\"dataframe\">\n  <thead>\n    <tr style=\"text-align: right;\">\n      <th></th>\n      <th>no</th>\n      <th>area1</th>\n      <th>area2</th>\n      <th>details</th>\n      <th>name</th>\n      <th>rate</th>\n      <th>rooms</th>\n      <th>address</th>\n    </tr>\n  </thead>\n  <tbody>\n    <tr>\n      <th>1</th>\n      <td>1.0</td>\n      <td>서울특별시</td>\n      <td>강남구</td>\n      <td>관광호텔업</td>\n      <td>임피리얼팰리스 호텔</td>\n      <td>5성급</td>\n      <td>404.0</td>\n      <td>서울특별시 강남구 언주로 640</td>\n    </tr>\n    <tr>\n      <th>2</th>\n      <td>2.0</td>\n      <td>서울특별시</td>\n      <td>강남구</td>\n      <td>관광호텔업</td>\n      <td>그랜드인터컨티넨탈서울파르나스</td>\n      <td>5성급</td>\n      <td>519.0</td>\n      <td>서울특별시 강남구 테헤란로 521</td>\n    </tr>\n    <tr>\n      <th>3</th>\n      <td>3.0</td>\n      <td>서울특별시</td>\n      <td>강남구</td>\n      <td>관광호텔업</td>\n      <td>노보텔앰배서더강남</td>\n      <td>4성급</td>\n      <td>332.0</td>\n      <td>서울특별시 강남구 봉은사로 130</td>\n    </tr>\n    <tr>\n      <th>4</th>\n      <td>4.0</td>\n      <td>서울특별시</td>\n      <td>강남구</td>\n      <td>관광호텔업</td>\n      <td>르 메르디앙 서울 호텔</td>\n      <td>5성급</td>\n      <td>336.0</td>\n      <td>서울특별시 강남구 봉은사로 120</td>\n    </tr>\n    <tr>\n      <th>5</th>\n      <td>5.0</td>\n      <td>서울특별시</td>\n      <td>강남구</td>\n      <td>관광호텔업</td>\n      <td>인터컨티넨탈서울코엑스</td>\n      <td>5성급</td>\n      <td>654.0</td>\n      <td>서울특별시 강남구 봉은사로 524</td>\n    </tr>\n    <tr>\n      <th>...</th>\n      <td>...</td>\n      <td>...</td>\n      <td>...</td>\n      <td>...</td>\n      <td>...</td>\n      <td>...</td>\n      <td>...</td>\n      <td>...</td>\n    </tr>\n    <tr>\n      <th>1869</th>\n      <td>1869.0</td>\n      <td>강원도</td>\n      <td>정선군</td>\n      <td>관광호텔업</td>\n      <td>하이원 팰리스호텔</td>\n      <td>4성급</td>\n      <td>197.0</td>\n      <td>강원도 정선군 고한읍 고한7길 399</td>\n    </tr>\n    <tr>\n      <th>1873</th>\n      <td>1873.0</td>\n      <td>강원도</td>\n      <td>철원군</td>\n      <td>관광호텔업</td>\n      <td>한탄리버스파호텔</td>\n      <td>3성급</td>\n      <td>68.0</td>\n      <td>강원도 철원군 동송읍 태봉로 1799-22</td>\n    </tr>\n    <tr>\n      <th>1877</th>\n      <td>1877.0</td>\n      <td>강원도</td>\n      <td>인제군</td>\n      <td>관광호텔업</td>\n      <td>스피디움 호텔</td>\n      <td>4성급</td>\n      <td>134.0</td>\n      <td>강원도 인제군 기린면 상하답로 130</td>\n    </tr>\n    <tr>\n      <th>1882</th>\n      <td>1882.0</td>\n      <td>강원도</td>\n      <td>양양군</td>\n      <td>관광호텔업</td>\n      <td>쏠비치 호텔 양양</td>\n      <td>4성급</td>\n      <td>130.0</td>\n      <td>양양군 손양면 선사유적로 678</td>\n    </tr>\n    <tr>\n      <th>1883</th>\n      <td>1883.0</td>\n      <td>강원도</td>\n      <td>양양군</td>\n      <td>관광호텔업</td>\n      <td>산과 바다</td>\n      <td>2성급</td>\n      <td>34.0</td>\n      <td>양양군 강현면 동해대로 3393</td>\n    </tr>\n  </tbody>\n</table>\n<p>745 rows × 8 columns</p>\n</div>"
     },
     "execution_count": 43,
     "metadata": {},
     "output_type": "execute_result"
    }
   ],
   "source": [
    "hotel_df"
   ],
   "metadata": {
    "collapsed": false,
    "pycharm": {
     "name": "#%%\n"
    }
   }
  },
  {
   "cell_type": "code",
   "execution_count": 73,
   "outputs": [],
   "source": [
    "new = hotel_df.groupby(['area1', 'rate']).head(5).sort_values(by=['area1', 'rate'], ascending=[True, False])"
   ],
   "metadata": {
    "collapsed": false,
    "pycharm": {
     "name": "#%%\n"
    }
   }
  },
  {
   "cell_type": "code",
   "execution_count": 74,
   "outputs": [],
   "source": [
    "new.to_csv('test2.csv', encoding='utf-8-sig')"
   ],
   "metadata": {
    "collapsed": false,
    "pycharm": {
     "name": "#%%\n"
    }
   }
  },
  {
   "cell_type": "code",
   "execution_count": 57,
   "outputs": [
    {
     "ename": "AttributeError",
     "evalue": "'SeriesGroupBy' object has no attribute 'loc'",
     "output_type": "error",
     "traceback": [
      "\u001B[1;31m---------------------------------------------------------------------------\u001B[0m",
      "\u001B[1;31mAttributeError\u001B[0m                            Traceback (most recent call last)",
      "\u001B[1;32m~\\AppData\\Local\\Temp/ipykernel_19560/2667832230.py\u001B[0m in \u001B[0;36m<module>\u001B[1;34m\u001B[0m\n\u001B[1;32m----> 1\u001B[1;33m \u001B[0mnew\u001B[0m\u001B[1;33m.\u001B[0m\u001B[0mrate\u001B[0m\u001B[1;33m.\u001B[0m\u001B[0mloc\u001B[0m\u001B[1;33m[\u001B[0m\u001B[1;32mlambda\u001B[0m \u001B[0mx\u001B[0m\u001B[1;33m:\u001B[0m\u001B[0mx\u001B[0m\u001B[1;33m>\u001B[0m\u001B[1;36m5\u001B[0m\u001B[1;33m]\u001B[0m\u001B[1;33m\u001B[0m\u001B[1;33m\u001B[0m\u001B[0m\n\u001B[0m\u001B[0;32m      2\u001B[0m \u001B[1;33m\u001B[0m\u001B[0m\n",
      "\u001B[1;32mC:\\ProgramData\\Anaconda3\\envs\\Pandas01\\lib\\site-packages\\pandas\\core\\groupby\\groupby.py\u001B[0m in \u001B[0;36m__getattr__\u001B[1;34m(self, attr)\u001B[0m\n\u001B[0;32m    909\u001B[0m             \u001B[1;32mreturn\u001B[0m \u001B[0mself\u001B[0m\u001B[1;33m[\u001B[0m\u001B[0mattr\u001B[0m\u001B[1;33m]\u001B[0m\u001B[1;33m\u001B[0m\u001B[1;33m\u001B[0m\u001B[0m\n\u001B[0;32m    910\u001B[0m \u001B[1;33m\u001B[0m\u001B[0m\n\u001B[1;32m--> 911\u001B[1;33m         raise AttributeError(\n\u001B[0m\u001B[0;32m    912\u001B[0m             \u001B[1;34mf\"'{type(self).__name__}' object has no attribute '{attr}'\"\u001B[0m\u001B[1;33m\u001B[0m\u001B[1;33m\u001B[0m\u001B[0m\n\u001B[0;32m    913\u001B[0m         )\n",
      "\u001B[1;31mAttributeError\u001B[0m: 'SeriesGroupBy' object has no attribute 'loc'"
     ]
    }
   ],
   "source": [
    "new.rate.loc[lambda x:x>5]"
   ],
   "metadata": {
    "collapsed": false,
    "pycharm": {
     "name": "#%%\n"
    }
   }
  },
  {
   "cell_type": "code",
   "execution_count": 60,
   "outputs": [],
   "source": [
    "new.apply(lambda x: x).sort_values(by=['area1','rate'], ascending=[True, False])\\\n",
    "    .to_csv('test2.csv', encoding='utf-8-sig')"
   ],
   "metadata": {
    "collapsed": false,
    "pycharm": {
     "name": "#%%\n"
    }
   }
  },
  {
   "cell_type": "code",
   "execution_count": null,
   "outputs": [],
   "source": [],
   "metadata": {
    "collapsed": false,
    "pycharm": {
     "name": "#%%\n"
    }
   }
  }
 ],
 "metadata": {
  "kernelspec": {
   "name": "pycharm-eb5b415",
   "language": "python",
   "display_name": "PyCharm (Pandas01)"
  },
  "language_info": {
   "codemirror_mode": {
    "name": "ipython",
    "version": 2
   },
   "file_extension": ".py",
   "mimetype": "text/x-python",
   "name": "python",
   "nbconvert_exporter": "python",
   "pygments_lexer": "ipython2",
   "version": "2.7.6"
  }
 },
 "nbformat": 4,
 "nbformat_minor": 0
}