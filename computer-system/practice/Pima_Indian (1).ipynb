{
  "cells": [
    {
      "cell_type": "code",
      "source": [
        "import matplotlib\n",
        "import pandas as pd\n",
        "import seaborn as sns\n",
        "from sklearn.model_selection import train_test_split\n",
        "from sklearn.metrics import confusion_matrix\n",
        "from sklearn.metrics import roc_curve\n",
        "from keras.models import Sequential\n",
        "from keras.models import load_model\n",
        "from keras.layers import Dense\n",
        "import matplotlib.pyplot as plt\n",
        "import numpy as np\n",
        "np.random.seed(16)"
      ],
      "metadata": {
        "id": "jBMRXxoP-Mzb"
      },
      "execution_count": 2,
      "outputs": []
    },
    {
      "cell_type": "code",
      "source": [
        "from google.colab import drive\n",
        "drive.mount('/content/drive')\n",
        "\n",
        "filename = '/content/drive/MyDrive/MyLecture/2022/CS2022/0413/diabetes.csv'\n",
        "df = pd.read_csv(filename)\n",
        "print(df)"
      ],
      "metadata": {
        "colab": {
          "base_uri": "https://localhost:8080/"
        },
        "id": "cLjWAjKZ984m",
        "outputId": "096a50ee-daea-4e5b-b0ad-32b73237121d"
      },
      "execution_count": 3,
      "outputs": [
        {
          "output_type": "stream",
          "name": "stdout",
          "text": [
            "Drive already mounted at /content/drive; to attempt to forcibly remount, call drive.mount(\"/content/drive\", force_remount=True).\n",
            "     Pregnancies  Glucose  BloodPressure  SkinThickness  Insulin   BMI  \\\n",
            "0              6      148             72             35        0  33.6   \n",
            "1              1       85             66             29        0  26.6   \n",
            "2              8      183             64              0        0  23.3   \n",
            "3              1       89             66             23       94  28.1   \n",
            "4              0      137             40             35      168  43.1   \n",
            "..           ...      ...            ...            ...      ...   ...   \n",
            "763           10      101             76             48      180  32.9   \n",
            "764            2      122             70             27        0  36.8   \n",
            "765            5      121             72             23      112  26.2   \n",
            "766            1      126             60              0        0  30.1   \n",
            "767            1       93             70             31        0  30.4   \n",
            "\n",
            "     DiabetesPedigreeFunction  Age  Outcome  \n",
            "0                       0.627   50        1  \n",
            "1                       0.351   31        0  \n",
            "2                       0.672   32        1  \n",
            "3                       0.167   21        0  \n",
            "4                       2.288   33        1  \n",
            "..                        ...  ...      ...  \n",
            "763                     0.171   63        0  \n",
            "764                     0.340   27        0  \n",
            "765                     0.245   30        0  \n",
            "766                     0.349   47        1  \n",
            "767                     0.315   23        0  \n",
            "\n",
            "[768 rows x 9 columns]\n"
          ]
        }
      ]
    },
    {
      "cell_type": "code",
      "execution_count": 4,
      "metadata": {
        "colab": {
          "base_uri": "https://localhost:8080/"
        },
        "id": "wylAUALYkl5d",
        "outputId": "b1677301-4b9b-4993-e1b6-ae03702d8cc8"
      },
      "outputs": [
        {
          "output_type": "stream",
          "name": "stdout",
          "text": [
            "   Pregnancies  Glucose  BloodPressure  SkinThickness  Insulin   BMI  \\\n",
            "0            6      148             72             35        0  33.6   \n",
            "1            1       85             66             29        0  26.6   \n",
            "2            8      183             64              0        0  23.3   \n",
            "3            1       89             66             23       94  28.1   \n",
            "4            0      137             40             35      168  43.1   \n",
            "\n",
            "   DiabetesPedigreeFunction  Age  Outcome  \n",
            "0                     0.627   50        1  \n",
            "1                     0.351   31        0  \n",
            "2                     0.672   32        1  \n",
            "3                     0.167   21        0  \n",
            "4                     2.288   33        1  \n"
          ]
        }
      ],
      "source": [
        "# 처음 5줄을 봅니다.\n",
        "print(df.head(5))"
      ]
    },
    {
      "cell_type": "code",
      "execution_count": 5,
      "metadata": {
        "colab": {
          "base_uri": "https://localhost:8080/"
        },
        "id": "_Zyn8VM3kl5i",
        "outputId": "09c0cd81-4320-44dd-8494-5a82f31f488f"
      },
      "outputs": [
        {
          "output_type": "stream",
          "name": "stdout",
          "text": [
            "<class 'pandas.core.frame.DataFrame'>\n",
            "RangeIndex: 768 entries, 0 to 767\n",
            "Data columns (total 9 columns):\n",
            " #   Column                    Non-Null Count  Dtype  \n",
            "---  ------                    --------------  -----  \n",
            " 0   Pregnancies               768 non-null    int64  \n",
            " 1   Glucose                   768 non-null    int64  \n",
            " 2   BloodPressure             768 non-null    int64  \n",
            " 3   SkinThickness             768 non-null    int64  \n",
            " 4   Insulin                   768 non-null    int64  \n",
            " 5   BMI                       768 non-null    float64\n",
            " 6   DiabetesPedigreeFunction  768 non-null    float64\n",
            " 7   Age                       768 non-null    int64  \n",
            " 8   Outcome                   768 non-null    int64  \n",
            "dtypes: float64(2), int64(7)\n",
            "memory usage: 54.1 KB\n",
            "None\n"
          ]
        }
      ],
      "source": [
        "# 데이터의 전반적인 정보를 확인해 봅니다.\n",
        "print(df.info())"
      ]
    },
    {
      "cell_type": "code",
      "execution_count": 6,
      "metadata": {
        "colab": {
          "base_uri": "https://localhost:8080/"
        },
        "id": "rvUqJxq0kl5l",
        "outputId": "598f6971-0f05-479f-f5f5-a0cf7e8d61ac"
      },
      "outputs": [
        {
          "output_type": "stream",
          "name": "stdout",
          "text": [
            "       Pregnancies     Glucose  BloodPressure  SkinThickness     Insulin  \\\n",
            "count   768.000000  768.000000     768.000000     768.000000  768.000000   \n",
            "mean      3.845052  120.894531      69.105469      20.536458   79.799479   \n",
            "std       3.369578   31.972618      19.355807      15.952218  115.244002   \n",
            "min       0.000000    0.000000       0.000000       0.000000    0.000000   \n",
            "25%       1.000000   99.000000      62.000000       0.000000    0.000000   \n",
            "50%       3.000000  117.000000      72.000000      23.000000   30.500000   \n",
            "75%       6.000000  140.250000      80.000000      32.000000  127.250000   \n",
            "max      17.000000  199.000000     122.000000      99.000000  846.000000   \n",
            "\n",
            "              BMI  DiabetesPedigreeFunction         Age     Outcome  \n",
            "count  768.000000                768.000000  768.000000  768.000000  \n",
            "mean    31.992578                  0.471876   33.240885    0.348958  \n",
            "std      7.884160                  0.331329   11.760232    0.476951  \n",
            "min      0.000000                  0.078000   21.000000    0.000000  \n",
            "25%     27.300000                  0.243750   24.000000    0.000000  \n",
            "50%     32.000000                  0.372500   29.000000    0.000000  \n",
            "75%     36.600000                  0.626250   41.000000    1.000000  \n",
            "max     67.100000                  2.420000   81.000000    1.000000  \n"
          ]
        }
      ],
      "source": [
        "# 각 정보별 특징을 좀더 자세히 출력합니다.\n",
        "print(df.describe())"
      ]
    },
    {
      "cell_type": "code",
      "source": [
        "X = df.loc[:, df.columns != 'Outcome']\n",
        "y = df.loc[:, 'Outcome']\n",
        "X_train, X_test, y_train, y_test = train_test_split(X, y, test_size=0.2)"
      ],
      "metadata": {
        "id": "hrcjNHyz_NZd"
      },
      "execution_count": 9,
      "outputs": []
    },
    {
      "cell_type": "code",
      "source": [
        "# 딥러닝을 구동하는 데 필요한 케라스 함수를 불러옵니다.\n",
        "from tensorflow.keras.models import Sequential\n",
        "from tensorflow.keras.layers import Dense\n",
        "\n",
        "# 필요한 라이브러리를 불러옵니다.\n",
        "import numpy\n",
        "import tensorflow as tf\n",
        "\n",
        "# 실행할 때마다 같은 결과를 출력하기 위해 설정하는 부분입니다.\n",
        "numpy.random.seed(3)\n",
        "tf.random.set_seed(3)"
      ],
      "metadata": {
        "id": "iTKmbuQD_QC3"
      },
      "execution_count": 10,
      "outputs": []
    },
    {
      "cell_type": "code",
      "source": [
        "# 모델을 설정합니다.\n",
        "model = Sequential()\n",
        "model.add(Dense(12, input_dim=8, activation='relu'))\n",
        "model.add(Dense(8, activation='relu'))\n",
        "model.add(Dense(1, activation='sigmoid'))\n",
        "\n",
        "# 모델을 컴파일합니다.\n",
        "model.compile(loss='binary_crossentropy',\n",
        "             optimizer='adam',\n",
        "             metrics=['accuracy'])"
      ],
      "metadata": {
        "id": "ttgjS4lT_cib"
      },
      "execution_count": 11,
      "outputs": []
    },
    {
      "cell_type": "code",
      "source": [
        "# 모델을 실행합니다.\n",
        "model.fit(X_train, y_train, epochs=50, batch_size=10)\n",
        "\n",
        "# 결과를 출력합니다.\n",
        "print(\"\\n Accuracy: %.4f\" % (model.evaluate(X_test, y_test)[1]))"
      ],
      "metadata": {
        "colab": {
          "base_uri": "https://localhost:8080/"
        },
        "id": "3DBI8qb7_fMT",
        "outputId": "1bd72c8a-f313-420a-be70-c3bbf415f411"
      },
      "execution_count": 12,
      "outputs": [
        {
          "output_type": "stream",
          "name": "stdout",
          "text": [
            "Epoch 1/50\n",
            "62/62 [==============================] - 1s 2ms/step - loss: 12.0454 - accuracy: 0.6336\n",
            "Epoch 2/50\n",
            "62/62 [==============================] - 0s 3ms/step - loss: 7.2297 - accuracy: 0.6303\n",
            "Epoch 3/50\n",
            "62/62 [==============================] - 0s 2ms/step - loss: 4.4193 - accuracy: 0.5228\n",
            "Epoch 4/50\n",
            "62/62 [==============================] - 0s 3ms/step - loss: 2.7779 - accuracy: 0.5114\n",
            "Epoch 5/50\n",
            "62/62 [==============================] - 0s 3ms/step - loss: 1.7390 - accuracy: 0.5081\n",
            "Epoch 6/50\n",
            "62/62 [==============================] - 0s 3ms/step - loss: 1.0308 - accuracy: 0.5375\n",
            "Epoch 7/50\n",
            "62/62 [==============================] - 0s 3ms/step - loss: 0.8409 - accuracy: 0.5570\n",
            "Epoch 8/50\n",
            "62/62 [==============================] - 0s 2ms/step - loss: 0.8069 - accuracy: 0.5489\n",
            "Epoch 9/50\n",
            "62/62 [==============================] - 0s 3ms/step - loss: 0.7824 - accuracy: 0.5521\n",
            "Epoch 10/50\n",
            "62/62 [==============================] - 0s 2ms/step - loss: 0.7444 - accuracy: 0.5798\n",
            "Epoch 11/50\n",
            "62/62 [==============================] - 0s 3ms/step - loss: 0.7348 - accuracy: 0.6580\n",
            "Epoch 12/50\n",
            "62/62 [==============================] - 0s 3ms/step - loss: 0.7156 - accuracy: 0.6433\n",
            "Epoch 13/50\n",
            "62/62 [==============================] - 0s 2ms/step - loss: 0.6942 - accuracy: 0.6564\n",
            "Epoch 14/50\n",
            "62/62 [==============================] - 0s 4ms/step - loss: 0.6747 - accuracy: 0.6612\n",
            "Epoch 15/50\n",
            "62/62 [==============================] - 0s 3ms/step - loss: 0.6645 - accuracy: 0.6743\n",
            "Epoch 16/50\n",
            "62/62 [==============================] - 0s 3ms/step - loss: 0.6478 - accuracy: 0.6580\n",
            "Epoch 17/50\n",
            "62/62 [==============================] - 0s 3ms/step - loss: 0.6312 - accuracy: 0.6759\n",
            "Epoch 18/50\n",
            "62/62 [==============================] - 0s 3ms/step - loss: 0.6219 - accuracy: 0.6857\n",
            "Epoch 19/50\n",
            "62/62 [==============================] - 0s 3ms/step - loss: 0.6125 - accuracy: 0.6922\n",
            "Epoch 20/50\n",
            "62/62 [==============================] - 0s 3ms/step - loss: 0.6097 - accuracy: 0.6987\n",
            "Epoch 21/50\n",
            "62/62 [==============================] - 0s 3ms/step - loss: 0.5963 - accuracy: 0.6954\n",
            "Epoch 22/50\n",
            "62/62 [==============================] - 0s 3ms/step - loss: 0.5957 - accuracy: 0.6922\n",
            "Epoch 23/50\n",
            "62/62 [==============================] - 0s 3ms/step - loss: 0.5871 - accuracy: 0.7036\n",
            "Epoch 24/50\n",
            "62/62 [==============================] - 0s 3ms/step - loss: 0.5784 - accuracy: 0.7117\n",
            "Epoch 25/50\n",
            "62/62 [==============================] - 0s 2ms/step - loss: 0.5746 - accuracy: 0.7134\n",
            "Epoch 26/50\n",
            "62/62 [==============================] - 0s 2ms/step - loss: 0.5800 - accuracy: 0.7052\n",
            "Epoch 27/50\n",
            "62/62 [==============================] - 0s 2ms/step - loss: 0.5693 - accuracy: 0.7182\n",
            "Epoch 28/50\n",
            "62/62 [==============================] - 0s 2ms/step - loss: 0.5734 - accuracy: 0.6987\n",
            "Epoch 29/50\n",
            "62/62 [==============================] - 0s 2ms/step - loss: 0.5712 - accuracy: 0.7052\n",
            "Epoch 30/50\n",
            "62/62 [==============================] - 0s 2ms/step - loss: 0.5720 - accuracy: 0.7182\n",
            "Epoch 31/50\n",
            "62/62 [==============================] - 0s 2ms/step - loss: 0.5760 - accuracy: 0.7085\n",
            "Epoch 32/50\n",
            "62/62 [==============================] - 0s 2ms/step - loss: 0.5813 - accuracy: 0.7264\n",
            "Epoch 33/50\n",
            "62/62 [==============================] - 0s 2ms/step - loss: 0.5620 - accuracy: 0.7280\n",
            "Epoch 34/50\n",
            "62/62 [==============================] - 0s 2ms/step - loss: 0.5565 - accuracy: 0.7052\n",
            "Epoch 35/50\n",
            "62/62 [==============================] - 0s 2ms/step - loss: 0.5740 - accuracy: 0.7231\n",
            "Epoch 36/50\n",
            "62/62 [==============================] - 0s 2ms/step - loss: 0.5620 - accuracy: 0.7182\n",
            "Epoch 37/50\n",
            "62/62 [==============================] - 0s 2ms/step - loss: 0.5525 - accuracy: 0.7150\n",
            "Epoch 38/50\n",
            "62/62 [==============================] - 0s 2ms/step - loss: 0.5496 - accuracy: 0.7231\n",
            "Epoch 39/50\n",
            "62/62 [==============================] - 0s 2ms/step - loss: 0.5505 - accuracy: 0.7231\n",
            "Epoch 40/50\n",
            "62/62 [==============================] - 0s 2ms/step - loss: 0.5472 - accuracy: 0.7182\n",
            "Epoch 41/50\n",
            "62/62 [==============================] - 0s 2ms/step - loss: 0.5503 - accuracy: 0.7264\n",
            "Epoch 42/50\n",
            "62/62 [==============================] - 0s 2ms/step - loss: 0.5578 - accuracy: 0.7166\n",
            "Epoch 43/50\n",
            "62/62 [==============================] - 0s 2ms/step - loss: 0.5487 - accuracy: 0.7248\n",
            "Epoch 44/50\n",
            "62/62 [==============================] - 0s 2ms/step - loss: 0.5475 - accuracy: 0.7166\n",
            "Epoch 45/50\n",
            "62/62 [==============================] - 0s 2ms/step - loss: 0.5443 - accuracy: 0.7345\n",
            "Epoch 46/50\n",
            "62/62 [==============================] - 0s 2ms/step - loss: 0.5483 - accuracy: 0.7134\n",
            "Epoch 47/50\n",
            "62/62 [==============================] - 0s 2ms/step - loss: 0.5478 - accuracy: 0.7248\n",
            "Epoch 48/50\n",
            "62/62 [==============================] - 0s 2ms/step - loss: 0.5435 - accuracy: 0.7182\n",
            "Epoch 49/50\n",
            "62/62 [==============================] - 0s 2ms/step - loss: 0.5436 - accuracy: 0.7166\n",
            "Epoch 50/50\n",
            "62/62 [==============================] - 0s 2ms/step - loss: 0.5481 - accuracy: 0.7329\n",
            "5/5 [==============================] - 0s 3ms/step - loss: 0.6104 - accuracy: 0.7013\n",
            "\n",
            " Accuracy: 0.7013\n"
          ]
        }
      ]
    },
    {
      "cell_type": "code",
      "execution_count": 13,
      "metadata": {
        "id": "4dbtsSH3kl5x"
      },
      "outputs": [],
      "source": [
        "model.save(\"model.h5\")"
      ]
    },
    {
      "cell_type": "code",
      "execution_count": 14,
      "metadata": {
        "colab": {
          "base_uri": "https://localhost:8080/"
        },
        "id": "W6aHtZFg91y6",
        "outputId": "7920ec1b-811c-4c53-f02a-101dcefe61d4"
      },
      "outputs": [
        {
          "output_type": "stream",
          "name": "stdout",
          "text": [
            "Model: \"sequential\"\n",
            "_________________________________________________________________\n",
            " Layer (type)                Output Shape              Param #   \n",
            "=================================================================\n",
            " dense (Dense)               (None, 12)                108       \n",
            "                                                                 \n",
            " dense_1 (Dense)             (None, 8)                 104       \n",
            "                                                                 \n",
            " dense_2 (Dense)             (None, 1)                 9         \n",
            "                                                                 \n",
            "=================================================================\n",
            "Total params: 221\n",
            "Trainable params: 221\n",
            "Non-trainable params: 0\n",
            "_________________________________________________________________\n"
          ]
        }
      ],
      "source": [
        "from keras.models import load_model\n",
        " \n",
        "# load model\n",
        "model = load_model('model.h5')\n",
        "# summarize model.\n",
        "model.summary()"
      ]
    },
    {
      "cell_type": "code",
      "execution_count": 16,
      "metadata": {
        "id": "antZseGY91y9"
      },
      "outputs": [],
      "source": [
        "from sklearn.preprocessing import StandardScaler\n",
        "scaler = StandardScaler()\n",
        "scaler.fit(X)\n",
        "X_ss = scaler.transform(X)"
      ]
    },
    {
      "cell_type": "code",
      "execution_count": 17,
      "metadata": {
        "colab": {
          "base_uri": "https://localhost:8080/"
        },
        "id": "0uNF6kk591zA",
        "outputId": "da7f066f-fb2d-4827-a91a-56d9749f741f"
      },
      "outputs": [
        {
          "output_type": "execute_result",
          "data": {
            "text/plain": [
              "array([[ 0.63994726,  0.84832379,  0.14964075, ...,  0.20401277,\n",
              "         0.46849198,  1.4259954 ],\n",
              "       [-0.84488505, -1.12339636, -0.16054575, ..., -0.68442195,\n",
              "        -0.36506078, -0.19067191],\n",
              "       [ 1.23388019,  1.94372388, -0.26394125, ..., -1.10325546,\n",
              "         0.60439732, -0.10558415],\n",
              "       ...,\n",
              "       [ 0.3429808 ,  0.00330087,  0.14964075, ..., -0.73518964,\n",
              "        -0.68519336, -0.27575966],\n",
              "       [-0.84488505,  0.1597866 , -0.47073225, ..., -0.24020459,\n",
              "        -0.37110101,  1.17073215],\n",
              "       [-0.84488505, -0.8730192 ,  0.04624525, ..., -0.20212881,\n",
              "        -0.47378505, -0.87137393]])"
            ]
          },
          "metadata": {},
          "execution_count": 17
        }
      ],
      "source": [
        "X_ss"
      ]
    },
    {
      "cell_type": "code",
      "source": [
        "X_train, X_test, y_train, y_test = train_test_split(X_ss, y, test_size=0.2)"
      ],
      "metadata": {
        "id": "Phs0Z6p9AQcH"
      },
      "execution_count": 19,
      "outputs": []
    },
    {
      "cell_type": "code",
      "execution_count": 20,
      "metadata": {
        "colab": {
          "base_uri": "https://localhost:8080/"
        },
        "id": "j02Z5vBE91zC",
        "outputId": "5234c97f-8645-49de-d64e-2d6a6b13f046"
      },
      "outputs": [
        {
          "output_type": "stream",
          "name": "stdout",
          "text": [
            "Epoch 1/50\n",
            "62/62 [==============================] - 1s 3ms/step - loss: 0.5765 - accuracy: 0.6661\n",
            "Epoch 2/50\n",
            "62/62 [==============================] - 0s 3ms/step - loss: 0.5402 - accuracy: 0.6710\n",
            "Epoch 3/50\n",
            "62/62 [==============================] - 0s 3ms/step - loss: 0.5241 - accuracy: 0.6775\n",
            "Epoch 4/50\n",
            "62/62 [==============================] - 0s 3ms/step - loss: 0.5157 - accuracy: 0.6743\n",
            "Epoch 5/50\n",
            "62/62 [==============================] - 0s 3ms/step - loss: 0.5082 - accuracy: 0.6873\n",
            "Epoch 6/50\n",
            "62/62 [==============================] - 0s 3ms/step - loss: 0.5022 - accuracy: 0.7020\n",
            "Epoch 7/50\n",
            "62/62 [==============================] - 0s 3ms/step - loss: 0.4979 - accuracy: 0.7068\n",
            "Epoch 8/50\n",
            "62/62 [==============================] - 0s 3ms/step - loss: 0.4928 - accuracy: 0.7134\n",
            "Epoch 9/50\n",
            "62/62 [==============================] - 0s 3ms/step - loss: 0.4890 - accuracy: 0.7166\n",
            "Epoch 10/50\n",
            "62/62 [==============================] - 0s 3ms/step - loss: 0.4853 - accuracy: 0.7264\n",
            "Epoch 11/50\n",
            "62/62 [==============================] - 0s 3ms/step - loss: 0.4834 - accuracy: 0.7264\n",
            "Epoch 12/50\n",
            "62/62 [==============================] - 0s 3ms/step - loss: 0.4793 - accuracy: 0.7362\n",
            "Epoch 13/50\n",
            "62/62 [==============================] - 0s 3ms/step - loss: 0.4770 - accuracy: 0.7427\n",
            "Epoch 14/50\n",
            "62/62 [==============================] - 0s 3ms/step - loss: 0.4741 - accuracy: 0.7427\n",
            "Epoch 15/50\n",
            "62/62 [==============================] - 0s 2ms/step - loss: 0.4709 - accuracy: 0.7394\n",
            "Epoch 16/50\n",
            "62/62 [==============================] - 0s 2ms/step - loss: 0.4687 - accuracy: 0.7427\n",
            "Epoch 17/50\n",
            "62/62 [==============================] - 0s 2ms/step - loss: 0.4668 - accuracy: 0.7362\n",
            "Epoch 18/50\n",
            "62/62 [==============================] - 0s 3ms/step - loss: 0.4646 - accuracy: 0.7427\n",
            "Epoch 19/50\n",
            "62/62 [==============================] - 0s 3ms/step - loss: 0.4632 - accuracy: 0.7476\n",
            "Epoch 20/50\n",
            "62/62 [==============================] - 0s 3ms/step - loss: 0.4607 - accuracy: 0.7476\n",
            "Epoch 21/50\n",
            "62/62 [==============================] - 0s 3ms/step - loss: 0.4589 - accuracy: 0.7476\n",
            "Epoch 22/50\n",
            "62/62 [==============================] - 0s 3ms/step - loss: 0.4579 - accuracy: 0.7443\n",
            "Epoch 23/50\n",
            "62/62 [==============================] - 0s 3ms/step - loss: 0.4555 - accuracy: 0.7541\n",
            "Epoch 24/50\n",
            "62/62 [==============================] - 0s 3ms/step - loss: 0.4533 - accuracy: 0.7508\n",
            "Epoch 25/50\n",
            "62/62 [==============================] - 0s 3ms/step - loss: 0.4518 - accuracy: 0.7508\n",
            "Epoch 26/50\n",
            "62/62 [==============================] - 0s 3ms/step - loss: 0.4510 - accuracy: 0.7524\n",
            "Epoch 27/50\n",
            "62/62 [==============================] - 0s 2ms/step - loss: 0.4490 - accuracy: 0.7606\n",
            "Epoch 28/50\n",
            "62/62 [==============================] - 0s 3ms/step - loss: 0.4473 - accuracy: 0.7557\n",
            "Epoch 29/50\n",
            "62/62 [==============================] - 0s 3ms/step - loss: 0.4457 - accuracy: 0.7557\n",
            "Epoch 30/50\n",
            "62/62 [==============================] - 0s 2ms/step - loss: 0.4444 - accuracy: 0.7606\n",
            "Epoch 31/50\n",
            "62/62 [==============================] - 0s 3ms/step - loss: 0.4439 - accuracy: 0.7606\n",
            "Epoch 32/50\n",
            "62/62 [==============================] - 0s 3ms/step - loss: 0.4423 - accuracy: 0.7590\n",
            "Epoch 33/50\n",
            "62/62 [==============================] - 0s 3ms/step - loss: 0.4421 - accuracy: 0.7557\n",
            "Epoch 34/50\n",
            "62/62 [==============================] - 0s 3ms/step - loss: 0.4400 - accuracy: 0.7655\n",
            "Epoch 35/50\n",
            "62/62 [==============================] - 0s 3ms/step - loss: 0.4386 - accuracy: 0.7622\n",
            "Epoch 36/50\n",
            "62/62 [==============================] - 0s 3ms/step - loss: 0.4375 - accuracy: 0.7655\n",
            "Epoch 37/50\n",
            "62/62 [==============================] - 0s 3ms/step - loss: 0.4362 - accuracy: 0.7704\n",
            "Epoch 38/50\n",
            "62/62 [==============================] - 0s 2ms/step - loss: 0.4353 - accuracy: 0.7687\n",
            "Epoch 39/50\n",
            "62/62 [==============================] - 0s 2ms/step - loss: 0.4341 - accuracy: 0.7704\n",
            "Epoch 40/50\n",
            "62/62 [==============================] - 0s 3ms/step - loss: 0.4337 - accuracy: 0.7752\n",
            "Epoch 41/50\n",
            "62/62 [==============================] - 0s 3ms/step - loss: 0.4330 - accuracy: 0.7720\n",
            "Epoch 42/50\n",
            "62/62 [==============================] - 0s 2ms/step - loss: 0.4310 - accuracy: 0.7720\n",
            "Epoch 43/50\n",
            "62/62 [==============================] - 0s 2ms/step - loss: 0.4299 - accuracy: 0.7818\n",
            "Epoch 44/50\n",
            "62/62 [==============================] - 0s 2ms/step - loss: 0.4295 - accuracy: 0.7736\n",
            "Epoch 45/50\n",
            "62/62 [==============================] - 0s 3ms/step - loss: 0.4283 - accuracy: 0.7899\n",
            "Epoch 46/50\n",
            "62/62 [==============================] - 0s 3ms/step - loss: 0.4280 - accuracy: 0.7818\n",
            "Epoch 47/50\n",
            "62/62 [==============================] - 0s 2ms/step - loss: 0.4272 - accuracy: 0.7785\n",
            "Epoch 48/50\n",
            "62/62 [==============================] - 0s 3ms/step - loss: 0.4261 - accuracy: 0.7785\n",
            "Epoch 49/50\n",
            "62/62 [==============================] - 0s 2ms/step - loss: 0.4258 - accuracy: 0.7801\n",
            "Epoch 50/50\n",
            "62/62 [==============================] - 0s 2ms/step - loss: 0.4240 - accuracy: 0.7818\n",
            "5/5 [==============================] - 0s 3ms/step - loss: 0.5037 - accuracy: 0.7662\n",
            "\n",
            " Accuracy: 0.7662\n"
          ]
        }
      ],
      "source": [
        "# 모델을 실행합니다.\n",
        "model.fit(X_train, y_train, epochs=50, batch_size=10)\n",
        "\n",
        "# 결과를 출력합니다.\n",
        "print(\"\\n Accuracy: %.4f\" % (model.evaluate(X_test, y_test)[1]))"
      ]
    },
    {
      "cell_type": "code",
      "execution_count": 21,
      "metadata": {
        "colab": {
          "base_uri": "https://localhost:8080/"
        },
        "id": "7FctyMWm91zE",
        "outputId": "ab722166-3269-46f2-a2d2-82a986e44b50"
      },
      "outputs": [
        {
          "output_type": "execute_result",
          "data": {
            "text/plain": [
              "array([[2.09520757e-02],\n",
              "       [7.61704803e-01],\n",
              "       [3.53735685e-03],\n",
              "       [6.12223506e-01],\n",
              "       [5.32934070e-01],\n",
              "       [4.02075410e-01],\n",
              "       [8.65128338e-02],\n",
              "       [7.69674778e-04],\n",
              "       [1.55015260e-01],\n",
              "       [1.87880099e-02],\n",
              "       [5.04297078e-01],\n",
              "       [2.46935219e-01],\n",
              "       [2.14865774e-01],\n",
              "       [7.13895559e-01],\n",
              "       [8.14059019e-01],\n",
              "       [1.34229660e-04],\n",
              "       [4.38266098e-02],\n",
              "       [9.93162394e-04],\n",
              "       [6.93250835e-01],\n",
              "       [5.30613601e-01],\n",
              "       [7.19712675e-02],\n",
              "       [1.52876675e-02],\n",
              "       [2.26612478e-01],\n",
              "       [4.47619051e-01],\n",
              "       [3.14536691e-03],\n",
              "       [7.92837262e-01],\n",
              "       [2.11202413e-01],\n",
              "       [6.39818907e-02],\n",
              "       [5.02453804e-01],\n",
              "       [2.21155137e-01],\n",
              "       [7.84484029e-01],\n",
              "       [1.60540015e-01],\n",
              "       [9.61694121e-02],\n",
              "       [1.10516548e-02],\n",
              "       [5.02641678e-01],\n",
              "       [9.03165638e-02],\n",
              "       [2.05148101e-01],\n",
              "       [3.49510193e-01],\n",
              "       [4.39874291e-01],\n",
              "       [6.76950157e-01],\n",
              "       [7.13737011e-01],\n",
              "       [2.82217860e-02],\n",
              "       [4.75579441e-01],\n",
              "       [1.51443332e-01],\n",
              "       [4.68515933e-01],\n",
              "       [5.34499049e-01],\n",
              "       [2.11562961e-01],\n",
              "       [4.25960422e-01],\n",
              "       [4.16260719e-01],\n",
              "       [1.71448678e-01],\n",
              "       [7.15805292e-01],\n",
              "       [3.99052113e-01],\n",
              "       [9.63261127e-02],\n",
              "       [7.34181643e-01],\n",
              "       [4.11008865e-01],\n",
              "       [1.08505070e-01],\n",
              "       [4.84319121e-01],\n",
              "       [4.18835312e-01],\n",
              "       [3.36573511e-01],\n",
              "       [1.15634561e-01],\n",
              "       [9.33368444e-01],\n",
              "       [5.62334061e-03],\n",
              "       [4.67706919e-01],\n",
              "       [6.17124259e-01],\n",
              "       [5.86058974e-01],\n",
              "       [7.72044003e-01],\n",
              "       [8.95714283e-01],\n",
              "       [7.31556892e-01],\n",
              "       [8.82038772e-02],\n",
              "       [3.76582354e-01],\n",
              "       [8.80082369e-01],\n",
              "       [3.54880095e-01],\n",
              "       [6.91911578e-03],\n",
              "       [4.05273050e-01],\n",
              "       [3.11695039e-02],\n",
              "       [7.07409859e-01],\n",
              "       [8.23532343e-02],\n",
              "       [5.52266836e-03],\n",
              "       [9.12976265e-03],\n",
              "       [2.18960643e-01],\n",
              "       [3.42510968e-01],\n",
              "       [5.83457470e-01],\n",
              "       [4.30642664e-02],\n",
              "       [8.26676846e-01],\n",
              "       [7.95406580e-01],\n",
              "       [6.44335747e-02],\n",
              "       [2.08479106e-01],\n",
              "       [1.47636443e-01],\n",
              "       [1.89515769e-01],\n",
              "       [4.40831482e-02],\n",
              "       [6.93464577e-01],\n",
              "       [8.21408272e-01],\n",
              "       [7.12260902e-01],\n",
              "       [1.95012301e-01],\n",
              "       [2.90345788e-01],\n",
              "       [2.52790928e-01],\n",
              "       [5.64932346e-01],\n",
              "       [2.15507418e-01],\n",
              "       [8.91684771e-01],\n",
              "       [5.62316179e-03],\n",
              "       [4.18298841e-02],\n",
              "       [8.55607152e-01],\n",
              "       [6.34295344e-02],\n",
              "       [7.37801909e-01],\n",
              "       [2.15352982e-01],\n",
              "       [1.35044515e-01],\n",
              "       [2.03374177e-01],\n",
              "       [9.10111725e-01],\n",
              "       [2.37484068e-01],\n",
              "       [4.88245636e-01],\n",
              "       [4.65600550e-01],\n",
              "       [2.46452689e-02],\n",
              "       [9.03140545e-01],\n",
              "       [3.93767357e-01],\n",
              "       [5.98041475e-01],\n",
              "       [3.24024945e-01],\n",
              "       [8.46939206e-01],\n",
              "       [7.47354984e-01],\n",
              "       [8.05781901e-01],\n",
              "       [3.35681677e-01],\n",
              "       [1.59066916e-03],\n",
              "       [1.92160994e-01],\n",
              "       [2.68250406e-02],\n",
              "       [5.06201565e-01],\n",
              "       [2.89928615e-02],\n",
              "       [5.26550889e-01],\n",
              "       [5.79393506e-02],\n",
              "       [6.59818769e-01],\n",
              "       [9.51620340e-02],\n",
              "       [7.72933841e-01],\n",
              "       [8.00985456e-01],\n",
              "       [2.94133931e-01],\n",
              "       [8.48116040e-01],\n",
              "       [7.48186707e-02],\n",
              "       [5.15203357e-01],\n",
              "       [1.15150213e-01],\n",
              "       [5.56157649e-01],\n",
              "       [5.21764934e-01],\n",
              "       [6.13063574e-04],\n",
              "       [2.80275941e-03],\n",
              "       [4.65053320e-02],\n",
              "       [5.79000115e-02],\n",
              "       [1.32313162e-01],\n",
              "       [2.66313851e-02],\n",
              "       [6.64256036e-01],\n",
              "       [1.28223300e-02],\n",
              "       [5.44715285e-01],\n",
              "       [7.10328221e-01],\n",
              "       [4.33848500e-02],\n",
              "       [4.74391907e-01],\n",
              "       [6.55664086e-01],\n",
              "       [5.45595527e-01],\n",
              "       [7.68127441e-01],\n",
              "       [3.52689087e-01]], dtype=float32)"
            ]
          },
          "metadata": {},
          "execution_count": 21
        }
      ],
      "source": [
        "model.predict(X_test)"
      ]
    },
    {
      "cell_type": "code",
      "execution_count": 22,
      "metadata": {
        "colab": {
          "base_uri": "https://localhost:8080/"
        },
        "id": "wPzhQOTn91zJ",
        "outputId": "c988a2f2-9888-4232-c520-beea513984ff"
      },
      "outputs": [
        {
          "output_type": "stream",
          "name": "stdout",
          "text": [
            "Epoch 1/200\n",
            " 1/21 [>.............................] - ETA: 9s - loss: 0.3712 - accuracy: 0.8333\n",
            "Epoch 1: val_loss improved from inf to 0.50687, saving model to /content/model.h5\n",
            "21/21 [==============================] - 1s 12ms/step - loss: 0.4244 - accuracy: 0.7850 - val_loss: 0.5069 - val_accuracy: 0.7468\n",
            "Epoch 2/200\n",
            " 1/21 [>.............................] - ETA: 0s - loss: 0.3104 - accuracy: 0.9000\n",
            "Epoch 2: val_loss improved from 0.50687 to 0.50682, saving model to /content/model.h5\n",
            "21/21 [==============================] - 0s 4ms/step - loss: 0.4217 - accuracy: 0.7818 - val_loss: 0.5068 - val_accuracy: 0.7532\n",
            "Epoch 3/200\n",
            " 1/21 [>.............................] - ETA: 0s - loss: 0.4583 - accuracy: 0.7333\n",
            "Epoch 3: val_loss improved from 0.50682 to 0.50511, saving model to /content/model.h5\n",
            "21/21 [==============================] - 0s 5ms/step - loss: 0.4203 - accuracy: 0.7785 - val_loss: 0.5051 - val_accuracy: 0.7468\n",
            "Epoch 4/200\n",
            " 1/21 [>.............................] - ETA: 0s - loss: 0.4474 - accuracy: 0.7667\n",
            "Epoch 4: val_loss did not improve from 0.50511\n",
            "21/21 [==============================] - 0s 3ms/step - loss: 0.4204 - accuracy: 0.7785 - val_loss: 0.5065 - val_accuracy: 0.7468\n",
            "Epoch 5/200\n",
            " 1/21 [>.............................] - ETA: 0s - loss: 0.5538 - accuracy: 0.6667\n",
            "Epoch 5: val_loss did not improve from 0.50511\n",
            "21/21 [==============================] - 0s 3ms/step - loss: 0.4193 - accuracy: 0.7818 - val_loss: 0.5086 - val_accuracy: 0.7532\n",
            "Epoch 6/200\n",
            " 1/21 [>.............................] - ETA: 0s - loss: 0.2535 - accuracy: 0.9333\n",
            "Epoch 6: val_loss did not improve from 0.50511\n",
            "21/21 [==============================] - 0s 3ms/step - loss: 0.4189 - accuracy: 0.7785 - val_loss: 0.5095 - val_accuracy: 0.7597\n",
            "Epoch 7/200\n",
            " 1/21 [>.............................] - ETA: 0s - loss: 0.2998 - accuracy: 0.8333\n",
            "Epoch 7: val_loss did not improve from 0.50511\n",
            "21/21 [==============================] - 0s 4ms/step - loss: 0.4179 - accuracy: 0.7834 - val_loss: 0.5063 - val_accuracy: 0.7597\n",
            "Epoch 8/200\n",
            " 1/21 [>.............................] - ETA: 0s - loss: 0.4080 - accuracy: 0.8000\n",
            "Epoch 8: val_loss did not improve from 0.50511\n",
            "21/21 [==============================] - 0s 3ms/step - loss: 0.4170 - accuracy: 0.7866 - val_loss: 0.5073 - val_accuracy: 0.7532\n",
            "Epoch 9/200\n",
            " 1/21 [>.............................] - ETA: 0s - loss: 0.4781 - accuracy: 0.7333\n",
            "Epoch 9: val_loss did not improve from 0.50511\n",
            "21/21 [==============================] - 0s 4ms/step - loss: 0.4164 - accuracy: 0.7818 - val_loss: 0.5075 - val_accuracy: 0.7468\n",
            "Epoch 10/200\n",
            " 1/21 [>.............................] - ETA: 0s - loss: 0.6226 - accuracy: 0.7333\n",
            "Epoch 10: val_loss did not improve from 0.50511\n",
            "21/21 [==============================] - 0s 3ms/step - loss: 0.4152 - accuracy: 0.7866 - val_loss: 0.5076 - val_accuracy: 0.7532\n",
            "Epoch 11/200\n",
            " 1/21 [>.............................] - ETA: 0s - loss: 0.5724 - accuracy: 0.6667\n",
            "Epoch 11: val_loss did not improve from 0.50511\n",
            "21/21 [==============================] - 0s 3ms/step - loss: 0.4156 - accuracy: 0.7801 - val_loss: 0.5111 - val_accuracy: 0.7597\n",
            "Epoch 12/200\n",
            " 1/21 [>.............................] - ETA: 0s - loss: 0.3683 - accuracy: 0.8000\n",
            "Epoch 12: val_loss did not improve from 0.50511\n",
            "21/21 [==============================] - 0s 3ms/step - loss: 0.4142 - accuracy: 0.7850 - val_loss: 0.5075 - val_accuracy: 0.7727\n",
            "Epoch 13/200\n",
            " 1/21 [>.............................] - ETA: 0s - loss: 0.2921 - accuracy: 0.8667\n",
            "Epoch 13: val_loss did not improve from 0.50511\n",
            "21/21 [==============================] - 0s 3ms/step - loss: 0.4142 - accuracy: 0.7899 - val_loss: 0.5066 - val_accuracy: 0.7597\n"
          ]
        },
        {
          "output_type": "execute_result",
          "data": {
            "text/plain": [
              "<keras.callbacks.History at 0x7ff22c131e10>"
            ]
          },
          "metadata": {},
          "execution_count": 22
        }
      ],
      "source": [
        "from keras.callbacks import ModelCheckpoint, EarlyStopping\n",
        "\n",
        "checkpoint = ModelCheckpoint(\"/content/model.h5\",             # file명을 지정합니다\n",
        "                             monitor='val_loss',   # val_loss 값이 개선되었을때 호출됩니다\n",
        "                             verbose=1,            # 로그를 출력합니다\n",
        "                             save_best_only=True,  # 가장 best 값만 저장합니다\n",
        "                             mode='auto'           # auto는 알아서 best를 찾습니다. min/max\n",
        "                            )\n",
        "\n",
        "earlystopping = EarlyStopping(monitor='val_loss',  # 모니터 기준 설정 (val loss) \n",
        "                              patience=10,         # 10회 Epoch동안 개선되지 않는다면 종료\n",
        "                             )\n",
        "\n",
        "model.compile(optimizer='adam', loss='binary_crossentropy', metrics=['accuracy'])\n",
        "\n",
        "model.fit(X_train, y_train, \n",
        "      validation_data=(X_test, y_test),\n",
        "      epochs=200, \n",
        "      batch_size=30, \n",
        "      callbacks=[checkpoint, earlystopping], # checkpoint, earlystopping 콜백\n",
        "     )"
      ]
    },
    {
      "cell_type": "code",
      "execution_count": 26,
      "metadata": {
        "colab": {
          "base_uri": "https://localhost:8080/",
          "height": 520
        },
        "id": "ItVQannr91zM",
        "outputId": "efae1160-cc58-4add-b228-1ce9d2ef02ae"
      },
      "outputs": [
        {
          "output_type": "stream",
          "name": "stdout",
          "text": [
            "Best Accuray on Test Set = 0.7532467246055603\n"
          ]
        },
        {
          "output_type": "display_data",
          "data": {
            "text/plain": [
              "<Figure size 720x576 with 1 Axes>"
            ],
            "image/png": "[encoded data removed]"
          },
          "metadata": {
            "needs_background": "light"
          }
        }
      ],
      "source": [
        "# define the keras model with l2 regularization with lambda = 0.01\n",
        "from keras.regularizers import l2\n",
        "model = Sequential()\n",
        "model.add(Dense(8, input_dim=8, activation='relu', kernel_regularizer=l2(0.01)))\n",
        "model.add(Dense(8, activation='relu', kernel_regularizer=l2(0.01)))\n",
        "model.add(Dense(1, activation='sigmoid'))\n",
        "model.compile(loss='binary_crossentropy', optimizer='adam', metrics=['accuracy'])\n",
        "\n",
        "# train the model using training set while evaluationg on test set\n",
        "history=model.fit(X_train, y_train, batch_size = 10, epochs = 300, validation_data=(X_test, y_test), verbose=0)\n",
        "\n",
        "# plot training error and test error\n",
        "matplotlib.rcParams['figure.figsize'] = (10.0, 8.0)\n",
        "plt.plot(history.history['loss'])\n",
        "plt.plot(history.history['val_loss'])\n",
        "plt.ylim(0,1)\n",
        "plt.ylabel('loss')\n",
        "plt.xlabel('epoch')\n",
        "plt.legend(['train loss', 'test loss'], loc='upper right')\n",
        "# print the best accuracy reached on the test set\n",
        "print(\"Best Accuray on Test Set =\", max(history.history['val_accuracy']))"
      ]
    },
    {
      "cell_type": "code",
      "execution_count": 25,
      "metadata": {
        "colab": {
          "base_uri": "https://localhost:8080/",
          "height": 520
        },
        "id": "xjq1kQ8591zO",
        "outputId": "6cc7a45e-f4cc-4ec7-e1bb-29298bd48976"
      },
      "outputs": [
        {
          "output_type": "stream",
          "name": "stdout",
          "text": [
            "Best Accuray on Test Set = 0.5974025726318359\n"
          ]
        },
        {
          "output_type": "display_data",
          "data": {
            "text/plain": [
              "<Figure size 720x576 with 1 Axes>"
            ],
            "image/png": "[encoded data removed]"
          },
          "metadata": {
            "needs_background": "light"
          }
        }
      ],
      "source": [
        "# define the keras model with l2 regularization with lambda = 0.5\n",
        "from keras.regularizers import l2\n",
        "model = Sequential()\n",
        "model.add(Dense(8, input_dim=8, activation='relu', kernel_regularizer=l2(0.5)))\n",
        "model.add(Dense(8, activation='relu', kernel_regularizer=l2(0.5)))\n",
        "model.add(Dense(1, activation='sigmoid'))\n",
        "model.compile(loss='binary_crossentropy', optimizer='adam', metrics=['accuracy'])\n",
        "\n",
        "# train the model using training set while evaluationg on test set\n",
        "history=model.fit(X_train, y_train, batch_size = 10, epochs = 300, validation_data=(X_test, y_test), verbose=0)\n",
        "\n",
        "# plot training error and test error\n",
        "matplotlib.rcParams['figure.figsize'] = (10.0, 8.0)\n",
        "plt.plot(history.history['loss'])\n",
        "plt.plot(history.history['val_loss'])\n",
        "plt.ylim(0,1)\n",
        "plt.ylabel('loss')\n",
        "plt.xlabel('epoch')\n",
        "plt.legend(['train loss', 'test loss'], loc='upper right')\n",
        "# print the best accuracy reached on the test set\n",
        "print(\"Best Accuray on Test Set =\", max(history.history['val_accuracy']))"
      ]
    },
    {
      "cell_type": "code",
      "execution_count": null,
      "metadata": {
        "id": "j2fqmgKg91zQ",
        "outputId": "c77ccd06-177c-43b3-9ed4-96e0a652db45"
      },
      "outputs": [
        {
          "name": "stdout",
          "output_type": "stream",
          "text": [
            "Best Accuray on Test Set = 0.7662337422370911\n"
          ]
        },
        {
          "data": {
            "image/png": "[encoded data removed]",
            "text/plain": [
              "<Figure size 720x576 with 1 Axes>"
            ]
          },
          "metadata": {
            "needs_background": "light"
          },
          "output_type": "display_data"
        }
      ],
      "source": [
        "# 5\n",
        "# set up a seed for random number generator so the result will be reproducible\n",
        "numpy.random.seed(seed)\n",
        "\n",
        "# define the keras model with l1 regularization with lambda = 0.01\n",
        "from keras.regularizers import l1\n",
        "model = Sequential()\n",
        "model.add(Dense(8, input_dim=8, activation='relu', kernel_regularizer=l1(0.01)))\n",
        "model.add(Dense(8, activation='relu', kernel_regularizer=l1(0.01)))\n",
        "model.add(Dense(1, activation='sigmoid'))\n",
        "model.compile(loss='binary_crossentropy', optimizer='adam', metrics=['accuracy'])\n",
        "\n",
        "# train the model using training set while evaluationg on test set\n",
        "history=model.fit(X_train, y_train, batch_size = 10, epochs = 300, validation_data=(X_test, y_test), verbose=0)\n",
        "\n",
        "# plot training error and test error\n",
        "matplotlib.rcParams['figure.figsize'] = (10.0, 8.0)\n",
        "plt.plot(history.history['loss'])\n",
        "plt.plot(history.history['val_loss'])\n",
        "plt.ylim(0,1)\n",
        "plt.ylabel('loss')\n",
        "plt.xlabel('epoch')\n",
        "plt.legend(['train loss', 'test loss'], loc='upper right')\n",
        "# print the best accuracy reached on the test set\n",
        "print(\"Best Accuray on Test Set =\", max(history.history['val_accuracy']))"
      ]
    },
    {
      "cell_type": "code",
      "execution_count": null,
      "metadata": {
        "id": "aWdA6zYR91zS",
        "outputId": "9de8d339-bb27-4ff4-a4ad-9f3154a4b97a"
      },
      "outputs": [
        {
          "name": "stdout",
          "output_type": "stream",
          "text": [
            "Best Accuray on Test Set = 0.7705627679824829\n"
          ]
        },
        {
          "data": {
            "image/png": "[encoded data removed]",
            "text/plain": [
              "<Figure size 720x576 with 1 Axes>"
            ]
          },
          "metadata": {
            "needs_background": "light"
          },
          "output_type": "display_data"
        }
      ],
      "source": [
        "# define the keras model with l1_l2 regularization with l1_ambda = 0.01 and l2_ambda = 0.1\n",
        "from keras.regularizers import l1_l2\n",
        "model = Sequential()\n",
        "model.add(Dense(8, input_dim=8, activation='relu', kernel_regularizer=l1_l2(l1=0.01, l2=0.1)))\n",
        "model.add(Dense(8, activation='relu', kernel_regularizer=l1_l2(l1=0.01, l2=0.1)))\n",
        "model.add(Dense(1, activation='sigmoid'))\n",
        "model.compile(loss='binary_crossentropy', optimizer='adam', metrics=['accuracy'])\n",
        "\n",
        "# train the model using training set while evaluationg on test set\n",
        "history=model.fit(X_train, y_train, batch_size = 10, epochs = 300, validation_data=(X_test, y_test), verbose=0)\n",
        " \n",
        "# plot training error and test error\n",
        "matplotlib.rcParams['figure.figsize'] = (10.0, 8.0)\n",
        "plt.plot(history.history['loss'])\n",
        "plt.plot(history.history['val_loss'])\n",
        "plt.ylim(0,1)\n",
        "plt.ylabel('loss')\n",
        "plt.xlabel('epoch')\n",
        "plt.legend(['train loss', 'test loss'], loc='upper right')\n",
        "# print the best accuracy reached on the test set\n",
        "print(\"Best Accuray on Test Set =\", max(history.history['val_accuracy']))"
      ]
    }
  ],
  "metadata": {
    "colab": {
      "name": "Pima_Indian.ipynb",
      "provenance": []
    },
    "kernelspec": {
      "display_name": "Python 3",
      "language": "python",
      "name": "python3"
    },
    "language_info": {
      "codemirror_mode": {
        "name": "ipython",
        "version": 3
      },
      "file_extension": ".py",
      "mimetype": "text/x-python",
      "name": "python",
      "nbconvert_exporter": "python",
      "pygments_lexer": "ipython3",
      "version": "3.7.4"
    }
  },
  "nbformat": 4,
  "nbformat_minor": 0
}