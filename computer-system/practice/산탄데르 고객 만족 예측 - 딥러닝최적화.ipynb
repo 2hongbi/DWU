{
 "cells": [
  {
   "cell_type": "code",
   "execution_count": 1,
   "metadata": {
    "collapsed": true
   },
   "outputs": [],
   "source": [
    "import pandas as pd\n",
    "import numpy as np\n",
    "import matplotlib.pyplot as plt\n",
    "import matplotlib"
   ]
  },
  {
   "cell_type": "code",
   "execution_count": 2,
   "outputs": [
    {
     "name": "stdout",
     "output_type": "stream",
     "text": [
      "dataset shape:  (76020, 371)\n"
     ]
    },
    {
     "data": {
      "text/plain": "   ID  var3  var15  imp_ent_var16_ult1  imp_op_var39_comer_ult1  \\\n0   1     2     23                 0.0                      0.0   \n1   3     2     34                 0.0                      0.0   \n2   4     2     23                 0.0                      0.0   \n\n   imp_op_var39_comer_ult3  imp_op_var40_comer_ult1  imp_op_var40_comer_ult3  \\\n0                      0.0                      0.0                      0.0   \n1                      0.0                      0.0                      0.0   \n2                      0.0                      0.0                      0.0   \n\n   imp_op_var40_efect_ult1  imp_op_var40_efect_ult3  ...  \\\n0                      0.0                      0.0  ...   \n1                      0.0                      0.0  ...   \n2                      0.0                      0.0  ...   \n\n   saldo_medio_var33_hace2  saldo_medio_var33_hace3  saldo_medio_var33_ult1  \\\n0                      0.0                      0.0                     0.0   \n1                      0.0                      0.0                     0.0   \n2                      0.0                      0.0                     0.0   \n\n   saldo_medio_var33_ult3  saldo_medio_var44_hace2  saldo_medio_var44_hace3  \\\n0                     0.0                      0.0                      0.0   \n1                     0.0                      0.0                      0.0   \n2                     0.0                      0.0                      0.0   \n\n   saldo_medio_var44_ult1  saldo_medio_var44_ult3     var38  TARGET  \n0                     0.0                     0.0  39205.17       0  \n1                     0.0                     0.0  49278.03       0  \n2                     0.0                     0.0  67333.77       0  \n\n[3 rows x 371 columns]",
      "text/html": "<div>\n<style scoped>\n    .dataframe tbody tr th:only-of-type {\n        vertical-align: middle;\n    }\n\n    .dataframe tbody tr th {\n        vertical-align: top;\n    }\n\n    .dataframe thead th {\n        text-align: right;\n    }\n</style>\n<table border=\"1\" class=\"dataframe\">\n  <thead>\n    <tr style=\"text-align: right;\">\n      <th></th>\n      <th>ID</th>\n      <th>var3</th>\n      <th>var15</th>\n      <th>imp_ent_var16_ult1</th>\n      <th>imp_op_var39_comer_ult1</th>\n      <th>imp_op_var39_comer_ult3</th>\n      <th>imp_op_var40_comer_ult1</th>\n      <th>imp_op_var40_comer_ult3</th>\n      <th>imp_op_var40_efect_ult1</th>\n      <th>imp_op_var40_efect_ult3</th>\n      <th>...</th>\n      <th>saldo_medio_var33_hace2</th>\n      <th>saldo_medio_var33_hace3</th>\n      <th>saldo_medio_var33_ult1</th>\n      <th>saldo_medio_var33_ult3</th>\n      <th>saldo_medio_var44_hace2</th>\n      <th>saldo_medio_var44_hace3</th>\n      <th>saldo_medio_var44_ult1</th>\n      <th>saldo_medio_var44_ult3</th>\n      <th>var38</th>\n      <th>TARGET</th>\n    </tr>\n  </thead>\n  <tbody>\n    <tr>\n      <th>0</th>\n      <td>1</td>\n      <td>2</td>\n      <td>23</td>\n      <td>0.0</td>\n      <td>0.0</td>\n      <td>0.0</td>\n      <td>0.0</td>\n      <td>0.0</td>\n      <td>0.0</td>\n      <td>0.0</td>\n      <td>...</td>\n      <td>0.0</td>\n      <td>0.0</td>\n      <td>0.0</td>\n      <td>0.0</td>\n      <td>0.0</td>\n      <td>0.0</td>\n      <td>0.0</td>\n      <td>0.0</td>\n      <td>39205.17</td>\n      <td>0</td>\n    </tr>\n    <tr>\n      <th>1</th>\n      <td>3</td>\n      <td>2</td>\n      <td>34</td>\n      <td>0.0</td>\n      <td>0.0</td>\n      <td>0.0</td>\n      <td>0.0</td>\n      <td>0.0</td>\n      <td>0.0</td>\n      <td>0.0</td>\n      <td>...</td>\n      <td>0.0</td>\n      <td>0.0</td>\n      <td>0.0</td>\n      <td>0.0</td>\n      <td>0.0</td>\n      <td>0.0</td>\n      <td>0.0</td>\n      <td>0.0</td>\n      <td>49278.03</td>\n      <td>0</td>\n    </tr>\n    <tr>\n      <th>2</th>\n      <td>4</td>\n      <td>2</td>\n      <td>23</td>\n      <td>0.0</td>\n      <td>0.0</td>\n      <td>0.0</td>\n      <td>0.0</td>\n      <td>0.0</td>\n      <td>0.0</td>\n      <td>0.0</td>\n      <td>...</td>\n      <td>0.0</td>\n      <td>0.0</td>\n      <td>0.0</td>\n      <td>0.0</td>\n      <td>0.0</td>\n      <td>0.0</td>\n      <td>0.0</td>\n      <td>0.0</td>\n      <td>67333.77</td>\n      <td>0</td>\n    </tr>\n  </tbody>\n</table>\n<p>3 rows × 371 columns</p>\n</div>"
     },
     "execution_count": 2,
     "metadata": {},
     "output_type": "execute_result"
    }
   ],
   "source": [
    "cust_df = pd.read_csv('./../data/train_santander.csv', encoding='latin-1')\n",
    "print('dataset shape: ', cust_df.shape)\n",
    "cust_df.head(3)"
   ],
   "metadata": {
    "collapsed": false,
    "pycharm": {
     "name": "#%%\n"
    }
   }
  },
  {
   "cell_type": "code",
   "execution_count": 3,
   "outputs": [
    {
     "name": "stdout",
     "output_type": "stream",
     "text": [
      "<class 'pandas.core.frame.DataFrame'>\n",
      "RangeIndex: 76020 entries, 0 to 76019\n",
      "Columns: 371 entries, ID to TARGET\n",
      "dtypes: float64(111), int64(260)\n",
      "memory usage: 215.2 MB\n"
     ]
    }
   ],
   "source": [
    "cust_df.info()"
   ],
   "metadata": {
    "collapsed": false,
    "pycharm": {
     "name": "#%%\n"
    }
   }
  },
  {
   "cell_type": "markdown",
   "source": [
    "* null값은 존재하지 않음"
   ],
   "metadata": {
    "collapsed": false
   }
  },
  {
   "cell_type": "code",
   "execution_count": 4,
   "outputs": [
    {
     "data": {
      "text/plain": "0"
     },
     "execution_count": 4,
     "metadata": {},
     "output_type": "execute_result"
    }
   ],
   "source": [
    "cust_df.isnull().sum().sum()"
   ],
   "metadata": {
    "collapsed": false,
    "pycharm": {
     "name": "#%%\n"
    }
   }
  },
  {
   "cell_type": "code",
   "execution_count": 5,
   "outputs": [
    {
     "name": "stdout",
     "output_type": "stream",
     "text": [
      "0    73012\n",
      "1     3008\n",
      "Name: TARGET, dtype: int64\n",
      "unsatisfied 비율은 0.04\n"
     ]
    }
   ],
   "source": [
    "print(cust_df['TARGET'].value_counts())\n",
    "unsatisfied_cnt = cust_df[cust_df['TARGET'] == 1].TARGET.count()\n",
    "total_cnt = cust_df.TARGET.count()\n",
    "print('unsatisfied 비율은 {0:.2f}'.format((unsatisfied_cnt / total_cnt)))"
   ],
   "metadata": {
    "collapsed": false,
    "pycharm": {
     "name": "#%%\n"
    }
   }
  },
  {
   "cell_type": "code",
   "execution_count": 6,
   "outputs": [
    {
     "data": {
      "text/plain": "                  ID           var3         var15  imp_ent_var16_ult1  \\\ncount   76020.000000   76020.000000  76020.000000        76020.000000   \nmean    75964.050723   -1523.199277     33.212865           86.208265   \nstd     43781.947379   39033.462364     12.956486         1614.757313   \nmin         1.000000 -999999.000000      5.000000            0.000000   \n25%     38104.750000       2.000000     23.000000            0.000000   \n50%     76043.000000       2.000000     28.000000            0.000000   \n75%    113748.750000       2.000000     40.000000            0.000000   \nmax    151838.000000     238.000000    105.000000       210000.000000   \n\n       imp_op_var39_comer_ult1  imp_op_var39_comer_ult3  \\\ncount             76020.000000             76020.000000   \nmean                 72.363067               119.529632   \nstd                 339.315831               546.266294   \nmin                   0.000000                 0.000000   \n25%                   0.000000                 0.000000   \n50%                   0.000000                 0.000000   \n75%                   0.000000                 0.000000   \nmax               12888.030000             21024.810000   \n\n       imp_op_var40_comer_ult1  imp_op_var40_comer_ult3  \\\ncount             76020.000000             76020.000000   \nmean                  3.559130                 6.472698   \nstd                  93.155749               153.737066   \nmin                   0.000000                 0.000000   \n25%                   0.000000                 0.000000   \n50%                   0.000000                 0.000000   \n75%                   0.000000                 0.000000   \nmax                8237.820000             11073.570000   \n\n       imp_op_var40_efect_ult1  imp_op_var40_efect_ult3  ...  \\\ncount             76020.000000             76020.000000  ...   \nmean                  0.412946                 0.567352  ...   \nstd                  30.604864                36.513513  ...   \nmin                   0.000000                 0.000000  ...   \n25%                   0.000000                 0.000000  ...   \n50%                   0.000000                 0.000000  ...   \n75%                   0.000000                 0.000000  ...   \nmax                6600.000000              6600.000000  ...   \n\n       saldo_medio_var33_hace2  saldo_medio_var33_hace3  \\\ncount             76020.000000             76020.000000   \nmean                  7.935824                 1.365146   \nstd                 455.887218               113.959637   \nmin                   0.000000                 0.000000   \n25%                   0.000000                 0.000000   \n50%                   0.000000                 0.000000   \n75%                   0.000000                 0.000000   \nmax               50003.880000             20385.720000   \n\n       saldo_medio_var33_ult1  saldo_medio_var33_ult3  \\\ncount            76020.000000            76020.000000   \nmean                12.215580                8.784074   \nstd                783.207399              538.439211   \nmin                  0.000000                0.000000   \n25%                  0.000000                0.000000   \n50%                  0.000000                0.000000   \n75%                  0.000000                0.000000   \nmax             138831.630000            91778.730000   \n\n       saldo_medio_var44_hace2  saldo_medio_var44_hace3  \\\ncount             76020.000000             76020.000000   \nmean                 31.505324                 1.858575   \nstd                2013.125393               147.786584   \nmin                   0.000000                 0.000000   \n25%                   0.000000                 0.000000   \n50%                   0.000000                 0.000000   \n75%                   0.000000                 0.000000   \nmax              438329.220000             24650.010000   \n\n       saldo_medio_var44_ult1  saldo_medio_var44_ult3         var38  \\\ncount            76020.000000            76020.000000  7.602000e+04   \nmean                76.026165               56.614351  1.172358e+05   \nstd               4040.337842             2852.579397  1.826646e+05   \nmin                  0.000000                0.000000  5.163750e+03   \n25%                  0.000000                0.000000  6.787061e+04   \n50%                  0.000000                0.000000  1.064092e+05   \n75%                  0.000000                0.000000  1.187563e+05   \nmax             681462.900000           397884.300000  2.203474e+07   \n\n             TARGET  \ncount  76020.000000  \nmean       0.039569  \nstd        0.194945  \nmin        0.000000  \n25%        0.000000  \n50%        0.000000  \n75%        0.000000  \nmax        1.000000  \n\n[8 rows x 371 columns]",
      "text/html": "<div>\n<style scoped>\n    .dataframe tbody tr th:only-of-type {\n        vertical-align: middle;\n    }\n\n    .dataframe tbody tr th {\n        vertical-align: top;\n    }\n\n    .dataframe thead th {\n        text-align: right;\n    }\n</style>\n<table border=\"1\" class=\"dataframe\">\n  <thead>\n    <tr style=\"text-align: right;\">\n      <th></th>\n      <th>ID</th>\n      <th>var3</th>\n      <th>var15</th>\n      <th>imp_ent_var16_ult1</th>\n      <th>imp_op_var39_comer_ult1</th>\n      <th>imp_op_var39_comer_ult3</th>\n      <th>imp_op_var40_comer_ult1</th>\n      <th>imp_op_var40_comer_ult3</th>\n      <th>imp_op_var40_efect_ult1</th>\n      <th>imp_op_var40_efect_ult3</th>\n      <th>...</th>\n      <th>saldo_medio_var33_hace2</th>\n      <th>saldo_medio_var33_hace3</th>\n      <th>saldo_medio_var33_ult1</th>\n      <th>saldo_medio_var33_ult3</th>\n      <th>saldo_medio_var44_hace2</th>\n      <th>saldo_medio_var44_hace3</th>\n      <th>saldo_medio_var44_ult1</th>\n      <th>saldo_medio_var44_ult3</th>\n      <th>var38</th>\n      <th>TARGET</th>\n    </tr>\n  </thead>\n  <tbody>\n    <tr>\n      <th>count</th>\n      <td>76020.000000</td>\n      <td>76020.000000</td>\n      <td>76020.000000</td>\n      <td>76020.000000</td>\n      <td>76020.000000</td>\n      <td>76020.000000</td>\n      <td>76020.000000</td>\n      <td>76020.000000</td>\n      <td>76020.000000</td>\n      <td>76020.000000</td>\n      <td>...</td>\n      <td>76020.000000</td>\n      <td>76020.000000</td>\n      <td>76020.000000</td>\n      <td>76020.000000</td>\n      <td>76020.000000</td>\n      <td>76020.000000</td>\n      <td>76020.000000</td>\n      <td>76020.000000</td>\n      <td>7.602000e+04</td>\n      <td>76020.000000</td>\n    </tr>\n    <tr>\n      <th>mean</th>\n      <td>75964.050723</td>\n      <td>-1523.199277</td>\n      <td>33.212865</td>\n      <td>86.208265</td>\n      <td>72.363067</td>\n      <td>119.529632</td>\n      <td>3.559130</td>\n      <td>6.472698</td>\n      <td>0.412946</td>\n      <td>0.567352</td>\n      <td>...</td>\n      <td>7.935824</td>\n      <td>1.365146</td>\n      <td>12.215580</td>\n      <td>8.784074</td>\n      <td>31.505324</td>\n      <td>1.858575</td>\n      <td>76.026165</td>\n      <td>56.614351</td>\n      <td>1.172358e+05</td>\n      <td>0.039569</td>\n    </tr>\n    <tr>\n      <th>std</th>\n      <td>43781.947379</td>\n      <td>39033.462364</td>\n      <td>12.956486</td>\n      <td>1614.757313</td>\n      <td>339.315831</td>\n      <td>546.266294</td>\n      <td>93.155749</td>\n      <td>153.737066</td>\n      <td>30.604864</td>\n      <td>36.513513</td>\n      <td>...</td>\n      <td>455.887218</td>\n      <td>113.959637</td>\n      <td>783.207399</td>\n      <td>538.439211</td>\n      <td>2013.125393</td>\n      <td>147.786584</td>\n      <td>4040.337842</td>\n      <td>2852.579397</td>\n      <td>1.826646e+05</td>\n      <td>0.194945</td>\n    </tr>\n    <tr>\n      <th>min</th>\n      <td>1.000000</td>\n      <td>-999999.000000</td>\n      <td>5.000000</td>\n      <td>0.000000</td>\n      <td>0.000000</td>\n      <td>0.000000</td>\n      <td>0.000000</td>\n      <td>0.000000</td>\n      <td>0.000000</td>\n      <td>0.000000</td>\n      <td>...</td>\n      <td>0.000000</td>\n      <td>0.000000</td>\n      <td>0.000000</td>\n      <td>0.000000</td>\n      <td>0.000000</td>\n      <td>0.000000</td>\n      <td>0.000000</td>\n      <td>0.000000</td>\n      <td>5.163750e+03</td>\n      <td>0.000000</td>\n    </tr>\n    <tr>\n      <th>25%</th>\n      <td>38104.750000</td>\n      <td>2.000000</td>\n      <td>23.000000</td>\n      <td>0.000000</td>\n      <td>0.000000</td>\n      <td>0.000000</td>\n      <td>0.000000</td>\n      <td>0.000000</td>\n      <td>0.000000</td>\n      <td>0.000000</td>\n      <td>...</td>\n      <td>0.000000</td>\n      <td>0.000000</td>\n      <td>0.000000</td>\n      <td>0.000000</td>\n      <td>0.000000</td>\n      <td>0.000000</td>\n      <td>0.000000</td>\n      <td>0.000000</td>\n      <td>6.787061e+04</td>\n      <td>0.000000</td>\n    </tr>\n    <tr>\n      <th>50%</th>\n      <td>76043.000000</td>\n      <td>2.000000</td>\n      <td>28.000000</td>\n      <td>0.000000</td>\n      <td>0.000000</td>\n      <td>0.000000</td>\n      <td>0.000000</td>\n      <td>0.000000</td>\n      <td>0.000000</td>\n      <td>0.000000</td>\n      <td>...</td>\n      <td>0.000000</td>\n      <td>0.000000</td>\n      <td>0.000000</td>\n      <td>0.000000</td>\n      <td>0.000000</td>\n      <td>0.000000</td>\n      <td>0.000000</td>\n      <td>0.000000</td>\n      <td>1.064092e+05</td>\n      <td>0.000000</td>\n    </tr>\n    <tr>\n      <th>75%</th>\n      <td>113748.750000</td>\n      <td>2.000000</td>\n      <td>40.000000</td>\n      <td>0.000000</td>\n      <td>0.000000</td>\n      <td>0.000000</td>\n      <td>0.000000</td>\n      <td>0.000000</td>\n      <td>0.000000</td>\n      <td>0.000000</td>\n      <td>...</td>\n      <td>0.000000</td>\n      <td>0.000000</td>\n      <td>0.000000</td>\n      <td>0.000000</td>\n      <td>0.000000</td>\n      <td>0.000000</td>\n      <td>0.000000</td>\n      <td>0.000000</td>\n      <td>1.187563e+05</td>\n      <td>0.000000</td>\n    </tr>\n    <tr>\n      <th>max</th>\n      <td>151838.000000</td>\n      <td>238.000000</td>\n      <td>105.000000</td>\n      <td>210000.000000</td>\n      <td>12888.030000</td>\n      <td>21024.810000</td>\n      <td>8237.820000</td>\n      <td>11073.570000</td>\n      <td>6600.000000</td>\n      <td>6600.000000</td>\n      <td>...</td>\n      <td>50003.880000</td>\n      <td>20385.720000</td>\n      <td>138831.630000</td>\n      <td>91778.730000</td>\n      <td>438329.220000</td>\n      <td>24650.010000</td>\n      <td>681462.900000</td>\n      <td>397884.300000</td>\n      <td>2.203474e+07</td>\n      <td>1.000000</td>\n    </tr>\n  </tbody>\n</table>\n<p>8 rows × 371 columns</p>\n</div>"
     },
     "execution_count": 6,
     "metadata": {},
     "output_type": "execute_result"
    }
   ],
   "source": [
    "cust_df.describe()"
   ],
   "metadata": {
    "collapsed": false,
    "pycharm": {
     "name": "#%%\n"
    }
   }
  },
  {
   "cell_type": "code",
   "execution_count": 7,
   "outputs": [
    {
     "name": "stdout",
     "output_type": "stream",
     "text": [
      "피처 데이터 shape:(76020, 369)\n"
     ]
    }
   ],
   "source": [
    "# var3 피쳐 값\n",
    "cust_df['var3'].replace(-999999, 2, inplace=True)\n",
    "cust_df.drop('ID', axis=1, inplace=True)\n",
    "\n",
    "# 피처 세트와 레이블 세트 분리, 레이블 컬럼은 DataFrame의 맨 마지막에 위치해 컬럼 위치 -1로 분리\n",
    "X_features = cust_df.iloc[:, :-1]\n",
    "y_labels = cust_df.iloc[:, -1]\n",
    "print('피처 데이터 shape:{0}'.format(X_features.shape))"
   ],
   "metadata": {
    "collapsed": false,
    "pycharm": {
     "name": "#%%\n"
    }
   }
  },
  {
   "cell_type": "code",
   "execution_count": 8,
   "outputs": [
    {
     "name": "stdout",
     "output_type": "stream",
     "text": [
      "학습 세트 Shape:(60816, 369), 테스트 세트 Shape:(15204, 369)\n",
      " 학습 세트 레이블 값 분포 비율\n",
      "0    0.960964\n",
      "1    0.039036\n",
      "Name: TARGET, dtype: float64\n",
      "\n",
      " 테스트 세트 레이블 값 분포 비율\n",
      "0    0.9583\n",
      "1    0.0417\n",
      "Name: TARGET, dtype: float64\n"
     ]
    }
   ],
   "source": [
    "from sklearn.model_selection import train_test_split\n",
    "\n",
    "X_train, X_test, y_train, y_test = train_test_split(X_features, y_labels,\n",
    "                                                    test_size=0.2, random_state=0)\n",
    "train_cnt = y_train.count()\n",
    "test_cnt = y_test.count()\n",
    "print('학습 세트 Shape:{0}, 테스트 세트 Shape:{1}'.format(X_train.shape, X_test.shape))\n",
    "\n",
    "print(' 학습 세트 레이블 값 분포 비율')\n",
    "print(y_train.value_counts() / train_cnt)\n",
    "print('\\n 테스트 세트 레이블 값 분포 비율')\n",
    "print(y_test.value_counts() / test_cnt)"
   ],
   "metadata": {
    "collapsed": false,
    "pycharm": {
     "name": "#%%\n"
    }
   }
  },
  {
   "cell_type": "markdown",
   "source": [
    "### 모델 적용"
   ],
   "metadata": {
    "collapsed": false
   }
  },
  {
   "cell_type": "code",
   "execution_count": 9,
   "outputs": [],
   "source": [
    "from tensorflow.keras.models import Sequential\n",
    "from tensorflow.keras.layers import Dense\n",
    "import tensorflow as tf\n",
    "\n",
    "np.random.seed(3)\n",
    "tf.random.set_seed(3)"
   ],
   "metadata": {
    "collapsed": false,
    "pycharm": {
     "name": "#%%\n"
    }
   }
  },
  {
   "cell_type": "code",
   "execution_count": 10,
   "outputs": [
    {
     "name": "stdout",
     "output_type": "stream",
     "text": [
      "Metal device set to: Apple M1 Pro\n"
     ]
    },
    {
     "name": "stderr",
     "output_type": "stream",
     "text": [
      "2022-06-13 20:26:42.070882: I tensorflow/core/common_runtime/pluggable_device/pluggable_device_factory.cc:305] Could not identify NUMA node of platform GPU ID 0, defaulting to 0. Your kernel may not have been built with NUMA support.\n",
      "2022-06-13 20:26:42.071053: I tensorflow/core/common_runtime/pluggable_device/pluggable_device_factory.cc:271] Created TensorFlow device (/job:localhost/replica:0/task:0/device:GPU:0 with 0 MB memory) -> physical PluggableDevice (device: 0, name: METAL, pci bus id: <undefined>)\n"
     ]
    }
   ],
   "source": [
    "model = Sequential()\n",
    "model.add(Dense(12, input_dim=369, activation='relu'))\n",
    "model.add(Dense(8, activation='relu'))\n",
    "model.add(Dense(1, activation='sigmoid'))\n",
    "\n",
    "model.compile(loss='binary_crossentropy',\n",
    "              optimizer='adam',\n",
    "              metrics=['accuracy'])"
   ],
   "metadata": {
    "collapsed": false,
    "pycharm": {
     "name": "#%%\n"
    }
   }
  },
  {
   "cell_type": "code",
   "execution_count": 31,
   "outputs": [
    {
     "name": "stdout",
     "output_type": "stream",
     "text": [
      "Epoch 1/50\n"
     ]
    },
    {
     "name": "stderr",
     "output_type": "stream",
     "text": [
      "2022-06-13 19:34:35.894171: I tensorflow/core/grappler/optimizers/custom_graph_optimizer_registry.cc:113] Plugin optimizer for device_type GPU is enabled.\n",
      "2022-06-13 19:35:02.652408: I tensorflow/core/grappler/optimizers/custom_graph_optimizer_registry.cc:113] Plugin optimizer for device_type GPU is enabled.\n"
     ]
    },
    {
     "name": "stdout",
     "output_type": "stream",
     "text": [
      "6082/6082 - 31s - loss: 83061.5703 - accuracy: 0.9498 - val_loss: 90227.8359 - val_accuracy: 0.9577 - 31s/epoch - 5ms/step\n",
      "Epoch 2/50\n",
      "6082/6082 - 31s - loss: 47940.2461 - accuracy: 0.9605 - val_loss: 65070.3320 - val_accuracy: 0.9574 - 31s/epoch - 5ms/step\n",
      "Epoch 3/50\n",
      "6082/6082 - 31s - loss: 10763.4697 - accuracy: 0.9605 - val_loss: 53651.2148 - val_accuracy: 0.9582 - 31s/epoch - 5ms/step\n",
      "Epoch 4/50\n",
      "6082/6082 - 30s - loss: 2211.0386 - accuracy: 0.9603 - val_loss: 55427.5547 - val_accuracy: 0.9582 - 30s/epoch - 5ms/step\n",
      "Epoch 5/50\n",
      "6082/6082 - 30s - loss: 1246.8375 - accuracy: 0.9607 - val_loss: 51442.2930 - val_accuracy: 0.9569 - 30s/epoch - 5ms/step\n",
      "Epoch 6/50\n",
      "6082/6082 - 30s - loss: 349.9242 - accuracy: 0.9605 - val_loss: 48205.6680 - val_accuracy: 0.9581 - 30s/epoch - 5ms/step\n",
      "Epoch 7/50\n",
      "6082/6082 - 30s - loss: 555.9971 - accuracy: 0.9607 - val_loss: 44171.8711 - val_accuracy: 0.9582 - 30s/epoch - 5ms/step\n",
      "Epoch 8/50\n",
      "6082/6082 - 30s - loss: 395.8417 - accuracy: 0.9607 - val_loss: 42918.1914 - val_accuracy: 0.9581 - 30s/epoch - 5ms/step\n",
      "Epoch 9/50\n",
      "6082/6082 - 30s - loss: 7.8472 - accuracy: 0.9609 - val_loss: 36174.0625 - val_accuracy: 0.9582 - 30s/epoch - 5ms/step\n",
      "Epoch 10/50\n",
      "6082/6082 - 30s - loss: 0.1832 - accuracy: 0.9609 - val_loss: 36127.2148 - val_accuracy: 0.9582 - 30s/epoch - 5ms/step\n",
      "Epoch 11/50\n",
      "6082/6082 - 30s - loss: 188.5318 - accuracy: 0.9608 - val_loss: 32985.9023 - val_accuracy: 0.9582 - 30s/epoch - 5ms/step\n",
      "Epoch 12/50\n",
      "6082/6082 - 30s - loss: 0.1912 - accuracy: 0.9608 - val_loss: 40288.9922 - val_accuracy: 0.9583 - 30s/epoch - 5ms/step\n",
      "Epoch 13/50\n",
      "6082/6082 - 30s - loss: 0.1822 - accuracy: 0.9609 - val_loss: 45364.7461 - val_accuracy: 0.9583 - 30s/epoch - 5ms/step\n",
      "Epoch 14/50\n",
      "6082/6082 - 30s - loss: 0.1691 - accuracy: 0.9609 - val_loss: 45254.1250 - val_accuracy: 0.9583 - 30s/epoch - 5ms/step\n",
      "Epoch 15/50\n",
      "6082/6082 - 30s - loss: 0.1673 - accuracy: 0.9609 - val_loss: 45124.3555 - val_accuracy: 0.9583 - 30s/epoch - 5ms/step\n",
      "Epoch 16/50\n",
      "6082/6082 - 30s - loss: 0.2407 - accuracy: 0.9610 - val_loss: 41395.2344 - val_accuracy: 0.9583 - 30s/epoch - 5ms/step\n",
      "Epoch 17/50\n",
      "6082/6082 - 30s - loss: 0.1839 - accuracy: 0.9609 - val_loss: 38907.6055 - val_accuracy: 0.9583 - 30s/epoch - 5ms/step\n",
      "Epoch 18/50\n",
      "6082/6082 - 30s - loss: 551.1583 - accuracy: 0.9609 - val_loss: 57708.1250 - val_accuracy: 0.9582 - 30s/epoch - 5ms/step\n",
      "Epoch 19/50\n",
      "6082/6082 - 30s - loss: 0.1726 - accuracy: 0.9610 - val_loss: 57846.5234 - val_accuracy: 0.9582 - 30s/epoch - 5ms/step\n",
      "Epoch 20/50\n",
      "6082/6082 - 30s - loss: 0.1719 - accuracy: 0.9609 - val_loss: 58002.3047 - val_accuracy: 0.9582 - 30s/epoch - 5ms/step\n",
      "Epoch 21/50\n",
      "6082/6082 - 30s - loss: 0.2411 - accuracy: 0.9608 - val_loss: 54830.6953 - val_accuracy: 0.9581 - 30s/epoch - 5ms/step\n",
      "Epoch 22/50\n",
      "6082/6082 - 30s - loss: 0.2024 - accuracy: 0.9609 - val_loss: 49348.9414 - val_accuracy: 0.9583 - 30s/epoch - 5ms/step\n",
      "Epoch 23/50\n",
      "6082/6082 - 30s - loss: 0.1640 - accuracy: 0.9610 - val_loss: 49560.3047 - val_accuracy: 0.9582 - 30s/epoch - 5ms/step\n",
      "Epoch 24/50\n",
      "6082/6082 - 30s - loss: 0.1637 - accuracy: 0.9610 - val_loss: 50455.5820 - val_accuracy: 0.9583 - 30s/epoch - 5ms/step\n",
      "Epoch 25/50\n",
      "6082/6082 - 30s - loss: 0.1771 - accuracy: 0.9609 - val_loss: 46423.8672 - val_accuracy: 0.9582 - 30s/epoch - 5ms/step\n",
      "Epoch 26/50\n",
      "6082/6082 - 30s - loss: 0.2055 - accuracy: 0.9610 - val_loss: 44971.4102 - val_accuracy: 0.9583 - 30s/epoch - 5ms/step\n",
      "Epoch 27/50\n",
      "6082/6082 - 30s - loss: 0.1919 - accuracy: 0.9609 - val_loss: 40969.6719 - val_accuracy: 0.9583 - 30s/epoch - 5ms/step\n",
      "Epoch 28/50\n",
      "6082/6082 - 30s - loss: 0.1900 - accuracy: 0.9610 - val_loss: 28504.7148 - val_accuracy: 0.9582 - 30s/epoch - 5ms/step\n",
      "Epoch 29/50\n",
      "6082/6082 - 30s - loss: 0.1703 - accuracy: 0.9609 - val_loss: 24758.5703 - val_accuracy: 0.9582 - 30s/epoch - 5ms/step\n",
      "Epoch 30/50\n",
      "6082/6082 - 30s - loss: 0.1725 - accuracy: 0.9610 - val_loss: 25035.9492 - val_accuracy: 0.9582 - 30s/epoch - 5ms/step\n",
      "Epoch 31/50\n",
      "6082/6082 - 30s - loss: 0.1639 - accuracy: 0.9610 - val_loss: 25035.9492 - val_accuracy: 0.9582 - 30s/epoch - 5ms/step\n",
      "Epoch 32/50\n",
      "6082/6082 - 30s - loss: 0.1639 - accuracy: 0.9610 - val_loss: 25035.9492 - val_accuracy: 0.9582 - 30s/epoch - 5ms/step\n",
      "Epoch 33/50\n",
      "6082/6082 - 30s - loss: 0.1639 - accuracy: 0.9610 - val_loss: 25035.9492 - val_accuracy: 0.9582 - 30s/epoch - 5ms/step\n",
      "Epoch 34/50\n",
      "6082/6082 - 30s - loss: 0.1639 - accuracy: 0.9610 - val_loss: 25035.9492 - val_accuracy: 0.9582 - 30s/epoch - 5ms/step\n",
      "Epoch 35/50\n",
      "6082/6082 - 30s - loss: 0.1639 - accuracy: 0.9610 - val_loss: 25035.9492 - val_accuracy: 0.9582 - 30s/epoch - 5ms/step\n",
      "Epoch 36/50\n",
      "6082/6082 - 30s - loss: 0.1639 - accuracy: 0.9610 - val_loss: 25035.9492 - val_accuracy: 0.9582 - 30s/epoch - 5ms/step\n",
      "Epoch 37/50\n",
      "6082/6082 - 30s - loss: 0.1639 - accuracy: 0.9610 - val_loss: 25035.9492 - val_accuracy: 0.9582 - 30s/epoch - 5ms/step\n",
      "Epoch 38/50\n",
      "6082/6082 - 30s - loss: 0.1639 - accuracy: 0.9610 - val_loss: 25035.9492 - val_accuracy: 0.9582 - 30s/epoch - 5ms/step\n",
      "Epoch 39/50\n",
      "6082/6082 - 29s - loss: 0.1639 - accuracy: 0.9610 - val_loss: 25035.9492 - val_accuracy: 0.9582 - 29s/epoch - 5ms/step\n",
      "Epoch 40/50\n",
      "6082/6082 - 29s - loss: 0.1639 - accuracy: 0.9610 - val_loss: 25035.9492 - val_accuracy: 0.9582 - 29s/epoch - 5ms/step\n",
      "Epoch 41/50\n",
      "6082/6082 - 30s - loss: 0.1639 - accuracy: 0.9610 - val_loss: 25035.9492 - val_accuracy: 0.9582 - 30s/epoch - 5ms/step\n",
      "Epoch 42/50\n",
      "6082/6082 - 30s - loss: 0.1639 - accuracy: 0.9610 - val_loss: 25035.9492 - val_accuracy: 0.9582 - 30s/epoch - 5ms/step\n",
      "Epoch 43/50\n",
      "6082/6082 - 30s - loss: 0.1639 - accuracy: 0.9610 - val_loss: 25035.9492 - val_accuracy: 0.9582 - 30s/epoch - 5ms/step\n",
      "Epoch 44/50\n",
      "6082/6082 - 30s - loss: 0.1639 - accuracy: 0.9610 - val_loss: 25035.9492 - val_accuracy: 0.9582 - 30s/epoch - 5ms/step\n",
      "Epoch 45/50\n",
      "6082/6082 - 30s - loss: 0.1639 - accuracy: 0.9610 - val_loss: 25035.9492 - val_accuracy: 0.9582 - 30s/epoch - 5ms/step\n",
      "Epoch 46/50\n",
      "6082/6082 - 30s - loss: 0.1639 - accuracy: 0.9610 - val_loss: 25035.9492 - val_accuracy: 0.9582 - 30s/epoch - 5ms/step\n",
      "Epoch 47/50\n",
      "6082/6082 - 30s - loss: 0.1639 - accuracy: 0.9610 - val_loss: 25035.9492 - val_accuracy: 0.9582 - 30s/epoch - 5ms/step\n",
      "Epoch 48/50\n",
      "6082/6082 - 30s - loss: 0.1638 - accuracy: 0.9610 - val_loss: 25035.9492 - val_accuracy: 0.9582 - 30s/epoch - 5ms/step\n",
      "Epoch 49/50\n",
      "6082/6082 - 30s - loss: 0.1639 - accuracy: 0.9610 - val_loss: 25035.9492 - val_accuracy: 0.9582 - 30s/epoch - 5ms/step\n",
      "Epoch 50/50\n",
      "6082/6082 - 30s - loss: 0.1639 - accuracy: 0.9610 - val_loss: 25035.9492 - val_accuracy: 0.9582 - 30s/epoch - 5ms/step\n"
     ]
    }
   ],
   "source": [
    "hist = model.fit(X_train, y_train, epochs=50, batch_size=10,\n",
    "                 validation_data=(X_test, y_test), verbose=2)"
   ],
   "metadata": {
    "collapsed": false,
    "pycharm": {
     "name": "#%%\n"
    }
   }
  },
  {
   "cell_type": "code",
   "execution_count": null,
   "outputs": [],
   "source": [
    "model.save('model.h5')"
   ],
   "metadata": {
    "collapsed": false,
    "pycharm": {
     "name": "#%%\n"
    }
   }
  },
  {
   "cell_type": "code",
   "execution_count": 10,
   "outputs": [
    {
     "name": "stdout",
     "output_type": "stream",
     "text": [
      "Model: \"sequential_4\"\n",
      "_________________________________________________________________\n",
      " Layer (type)                Output Shape              Param #   \n",
      "=================================================================\n",
      " dense_9 (Dense)             (None, 12)                4440      \n",
      "                                                                 \n",
      " dense_10 (Dense)            (None, 8)                 104       \n",
      "                                                                 \n",
      " dense_11 (Dense)            (None, 1)                 9         \n",
      "                                                                 \n",
      "=================================================================\n",
      "Total params: 4,553\n",
      "Trainable params: 4,553\n",
      "Non-trainable params: 0\n",
      "_________________________________________________________________\n"
     ]
    }
   ],
   "source": [
    "from keras.models import load_model\n",
    "\n",
    "model = load_model('model.h5')\n",
    "model.summary()"
   ],
   "metadata": {
    "collapsed": false,
    "pycharm": {
     "name": "#%%\n"
    }
   }
  },
  {
   "cell_type": "code",
   "execution_count": 33,
   "outputs": [
    {
     "name": "stdout",
     "output_type": "stream",
     "text": [
      "  86/2376 [>.............................] - ETA: 4s"
     ]
    },
    {
     "name": "stderr",
     "output_type": "stream",
     "text": [
      "2022-06-13 20:13:56.133752: I tensorflow/core/grappler/optimizers/custom_graph_optimizer_registry.cc:113] Plugin optimizer for device_type GPU is enabled.\n"
     ]
    },
    {
     "name": "stdout",
     "output_type": "stream",
     "text": [
      "2376/2376 [==============================] - 4s 2ms/step\n"
     ]
    }
   ],
   "source": [
    "y_pred = model.predict(X_features)"
   ],
   "metadata": {
    "collapsed": false,
    "pycharm": {
     "name": "#%%\n"
    }
   }
  },
  {
   "cell_type": "code",
   "execution_count": 34,
   "outputs": [
    {
     "name": "stdout",
     "output_type": "stream",
     "text": [
      "정확률은  96.04182839393616\n"
     ]
    }
   ],
   "source": [
    "res = model.evaluate(X_features, y_labels, verbose=0)\n",
    "print('정확률은 ', res[1] * 100)"
   ],
   "metadata": {
    "collapsed": false,
    "pycharm": {
     "name": "#%%\n"
    }
   }
  },
  {
   "cell_type": "code",
   "execution_count": 36,
   "outputs": [
    {
     "data": {
      "text/plain": "<Figure size 432x288 with 1 Axes>",
      "image/png": "[encoded data removed]"
     },
     "metadata": {
      "needs_background": "light"
     },
     "output_type": "display_data"
    },
    {
     "data": {
      "text/plain": "<Figure size 432x288 with 1 Axes>",
      "image/png": "[encoded data removed]"
     },
     "metadata": {
      "needs_background": "light"
     },
     "output_type": "display_data"
    }
   ],
   "source": [
    "# 정확률 곡선\n",
    "plt.plot(hist.history['accuracy'])\n",
    "plt.plot(hist.history['val_accuracy'])\n",
    "plt.title('Model accuracy')\n",
    "plt.ylabel('Accuracy')\n",
    "plt.xlabel('Epoch')\n",
    "plt.legend(['Train', 'Validation'], loc='upper left')\n",
    "plt.grid()\n",
    "plt.show()\n",
    "\n",
    "# 손실함수 곡선\n",
    "plt.plot(hist.history['loss'])\n",
    "plt.plot(hist.history['val_loss'])\n",
    "plt.title('Model loss')\n",
    "plt.ylabel('Loss')\n",
    "plt.xlabel('Epoch')\n",
    "plt.legend(['Train', 'Validation'], loc='upper right')\n",
    "plt.grid()\n",
    "plt.show()"
   ],
   "metadata": {
    "collapsed": false,
    "pycharm": {
     "name": "#%%\n"
    }
   }
  },
  {
   "cell_type": "markdown",
   "source": [
    "\n",
    "### 정규화"
   ],
   "metadata": {
    "collapsed": false
   }
  },
  {
   "cell_type": "code",
   "execution_count": 12,
   "outputs": [
    {
     "data": {
      "text/plain": "array([[-7.58350330e-02, -7.88248631e-01, -5.33881045e-02, ...,\n        -1.88169080e-02, -1.98468529e-02, -4.27182680e-01],\n       [-7.58350330e-02,  6.07525955e-02, -5.33881045e-02, ...,\n        -1.88169080e-02, -1.98468529e-02, -3.72038298e-01],\n       [-7.58350330e-02, -7.88248631e-01, -5.33881045e-02, ...,\n        -1.88169080e-02, -1.98468529e-02, -2.73191237e-01],\n       ...,\n       [-7.58350330e-02, -7.88248631e-01, -5.33881045e-02, ...,\n        -1.88169080e-02, -1.98468529e-02, -2.36542515e-01],\n       [-7.58350330e-02, -6.33884772e-01, -5.33881045e-02, ...,\n        -1.88169080e-02, -1.98468529e-02, -1.80428318e-01],\n       [-7.58350330e-02,  9.86935752e-01, -5.33881045e-02, ...,\n        -1.88169080e-02, -1.98468529e-02,  4.11519699e-04]])"
     },
     "execution_count": 12,
     "metadata": {},
     "output_type": "execute_result"
    }
   ],
   "source": [
    "from sklearn.preprocessing import StandardScaler    # MinMaxScaler\n",
    "scaler = StandardScaler()\n",
    "scaler.fit(X_features)\n",
    "X_ss = scaler.transform(X_features)\n",
    "X_ss"
   ],
   "metadata": {
    "collapsed": false,
    "pycharm": {
     "name": "#%%\n"
    }
   }
  },
  {
   "cell_type": "code",
   "execution_count": 13,
   "outputs": [],
   "source": [
    "X_train, X_test, y_train, y_test = train_test_split(X_ss, y_labels, test_size=0.2, random_state=0)"
   ],
   "metadata": {
    "collapsed": false,
    "pycharm": {
     "name": "#%%\n"
    }
   }
  },
  {
   "cell_type": "markdown",
   "source": [
    "* 전처리 한 후 실행 + 규제화"
   ],
   "metadata": {
    "collapsed": false
   }
  },
  {
   "cell_type": "code",
   "execution_count": 14,
   "outputs": [],
   "source": [
    "from keras.regularizers import l2\n",
    "model = Sequential()\n",
    "model.add(Dense(8, input_dim=369, activation='relu', kernel_regularizer=l2(0.01)))\n",
    "model.add(Dense(8, activation='relu', kernel_regularizer=l2(0.01)))\n",
    "model.add(Dense(1, activation='sigmoid'))\n",
    "model.compile(loss='binary_crossentropy', optimizer='adam', metrics=['accuracy'])"
   ],
   "metadata": {
    "collapsed": false,
    "pycharm": {
     "name": "#%%\n"
    }
   }
  },
  {
   "cell_type": "code",
   "execution_count": 15,
   "outputs": [
    {
     "name": "stderr",
     "output_type": "stream",
     "text": [
      "2022-06-13 21:23:21.083261: I tensorflow/core/grappler/optimizers/custom_graph_optimizer_registry.cc:113] Plugin optimizer for device_type GPU is enabled.\n",
      "2022-06-13 21:23:48.933134: I tensorflow/core/grappler/optimizers/custom_graph_optimizer_registry.cc:113] Plugin optimizer for device_type GPU is enabled.\n"
     ]
    }
   ],
   "source": [
    "hist_standard = model.fit(X_train, y_train, batch_size=10, epochs=50, validation_data=(X_test, y_test), verbose=0)"
   ],
   "metadata": {
    "collapsed": false,
    "pycharm": {
     "name": "#%%\n"
    }
   }
  },
  {
   "cell_type": "code",
   "execution_count": null,
   "outputs": [],
   "source": [],
   "metadata": {
    "collapsed": false,
    "pycharm": {
     "name": "#%%\n"
    }
   }
  }
 ],
 "metadata": {
  "kernelspec": {
   "display_name": "Python 3",
   "language": "python",
   "name": "python3"
  },
  "language_info": {
   "codemirror_mode": {
    "name": "ipython",
    "version": 2
   },
   "file_extension": ".py",
   "mimetype": "text/x-python",
   "name": "python",
   "nbconvert_exporter": "python",
   "pygments_lexer": "ipython2",
   "version": "2.7.6"
  }
 },
 "nbformat": 4,
 "nbformat_minor": 0
}