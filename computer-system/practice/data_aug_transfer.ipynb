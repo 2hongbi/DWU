{
  "nbformat": 4,
  "nbformat_minor": 0,
  "metadata": {
    "kernelspec": {
      "display_name": "Python 3",
      "language": "python",
      "name": "python3"
    },
    "language_info": {
      "codemirror_mode": {
        "name": "ipython",
        "version": 3
      },
      "file_extension": ".py",
      "mimetype": "text/x-python",
      "name": "python",
      "nbconvert_exporter": "python",
      "pygments_lexer": "ipython3",
      "version": "3.7.3"
    },
    "colab": {
      "name": "data_aug_transfer.ipynb",
      "provenance": []
    }
  },
  "cells": [
    {
      "cell_type": "code",
      "metadata": {
        "id": "2ZzNaEahr839",
        "outputId": "395f2e05-e7f5-4d76-8bf8-9deede134f4d",
        "colab": {
          "resources": {
            "http://localhost:8080/nbextensions/google.colab/files.js": {
              "data": "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",
              "ok": true,
              "headers": [
                [
                  "content-type",
                  "application/javascript"
                ]
              ],
              "status": 200,
              "status_text": ""
            }
          },
          "base_uri": "https://localhost:8080/",
          "height": 1000
        }
      },
      "source": [
        "# 데이터 준비\n",
        "from google.colab import files\n",
        "uploaded = files.upload()\n",
        "\n",
        "# colab > run_project 폴더에 있는 colab_train_test.zip 파일을 선택합니다.\n",
        "my_data = 'colab_train_test.zip'\n",
        "!unzip colab_train_test.zip"
      ],
      "execution_count": 1,
      "outputs": [
        {
          "output_type": "display_data",
          "data": {
            "text/plain": [
              "<IPython.core.display.HTML object>"
            ],
            "text/html": [
              "\n",
              "     <input type=\"file\" id=\"files-c9ac4125-17bb-4960-941c-56336704a051\" name=\"files[]\" multiple disabled\n",
              "        style=\"border:none\" />\n",
              "     <output id=\"result-c9ac4125-17bb-4960-941c-56336704a051\">\n",
              "      Upload widget is only available when the cell has been executed in the\n",
              "      current browser session. Please rerun this cell to enable.\n",
              "      </output>\n",
              "      <script src=\"/nbextensions/google.colab/files.js\"></script> "
            ]
          },
          "metadata": {}
        },
        {
          "output_type": "stream",
          "name": "stdout",
          "text": [
            "Saving colab_train_test.zip to colab_train_test.zip\n",
            "Archive:  colab_train_test.zip\n",
            "   creating: test/ad/\n",
            "  inflating: test/ad/ad_test_1.jpg   \n",
            "  inflating: test/ad/ad_test_10.jpg  \n",
            "  inflating: test/ad/ad_test_11.jpg  \n",
            "  inflating: test/ad/ad_test_12.jpg  \n",
            "  inflating: test/ad/ad_test_13.jpg  \n",
            "  inflating: test/ad/ad_test_14.jpg  \n",
            "  inflating: test/ad/ad_test_15.jpg  \n",
            "  inflating: test/ad/ad_test_16.jpg  \n",
            "  inflating: test/ad/ad_test_17.jpg  \n",
            "  inflating: test/ad/ad_test_18.jpg  \n",
            "  inflating: test/ad/ad_test_19.jpg  \n",
            "  inflating: test/ad/ad_test_2.jpg   \n",
            "  inflating: test/ad/ad_test_20.jpg  \n",
            "  inflating: test/ad/ad_test_21.jpg  \n",
            "  inflating: test/ad/ad_test_22.jpg  \n",
            "  inflating: test/ad/ad_test_23.jpg  \n",
            "  inflating: test/ad/ad_test_24.jpg  \n",
            "  inflating: test/ad/ad_test_25.jpg  \n",
            "  inflating: test/ad/ad_test_26.jpg  \n",
            "  inflating: test/ad/ad_test_27.jpg  \n",
            "  inflating: test/ad/ad_test_28.jpg  \n",
            "  inflating: test/ad/ad_test_29.jpg  \n",
            "  inflating: test/ad/ad_test_3.jpg   \n",
            "  inflating: test/ad/ad_test_30.jpg  \n",
            "  inflating: test/ad/ad_test_31.jpg  \n",
            "  inflating: test/ad/ad_test_32.jpg  \n",
            "  inflating: test/ad/ad_test_33.jpg  \n",
            "  inflating: test/ad/ad_test_34.jpg  \n",
            "  inflating: test/ad/ad_test_35.jpg  \n",
            "  inflating: test/ad/ad_test_36.jpg  \n",
            "  inflating: test/ad/ad_test_37.jpg  \n",
            "  inflating: test/ad/ad_test_38.jpg  \n",
            "  inflating: test/ad/ad_test_39.jpg  \n",
            "  inflating: test/ad/ad_test_4.jpg   \n",
            "  inflating: test/ad/ad_test_40.jpg  \n",
            "  inflating: test/ad/ad_test_41.jpg  \n",
            "  inflating: test/ad/ad_test_42.jpg  \n",
            "  inflating: test/ad/ad_test_43.jpg  \n",
            "  inflating: test/ad/ad_test_44.jpg  \n",
            "  inflating: test/ad/ad_test_45.jpg  \n",
            "  inflating: test/ad/ad_test_46.jpg  \n",
            "  inflating: test/ad/ad_test_47.jpg  \n",
            "  inflating: test/ad/ad_test_48.jpg  \n",
            "  inflating: test/ad/ad_test_49.jpg  \n",
            "  inflating: test/ad/ad_test_5.jpg   \n",
            "  inflating: test/ad/ad_test_50.jpg  \n",
            "  inflating: test/ad/ad_test_51.jpg  \n",
            "  inflating: test/ad/ad_test_52.jpg  \n",
            "  inflating: test/ad/ad_test_53.jpg  \n",
            "  inflating: test/ad/ad_test_54.jpg  \n",
            "  inflating: test/ad/ad_test_55.jpg  \n",
            "  inflating: test/ad/ad_test_56.jpg  \n",
            "  inflating: test/ad/ad_test_57.jpg  \n",
            "  inflating: test/ad/ad_test_58.jpg  \n",
            "  inflating: test/ad/ad_test_59.jpg  \n",
            "  inflating: test/ad/ad_test_6.jpg   \n",
            "  inflating: test/ad/ad_test_60.jpg  \n",
            "  inflating: test/ad/ad_test_7.jpg   \n",
            "  inflating: test/ad/ad_test_8.jpg   \n",
            "  inflating: test/ad/ad_test_9.jpg   \n",
            "   creating: test/normal/\n",
            "  inflating: test/normal/normal_test_1.jpg  \n",
            "  inflating: test/normal/normal_test_10.jpg  \n",
            "  inflating: test/normal/normal_test_11.jpg  \n",
            "  inflating: test/normal/normal_test_12.jpg  \n",
            "  inflating: test/normal/normal_test_13.jpg  \n",
            "  inflating: test/normal/normal_test_14.jpg  \n",
            "  inflating: test/normal/normal_test_15.jpg  \n",
            "  inflating: test/normal/normal_test_16.jpg  \n",
            "  inflating: test/normal/normal_test_17.jpg  \n",
            "  inflating: test/normal/normal_test_18.jpg  \n",
            "  inflating: test/normal/normal_test_19.jpg  \n",
            "  inflating: test/normal/normal_test_2.jpg  \n",
            "  inflating: test/normal/normal_test_20.jpg  \n",
            "  inflating: test/normal/normal_test_21.jpg  \n",
            "  inflating: test/normal/normal_test_22.jpg  \n",
            "  inflating: test/normal/normal_test_23.jpg  \n",
            "  inflating: test/normal/normal_test_24.jpg  \n",
            "  inflating: test/normal/normal_test_25.jpg  \n",
            "  inflating: test/normal/normal_test_26.jpg  \n",
            "  inflating: test/normal/normal_test_27.jpg  \n",
            "  inflating: test/normal/normal_test_28.jpg  \n",
            "  inflating: test/normal/normal_test_29.jpg  \n",
            "  inflating: test/normal/normal_test_3.jpg  \n",
            "  inflating: test/normal/normal_test_30.jpg  \n",
            "  inflating: test/normal/normal_test_31.jpg  \n",
            "  inflating: test/normal/normal_test_32.jpg  \n",
            "  inflating: test/normal/normal_test_33.jpg  \n",
            "  inflating: test/normal/normal_test_34.jpg  \n",
            "  inflating: test/normal/normal_test_35.jpg  \n",
            "  inflating: test/normal/normal_test_36.jpg  \n",
            "  inflating: test/normal/normal_test_37.jpg  \n",
            "  inflating: test/normal/normal_test_38.jpg  \n",
            "  inflating: test/normal/normal_test_39.jpg  \n",
            "  inflating: test/normal/normal_test_4.jpg  \n",
            "  inflating: test/normal/normal_test_40.jpg  \n",
            "  inflating: test/normal/normal_test_41.jpg  \n",
            "  inflating: test/normal/normal_test_42.jpg  \n",
            "  inflating: test/normal/normal_test_43.jpg  \n",
            "  inflating: test/normal/normal_test_44.jpg  \n",
            "  inflating: test/normal/normal_test_45.jpg  \n",
            "  inflating: test/normal/normal_test_46.jpg  \n",
            "  inflating: test/normal/normal_test_47.jpg  \n",
            "  inflating: test/normal/normal_test_48.jpg  \n",
            "  inflating: test/normal/normal_test_49.jpg  \n",
            "  inflating: test/normal/normal_test_5.jpg  \n",
            "  inflating: test/normal/normal_test_50.jpg  \n",
            "  inflating: test/normal/normal_test_51.jpg  \n",
            "  inflating: test/normal/normal_test_52.jpg  \n",
            "  inflating: test/normal/normal_test_53.jpg  \n",
            "  inflating: test/normal/normal_test_54.jpg  \n",
            "  inflating: test/normal/normal_test_55.jpg  \n",
            "  inflating: test/normal/normal_test_56.jpg  \n",
            "  inflating: test/normal/normal_test_57.jpg  \n",
            "  inflating: test/normal/normal_test_58.jpg  \n",
            "  inflating: test/normal/normal_test_59.jpg  \n",
            "  inflating: test/normal/normal_test_6.jpg  \n",
            "  inflating: test/normal/normal_test_60.jpg  \n",
            "  inflating: test/normal/normal_test_7.jpg  \n",
            "  inflating: test/normal/normal_test_8.jpg  \n",
            "  inflating: test/normal/normal_test_9.jpg  \n",
            "   creating: train/ad/\n",
            "  inflating: train/ad/ad_train_1.jpg  \n",
            "  inflating: train/ad/ad_train_10.jpg  \n",
            "  inflating: train/ad/ad_train_11.jpg  \n",
            "  inflating: train/ad/ad_train_12.jpg  \n",
            "  inflating: train/ad/ad_train_13.jpg  \n",
            "  inflating: train/ad/ad_train_14.jpg  \n",
            "  inflating: train/ad/ad_train_15.jpg  \n",
            "  inflating: train/ad/ad_train_16.jpg  \n",
            "  inflating: train/ad/ad_train_17.jpg  \n",
            "  inflating: train/ad/ad_train_18.jpg  \n",
            "  inflating: train/ad/ad_train_19.jpg  \n",
            "  inflating: train/ad/ad_train_2.jpg  \n",
            "  inflating: train/ad/ad_train_20.jpg  \n",
            "  inflating: train/ad/ad_train_21.jpg  \n",
            "  inflating: train/ad/ad_train_22.jpg  \n",
            "  inflating: train/ad/ad_train_23.jpg  \n",
            "  inflating: train/ad/ad_train_24.jpg  \n",
            "  inflating: train/ad/ad_train_25.jpg  \n",
            "  inflating: train/ad/ad_train_26.jpg  \n",
            "  inflating: train/ad/ad_train_27.jpg  \n",
            "  inflating: train/ad/ad_train_28.jpg  \n",
            "  inflating: train/ad/ad_train_29.jpg  \n",
            "  inflating: train/ad/ad_train_3.jpg  \n",
            "  inflating: train/ad/ad_train_30.jpg  \n",
            "  inflating: train/ad/ad_train_31.jpg  \n",
            "  inflating: train/ad/ad_train_32.jpg  \n",
            "  inflating: train/ad/ad_train_33.jpg  \n",
            "  inflating: train/ad/ad_train_34.jpg  \n",
            "  inflating: train/ad/ad_train_35.jpg  \n",
            "  inflating: train/ad/ad_train_36.jpg  \n",
            "  inflating: train/ad/ad_train_37.jpg  \n",
            "  inflating: train/ad/ad_train_38.jpg  \n",
            "  inflating: train/ad/ad_train_39.jpg  \n",
            "  inflating: train/ad/ad_train_4.jpg  \n",
            "  inflating: train/ad/ad_train_40.jpg  \n",
            "  inflating: train/ad/ad_train_41.jpg  \n",
            "  inflating: train/ad/ad_train_42.jpg  \n",
            "  inflating: train/ad/ad_train_43.jpg  \n",
            "  inflating: train/ad/ad_train_44.jpg  \n",
            "  inflating: train/ad/ad_train_45.jpg  \n",
            "  inflating: train/ad/ad_train_46.jpg  \n",
            "  inflating: train/ad/ad_train_47.jpg  \n",
            "  inflating: train/ad/ad_train_48.jpg  \n",
            "  inflating: train/ad/ad_train_49.jpg  \n",
            "  inflating: train/ad/ad_train_5.jpg  \n",
            "  inflating: train/ad/ad_train_50.jpg  \n",
            "  inflating: train/ad/ad_train_51.jpg  \n",
            "  inflating: train/ad/ad_train_52.jpg  \n",
            "  inflating: train/ad/ad_train_53.jpg  \n",
            "  inflating: train/ad/ad_train_54.jpg  \n",
            "  inflating: train/ad/ad_train_55.jpg  \n",
            "  inflating: train/ad/ad_train_56.jpg  \n",
            "  inflating: train/ad/ad_train_57.jpg  \n",
            "  inflating: train/ad/ad_train_58.jpg  \n",
            "  inflating: train/ad/ad_train_59.jpg  \n",
            "  inflating: train/ad/ad_train_6.jpg  \n",
            "  inflating: train/ad/ad_train_60.jpg  \n",
            "  inflating: train/ad/ad_train_61.jpg  \n",
            "  inflating: train/ad/ad_train_62.jpg  \n",
            "  inflating: train/ad/ad_train_63.jpg  \n",
            "  inflating: train/ad/ad_train_64.jpg  \n",
            "  inflating: train/ad/ad_train_65.jpg  \n",
            "  inflating: train/ad/ad_train_66.jpg  \n",
            "  inflating: train/ad/ad_train_67.jpg  \n",
            "  inflating: train/ad/ad_train_68.jpg  \n",
            "  inflating: train/ad/ad_train_69.jpg  \n",
            "  inflating: train/ad/ad_train_7.jpg  \n",
            "  inflating: train/ad/ad_train_70.jpg  \n",
            "  inflating: train/ad/ad_train_71.jpg  \n",
            "  inflating: train/ad/ad_train_72.jpg  \n",
            "  inflating: train/ad/ad_train_73.jpg  \n",
            "  inflating: train/ad/ad_train_74.jpg  \n",
            "  inflating: train/ad/ad_train_75.jpg  \n",
            "  inflating: train/ad/ad_train_76.jpg  \n",
            "  inflating: train/ad/ad_train_77.jpg  \n",
            "  inflating: train/ad/ad_train_78.jpg  \n",
            "  inflating: train/ad/ad_train_79.jpg  \n",
            "  inflating: train/ad/ad_train_8.jpg  \n",
            "  inflating: train/ad/ad_train_80.jpg  \n",
            "  inflating: train/ad/ad_train_9.jpg  \n",
            "   creating: train/normal/\n",
            "  inflating: train/normal/normal_train_1.jpg  \n",
            "  inflating: train/normal/normal_train_10.jpg  \n",
            "  inflating: train/normal/normal_train_11.jpg  \n",
            "  inflating: train/normal/normal_train_12.jpg  \n",
            "  inflating: train/normal/normal_train_13.jpg  \n",
            "  inflating: train/normal/normal_train_14.jpg  \n",
            "  inflating: train/normal/normal_train_15.jpg  \n",
            "  inflating: train/normal/normal_train_16.jpg  \n",
            "  inflating: train/normal/normal_train_17.jpg  \n",
            "  inflating: train/normal/normal_train_18.jpg  \n",
            "  inflating: train/normal/normal_train_19.jpg  \n",
            "  inflating: train/normal/normal_train_2.jpg  \n",
            "  inflating: train/normal/normal_train_20.jpg  \n",
            "  inflating: train/normal/normal_train_21.jpg  \n",
            "  inflating: train/normal/normal_train_22.jpg  \n",
            "  inflating: train/normal/normal_train_23.jpg  \n",
            "  inflating: train/normal/normal_train_24.jpg  \n",
            "  inflating: train/normal/normal_train_25.jpg  \n",
            "  inflating: train/normal/normal_train_26.jpg  \n",
            "  inflating: train/normal/normal_train_27.jpg  \n",
            "  inflating: train/normal/normal_train_28.jpg  \n",
            "  inflating: train/normal/normal_train_29.jpg  \n",
            "  inflating: train/normal/normal_train_3.jpg  \n",
            "  inflating: train/normal/normal_train_30.jpg  \n",
            "  inflating: train/normal/normal_train_31.jpg  \n",
            "  inflating: train/normal/normal_train_32.jpg  \n",
            "  inflating: train/normal/normal_train_33.jpg  \n",
            "  inflating: train/normal/normal_train_34.jpg  \n",
            "  inflating: train/normal/normal_train_35.jpg  \n",
            "  inflating: train/normal/normal_train_36.jpg  \n",
            "  inflating: train/normal/normal_train_37.jpg  \n",
            "  inflating: train/normal/normal_train_38.jpg  \n",
            "  inflating: train/normal/normal_train_39.jpg  \n",
            "  inflating: train/normal/normal_train_4.jpg  \n",
            "  inflating: train/normal/normal_train_40.jpg  \n",
            "  inflating: train/normal/normal_train_41.jpg  \n",
            "  inflating: train/normal/normal_train_42.jpg  \n",
            "  inflating: train/normal/normal_train_43.jpg  \n",
            "  inflating: train/normal/normal_train_44.jpg  \n",
            "  inflating: train/normal/normal_train_45.jpg  \n",
            "  inflating: train/normal/normal_train_46.jpg  \n",
            "  inflating: train/normal/normal_train_47.jpg  \n",
            "  inflating: train/normal/normal_train_48.jpg  \n",
            "  inflating: train/normal/normal_train_49.jpg  \n",
            "  inflating: train/normal/normal_train_5.jpg  \n",
            "  inflating: train/normal/normal_train_50.jpg  \n",
            "  inflating: train/normal/normal_train_51.jpg  \n",
            "  inflating: train/normal/normal_train_52.jpg  \n",
            "  inflating: train/normal/normal_train_53.jpg  \n",
            "  inflating: train/normal/normal_train_54.jpg  \n",
            "  inflating: train/normal/normal_train_55.jpg  \n",
            "  inflating: train/normal/normal_train_56.jpg  \n",
            "  inflating: train/normal/normal_train_57.jpg  \n",
            "  inflating: train/normal/normal_train_58.jpg  \n",
            "  inflating: train/normal/normal_train_59.jpg  \n",
            "  inflating: train/normal/normal_train_6.jpg  \n",
            "  inflating: train/normal/normal_train_60.jpg  \n",
            "  inflating: train/normal/normal_train_61.jpg  \n",
            "  inflating: train/normal/normal_train_62.jpg  \n",
            "  inflating: train/normal/normal_train_63.jpg  \n",
            "  inflating: train/normal/normal_train_64.jpg  \n",
            "  inflating: train/normal/normal_train_65.jpg  \n",
            "  inflating: train/normal/normal_train_66.jpg  \n",
            "  inflating: train/normal/normal_train_67.jpg  \n",
            "  inflating: train/normal/normal_train_68.jpg  \n",
            "  inflating: train/normal/normal_train_69.jpg  \n",
            "  inflating: train/normal/normal_train_7.jpg  \n",
            "  inflating: train/normal/normal_train_70.jpg  \n",
            "  inflating: train/normal/normal_train_71.jpg  \n",
            "  inflating: train/normal/normal_train_72.jpg  \n",
            "  inflating: train/normal/normal_train_73.jpg  \n",
            "  inflating: train/normal/normal_train_74.jpg  \n",
            "  inflating: train/normal/normal_train_75.jpg  \n",
            "  inflating: train/normal/normal_train_76.jpg  \n",
            "  inflating: train/normal/normal_train_77.jpg  \n",
            "  inflating: train/normal/normal_train_78.jpg  \n",
            "  inflating: train/normal/normal_train_79.jpg  \n",
            "  inflating: train/normal/normal_train_8.jpg  \n",
            "  inflating: train/normal/normal_train_80.jpg  \n",
            "  inflating: train/normal/normal_train_9.jpg  \n"
          ]
        }
      ]
    },
    {
      "cell_type": "code",
      "source": [
        "import tensorflow as tf\n",
        "import numpy as np\n",
        "import matplotlib.pyplot as plt\n",
        "\n",
        "from tensorflow.keras.models import Sequential\n",
        "from tensorflow.keras.layers import Dense, Activation, Dropout, Flatten, Dense, Conv2D, MaxPooling2D\n",
        "from tensorflow.keras.preprocessing.image import ImageDataGenerator\n",
        "from tensorflow.keras import optimizers, initializers, regularizers, metrics\n",
        "\n",
        "np.random.seed(3)\n",
        "tf.random.set_seed(3)"
      ],
      "metadata": {
        "id": "JIjpkCjL0El5"
      },
      "execution_count": 2,
      "outputs": []
    },
    {
      "cell_type": "code",
      "source": [
        "train_datagen = ImageDataGenerator(rescale=1./255,\n",
        "                                  horizontal_flip=True,     #수평 대칭 이미지를 50% 확률로 만들어 추가합니다.\n",
        "                                  width_shift_range=0.1,  #전체 크기의 10% 범위에서 좌우로 이동합니다.\n",
        "                                  height_shift_range=0.1, #마찬가지로 위, 아래로 이동합니다.\n",
        "                                  #rotation_range=5,\n",
        "                                  #shear_range=0.7,\n",
        "                                  #zoom_range=[0.9, 2.2],\n",
        "                                  #vertical_flip=True,\n",
        "                                  fill_mode='nearest') "
      ],
      "metadata": {
        "id": "mwkoL8s50KiB"
      },
      "execution_count": 3,
      "outputs": []
    },
    {
      "cell_type": "code",
      "source": [
        "train_generator = train_datagen.flow_from_directory(\n",
        "       'train',   #학습셋이 있는 폴더의 위치입니다.\n",
        "       target_size=(150, 150),\n",
        "       batch_size=5,\n",
        "       class_mode='binary')"
      ],
      "metadata": {
        "colab": {
          "base_uri": "https://localhost:8080/"
        },
        "id": "RObFiydA0PTK",
        "outputId": "e0533b8b-8764-42d7-da0a-d226a4b518e3"
      },
      "execution_count": 4,
      "outputs": [
        {
          "output_type": "stream",
          "name": "stdout",
          "text": [
            "Found 160 images belonging to 2 classes.\n"
          ]
        }
      ]
    },
    {
      "cell_type": "code",
      "source": [
        "#테스트 셋은 이미지 부풀리기 과정을 진행하지 않습니다.\n",
        "test_datagen = ImageDataGenerator(rescale=1./255)  \n",
        "\n",
        "test_generator = test_datagen.flow_from_directory(\n",
        "       'test',   #테스트셋이 있는 폴더의 위치입니다.\n",
        "       target_size=(150, 150),\n",
        "       batch_size=5,\n",
        "       class_mode='binary')"
      ],
      "metadata": {
        "colab": {
          "base_uri": "https://localhost:8080/"
        },
        "id": "16D3mKxh0VbA",
        "outputId": "a1a27c2c-7ce3-4d39-f826-f3ca7501691c"
      },
      "execution_count": 5,
      "outputs": [
        {
          "output_type": "stream",
          "name": "stdout",
          "text": [
            "Found 120 images belonging to 2 classes.\n"
          ]
        }
      ]
    },
    {
      "cell_type": "code",
      "source": [
        "# 앞서 배운 CNN 모델을 만들어 적용해 보겠습니다.\n",
        "model = Sequential()\n",
        "model.add(Conv2D(32, (3, 3), input_shape=(150,150,3)))\n",
        "model.add(Activation('relu'))\n",
        "model.add(MaxPooling2D(pool_size=(2, 2)))\n",
        "\n",
        "model.add(Conv2D(32, (3, 3)))\n",
        "model.add(Activation('relu'))\n",
        "model.add(MaxPooling2D(pool_size=(2, 2)))\n",
        "\n",
        "model.add(Conv2D(64, (3, 3)))\n",
        "model.add(Activation('relu'))\n",
        "model.add(MaxPooling2D(pool_size=(2, 2)))\n",
        "\n",
        "model.add(Flatten())\n",
        "model.add(Dense(64))\n",
        "model.add(Activation('relu'))\n",
        "model.add(Dropout(0.5))\n",
        "model.add(Dense(2))\n",
        "model.add(Activation('softmax'))"
      ],
      "metadata": {
        "id": "rFpwIBBL0aIA"
      },
      "execution_count": 13,
      "outputs": []
    },
    {
      "cell_type": "code",
      "source": [
        "#모델을 컴파일 합니다. \n",
        "model.compile(loss='sparse_categorical_crossentropy', optimizer=optimizers.Adam(learning_rate=0.0002), metrics=['accuracy'])"
      ],
      "metadata": {
        "id": "prKnOM750eNB"
      },
      "execution_count": 10,
      "outputs": []
    },
    {
      "cell_type": "code",
      "source": [
        "#모델을 실행합니다\n",
        "history = model.fit_generator(\n",
        "       train_generator,\n",
        "       steps_per_epoch=30,  #적절한 값으로 조절합니다.\n",
        "       epochs=50,   #적절한 값으로 조절합니다.\n",
        "       validation_data=test_generator,\n",
        "       validation_steps=10)"
      ],
      "metadata": {
        "colab": {
          "base_uri": "https://localhost:8080/"
        },
        "id": "F7rC4_Gt0h-k",
        "outputId": "fd302610-cdc6-4b0c-bc07-5c9d20a52129"
      },
      "execution_count": 11,
      "outputs": [
        {
          "output_type": "stream",
          "name": "stdout",
          "text": [
            "Epoch 1/50\n"
          ]
        },
        {
          "output_type": "stream",
          "name": "stderr",
          "text": [
            "/usr/local/lib/python3.7/dist-packages/ipykernel_launcher.py:7: UserWarning: `Model.fit_generator` is deprecated and will be removed in a future version. Please use `Model.fit`, which supports generators.\n",
            "  import sys\n"
          ]
        },
        {
          "output_type": "stream",
          "name": "stdout",
          "text": [
            "30/30 [==============================] - 6s 176ms/step - loss: 0.7067 - accuracy: 0.4400 - val_loss: 0.6985 - val_accuracy: 0.4200\n",
            "Epoch 2/50\n",
            "30/30 [==============================] - 5s 167ms/step - loss: 0.6878 - accuracy: 0.5867 - val_loss: 0.6827 - val_accuracy: 0.5200\n",
            "Epoch 3/50\n",
            "30/30 [==============================] - 5s 166ms/step - loss: 0.6917 - accuracy: 0.5267 - val_loss: 0.6830 - val_accuracy: 0.6200\n",
            "Epoch 4/50\n",
            "30/30 [==============================] - 5s 168ms/step - loss: 0.6830 - accuracy: 0.5400 - val_loss: 0.6773 - val_accuracy: 0.6000\n",
            "Epoch 5/50\n",
            "30/30 [==============================] - 5s 167ms/step - loss: 0.6775 - accuracy: 0.5733 - val_loss: 0.6992 - val_accuracy: 0.4400\n",
            "Epoch 6/50\n",
            "30/30 [==============================] - 5s 167ms/step - loss: 0.6649 - accuracy: 0.6267 - val_loss: 0.6755 - val_accuracy: 0.4600\n",
            "Epoch 7/50\n",
            "30/30 [==============================] - 5s 168ms/step - loss: 0.6284 - accuracy: 0.6067 - val_loss: 0.5651 - val_accuracy: 0.7800\n",
            "Epoch 8/50\n",
            "30/30 [==============================] - 5s 167ms/step - loss: 0.5834 - accuracy: 0.7000 - val_loss: 0.5417 - val_accuracy: 0.8200\n",
            "Epoch 9/50\n",
            "30/30 [==============================] - 5s 168ms/step - loss: 0.5283 - accuracy: 0.7867 - val_loss: 0.5430 - val_accuracy: 0.6600\n",
            "Epoch 10/50\n",
            "30/30 [==============================] - 5s 168ms/step - loss: 0.5383 - accuracy: 0.7533 - val_loss: 0.4908 - val_accuracy: 0.7400\n",
            "Epoch 11/50\n",
            "30/30 [==============================] - 5s 169ms/step - loss: 0.4546 - accuracy: 0.8067 - val_loss: 0.3859 - val_accuracy: 0.8200\n",
            "Epoch 12/50\n",
            "30/30 [==============================] - 5s 168ms/step - loss: 0.3571 - accuracy: 0.8800 - val_loss: 0.3229 - val_accuracy: 0.8600\n",
            "Epoch 13/50\n",
            "30/30 [==============================] - 5s 168ms/step - loss: 0.4051 - accuracy: 0.8400 - val_loss: 0.4188 - val_accuracy: 0.7400\n",
            "Epoch 14/50\n",
            "30/30 [==============================] - 5s 168ms/step - loss: 0.3599 - accuracy: 0.8600 - val_loss: 0.2965 - val_accuracy: 0.8400\n",
            "Epoch 15/50\n",
            "30/30 [==============================] - 5s 168ms/step - loss: 0.3219 - accuracy: 0.8600 - val_loss: 0.2324 - val_accuracy: 0.9400\n",
            "Epoch 16/50\n",
            "30/30 [==============================] - 5s 168ms/step - loss: 0.2983 - accuracy: 0.8800 - val_loss: 0.1792 - val_accuracy: 0.9600\n",
            "Epoch 17/50\n",
            "30/30 [==============================] - 5s 169ms/step - loss: 0.2565 - accuracy: 0.9200 - val_loss: 0.1229 - val_accuracy: 0.9600\n",
            "Epoch 18/50\n",
            "30/30 [==============================] - 5s 167ms/step - loss: 0.2452 - accuracy: 0.9133 - val_loss: 0.1442 - val_accuracy: 0.9400\n",
            "Epoch 19/50\n",
            "30/30 [==============================] - 5s 169ms/step - loss: 0.2343 - accuracy: 0.9200 - val_loss: 0.3755 - val_accuracy: 0.7800\n",
            "Epoch 20/50\n",
            "30/30 [==============================] - 5s 168ms/step - loss: 0.2338 - accuracy: 0.9200 - val_loss: 0.1087 - val_accuracy: 0.9800\n",
            "Epoch 21/50\n",
            "30/30 [==============================] - 5s 167ms/step - loss: 0.1620 - accuracy: 0.9733 - val_loss: 0.0825 - val_accuracy: 0.9800\n",
            "Epoch 22/50\n",
            "30/30 [==============================] - 5s 169ms/step - loss: 0.2136 - accuracy: 0.9133 - val_loss: 0.1179 - val_accuracy: 0.9600\n",
            "Epoch 23/50\n",
            "30/30 [==============================] - 5s 169ms/step - loss: 0.1412 - accuracy: 0.9733 - val_loss: 0.2358 - val_accuracy: 0.8600\n",
            "Epoch 24/50\n",
            "30/30 [==============================] - 5s 167ms/step - loss: 0.1838 - accuracy: 0.9400 - val_loss: 0.2010 - val_accuracy: 0.9200\n",
            "Epoch 25/50\n",
            "30/30 [==============================] - 5s 167ms/step - loss: 0.1129 - accuracy: 0.9667 - val_loss: 0.1174 - val_accuracy: 0.9600\n",
            "Epoch 26/50\n",
            "30/30 [==============================] - 5s 167ms/step - loss: 0.1555 - accuracy: 0.9533 - val_loss: 0.2078 - val_accuracy: 0.9400\n",
            "Epoch 27/50\n",
            "30/30 [==============================] - 5s 168ms/step - loss: 0.1272 - accuracy: 0.9600 - val_loss: 0.0591 - val_accuracy: 0.9800\n",
            "Epoch 28/50\n",
            "30/30 [==============================] - 5s 168ms/step - loss: 0.0929 - accuracy: 0.9867 - val_loss: 0.0947 - val_accuracy: 0.9600\n",
            "Epoch 29/50\n",
            "30/30 [==============================] - 5s 169ms/step - loss: 0.1499 - accuracy: 0.9467 - val_loss: 0.0646 - val_accuracy: 0.9800\n",
            "Epoch 30/50\n",
            "30/30 [==============================] - 5s 168ms/step - loss: 0.0829 - accuracy: 0.9667 - val_loss: 0.0937 - val_accuracy: 0.9800\n",
            "Epoch 31/50\n",
            "30/30 [==============================] - 5s 166ms/step - loss: 0.1164 - accuracy: 0.9600 - val_loss: 0.1070 - val_accuracy: 0.9800\n",
            "Epoch 32/50\n",
            "30/30 [==============================] - 5s 168ms/step - loss: 0.0621 - accuracy: 0.9933 - val_loss: 0.0657 - val_accuracy: 0.9600\n",
            "Epoch 33/50\n",
            "30/30 [==============================] - 5s 168ms/step - loss: 0.1218 - accuracy: 0.9533 - val_loss: 0.0899 - val_accuracy: 0.9800\n",
            "Epoch 34/50\n",
            "30/30 [==============================] - 5s 168ms/step - loss: 0.1409 - accuracy: 0.9600 - val_loss: 0.0973 - val_accuracy: 0.9600\n",
            "Epoch 35/50\n",
            "30/30 [==============================] - 5s 168ms/step - loss: 0.1028 - accuracy: 0.9600 - val_loss: 0.0363 - val_accuracy: 1.0000\n",
            "Epoch 36/50\n",
            "30/30 [==============================] - 5s 167ms/step - loss: 0.0739 - accuracy: 0.9800 - val_loss: 0.0682 - val_accuracy: 0.9600\n",
            "Epoch 37/50\n",
            "30/30 [==============================] - 5s 168ms/step - loss: 0.1031 - accuracy: 0.9800 - val_loss: 0.0237 - val_accuracy: 1.0000\n",
            "Epoch 38/50\n",
            "30/30 [==============================] - 5s 167ms/step - loss: 0.0886 - accuracy: 0.9733 - val_loss: 0.0751 - val_accuracy: 0.9800\n",
            "Epoch 39/50\n",
            "30/30 [==============================] - 5s 168ms/step - loss: 0.1076 - accuracy: 0.9733 - val_loss: 0.1643 - val_accuracy: 0.9200\n",
            "Epoch 40/50\n",
            "30/30 [==============================] - 5s 168ms/step - loss: 0.0856 - accuracy: 0.9667 - val_loss: 0.0284 - val_accuracy: 1.0000\n",
            "Epoch 41/50\n",
            "30/30 [==============================] - 5s 168ms/step - loss: 0.1162 - accuracy: 0.9533 - val_loss: 0.0706 - val_accuracy: 0.9800\n",
            "Epoch 42/50\n",
            "30/30 [==============================] - 5s 167ms/step - loss: 0.0914 - accuracy: 0.9667 - val_loss: 0.1669 - val_accuracy: 0.9200\n",
            "Epoch 43/50\n",
            "30/30 [==============================] - 5s 168ms/step - loss: 0.0839 - accuracy: 0.9733 - val_loss: 0.0854 - val_accuracy: 0.9600\n",
            "Epoch 44/50\n",
            "30/30 [==============================] - 5s 168ms/step - loss: 0.0954 - accuracy: 0.9667 - val_loss: 0.0479 - val_accuracy: 1.0000\n",
            "Epoch 45/50\n",
            "30/30 [==============================] - 5s 168ms/step - loss: 0.0882 - accuracy: 0.9667 - val_loss: 0.0603 - val_accuracy: 0.9800\n",
            "Epoch 46/50\n",
            "30/30 [==============================] - 5s 168ms/step - loss: 0.0685 - accuracy: 0.9800 - val_loss: 0.0783 - val_accuracy: 0.9800\n",
            "Epoch 47/50\n",
            "30/30 [==============================] - 5s 168ms/step - loss: 0.0714 - accuracy: 0.9733 - val_loss: 0.0215 - val_accuracy: 1.0000\n",
            "Epoch 48/50\n",
            "30/30 [==============================] - 5s 168ms/step - loss: 0.0679 - accuracy: 0.9733 - val_loss: 0.0779 - val_accuracy: 0.9600\n",
            "Epoch 49/50\n",
            "30/30 [==============================] - 5s 168ms/step - loss: 0.0724 - accuracy: 0.9600 - val_loss: 0.0269 - val_accuracy: 1.0000\n",
            "Epoch 50/50\n",
            "30/30 [==============================] - 5s 167ms/step - loss: 0.0505 - accuracy: 0.9800 - val_loss: 0.0500 - val_accuracy: 0.9800\n"
          ]
        }
      ]
    },
    {
      "cell_type": "code",
      "source": [
        "#결과를 그래프로 표현하는 부분입니다.\n",
        "acc= history.history['accuracy']\n",
        "val_acc= history.history['val_accuracy']\n",
        "y_vloss = history.history['val_loss']\n",
        "y_loss = history.history['loss']\n",
        "\n",
        "x_len = np.arange(len(y_loss))  \n",
        "plt.plot(x_len, acc, marker='.', c=\"red\", label='Trainset_acc')\n",
        "plt.plot(x_len, val_acc, marker='.', c=\"lightcoral\", label='Testset_acc')\n",
        "plt.plot(x_len, y_vloss, marker='.', c=\"cornflowerblue\", label='Testset_loss')\n",
        "plt.plot(x_len, y_loss, marker='.', c=\"blue\", label='Trainset_loss')\n",
        "\n",
        "plt.legend(loc='upper right') \n",
        "plt.grid()\n",
        "plt.xlabel('epoch')\n",
        "plt.ylabel('loss/acc')\n",
        "plt.show()\n"
      ],
      "metadata": {
        "colab": {
          "base_uri": "https://localhost:8080/",
          "height": 279
        },
        "id": "mGgPGC0I0opk",
        "outputId": "131453c3-4004-4afc-c9e2-a4e71d2271df"
      },
      "execution_count": null,
      "outputs": [
        {
          "output_type": "display_data",
          "data": {
            "text/plain": [
              "<Figure size 432x288 with 1 Axes>"
            ],
            "image/png": "[encoded data removed]"
          },
          "metadata": {
            "needs_background": "light"
          }
        }
      ]
    },
    {
      "cell_type": "code",
      "metadata": {
        "id": "UFGsn43Yr84D"
      },
      "source": [
        "train_datagen = ImageDataGenerator(rescale=1./255,\n",
        "                                  horizontal_flip=True,\n",
        "                                  width_shift_range=0.1,\n",
        "                                  height_shift_range=0.1,\n",
        "                                  fill_mode='nearest')"
      ],
      "execution_count": null,
      "outputs": []
    },
    {
      "cell_type": "code",
      "source": [
        "train_generator = train_datagen.flow_from_directory(\n",
        "       'train',\n",
        "       target_size=(150, 150),\n",
        "       batch_size=5,\n",
        "       class_mode='binary')"
      ],
      "metadata": {
        "colab": {
          "base_uri": "https://localhost:8080/"
        },
        "id": "YnG5yw172TNz",
        "outputId": "a3d49c2a-c38b-4009-bb07-ce59bbe2607c"
      },
      "execution_count": null,
      "outputs": [
        {
          "output_type": "stream",
          "name": "stdout",
          "text": [
            "Found 160 images belonging to 2 classes.\n"
          ]
        }
      ]
    },
    {
      "cell_type": "code",
      "source": [
        "test_datagen = ImageDataGenerator(rescale=1./255)\n",
        "\n",
        "test_generator = test_datagen.flow_from_directory(\n",
        "       'test',\n",
        "       target_size=(150, 150),\n",
        "       batch_size=5,\n",
        "       class_mode='binary')"
      ],
      "metadata": {
        "colab": {
          "base_uri": "https://localhost:8080/"
        },
        "id": "ruB7tq322Y46",
        "outputId": "ef1be4d3-bcee-4610-85e9-4738c3817d1c"
      },
      "execution_count": null,
      "outputs": [
        {
          "output_type": "stream",
          "name": "stdout",
          "text": [
            "Found 120 images belonging to 2 classes.\n"
          ]
        }
      ]
    },
    {
      "cell_type": "code",
      "source": [
        "from tensorflow.keras import Input, models, layers, optimizers, metrics\n",
        "from tensorflow.keras.layers import Dense, Flatten\n",
        "from tensorflow.keras.applications import VGG16\n",
        "\n",
        "transfer_model = VGG16(weights='imagenet', include_top=False, input_shape=(150, 150, 3))\n",
        "transfer_model.trainable = False\n",
        "transfer_model.summary()\n",
        "\n",
        "finetune_model = models.Sequential()\n",
        "finetune_model.add(transfer_model)\n",
        "finetune_model.add(Flatten())\n",
        "finetune_model.add(Dense(64, activation='relu'))\n",
        "finetune_model.add(Dense(2, activation='softmax'))\n",
        "finetune_model.summary()"
      ],
      "metadata": {
        "colab": {
          "base_uri": "https://localhost:8080/"
        },
        "id": "Vpvpctfb2b8D",
        "outputId": "aa9894fe-7fec-4aac-f0bc-2d633817586c"
      },
      "execution_count": null,
      "outputs": [
        {
          "output_type": "stream",
          "name": "stdout",
          "text": [
            "Model: \"vgg16\"\n",
            "_________________________________________________________________\n",
            " Layer (type)                Output Shape              Param #   \n",
            "=================================================================\n",
            " input_3 (InputLayer)        [(None, 150, 150, 3)]     0         \n",
            "                                                                 \n",
            " block1_conv1 (Conv2D)       (None, 150, 150, 64)      1792      \n",
            "                                                                 \n",
            " block1_conv2 (Conv2D)       (None, 150, 150, 64)      36928     \n",
            "                                                                 \n",
            " block1_pool (MaxPooling2D)  (None, 75, 75, 64)        0         \n",
            "                                                                 \n",
            " block2_conv1 (Conv2D)       (None, 75, 75, 128)       73856     \n",
            "                                                                 \n",
            " block2_conv2 (Conv2D)       (None, 75, 75, 128)       147584    \n",
            "                                                                 \n",
            " block2_pool (MaxPooling2D)  (None, 37, 37, 128)       0         \n",
            "                                                                 \n",
            " block3_conv1 (Conv2D)       (None, 37, 37, 256)       295168    \n",
            "                                                                 \n",
            " block3_conv2 (Conv2D)       (None, 37, 37, 256)       590080    \n",
            "                                                                 \n",
            " block3_conv3 (Conv2D)       (None, 37, 37, 256)       590080    \n",
            "                                                                 \n",
            " block3_pool (MaxPooling2D)  (None, 18, 18, 256)       0         \n",
            "                                                                 \n",
            " block4_conv1 (Conv2D)       (None, 18, 18, 512)       1180160   \n",
            "                                                                 \n",
            " block4_conv2 (Conv2D)       (None, 18, 18, 512)       2359808   \n",
            "                                                                 \n",
            " block4_conv3 (Conv2D)       (None, 18, 18, 512)       2359808   \n",
            "                                                                 \n",
            " block4_pool (MaxPooling2D)  (None, 9, 9, 512)         0         \n",
            "                                                                 \n",
            " block5_conv1 (Conv2D)       (None, 9, 9, 512)         2359808   \n",
            "                                                                 \n",
            " block5_conv2 (Conv2D)       (None, 9, 9, 512)         2359808   \n",
            "                                                                 \n",
            " block5_conv3 (Conv2D)       (None, 9, 9, 512)         2359808   \n",
            "                                                                 \n",
            " block5_pool (MaxPooling2D)  (None, 4, 4, 512)         0         \n",
            "                                                                 \n",
            "=================================================================\n",
            "Total params: 14,714,688\n",
            "Trainable params: 0\n",
            "Non-trainable params: 14,714,688\n",
            "_________________________________________________________________\n",
            "Model: \"sequential_2\"\n",
            "_________________________________________________________________\n",
            " Layer (type)                Output Shape              Param #   \n",
            "=================================================================\n",
            " vgg16 (Functional)          (None, 4, 4, 512)         14714688  \n",
            "                                                                 \n",
            " flatten_2 (Flatten)         (None, 8192)              0         \n",
            "                                                                 \n",
            " dense_4 (Dense)             (None, 64)                524352    \n",
            "                                                                 \n",
            " dense_5 (Dense)             (None, 2)                 130       \n",
            "                                                                 \n",
            "=================================================================\n",
            "Total params: 15,239,170\n",
            "Trainable params: 524,482\n",
            "Non-trainable params: 14,714,688\n",
            "_________________________________________________________________\n"
          ]
        }
      ]
    },
    {
      "cell_type": "code",
      "source": [
        "finetune_model.compile(loss='sparse_categorical_crossentropy', optimizer=optimizers.Adam(learning_rate=0.0002), metrics=['accuracy'])\n",
        "\n",
        "history = finetune_model.fit_generator(\n",
        "       train_generator,\n",
        "       steps_per_epoch=30,\n",
        "       epochs=50,\n",
        "       validation_data=test_generator,\n",
        "       validation_steps=4)"
      ],
      "metadata": {
        "colab": {
          "base_uri": "https://localhost:8080/"
        },
        "id": "DUu3Dlmx3CL1",
        "outputId": "9ba95c70-b8ed-4d2c-d3eb-4f181e315cf5"
      },
      "execution_count": null,
      "outputs": [
        {
          "output_type": "stream",
          "name": "stderr",
          "text": [
            "/usr/local/lib/python3.7/dist-packages/ipykernel_launcher.py:8: UserWarning: `Model.fit_generator` is deprecated and will be removed in a future version. Please use `Model.fit`, which supports generators.\n",
            "  \n"
          ]
        },
        {
          "output_type": "stream",
          "name": "stdout",
          "text": [
            "Epoch 1/50\n",
            "30/30 [==============================] - 38s 1s/step - loss: 0.4149 - accuracy: 0.8533 - val_loss: 0.5240 - val_accuracy: 0.7500\n",
            "Epoch 2/50\n",
            "30/30 [==============================] - 38s 1s/step - loss: 0.3052 - accuracy: 0.9133 - val_loss: 0.2206 - val_accuracy: 0.9000\n",
            "Epoch 3/50\n",
            "30/30 [==============================] - 38s 1s/step - loss: 0.2605 - accuracy: 0.9267 - val_loss: 0.5257 - val_accuracy: 0.7500\n",
            "Epoch 4/50\n",
            "30/30 [==============================] - 38s 1s/step - loss: 0.2162 - accuracy: 0.9400 - val_loss: 0.1614 - val_accuracy: 0.9500\n",
            "Epoch 5/50\n",
            "30/30 [==============================] - 38s 1s/step - loss: 0.1592 - accuracy: 0.9600 - val_loss: 0.1175 - val_accuracy: 1.0000\n",
            "Epoch 6/50\n",
            "30/30 [==============================] - 38s 1s/step - loss: 0.1456 - accuracy: 0.9600 - val_loss: 0.1246 - val_accuracy: 0.9500\n",
            "Epoch 7/50\n",
            "30/30 [==============================] - 38s 1s/step - loss: 0.1421 - accuracy: 0.9667 - val_loss: 0.1139 - val_accuracy: 0.9500\n",
            "Epoch 8/50\n",
            "30/30 [==============================] - 38s 1s/step - loss: 0.1280 - accuracy: 0.9667 - val_loss: 0.1636 - val_accuracy: 0.9500\n",
            "Epoch 9/50\n",
            "30/30 [==============================] - 38s 1s/step - loss: 0.1363 - accuracy: 0.9467 - val_loss: 0.0884 - val_accuracy: 1.0000\n",
            "Epoch 10/50\n",
            "30/30 [==============================] - 38s 1s/step - loss: 0.1021 - accuracy: 0.9733 - val_loss: 0.2516 - val_accuracy: 0.9000\n",
            "Epoch 11/50\n",
            "30/30 [==============================] - 38s 1s/step - loss: 0.1307 - accuracy: 0.9400 - val_loss: 0.1550 - val_accuracy: 0.9500\n",
            "Epoch 12/50\n",
            "30/30 [==============================] - 38s 1s/step - loss: 0.0803 - accuracy: 0.9867 - val_loss: 0.1019 - val_accuracy: 1.0000\n",
            "Epoch 13/50\n",
            "30/30 [==============================] - 38s 1s/step - loss: 0.1229 - accuracy: 0.9667 - val_loss: 0.0531 - val_accuracy: 1.0000\n",
            "Epoch 14/50\n",
            "30/30 [==============================] - 38s 1s/step - loss: 0.1187 - accuracy: 0.9667 - val_loss: 0.2496 - val_accuracy: 0.9500\n",
            "Epoch 15/50\n",
            "30/30 [==============================] - 38s 1s/step - loss: 0.0979 - accuracy: 0.9667 - val_loss: 0.0262 - val_accuracy: 1.0000\n",
            "Epoch 16/50\n",
            "30/30 [==============================] - 38s 1s/step - loss: 0.0824 - accuracy: 0.9800 - val_loss: 0.0495 - val_accuracy: 1.0000\n",
            "Epoch 17/50\n",
            "30/30 [==============================] - 38s 1s/step - loss: 0.0915 - accuracy: 0.9667 - val_loss: 0.0434 - val_accuracy: 1.0000\n",
            "Epoch 18/50\n",
            "30/30 [==============================] - 38s 1s/step - loss: 0.1030 - accuracy: 0.9667 - val_loss: 0.0924 - val_accuracy: 0.9500\n",
            "Epoch 19/50\n",
            "30/30 [==============================] - 38s 1s/step - loss: 0.0930 - accuracy: 0.9733 - val_loss: 0.1429 - val_accuracy: 0.9000\n",
            "Epoch 20/50\n",
            "30/30 [==============================] - 38s 1s/step - loss: 0.0559 - accuracy: 0.9933 - val_loss: 0.2422 - val_accuracy: 0.8500\n",
            "Epoch 21/50\n",
            "30/30 [==============================] - 37s 1s/step - loss: 0.0655 - accuracy: 0.9733 - val_loss: 0.1090 - val_accuracy: 0.9000\n",
            "Epoch 22/50\n",
            "30/30 [==============================] - 38s 1s/step - loss: 0.0825 - accuracy: 0.9667 - val_loss: 0.0366 - val_accuracy: 1.0000\n",
            "Epoch 23/50\n",
            "30/30 [==============================] - 37s 1s/step - loss: 0.0652 - accuracy: 0.9933 - val_loss: 0.0948 - val_accuracy: 1.0000\n",
            "Epoch 24/50\n",
            "30/30 [==============================] - 38s 1s/step - loss: 0.0793 - accuracy: 0.9733 - val_loss: 0.0440 - val_accuracy: 1.0000\n",
            "Epoch 25/50\n",
            "30/30 [==============================] - 38s 1s/step - loss: 0.0656 - accuracy: 0.9733 - val_loss: 0.1448 - val_accuracy: 0.9000\n",
            "Epoch 26/50\n",
            "30/30 [==============================] - 38s 1s/step - loss: 0.0323 - accuracy: 1.0000 - val_loss: 0.1757 - val_accuracy: 0.9500\n",
            "Epoch 27/50\n",
            "30/30 [==============================] - 38s 1s/step - loss: 0.0667 - accuracy: 0.9800 - val_loss: 0.1422 - val_accuracy: 0.9500\n",
            "Epoch 28/50\n",
            "30/30 [==============================] - 38s 1s/step - loss: 0.0609 - accuracy: 0.9733 - val_loss: 0.1251 - val_accuracy: 0.9000\n",
            "Epoch 29/50\n",
            "30/30 [==============================] - 38s 1s/step - loss: 0.0646 - accuracy: 0.9733 - val_loss: 0.0134 - val_accuracy: 1.0000\n",
            "Epoch 30/50\n",
            "30/30 [==============================] - 38s 1s/step - loss: 0.1486 - accuracy: 0.9333 - val_loss: 0.0299 - val_accuracy: 1.0000\n",
            "Epoch 31/50\n",
            "30/30 [==============================] - 38s 1s/step - loss: 0.0425 - accuracy: 0.9933 - val_loss: 0.1866 - val_accuracy: 0.9000\n",
            "Epoch 32/50\n",
            "30/30 [==============================] - 38s 1s/step - loss: 0.0470 - accuracy: 0.9867 - val_loss: 0.0728 - val_accuracy: 0.9500\n",
            "Epoch 33/50\n",
            "30/30 [==============================] - 38s 1s/step - loss: 0.0590 - accuracy: 0.9733 - val_loss: 0.0127 - val_accuracy: 1.0000\n",
            "Epoch 34/50\n",
            "30/30 [==============================] - 38s 1s/step - loss: 0.0449 - accuracy: 0.9933 - val_loss: 0.0141 - val_accuracy: 1.0000\n",
            "Epoch 35/50\n",
            "30/30 [==============================] - 38s 1s/step - loss: 0.0480 - accuracy: 0.9800 - val_loss: 0.0283 - val_accuracy: 1.0000\n",
            "Epoch 36/50\n",
            "30/30 [==============================] - 38s 1s/step - loss: 0.0420 - accuracy: 0.9800 - val_loss: 0.0453 - val_accuracy: 1.0000\n",
            "Epoch 37/50\n",
            "30/30 [==============================] - 38s 1s/step - loss: 0.0350 - accuracy: 0.9933 - val_loss: 0.1212 - val_accuracy: 0.9000\n",
            "Epoch 38/50\n",
            "30/30 [==============================] - 38s 1s/step - loss: 0.0739 - accuracy: 0.9667 - val_loss: 0.0098 - val_accuracy: 1.0000\n",
            "Epoch 39/50\n",
            "30/30 [==============================] - 38s 1s/step - loss: 0.0692 - accuracy: 0.9733 - val_loss: 0.2695 - val_accuracy: 0.8500\n",
            "Epoch 40/50\n",
            "30/30 [==============================] - 38s 1s/step - loss: 0.0345 - accuracy: 0.9933 - val_loss: 0.0224 - val_accuracy: 1.0000\n",
            "Epoch 41/50\n",
            "30/30 [==============================] - 38s 1s/step - loss: 0.0191 - accuracy: 1.0000 - val_loss: 0.0842 - val_accuracy: 0.9500\n",
            "Epoch 42/50\n",
            "30/30 [==============================] - 38s 1s/step - loss: 0.0393 - accuracy: 0.9867 - val_loss: 0.0590 - val_accuracy: 0.9500\n",
            "Epoch 43/50\n",
            "30/30 [==============================] - 38s 1s/step - loss: 0.0375 - accuracy: 0.9867 - val_loss: 0.0415 - val_accuracy: 1.0000\n",
            "Epoch 44/50\n",
            "30/30 [==============================] - 38s 1s/step - loss: 0.0297 - accuracy: 0.9867 - val_loss: 0.0778 - val_accuracy: 0.9500\n",
            "Epoch 45/50\n",
            "30/30 [==============================] - 38s 1s/step - loss: 0.0368 - accuracy: 0.9933 - val_loss: 0.1226 - val_accuracy: 0.9500\n",
            "Epoch 46/50\n",
            "30/30 [==============================] - 38s 1s/step - loss: 0.0388 - accuracy: 1.0000 - val_loss: 0.0191 - val_accuracy: 1.0000\n",
            "Epoch 47/50\n",
            "30/30 [==============================] - 38s 1s/step - loss: 0.0689 - accuracy: 0.9800 - val_loss: 0.3198 - val_accuracy: 0.8500\n",
            "Epoch 48/50\n",
            "30/30 [==============================] - 38s 1s/step - loss: 0.0283 - accuracy: 0.9933 - val_loss: 0.1205 - val_accuracy: 0.9500\n",
            "Epoch 49/50\n",
            "30/30 [==============================] - 38s 1s/step - loss: 0.0384 - accuracy: 0.9867 - val_loss: 0.0235 - val_accuracy: 1.0000\n",
            "Epoch 50/50\n",
            "30/30 [==============================] - 38s 1s/step - loss: 0.0348 - accuracy: 0.9867 - val_loss: 0.0613 - val_accuracy: 1.0000\n"
          ]
        }
      ]
    },
    {
      "cell_type": "code",
      "source": [
        "acc= history.history['accuracy']\n",
        "val_acc= history.history['val_accuracy']\n",
        "y_vloss = history.history['val_loss']\n",
        "y_loss = history.history['loss']\n",
        "\n",
        "# 그래프로 표현\n",
        "x_len = np.arange(len(y_loss))\n",
        "plt.plot(x_len, acc, marker='.', c=\"red\", label='Trainset_acc')\n",
        "plt.plot(x_len, val_acc, marker='.', c=\"lightcoral\", label='Testset_acc')\n",
        "plt.plot(x_len, y_vloss, marker='.', c=\"cornflowerblue\", label='Testset_loss')\n",
        "plt.plot(x_len, y_loss, marker='.', c=\"blue\", label='Trainset_loss')\n",
        "\n",
        "# 그래프에 그리드를 주고 레이블을 표시\n",
        "plt.legend(loc='upper right')\n",
        "plt.grid()\n",
        "plt.xlabel('epoch')\n",
        "plt.ylabel('loss/acc')\n",
        "plt.show()"
      ],
      "metadata": {
        "colab": {
          "base_uri": "https://localhost:8080/",
          "height": 279
        },
        "id": "wfBVhAgS3Jmq",
        "outputId": "2e18c23f-1390-4450-cc2b-fb96961539c3"
      },
      "execution_count": null,
      "outputs": [
        {
          "output_type": "display_data",
          "data": {
            "text/plain": [
              "<Figure size 432x288 with 1 Axes>"
            ],
            "image/png": "[encoded data removed]"
          },
          "metadata": {
            "needs_background": "light"
          }
        }
      ]
    }
  ]
}